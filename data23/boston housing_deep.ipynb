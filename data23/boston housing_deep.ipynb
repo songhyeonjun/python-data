{
 "cells": [
  {
   "cell_type": "markdown",
   "metadata": {},
   "source": [
    "# 보스턴집값 딥러닝"
   ]
  },
  {
   "cell_type": "code",
   "execution_count": 1,
   "metadata": {},
   "outputs": [
    {
     "name": "stdout",
     "output_type": "stream",
     "text": [
      "2.7.0\n"
     ]
    }
   ],
   "source": [
    "import pandas as pd\n",
    "import numpy as np\n",
    "import random\n",
    "import tensorflow as tf\n",
    "print(tf.__version__)"
   ]
  },
  {
   "cell_type": "code",
   "execution_count": 2,
   "metadata": {},
   "outputs": [
    {
     "name": "stderr",
     "output_type": "stream",
     "text": [
      "C:\\ProgramData\\Anaconda3\\lib\\site-packages\\sklearn\\feature_extraction\\image.py:167: DeprecationWarning: `np.int` is a deprecated alias for the builtin `int`. To silence this warning, use `int` by itself. Doing this will not modify any behavior and is safe. When replacing `np.int`, you may wish to use e.g. `np.int64` or `np.int32` to specify the precision. If you wish to review your current use, check the release note link for additional information.\n",
      "Deprecated in NumPy 1.20; for more details and guidance: https://numpy.org/devdocs/release/1.20.0-notes.html#deprecations\n",
      "  dtype=np.int):\n"
     ]
    }
   ],
   "source": [
    "from sklearn import datasets"
   ]
  },
  {
   "cell_type": "code",
   "execution_count": 4,
   "metadata": {},
   "outputs": [
    {
     "data": {
      "text/plain": [
       "sklearn.utils.Bunch"
      ]
     },
     "execution_count": 4,
     "metadata": {},
     "output_type": "execute_result"
    }
   ],
   "source": [
    "housing = datasets.load_boston()\n",
    "type(housing)"
   ]
  },
  {
   "cell_type": "markdown",
   "metadata": {},
   "source": [
    "sklearn.utils.Bunch : dictionary 객체로 만들어 놓은 것"
   ]
  },
  {
   "cell_type": "markdown",
   "metadata": {},
   "source": [
    "## 문제"
   ]
  },
  {
   "cell_type": "code",
   "execution_count": 5,
   "metadata": {},
   "outputs": [
    {
     "data": {
      "text/plain": [
       "array([[6.3200e-03, 1.8000e+01, 2.3100e+00, ..., 1.5300e+01, 3.9690e+02,\n",
       "        4.9800e+00],\n",
       "       [2.7310e-02, 0.0000e+00, 7.0700e+00, ..., 1.7800e+01, 3.9690e+02,\n",
       "        9.1400e+00],\n",
       "       [2.7290e-02, 0.0000e+00, 7.0700e+00, ..., 1.7800e+01, 3.9283e+02,\n",
       "        4.0300e+00],\n",
       "       ...,\n",
       "       [6.0760e-02, 0.0000e+00, 1.1930e+01, ..., 2.1000e+01, 3.9690e+02,\n",
       "        5.6400e+00],\n",
       "       [1.0959e-01, 0.0000e+00, 1.1930e+01, ..., 2.1000e+01, 3.9345e+02,\n",
       "        6.4800e+00],\n",
       "       [4.7410e-02, 0.0000e+00, 1.1930e+01, ..., 2.1000e+01, 3.9690e+02,\n",
       "        7.8800e+00]])"
      ]
     },
     "execution_count": 5,
     "metadata": {},
     "output_type": "execute_result"
    }
   ],
   "source": [
    "X_data = housing.data\n",
    "X_data"
   ]
  },
  {
   "cell_type": "markdown",
   "metadata": {},
   "source": [
    "## 답(집값)"
   ]
  },
  {
   "cell_type": "code",
   "execution_count": 6,
   "metadata": {},
   "outputs": [
    {
     "data": {
      "text/plain": [
       "array([24. , 21.6, 34.7, 33.4, 36.2, 28.7, 22.9, 27.1, 16.5, 18.9, 15. ,\n",
       "       18.9, 21.7, 20.4, 18.2, 19.9, 23.1, 17.5, 20.2, 18.2, 13.6, 19.6,\n",
       "       15.2, 14.5, 15.6, 13.9, 16.6, 14.8, 18.4, 21. , 12.7, 14.5, 13.2,\n",
       "       13.1, 13.5, 18.9, 20. , 21. , 24.7, 30.8, 34.9, 26.6, 25.3, 24.7,\n",
       "       21.2, 19.3, 20. , 16.6, 14.4, 19.4, 19.7, 20.5, 25. , 23.4, 18.9,\n",
       "       35.4, 24.7, 31.6, 23.3, 19.6, 18.7, 16. , 22.2, 25. , 33. , 23.5,\n",
       "       19.4, 22. , 17.4, 20.9, 24.2, 21.7, 22.8, 23.4, 24.1, 21.4, 20. ,\n",
       "       20.8, 21.2, 20.3, 28. , 23.9, 24.8, 22.9, 23.9, 26.6, 22.5, 22.2,\n",
       "       23.6, 28.7, 22.6, 22. , 22.9, 25. , 20.6, 28.4, 21.4, 38.7, 43.8,\n",
       "       33.2, 27.5, 26.5, 18.6, 19.3, 20.1, 19.5, 19.5, 20.4, 19.8, 19.4,\n",
       "       21.7, 22.8, 18.8, 18.7, 18.5, 18.3, 21.2, 19.2, 20.4, 19.3, 22. ,\n",
       "       20.3, 20.5, 17.3, 18.8, 21.4, 15.7, 16.2, 18. , 14.3, 19.2, 19.6,\n",
       "       23. , 18.4, 15.6, 18.1, 17.4, 17.1, 13.3, 17.8, 14. , 14.4, 13.4,\n",
       "       15.6, 11.8, 13.8, 15.6, 14.6, 17.8, 15.4, 21.5, 19.6, 15.3, 19.4,\n",
       "       17. , 15.6, 13.1, 41.3, 24.3, 23.3, 27. , 50. , 50. , 50. , 22.7,\n",
       "       25. , 50. , 23.8, 23.8, 22.3, 17.4, 19.1, 23.1, 23.6, 22.6, 29.4,\n",
       "       23.2, 24.6, 29.9, 37.2, 39.8, 36.2, 37.9, 32.5, 26.4, 29.6, 50. ,\n",
       "       32. , 29.8, 34.9, 37. , 30.5, 36.4, 31.1, 29.1, 50. , 33.3, 30.3,\n",
       "       34.6, 34.9, 32.9, 24.1, 42.3, 48.5, 50. , 22.6, 24.4, 22.5, 24.4,\n",
       "       20. , 21.7, 19.3, 22.4, 28.1, 23.7, 25. , 23.3, 28.7, 21.5, 23. ,\n",
       "       26.7, 21.7, 27.5, 30.1, 44.8, 50. , 37.6, 31.6, 46.7, 31.5, 24.3,\n",
       "       31.7, 41.7, 48.3, 29. , 24. , 25.1, 31.5, 23.7, 23.3, 22. , 20.1,\n",
       "       22.2, 23.7, 17.6, 18.5, 24.3, 20.5, 24.5, 26.2, 24.4, 24.8, 29.6,\n",
       "       42.8, 21.9, 20.9, 44. , 50. , 36. , 30.1, 33.8, 43.1, 48.8, 31. ,\n",
       "       36.5, 22.8, 30.7, 50. , 43.5, 20.7, 21.1, 25.2, 24.4, 35.2, 32.4,\n",
       "       32. , 33.2, 33.1, 29.1, 35.1, 45.4, 35.4, 46. , 50. , 32.2, 22. ,\n",
       "       20.1, 23.2, 22.3, 24.8, 28.5, 37.3, 27.9, 23.9, 21.7, 28.6, 27.1,\n",
       "       20.3, 22.5, 29. , 24.8, 22. , 26.4, 33.1, 36.1, 28.4, 33.4, 28.2,\n",
       "       22.8, 20.3, 16.1, 22.1, 19.4, 21.6, 23.8, 16.2, 17.8, 19.8, 23.1,\n",
       "       21. , 23.8, 23.1, 20.4, 18.5, 25. , 24.6, 23. , 22.2, 19.3, 22.6,\n",
       "       19.8, 17.1, 19.4, 22.2, 20.7, 21.1, 19.5, 18.5, 20.6, 19. , 18.7,\n",
       "       32.7, 16.5, 23.9, 31.2, 17.5, 17.2, 23.1, 24.5, 26.6, 22.9, 24.1,\n",
       "       18.6, 30.1, 18.2, 20.6, 17.8, 21.7, 22.7, 22.6, 25. , 19.9, 20.8,\n",
       "       16.8, 21.9, 27.5, 21.9, 23.1, 50. , 50. , 50. , 50. , 50. , 13.8,\n",
       "       13.8, 15. , 13.9, 13.3, 13.1, 10.2, 10.4, 10.9, 11.3, 12.3,  8.8,\n",
       "        7.2, 10.5,  7.4, 10.2, 11.5, 15.1, 23.2,  9.7, 13.8, 12.7, 13.1,\n",
       "       12.5,  8.5,  5. ,  6.3,  5.6,  7.2, 12.1,  8.3,  8.5,  5. , 11.9,\n",
       "       27.9, 17.2, 27.5, 15. , 17.2, 17.9, 16.3,  7. ,  7.2,  7.5, 10.4,\n",
       "        8.8,  8.4, 16.7, 14.2, 20.8, 13.4, 11.7,  8.3, 10.2, 10.9, 11. ,\n",
       "        9.5, 14.5, 14.1, 16.1, 14.3, 11.7, 13.4,  9.6,  8.7,  8.4, 12.8,\n",
       "       10.5, 17.1, 18.4, 15.4, 10.8, 11.8, 14.9, 12.6, 14.1, 13. , 13.4,\n",
       "       15.2, 16.1, 17.8, 14.9, 14.1, 12.7, 13.5, 14.9, 20. , 16.4, 17.7,\n",
       "       19.5, 20.2, 21.4, 19.9, 19. , 19.1, 19.1, 20.1, 19.9, 19.6, 23.2,\n",
       "       29.8, 13.8, 13.3, 16.7, 12. , 14.6, 21.4, 23. , 23.7, 25. , 21.8,\n",
       "       20.6, 21.2, 19.1, 20.6, 15.2,  7. ,  8.1, 13.6, 20.1, 21.8, 24.5,\n",
       "       23.1, 19.7, 18.3, 21.2, 17.5, 16.8, 22.4, 20.6, 23.9, 22. , 11.9])"
      ]
     },
     "execution_count": 6,
     "metadata": {},
     "output_type": "execute_result"
    }
   ],
   "source": [
    "y_data = housing.target\n",
    "y_data"
   ]
  },
  {
   "cell_type": "code",
   "execution_count": 7,
   "metadata": {},
   "outputs": [
    {
     "data": {
      "text/plain": [
       "(506, 13)"
      ]
     },
     "execution_count": 7,
     "metadata": {},
     "output_type": "execute_result"
    }
   ],
   "source": [
    "X_data.shape"
   ]
  },
  {
   "cell_type": "code",
   "execution_count": 8,
   "metadata": {},
   "outputs": [
    {
     "data": {
      "text/plain": [
       "array(['CRIM', 'ZN', 'INDUS', 'CHAS', 'NOX', 'RM', 'AGE', 'DIS', 'RAD',\n",
       "       'TAX', 'PTRATIO', 'B', 'LSTAT'], dtype='<U7')"
      ]
     },
     "execution_count": 8,
     "metadata": {},
     "output_type": "execute_result"
    }
   ],
   "source": [
    "housing.feature_names"
   ]
  },
  {
   "cell_type": "markdown",
   "metadata": {},
   "source": [
    "## 스케일링"
   ]
  },
  {
   "cell_type": "code",
   "execution_count": 9,
   "metadata": {},
   "outputs": [],
   "source": [
    "from sklearn.model_selection import train_test_split\n",
    "from sklearn.preprocessing import MinMaxScaler"
   ]
  },
  {
   "cell_type": "code",
   "execution_count": 10,
   "metadata": {},
   "outputs": [
    {
     "data": {
      "text/plain": [
       "array([[0.00000000e+00, 1.80000000e-01, 6.78152493e-02, ...,\n",
       "        2.87234043e-01, 1.00000000e+00, 8.96799117e-02],\n",
       "       [2.35922539e-04, 0.00000000e+00, 2.42302053e-01, ...,\n",
       "        5.53191489e-01, 1.00000000e+00, 2.04470199e-01],\n",
       "       [2.35697744e-04, 0.00000000e+00, 2.42302053e-01, ...,\n",
       "        5.53191489e-01, 9.89737254e-01, 6.34657837e-02],\n",
       "       ...,\n",
       "       [6.11892474e-04, 0.00000000e+00, 4.20454545e-01, ...,\n",
       "        8.93617021e-01, 1.00000000e+00, 1.07891832e-01],\n",
       "       [1.16072990e-03, 0.00000000e+00, 4.20454545e-01, ...,\n",
       "        8.93617021e-01, 9.91300620e-01, 1.31070640e-01],\n",
       "       [4.61841693e-04, 0.00000000e+00, 4.20454545e-01, ...,\n",
       "        8.93617021e-01, 1.00000000e+00, 1.69701987e-01]])"
      ]
     },
     "execution_count": 10,
     "metadata": {},
     "output_type": "execute_result"
    }
   ],
   "source": [
    "scaler = MinMaxScaler()\n",
    "X_data_scaled = scaler.fit_transform(X_data)\n",
    "X_data_scaled"
   ]
  },
  {
   "cell_type": "code",
   "execution_count": 11,
   "metadata": {},
   "outputs": [
    {
     "name": "stdout",
     "output_type": "stream",
     "text": [
      "(455, 13) (455,)\n",
      "(51, 13) (51,)\n"
     ]
    }
   ],
   "source": [
    "X_train, X_test, y_train, y_test = train_test_split(X_data_scaled, y_data, \n",
    "                                                    test_size=0.1, \n",
    "                                                    shuffle=True, \n",
    "                                                    random_state=11)\n",
    "print(X_train.shape, y_train.shape)\n",
    "print(X_test.shape, y_test.shape)"
   ]
  },
  {
   "cell_type": "markdown",
   "metadata": {},
   "source": [
    "## Layer를 순서대로 쌓아줄 객체 필요 Sequantial\n",
    "## 각 Layer는 Dense객체\n",
    "## 심층 신경망"
   ]
  },
  {
   "cell_type": "code",
   "execution_count": 12,
   "metadata": {},
   "outputs": [],
   "source": [
    "from tensorflow.keras import Sequential\n",
    "from tensorflow.keras.layers import Dense"
   ]
  },
  {
   "cell_type": "markdown",
   "metadata": {},
   "source": [
    "### 레이어를 순서대로 쌓을 수 있도록 객체를 생성"
   ]
  },
  {
   "cell_type": "code",
   "execution_count": 15,
   "metadata": {},
   "outputs": [
    {
     "name": "stdout",
     "output_type": "stream",
     "text": [
      "Model: \"sequential\"\n",
      "_________________________________________________________________\n",
      " Layer (type)                Output Shape              Param #   \n",
      "=================================================================\n",
      " dense (Dense)               (None, 128)               1792      \n",
      "                                                                 \n",
      " dense_1 (Dense)             (None, 64)                8256      \n",
      "                                                                 \n",
      " dense_2 (Dense)             (None, 32)                2080      \n",
      "                                                                 \n",
      " dense_3 (Dense)             (None, 16)                528       \n",
      "                                                                 \n",
      " dense_4 (Dense)             (None, 1)                 17        \n",
      "                                                                 \n",
      "=================================================================\n",
      "Total params: 12,673\n",
      "Trainable params: 12,673\n",
      "Non-trainable params: 0\n",
      "_________________________________________________________________\n"
     ]
    }
   ],
   "source": [
    "model = Sequential()\n",
    "model.add(Dense(128, activation='relu', input_dim=13))\n",
    "model.add(Dense(64, activation='relu'))\n",
    "model.add(Dense(32, activation='relu'))\n",
    "model.add(Dense(16, activation='relu'))\n",
    "model.add(Dense(1, activation='linear')) \n",
    "## 회귀일떄, 마지막 출력층의 활성화 함수\n",
    "\n",
    "## 쌓은 것으로 모델 셋팅 하기\n",
    "model.compile(optimizer='adam', loss='mse', metrics=['mae'])\n",
    "\n",
    "## 모델에 셋팅한 내용을 요약해서 프린트\n",
    "model.summary()"
   ]
  },
  {
   "cell_type": "markdown",
   "metadata": {},
   "source": [
    "## 모델 훈련"
   ]
  },
  {
   "cell_type": "code",
   "execution_count": 51,
   "metadata": {},
   "outputs": [
    {
     "name": "stdout",
     "output_type": "stream",
     "text": [
      "Epoch 1/100\n",
      "15/15 - 0s - loss: 8.3288 - mae: 2.0470 - 13ms/epoch - 858us/step\n",
      "Epoch 2/100\n",
      "15/15 - 0s - loss: 8.7359 - mae: 2.1027 - 10ms/epoch - 666us/step\n",
      "Epoch 3/100\n",
      "15/15 - 0s - loss: 8.5170 - mae: 2.0899 - 10ms/epoch - 665us/step\n",
      "Epoch 4/100\n",
      "15/15 - 0s - loss: 7.9735 - mae: 2.0250 - 9ms/epoch - 598us/step\n",
      "Epoch 5/100\n",
      "15/15 - 0s - loss: 8.2934 - mae: 2.0654 - 10ms/epoch - 665us/step\n",
      "Epoch 6/100\n",
      "15/15 - 0s - loss: 8.5980 - mae: 2.1195 - 11ms/epoch - 731us/step\n",
      "Epoch 7/100\n",
      "15/15 - 0s - loss: 8.1512 - mae: 2.0237 - 10ms/epoch - 665us/step\n",
      "Epoch 8/100\n",
      "15/15 - 0s - loss: 8.1893 - mae: 2.0572 - 11ms/epoch - 731us/step\n",
      "Epoch 9/100\n",
      "15/15 - 0s - loss: 8.0562 - mae: 2.0216 - 11ms/epoch - 731us/step\n",
      "Epoch 10/100\n",
      "15/15 - 0s - loss: 7.7877 - mae: 2.0192 - 10ms/epoch - 665us/step\n",
      "Epoch 11/100\n",
      "15/15 - 0s - loss: 7.9678 - mae: 2.0479 - 10ms/epoch - 665us/step\n",
      "Epoch 12/100\n",
      "15/15 - 0s - loss: 7.4026 - mae: 1.9673 - 11ms/epoch - 731us/step\n",
      "Epoch 13/100\n",
      "15/15 - 0s - loss: 7.4960 - mae: 1.9813 - 11ms/epoch - 731us/step\n",
      "Epoch 14/100\n",
      "15/15 - 0s - loss: 7.6304 - mae: 1.9670 - 11ms/epoch - 731us/step\n",
      "Epoch 15/100\n",
      "15/15 - 0s - loss: 7.6298 - mae: 1.9798 - 11ms/epoch - 731us/step\n",
      "Epoch 16/100\n",
      "15/15 - 0s - loss: 7.5508 - mae: 1.9951 - 11ms/epoch - 731us/step\n",
      "Epoch 17/100\n",
      "15/15 - 0s - loss: 7.7376 - mae: 2.0204 - 11ms/epoch - 731us/step\n",
      "Epoch 18/100\n",
      "15/15 - 0s - loss: 7.2448 - mae: 1.9464 - 10ms/epoch - 665us/step\n",
      "Epoch 19/100\n",
      "15/15 - 0s - loss: 7.4725 - mae: 1.9957 - 11ms/epoch - 731us/step\n",
      "Epoch 20/100\n",
      "15/15 - 0s - loss: 7.2521 - mae: 1.9311 - 10ms/epoch - 665us/step\n",
      "Epoch 21/100\n",
      "15/15 - 0s - loss: 7.2506 - mae: 1.9536 - 10ms/epoch - 665us/step\n",
      "Epoch 22/100\n",
      "15/15 - 0s - loss: 7.2328 - mae: 1.9671 - 11ms/epoch - 731us/step\n",
      "Epoch 23/100\n",
      "15/15 - 0s - loss: 6.8015 - mae: 1.8959 - 10ms/epoch - 665us/step\n",
      "Epoch 24/100\n",
      "15/15 - 0s - loss: 7.2281 - mae: 1.9433 - 11ms/epoch - 731us/step\n",
      "Epoch 25/100\n",
      "15/15 - 0s - loss: 6.9457 - mae: 1.9412 - 10ms/epoch - 665us/step\n",
      "Epoch 26/100\n",
      "15/15 - 0s - loss: 7.1035 - mae: 1.9422 - 9ms/epoch - 598us/step\n",
      "Epoch 27/100\n",
      "15/15 - 0s - loss: 7.6061 - mae: 1.9954 - 10ms/epoch - 665us/step\n",
      "Epoch 28/100\n",
      "15/15 - 0s - loss: 7.7433 - mae: 2.0192 - 11ms/epoch - 731us/step\n",
      "Epoch 29/100\n",
      "15/15 - 0s - loss: 7.2389 - mae: 1.9595 - 11ms/epoch - 732us/step\n",
      "Epoch 30/100\n",
      "15/15 - 0s - loss: 7.5132 - mae: 2.0152 - 10ms/epoch - 665us/step\n",
      "Epoch 31/100\n",
      "15/15 - 0s - loss: 6.7662 - mae: 1.8888 - 10ms/epoch - 665us/step\n",
      "Epoch 32/100\n",
      "15/15 - 0s - loss: 6.5960 - mae: 1.8831 - 9ms/epoch - 598us/step\n",
      "Epoch 33/100\n",
      "15/15 - 0s - loss: 6.7885 - mae: 1.8715 - 10ms/epoch - 665us/step\n",
      "Epoch 34/100\n",
      "15/15 - 0s - loss: 7.0839 - mae: 1.9237 - 11ms/epoch - 731us/step\n",
      "Epoch 35/100\n",
      "15/15 - 0s - loss: 7.2409 - mae: 1.9814 - 11ms/epoch - 731us/step\n",
      "Epoch 36/100\n",
      "15/15 - 0s - loss: 7.2378 - mae: 1.9646 - 11ms/epoch - 731us/step\n",
      "Epoch 37/100\n",
      "15/15 - 0s - loss: 6.8672 - mae: 1.9319 - 10ms/epoch - 665us/step\n",
      "Epoch 38/100\n",
      "15/15 - 0s - loss: 6.6685 - mae: 1.8505 - 11ms/epoch - 731us/step\n",
      "Epoch 39/100\n",
      "15/15 - 0s - loss: 6.6522 - mae: 1.8954 - 11ms/epoch - 731us/step\n",
      "Epoch 40/100\n",
      "15/15 - 0s - loss: 7.2250 - mae: 2.0429 - 10ms/epoch - 665us/step\n",
      "Epoch 41/100\n",
      "15/15 - 0s - loss: 6.4503 - mae: 1.8458 - 11ms/epoch - 732us/step\n",
      "Epoch 42/100\n",
      "15/15 - 0s - loss: 6.4312 - mae: 1.8406 - 10ms/epoch - 665us/step\n",
      "Epoch 43/100\n",
      "15/15 - 0s - loss: 6.2755 - mae: 1.8359 - 10ms/epoch - 665us/step\n",
      "Epoch 44/100\n",
      "15/15 - 0s - loss: 6.1796 - mae: 1.8105 - 10ms/epoch - 666us/step\n",
      "Epoch 45/100\n",
      "15/15 - 0s - loss: 6.2014 - mae: 1.8335 - 11ms/epoch - 731us/step\n",
      "Epoch 46/100\n",
      "15/15 - 0s - loss: 6.5228 - mae: 1.8665 - 10ms/epoch - 665us/step\n",
      "Epoch 47/100\n",
      "15/15 - 0s - loss: 6.6183 - mae: 1.8715 - 10ms/epoch - 665us/step\n",
      "Epoch 48/100\n",
      "15/15 - 0s - loss: 7.1673 - mae: 2.0280 - 11ms/epoch - 731us/step\n",
      "Epoch 49/100\n",
      "15/15 - 0s - loss: 6.2387 - mae: 1.8497 - 10ms/epoch - 665us/step\n",
      "Epoch 50/100\n",
      "15/15 - 0s - loss: 5.9817 - mae: 1.7815 - 11ms/epoch - 732us/step\n",
      "Epoch 51/100\n",
      "15/15 - 0s - loss: 6.4475 - mae: 1.8995 - 10ms/epoch - 665us/step\n",
      "Epoch 52/100\n",
      "15/15 - 0s - loss: 6.3174 - mae: 1.8305 - 11ms/epoch - 731us/step\n",
      "Epoch 53/100\n",
      "15/15 - 0s - loss: 6.2801 - mae: 1.8379 - 12ms/epoch - 798us/step\n",
      "Epoch 54/100\n",
      "15/15 - 0s - loss: 6.2037 - mae: 1.8197 - 11ms/epoch - 731us/step\n",
      "Epoch 55/100\n",
      "15/15 - 0s - loss: 6.7057 - mae: 1.9229 - 11ms/epoch - 731us/step\n",
      "Epoch 56/100\n",
      "15/15 - 0s - loss: 6.3325 - mae: 1.8778 - 11ms/epoch - 731us/step\n",
      "Epoch 57/100\n",
      "15/15 - 0s - loss: 6.1200 - mae: 1.8052 - 10ms/epoch - 665us/step\n",
      "Epoch 58/100\n",
      "15/15 - 0s - loss: 6.0805 - mae: 1.8311 - 11ms/epoch - 731us/step\n",
      "Epoch 59/100\n",
      "15/15 - 0s - loss: 6.0650 - mae: 1.8043 - 10ms/epoch - 665us/step\n",
      "Epoch 60/100\n",
      "15/15 - 0s - loss: 5.8334 - mae: 1.7810 - 10ms/epoch - 665us/step\n",
      "Epoch 61/100\n",
      "15/15 - 0s - loss: 6.0050 - mae: 1.8139 - 10ms/epoch - 665us/step\n",
      "Epoch 62/100\n",
      "15/15 - 0s - loss: 6.2071 - mae: 1.8511 - 11ms/epoch - 731us/step\n",
      "Epoch 63/100\n",
      "15/15 - 0s - loss: 6.2177 - mae: 1.8659 - 10ms/epoch - 665us/step\n",
      "Epoch 64/100\n",
      "15/15 - 0s - loss: 5.8848 - mae: 1.8054 - 11ms/epoch - 731us/step\n",
      "Epoch 65/100\n",
      "15/15 - 0s - loss: 5.7919 - mae: 1.7802 - 10ms/epoch - 666us/step\n",
      "Epoch 66/100\n",
      "15/15 - 0s - loss: 5.8786 - mae: 1.8051 - 10ms/epoch - 665us/step\n",
      "Epoch 67/100\n",
      "15/15 - 0s - loss: 5.6093 - mae: 1.7645 - 11ms/epoch - 731us/step\n",
      "Epoch 68/100\n",
      "15/15 - 0s - loss: 6.6340 - mae: 1.9225 - 11ms/epoch - 731us/step\n",
      "Epoch 69/100\n",
      "15/15 - 0s - loss: 6.8958 - mae: 1.9794 - 10ms/epoch - 665us/step\n",
      "Epoch 70/100\n",
      "15/15 - 0s - loss: 6.1040 - mae: 1.8937 - 10ms/epoch - 665us/step\n",
      "Epoch 71/100\n",
      "15/15 - 0s - loss: 6.0143 - mae: 1.7894 - 10ms/epoch - 665us/step\n",
      "Epoch 72/100\n",
      "15/15 - 0s - loss: 6.2192 - mae: 1.8325 - 11ms/epoch - 731us/step\n",
      "Epoch 73/100\n",
      "15/15 - 0s - loss: 5.8219 - mae: 1.7723 - 10ms/epoch - 665us/step\n",
      "Epoch 74/100\n",
      "15/15 - 0s - loss: 6.0208 - mae: 1.8073 - 11ms/epoch - 731us/step\n",
      "Epoch 75/100\n",
      "15/15 - 0s - loss: 5.8288 - mae: 1.8049 - 10ms/epoch - 665us/step\n",
      "Epoch 76/100\n",
      "15/15 - 0s - loss: 5.9743 - mae: 1.8381 - 11ms/epoch - 731us/step\n",
      "Epoch 77/100\n",
      "15/15 - 0s - loss: 5.6376 - mae: 1.7538 - 11ms/epoch - 731us/step\n",
      "Epoch 78/100\n",
      "15/15 - 0s - loss: 5.6697 - mae: 1.7796 - 10ms/epoch - 665us/step\n",
      "Epoch 79/100\n",
      "15/15 - 0s - loss: 5.9135 - mae: 1.8453 - 10ms/epoch - 665us/step\n",
      "Epoch 80/100\n",
      "15/15 - 0s - loss: 5.6277 - mae: 1.7615 - 10ms/epoch - 665us/step\n",
      "Epoch 81/100\n",
      "15/15 - 0s - loss: 6.6910 - mae: 1.9410 - 11ms/epoch - 731us/step\n",
      "Epoch 82/100\n",
      "15/15 - 0s - loss: 5.8269 - mae: 1.7919 - 10ms/epoch - 666us/step\n",
      "Epoch 83/100\n",
      "15/15 - 0s - loss: 5.3875 - mae: 1.7346 - 11ms/epoch - 731us/step\n",
      "Epoch 84/100\n",
      "15/15 - 0s - loss: 5.8459 - mae: 1.8269 - 11ms/epoch - 731us/step\n",
      "Epoch 85/100\n",
      "15/15 - 0s - loss: 5.7061 - mae: 1.7665 - 11ms/epoch - 731us/step\n",
      "Epoch 86/100\n",
      "15/15 - 0s - loss: 6.4765 - mae: 1.9183 - 10ms/epoch - 665us/step\n",
      "Epoch 87/100\n",
      "15/15 - 0s - loss: 6.4171 - mae: 1.8953 - 11ms/epoch - 731us/step\n",
      "Epoch 88/100\n",
      "15/15 - 0s - loss: 5.9517 - mae: 1.8203 - 10ms/epoch - 666us/step\n",
      "Epoch 89/100\n",
      "15/15 - 0s - loss: 5.8915 - mae: 1.8294 - 11ms/epoch - 731us/step\n",
      "Epoch 90/100\n",
      "15/15 - 0s - loss: 5.3878 - mae: 1.7008 - 11ms/epoch - 731us/step\n",
      "Epoch 91/100\n",
      "15/15 - 0s - loss: 6.1721 - mae: 1.8710 - 11ms/epoch - 732us/step\n",
      "Epoch 92/100\n",
      "15/15 - 0s - loss: 5.3179 - mae: 1.6841 - 11ms/epoch - 731us/step\n",
      "Epoch 93/100\n",
      "15/15 - 0s - loss: 5.3160 - mae: 1.6935 - 10ms/epoch - 699us/step\n",
      "Epoch 94/100\n",
      "15/15 - 0s - loss: 5.3315 - mae: 1.7134 - 11ms/epoch - 731us/step\n",
      "Epoch 95/100\n",
      "15/15 - 0s - loss: 5.6788 - mae: 1.8068 - 11ms/epoch - 731us/step\n",
      "Epoch 96/100\n",
      "15/15 - 0s - loss: 5.2587 - mae: 1.6586 - 11ms/epoch - 731us/step\n",
      "Epoch 97/100\n",
      "15/15 - 0s - loss: 5.1210 - mae: 1.6973 - 11ms/epoch - 731us/step\n",
      "Epoch 98/100\n",
      "15/15 - 0s - loss: 5.2275 - mae: 1.7041 - 12ms/epoch - 798us/step\n",
      "Epoch 99/100\n",
      "15/15 - 0s - loss: 5.0465 - mae: 1.6580 - 11ms/epoch - 731us/step\n",
      "Epoch 100/100\n",
      "15/15 - 0s - loss: 5.1982 - mae: 1.6586 - 11ms/epoch - 731us/step\n"
     ]
    }
   ],
   "source": [
    "history = model.fit(X_train, y_train, epochs=100, batch_size=32, verbose=2)"
   ]
  },
  {
   "cell_type": "code",
   "execution_count": 52,
   "metadata": {},
   "outputs": [
    {
     "name": "stdout",
     "output_type": "stream",
     "text": [
      "2/2 [==============================] - 0s 996us/step - loss: 7.0976 - mae: 1.9513\n"
     ]
    },
    {
     "data": {
      "text/plain": [
       "[7.097605228424072, 1.9512734413146973]"
      ]
     },
     "execution_count": 52,
     "metadata": {},
     "output_type": "execute_result"
    }
   ],
   "source": [
    "model.evaluate(X_test, y_test)"
   ]
  },
  {
   "cell_type": "code",
   "execution_count": 53,
   "metadata": {},
   "outputs": [
    {
     "data": {
      "text/plain": [
       "array([[22.406855],\n",
       "       [12.621603],\n",
       "       [26.056044],\n",
       "       [22.891521],\n",
       "       [ 9.612611]], dtype=float32)"
      ]
     },
     "execution_count": 53,
     "metadata": {},
     "output_type": "execute_result"
    }
   ],
   "source": [
    "pred_test = model.predict(X_test)\n",
    "pred_test[:5]"
   ]
  },
  {
   "cell_type": "code",
   "execution_count": 54,
   "metadata": {},
   "outputs": [
    {
     "data": {
      "text/plain": [
       "array([23.4,  8.1, 22. , 15. , 10.4])"
      ]
     },
     "execution_count": 54,
     "metadata": {},
     "output_type": "execute_result"
    }
   ],
   "source": [
    "y_test[:5]"
   ]
  },
  {
   "cell_type": "code",
   "execution_count": 55,
   "metadata": {},
   "outputs": [
    {
     "data": {
      "text/plain": [
       "array([[20.202044],\n",
       "       [22.497646],\n",
       "       [16.226383],\n",
       "       [18.161823],\n",
       "       [22.141695]], dtype=float32)"
      ]
     },
     "execution_count": 55,
     "metadata": {},
     "output_type": "execute_result"
    }
   ],
   "source": [
    "pred_test[46:]"
   ]
  },
  {
   "cell_type": "code",
   "execution_count": 56,
   "metadata": {},
   "outputs": [
    {
     "data": {
      "text/plain": [
       "array([20.1, 22. , 16.7, 18.7, 19.6])"
      ]
     },
     "execution_count": 56,
     "metadata": {},
     "output_type": "execute_result"
    }
   ],
   "source": [
    "y_test[46:]"
   ]
  },
  {
   "cell_type": "code",
   "execution_count": 57,
   "metadata": {},
   "outputs": [],
   "source": [
    "from sklearn.metrics import r2_score"
   ]
  },
  {
   "cell_type": "code",
   "execution_count": 58,
   "metadata": {},
   "outputs": [
    {
     "data": {
      "text/plain": [
       "0.9084661371383668"
      ]
     },
     "execution_count": 58,
     "metadata": {},
     "output_type": "execute_result"
    }
   ],
   "source": [
    "R2 = r2_score(y_test, pred_test)\n",
    "R2"
   ]
  },
  {
   "cell_type": "code",
   "execution_count": 59,
   "metadata": {},
   "outputs": [],
   "source": [
    "import matplotlib.pyplot as plt\n",
    "import seaborn as sns"
   ]
  },
  {
   "cell_type": "code",
   "execution_count": 70,
   "metadata": {},
   "outputs": [
    {
     "data": {
      "image/png": "[encoded data removed]",
      "text/plain": [
       "<Figure size 432x288 with 1 Axes>"
      ]
     },
     "metadata": {
      "needs_background": "light"
     },
     "output_type": "display_data"
    }
   ],
   "source": [
    "sns.distplot(pred_test, hist=True, rug=True, label=\"pred_test\")\n",
    "sns.distplot(y_test, hist=True, rug=True, label=\"y_test\")\n",
    "plt.legend()\n",
    "plt.show()"
   ]
  },
  {
   "cell_type": "code",
   "execution_count": 69,
   "metadata": {},
   "outputs": [
    {
     "name": "stderr",
     "output_type": "stream",
     "text": [
      "No handles with labels found to put in legend.\n"
     ]
    },
    {
     "data": {
      "image/png": "[encoded data removed]",
      "text/plain": [
       "<Figure size 432x288 with 1 Axes>"
      ]
     },
     "metadata": {
      "needs_background": "light"
     },
     "output_type": "display_data"
    }
   ],
   "source": [
    "plt.plot(history.history['mae'])\n",
    "plt.plot(history.history['loss'])\n",
    "plt.legend()\n",
    "plt.show()"
   ]
  },
  {
   "cell_type": "code",
   "execution_count": null,
   "metadata": {},
   "outputs": [],
   "source": []
  }
 ],
 "metadata": {
  "kernelspec": {
   "display_name": "Python 3",
   "language": "python",
   "name": "python3"
  },
  "language_info": {
   "codemirror_mode": {
    "name": "ipython",
    "version": 3
   },
   "file_extension": ".py",
   "mimetype": "text/x-python",
   "name": "python",
   "nbconvert_exporter": "python",
   "pygments_lexer": "ipython3",
   "version": "3.7.4"
  }
 },
 "nbformat": 4,
 "nbformat_minor": 2
}
