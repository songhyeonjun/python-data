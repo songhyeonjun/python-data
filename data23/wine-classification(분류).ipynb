{
 "cells": [
  {
   "cell_type": "markdown",
   "metadata": {},
   "source": [
    "# 와인 분류"
   ]
  },
  {
   "cell_type": "code",
   "execution_count": 1,
   "metadata": {},
   "outputs": [],
   "source": [
    "import pandas as pd\n",
    "import numpy as np\n",
    "import random\n",
    "import tensorflow as tf"
   ]
  },
  {
   "cell_type": "code",
   "execution_count": 2,
   "metadata": {},
   "outputs": [],
   "source": [
    "data = pd.read_csv('wine_train.csv')"
   ]
  },
  {
   "cell_type": "code",
   "execution_count": 3,
   "metadata": {},
   "outputs": [
    {
     "data": {
      "text/plain": [
       "(5497, 14)"
      ]
     },
     "execution_count": 3,
     "metadata": {},
     "output_type": "execute_result"
    }
   ],
   "source": [
    "data.shape"
   ]
  },
  {
   "cell_type": "code",
   "execution_count": 4,
   "metadata": {},
   "outputs": [
    {
     "data": {
      "text/html": [
       "<div>\n",
       "<style scoped>\n",
       "    .dataframe tbody tr th:only-of-type {\n",
       "        vertical-align: middle;\n",
       "    }\n",
       "\n",
       "    .dataframe tbody tr th {\n",
       "        vertical-align: top;\n",
       "    }\n",
       "\n",
       "    .dataframe thead th {\n",
       "        text-align: right;\n",
       "    }\n",
       "</style>\n",
       "<table border=\"1\" class=\"dataframe\">\n",
       "  <thead>\n",
       "    <tr style=\"text-align: right;\">\n",
       "      <th></th>\n",
       "      <th>index</th>\n",
       "      <th>quality</th>\n",
       "      <th>fixed acidity</th>\n",
       "      <th>volatile acidity</th>\n",
       "      <th>citric acid</th>\n",
       "      <th>residual sugar</th>\n",
       "      <th>chlorides</th>\n",
       "      <th>free sulfur dioxide</th>\n",
       "      <th>total sulfur dioxide</th>\n",
       "      <th>density</th>\n",
       "      <th>pH</th>\n",
       "      <th>sulphates</th>\n",
       "      <th>alcohol</th>\n",
       "      <th>type</th>\n",
       "    </tr>\n",
       "  </thead>\n",
       "  <tbody>\n",
       "    <tr>\n",
       "      <th>0</th>\n",
       "      <td>0</td>\n",
       "      <td>5</td>\n",
       "      <td>5.6</td>\n",
       "      <td>0.695</td>\n",
       "      <td>0.06</td>\n",
       "      <td>6.8</td>\n",
       "      <td>0.042</td>\n",
       "      <td>9.0</td>\n",
       "      <td>84.0</td>\n",
       "      <td>0.99432</td>\n",
       "      <td>3.44</td>\n",
       "      <td>0.44</td>\n",
       "      <td>10.2</td>\n",
       "      <td>white</td>\n",
       "    </tr>\n",
       "    <tr>\n",
       "      <th>1</th>\n",
       "      <td>1</td>\n",
       "      <td>5</td>\n",
       "      <td>8.8</td>\n",
       "      <td>0.610</td>\n",
       "      <td>0.14</td>\n",
       "      <td>2.4</td>\n",
       "      <td>0.067</td>\n",
       "      <td>10.0</td>\n",
       "      <td>42.0</td>\n",
       "      <td>0.99690</td>\n",
       "      <td>3.19</td>\n",
       "      <td>0.59</td>\n",
       "      <td>9.5</td>\n",
       "      <td>red</td>\n",
       "    </tr>\n",
       "    <tr>\n",
       "      <th>2</th>\n",
       "      <td>2</td>\n",
       "      <td>5</td>\n",
       "      <td>7.9</td>\n",
       "      <td>0.210</td>\n",
       "      <td>0.39</td>\n",
       "      <td>2.0</td>\n",
       "      <td>0.057</td>\n",
       "      <td>21.0</td>\n",
       "      <td>138.0</td>\n",
       "      <td>0.99176</td>\n",
       "      <td>3.05</td>\n",
       "      <td>0.52</td>\n",
       "      <td>10.9</td>\n",
       "      <td>white</td>\n",
       "    </tr>\n",
       "  </tbody>\n",
       "</table>\n",
       "</div>"
      ],
      "text/plain": [
       "   index  quality  fixed acidity  volatile acidity  citric acid  \\\n",
       "0      0        5            5.6             0.695         0.06   \n",
       "1      1        5            8.8             0.610         0.14   \n",
       "2      2        5            7.9             0.210         0.39   \n",
       "\n",
       "   residual sugar  chlorides  free sulfur dioxide  total sulfur dioxide  \\\n",
       "0             6.8      0.042                  9.0                  84.0   \n",
       "1             2.4      0.067                 10.0                  42.0   \n",
       "2             2.0      0.057                 21.0                 138.0   \n",
       "\n",
       "   density    pH  sulphates  alcohol   type  \n",
       "0  0.99432  3.44       0.44     10.2  white  \n",
       "1  0.99690  3.19       0.59      9.5    red  \n",
       "2  0.99176  3.05       0.52     10.9  white  "
      ]
     },
     "execution_count": 4,
     "metadata": {},
     "output_type": "execute_result"
    }
   ],
   "source": [
    "data[:3]"
   ]
  },
  {
   "cell_type": "code",
   "execution_count": 5,
   "metadata": {},
   "outputs": [
    {
     "data": {
      "text/plain": [
       "6    2416\n",
       "5    1788\n",
       "7     924\n",
       "4     186\n",
       "8     152\n",
       "3      26\n",
       "9       5\n",
       "Name: quality, dtype: int64"
      ]
     },
     "execution_count": 5,
     "metadata": {},
     "output_type": "execute_result"
    }
   ],
   "source": [
    "data['quality'].value_counts()"
   ]
  },
  {
   "cell_type": "code",
   "execution_count": 6,
   "metadata": {},
   "outputs": [
    {
     "data": {
      "text/plain": [
       "0       white\n",
       "1         red\n",
       "2       white\n",
       "3       white\n",
       "4       white\n",
       "        ...  \n",
       "5492    white\n",
       "5493    white\n",
       "5494    white\n",
       "5495    white\n",
       "5496    white\n",
       "Name: type, Length: 5497, dtype: object"
      ]
     },
     "execution_count": 6,
     "metadata": {},
     "output_type": "execute_result"
    }
   ],
   "source": [
    "data.type"
   ]
  },
  {
   "cell_type": "code",
   "execution_count": 7,
   "metadata": {},
   "outputs": [],
   "source": [
    "data['type'] = np.where(data['type'] == 'white', 1, 0).astype('int')\n",
    "## 데이터 타입이 화이트면 1, 아니면 0 인 int형으로 변환"
   ]
  },
  {
   "cell_type": "code",
   "execution_count": 8,
   "metadata": {},
   "outputs": [
    {
     "data": {
      "text/plain": [
       "1    4159\n",
       "0    1338\n",
       "Name: type, dtype: int64"
      ]
     },
     "execution_count": 8,
     "metadata": {},
     "output_type": "execute_result"
    }
   ],
   "source": [
    "data.type.value_counts()"
   ]
  },
  {
   "cell_type": "code",
   "execution_count": 9,
   "metadata": {},
   "outputs": [],
   "source": [
    "from tensorflow.keras.utils import to_categorical"
   ]
  },
  {
   "cell_type": "markdown",
   "metadata": {},
   "source": [
    "딥러닝 기본에서는 targetd이 명목형인 경우, dummy로 만들어 주어야 한다.(one-hot인코딩)"
   ]
  },
  {
   "cell_type": "code",
   "execution_count": 10,
   "metadata": {},
   "outputs": [
    {
     "data": {
      "text/plain": [
       "array([[0., 0., 1., 0., 0., 0., 0.],\n",
       "       [0., 0., 1., 0., 0., 0., 0.],\n",
       "       [0., 0., 1., 0., 0., 0., 0.]], dtype=float32)"
      ]
     },
     "execution_count": 10,
     "metadata": {},
     "output_type": "execute_result"
    }
   ],
   "source": [
    "y_data = to_categorical(data['quality'] - 3)\n",
    "y_data[:3] # target"
   ]
  },
  {
   "cell_type": "code",
   "execution_count": 11,
   "metadata": {},
   "outputs": [
    {
     "data": {
      "text/html": [
       "<div>\n",
       "<style scoped>\n",
       "    .dataframe tbody tr th:only-of-type {\n",
       "        vertical-align: middle;\n",
       "    }\n",
       "\n",
       "    .dataframe tbody tr th {\n",
       "        vertical-align: top;\n",
       "    }\n",
       "\n",
       "    .dataframe thead th {\n",
       "        text-align: right;\n",
       "    }\n",
       "</style>\n",
       "<table border=\"1\" class=\"dataframe\">\n",
       "  <thead>\n",
       "    <tr style=\"text-align: right;\">\n",
       "      <th></th>\n",
       "      <th>fixed acidity</th>\n",
       "      <th>volatile acidity</th>\n",
       "      <th>citric acid</th>\n",
       "      <th>residual sugar</th>\n",
       "      <th>chlorides</th>\n",
       "      <th>free sulfur dioxide</th>\n",
       "      <th>total sulfur dioxide</th>\n",
       "      <th>density</th>\n",
       "      <th>pH</th>\n",
       "      <th>sulphates</th>\n",
       "      <th>alcohol</th>\n",
       "      <th>type</th>\n",
       "    </tr>\n",
       "  </thead>\n",
       "  <tbody>\n",
       "    <tr>\n",
       "      <th>0</th>\n",
       "      <td>5.6</td>\n",
       "      <td>0.695</td>\n",
       "      <td>0.06</td>\n",
       "      <td>6.8</td>\n",
       "      <td>0.042</td>\n",
       "      <td>9.0</td>\n",
       "      <td>84.0</td>\n",
       "      <td>0.99432</td>\n",
       "      <td>3.44</td>\n",
       "      <td>0.44</td>\n",
       "      <td>10.2</td>\n",
       "      <td>1</td>\n",
       "    </tr>\n",
       "    <tr>\n",
       "      <th>1</th>\n",
       "      <td>8.8</td>\n",
       "      <td>0.610</td>\n",
       "      <td>0.14</td>\n",
       "      <td>2.4</td>\n",
       "      <td>0.067</td>\n",
       "      <td>10.0</td>\n",
       "      <td>42.0</td>\n",
       "      <td>0.99690</td>\n",
       "      <td>3.19</td>\n",
       "      <td>0.59</td>\n",
       "      <td>9.5</td>\n",
       "      <td>0</td>\n",
       "    </tr>\n",
       "    <tr>\n",
       "      <th>2</th>\n",
       "      <td>7.9</td>\n",
       "      <td>0.210</td>\n",
       "      <td>0.39</td>\n",
       "      <td>2.0</td>\n",
       "      <td>0.057</td>\n",
       "      <td>21.0</td>\n",
       "      <td>138.0</td>\n",
       "      <td>0.99176</td>\n",
       "      <td>3.05</td>\n",
       "      <td>0.52</td>\n",
       "      <td>10.9</td>\n",
       "      <td>1</td>\n",
       "    </tr>\n",
       "  </tbody>\n",
       "</table>\n",
       "</div>"
      ],
      "text/plain": [
       "   fixed acidity  volatile acidity  citric acid  residual sugar  chlorides  \\\n",
       "0            5.6             0.695         0.06             6.8      0.042   \n",
       "1            8.8             0.610         0.14             2.4      0.067   \n",
       "2            7.9             0.210         0.39             2.0      0.057   \n",
       "\n",
       "   free sulfur dioxide  total sulfur dioxide  density    pH  sulphates  \\\n",
       "0                  9.0                  84.0  0.99432  3.44       0.44   \n",
       "1                 10.0                  42.0  0.99690  3.19       0.59   \n",
       "2                 21.0                 138.0  0.99176  3.05       0.52   \n",
       "\n",
       "   alcohol  type  \n",
       "0     10.2     1  \n",
       "1      9.5     0  \n",
       "2     10.9     1  "
      ]
     },
     "execution_count": 11,
     "metadata": {},
     "output_type": "execute_result"
    }
   ],
   "source": [
    "X_data = data.loc[:, 'fixed acidity':]\n",
    "X_data[:3]"
   ]
  },
  {
   "cell_type": "markdown",
   "metadata": {},
   "source": [
    "## Min_Max 스케일링"
   ]
  },
  {
   "cell_type": "code",
   "execution_count": 12,
   "metadata": {},
   "outputs": [],
   "source": [
    "from sklearn.preprocessing import MinMaxScaler"
   ]
  },
  {
   "cell_type": "code",
   "execution_count": 13,
   "metadata": {},
   "outputs": [],
   "source": [
    "scaler = MinMaxScaler()\n",
    "scaler.fit(X_data)\n",
    "X_data_scaled = scaler.fit_transform(X_data)"
   ]
  },
  {
   "cell_type": "code",
   "execution_count": 14,
   "metadata": {},
   "outputs": [
    {
     "data": {
      "text/plain": [
       "array([[0.14876033, 0.41      , 0.03614458, 0.09509202, 0.05490849,\n",
       "        0.02777778, 0.1797235 , 0.13900135, 0.5511811 , 0.12359551,\n",
       "        0.31884058, 1.        ],\n",
       "       [0.41322314, 0.35333333, 0.08433735, 0.02760736, 0.09650582,\n",
       "        0.03125   , 0.08294931, 0.18874108, 0.35433071, 0.20786517,\n",
       "        0.2173913 , 0.        ],\n",
       "       [0.33884298, 0.08666667, 0.23493976, 0.02147239, 0.07986689,\n",
       "        0.06944444, 0.30414747, 0.08964719, 0.24409449, 0.16853933,\n",
       "        0.42028986, 1.        ]])"
      ]
     },
     "execution_count": 14,
     "metadata": {},
     "output_type": "execute_result"
    }
   ],
   "source": [
    "X_data_scaled[:3]"
   ]
  },
  {
   "cell_type": "markdown",
   "metadata": {},
   "source": [
    "# train / test data 분리"
   ]
  },
  {
   "cell_type": "code",
   "execution_count": 15,
   "metadata": {},
   "outputs": [],
   "source": [
    "from sklearn.model_selection import train_test_split"
   ]
  },
  {
   "cell_type": "code",
   "execution_count": 16,
   "metadata": {},
   "outputs": [
    {
     "name": "stdout",
     "output_type": "stream",
     "text": [
      "(4397, 12) (4397, 7)\n",
      "(1100, 12) (1100, 7)\n"
     ]
    }
   ],
   "source": [
    "X_train, X_test, y_train, y_test = train_test_split(X_data_scaled, y_data, \n",
    "                                                    test_size=0.2, \n",
    "                                                    shuffle=True, \n",
    "                                                    random_state=100)\n",
    "print(X_train.shape, y_train.shape)\n",
    "print(X_test.shape, y_test.shape)"
   ]
  },
  {
   "cell_type": "markdown",
   "metadata": {},
   "source": [
    "## 모델생성\n",
    "## 심층 신경망 모델"
   ]
  },
  {
   "cell_type": "code",
   "execution_count": 17,
   "metadata": {},
   "outputs": [],
   "source": [
    "from tensorflow.keras import Sequential\n",
    "from tensorflow.keras.layers import Dense, Dropout"
   ]
  },
  {
   "cell_type": "code",
   "execution_count": 42,
   "metadata": {},
   "outputs": [],
   "source": [
    "model = Sequential()\n",
    "model.add(Dense(128, activation='relu', input_dim=12))\n",
    "model.add(Dense(64, activation='relu'))\n",
    "model.add(Dense(32, activation='relu'))\n",
    "model.add(Dense(10, activation='relu'))\n",
    "model.add(Dense(7, activation='softmax'))"
   ]
  },
  {
   "cell_type": "code",
   "execution_count": 48,
   "metadata": {},
   "outputs": [],
   "source": [
    "## 이 모델로 설정을 하겠음(compile)\n",
    "## 이 모델로 설정을 하겠음(compile)\n",
    "model.compile(optimizer='adam', \n",
    "              loss='categorical_crossentropy',\n",
    "              metrics=['acc', 'mae']\n",
    "             )"
   ]
  },
  {
   "cell_type": "code",
   "execution_count": 49,
   "metadata": {},
   "outputs": [
    {
     "name": "stdout",
     "output_type": "stream",
     "text": [
      "Model: \"sequential_1\"\n",
      "_________________________________________________________________\n",
      " Layer (type)                Output Shape              Param #   \n",
      "=================================================================\n",
      " dense_5 (Dense)             (None, 128)               1664      \n",
      "                                                                 \n",
      " dense_6 (Dense)             (None, 64)                8256      \n",
      "                                                                 \n",
      " dense_7 (Dense)             (None, 32)                2080      \n",
      "                                                                 \n",
      " dense_8 (Dense)             (None, 10)                330       \n",
      "                                                                 \n",
      " dense_9 (Dense)             (None, 7)                 77        \n",
      "                                                                 \n",
      "=================================================================\n",
      "Total params: 12,407\n",
      "Trainable params: 12,407\n",
      "Non-trainable params: 0\n",
      "_________________________________________________________________\n"
     ]
    }
   ],
   "source": [
    "#\n",
    "model.summary()"
   ]
  },
  {
   "cell_type": "code",
   "execution_count": 50,
   "metadata": {},
   "outputs": [
    {
     "name": "stdout",
     "output_type": "stream",
     "text": [
      "Epoch 1/200\n",
      "88/88 - 0s - loss: 0.7568 - acc: 0.6743 - mae: 0.1255 - 338ms/epoch - 4ms/step\n",
      "Epoch 2/200\n",
      "88/88 - 0s - loss: 0.7406 - acc: 0.6816 - mae: 0.1238 - 58ms/epoch - 657us/step\n",
      "Epoch 3/200\n",
      "88/88 - 0s - loss: 0.7409 - acc: 0.6782 - mae: 0.1241 - 60ms/epoch - 680us/step\n",
      "Epoch 4/200\n",
      "88/88 - 0s - loss: 0.7396 - acc: 0.6927 - mae: 0.1232 - 59ms/epoch - 669us/step\n",
      "Epoch 5/200\n",
      "88/88 - 0s - loss: 0.7431 - acc: 0.6807 - mae: 0.1237 - 60ms/epoch - 680us/step\n",
      "Epoch 6/200\n",
      "88/88 - 0s - loss: 0.7386 - acc: 0.6864 - mae: 0.1230 - 61ms/epoch - 691us/step\n",
      "Epoch 7/200\n",
      "88/88 - 0s - loss: 0.7345 - acc: 0.6905 - mae: 0.1228 - 59ms/epoch - 669us/step\n",
      "Epoch 8/200\n",
      "88/88 - 0s - loss: 0.7315 - acc: 0.6902 - mae: 0.1224 - 59ms/epoch - 669us/step\n",
      "Epoch 9/200\n",
      "88/88 - 0s - loss: 0.7428 - acc: 0.6830 - mae: 0.1231 - 59ms/epoch - 669us/step\n",
      "Epoch 10/200\n",
      "88/88 - 0s - loss: 0.7290 - acc: 0.6907 - mae: 0.1220 - 59ms/epoch - 669us/step\n",
      "Epoch 11/200\n",
      "88/88 - 0s - loss: 0.7276 - acc: 0.6918 - mae: 0.1211 - 60ms/epoch - 686us/step\n",
      "Epoch 12/200\n",
      "88/88 - 0s - loss: 0.7273 - acc: 0.6889 - mae: 0.1216 - 61ms/epoch - 691us/step\n",
      "Epoch 13/200\n",
      "88/88 - 0s - loss: 0.7288 - acc: 0.6900 - mae: 0.1213 - 60ms/epoch - 680us/step\n",
      "Epoch 14/200\n",
      "88/88 - 0s - loss: 0.7253 - acc: 0.6916 - mae: 0.1211 - 60ms/epoch - 680us/step\n",
      "Epoch 15/200\n",
      "88/88 - 0s - loss: 0.7240 - acc: 0.6964 - mae: 0.1202 - 59ms/epoch - 669us/step\n",
      "Epoch 16/200\n",
      "88/88 - 0s - loss: 0.7293 - acc: 0.6857 - mae: 0.1220 - 60ms/epoch - 680us/step\n",
      "Epoch 17/200\n",
      "88/88 - 0s - loss: 0.7292 - acc: 0.6884 - mae: 0.1209 - 58ms/epoch - 657us/step\n",
      "Epoch 18/200\n",
      "88/88 - 0s - loss: 0.7184 - acc: 0.6977 - mae: 0.1197 - 59ms/epoch - 669us/step\n",
      "Epoch 19/200\n",
      "88/88 - 0s - loss: 0.7183 - acc: 0.6982 - mae: 0.1197 - 59ms/epoch - 669us/step\n",
      "Epoch 20/200\n",
      "88/88 - 0s - loss: 0.7166 - acc: 0.6973 - mae: 0.1195 - 59ms/epoch - 669us/step\n",
      "Epoch 21/200\n",
      "88/88 - 0s - loss: 0.7182 - acc: 0.6991 - mae: 0.1192 - 60ms/epoch - 680us/step\n",
      "Epoch 22/200\n",
      "88/88 - 0s - loss: 0.7123 - acc: 0.7003 - mae: 0.1192 - 61ms/epoch - 691us/step\n",
      "Epoch 23/200\n",
      "88/88 - 0s - loss: 0.7079 - acc: 0.7005 - mae: 0.1184 - 59ms/epoch - 669us/step\n",
      "Epoch 24/200\n",
      "88/88 - 0s - loss: 0.7126 - acc: 0.6930 - mae: 0.1187 - 60ms/epoch - 680us/step\n",
      "Epoch 25/200\n",
      "88/88 - 0s - loss: 0.7098 - acc: 0.7043 - mae: 0.1187 - 60ms/epoch - 680us/step\n",
      "Epoch 26/200\n",
      "88/88 - 0s - loss: 0.7096 - acc: 0.7041 - mae: 0.1185 - 59ms/epoch - 669us/step\n",
      "Epoch 27/200\n",
      "88/88 - 0s - loss: 0.7105 - acc: 0.7055 - mae: 0.1178 - 58ms/epoch - 657us/step\n",
      "Epoch 28/200\n",
      "88/88 - 0s - loss: 0.7042 - acc: 0.7018 - mae: 0.1177 - 59ms/epoch - 669us/step\n",
      "Epoch 29/200\n",
      "88/88 - 0s - loss: 0.6968 - acc: 0.7043 - mae: 0.1168 - 59ms/epoch - 669us/step\n",
      "Epoch 30/200\n",
      "88/88 - 0s - loss: 0.7016 - acc: 0.7055 - mae: 0.1169 - 60ms/epoch - 680us/step\n",
      "Epoch 31/200\n",
      "88/88 - 0s - loss: 0.6918 - acc: 0.7091 - mae: 0.1164 - 60ms/epoch - 680us/step\n",
      "Epoch 32/200\n",
      "88/88 - 0s - loss: 0.7033 - acc: 0.7064 - mae: 0.1169 - 59ms/epoch - 669us/step\n",
      "Epoch 33/200\n",
      "88/88 - 0s - loss: 0.6934 - acc: 0.7118 - mae: 0.1157 - 59ms/epoch - 669us/step\n",
      "Epoch 34/200\n",
      "88/88 - 0s - loss: 0.6944 - acc: 0.7116 - mae: 0.1159 - 59ms/epoch - 669us/step\n",
      "Epoch 35/200\n",
      "88/88 - 0s - loss: 0.7023 - acc: 0.6977 - mae: 0.1166 - 60ms/epoch - 680us/step\n",
      "Epoch 36/200\n",
      "88/88 - 0s - loss: 0.7008 - acc: 0.7105 - mae: 0.1161 - 59ms/epoch - 669us/step\n",
      "Epoch 37/200\n",
      "88/88 - 0s - loss: 0.6863 - acc: 0.7087 - mae: 0.1151 - 59ms/epoch - 669us/step\n",
      "Epoch 38/200\n",
      "88/88 - 0s - loss: 0.6877 - acc: 0.7075 - mae: 0.1150 - 60ms/epoch - 680us/step\n",
      "Epoch 39/200\n",
      "88/88 - 0s - loss: 0.6875 - acc: 0.7178 - mae: 0.1151 - 61ms/epoch - 691us/step\n",
      "Epoch 40/200\n",
      "88/88 - 0s - loss: 0.6919 - acc: 0.7098 - mae: 0.1153 - 61ms/epoch - 691us/step\n",
      "Epoch 41/200\n",
      "88/88 - 0s - loss: 0.6862 - acc: 0.7162 - mae: 0.1145 - 62ms/epoch - 703us/step\n",
      "Epoch 42/200\n",
      "88/88 - 0s - loss: 0.6816 - acc: 0.7103 - mae: 0.1140 - 61ms/epoch - 691us/step\n",
      "Epoch 43/200\n",
      "88/88 - 0s - loss: 0.6883 - acc: 0.7098 - mae: 0.1151 - 62ms/epoch - 703us/step\n",
      "Epoch 44/200\n",
      "88/88 - 0s - loss: 0.6870 - acc: 0.7087 - mae: 0.1146 - 62ms/epoch - 703us/step\n",
      "Epoch 45/200\n",
      "88/88 - 0s - loss: 0.6779 - acc: 0.7221 - mae: 0.1138 - 61ms/epoch - 691us/step\n",
      "Epoch 46/200\n",
      "88/88 - 0s - loss: 0.6779 - acc: 0.7171 - mae: 0.1139 - 60ms/epoch - 680us/step\n",
      "Epoch 47/200\n",
      "88/88 - 0s - loss: 0.6785 - acc: 0.7182 - mae: 0.1127 - 59ms/epoch - 669us/step\n",
      "Epoch 48/200\n",
      "88/88 - 0s - loss: 0.6713 - acc: 0.7200 - mae: 0.1128 - 58ms/epoch - 657us/step\n",
      "Epoch 49/200\n",
      "88/88 - 0s - loss: 0.6755 - acc: 0.7159 - mae: 0.1123 - 60ms/epoch - 680us/step\n",
      "Epoch 50/200\n",
      "88/88 - 0s - loss: 0.6733 - acc: 0.7205 - mae: 0.1126 - 58ms/epoch - 657us/step\n",
      "Epoch 51/200\n",
      "88/88 - 0s - loss: 0.6764 - acc: 0.7130 - mae: 0.1132 - 63ms/epoch - 714us/step\n",
      "Epoch 52/200\n",
      "88/88 - 0s - loss: 0.6619 - acc: 0.7273 - mae: 0.1119 - 61ms/epoch - 691us/step\n",
      "Epoch 53/200\n",
      "88/88 - 0s - loss: 0.6726 - acc: 0.7230 - mae: 0.1122 - 59ms/epoch - 669us/step\n",
      "Epoch 54/200\n",
      "88/88 - 0s - loss: 0.6598 - acc: 0.7271 - mae: 0.1107 - 61ms/epoch - 691us/step\n",
      "Epoch 55/200\n",
      "88/88 - 0s - loss: 0.6571 - acc: 0.7266 - mae: 0.1107 - 59ms/epoch - 669us/step\n",
      "Epoch 56/200\n",
      "88/88 - 0s - loss: 0.6534 - acc: 0.7316 - mae: 0.1102 - 60ms/epoch - 680us/step\n",
      "Epoch 57/200\n",
      "88/88 - 0s - loss: 0.6461 - acc: 0.7353 - mae: 0.1096 - 60ms/epoch - 680us/step\n",
      "Epoch 58/200\n",
      "88/88 - 0s - loss: 0.6581 - acc: 0.7250 - mae: 0.1102 - 62ms/epoch - 703us/step\n",
      "Epoch 59/200\n",
      "88/88 - 0s - loss: 0.6507 - acc: 0.7314 - mae: 0.1093 - 60ms/epoch - 680us/step\n",
      "Epoch 60/200\n",
      "88/88 - 0s - loss: 0.6583 - acc: 0.7266 - mae: 0.1101 - 60ms/epoch - 680us/step\n",
      "Epoch 61/200\n",
      "88/88 - 0s - loss: 0.6439 - acc: 0.7316 - mae: 0.1090 - 60ms/epoch - 680us/step\n",
      "Epoch 62/200\n",
      "88/88 - 0s - loss: 0.6512 - acc: 0.7237 - mae: 0.1097 - 60ms/epoch - 680us/step\n",
      "Epoch 63/200\n",
      "88/88 - 0s - loss: 0.6490 - acc: 0.7316 - mae: 0.1084 - 60ms/epoch - 680us/step\n",
      "Epoch 64/200\n",
      "88/88 - 0s - loss: 0.6546 - acc: 0.7214 - mae: 0.1094 - 60ms/epoch - 680us/step\n",
      "Epoch 65/200\n",
      "88/88 - 0s - loss: 0.6540 - acc: 0.7275 - mae: 0.1096 - 61ms/epoch - 691us/step\n",
      "Epoch 66/200\n",
      "88/88 - 0s - loss: 0.6460 - acc: 0.7300 - mae: 0.1084 - 60ms/epoch - 680us/step\n",
      "Epoch 67/200\n",
      "88/88 - 0s - loss: 0.6409 - acc: 0.7350 - mae: 0.1075 - 58ms/epoch - 657us/step\n",
      "Epoch 68/200\n",
      "88/88 - 0s - loss: 0.6332 - acc: 0.7348 - mae: 0.1065 - 58ms/epoch - 657us/step\n",
      "Epoch 69/200\n",
      "88/88 - 0s - loss: 0.6520 - acc: 0.7316 - mae: 0.1083 - 59ms/epoch - 669us/step\n",
      "Epoch 70/200\n",
      "88/88 - 0s - loss: 0.6436 - acc: 0.7303 - mae: 0.1080 - 73ms/epoch - 827us/step\n",
      "Epoch 71/200\n",
      "88/88 - 0s - loss: 0.6367 - acc: 0.7344 - mae: 0.1070 - 61ms/epoch - 691us/step\n",
      "Epoch 72/200\n",
      "88/88 - 0s - loss: 0.6313 - acc: 0.7396 - mae: 0.1061 - 59ms/epoch - 669us/step\n",
      "Epoch 73/200\n",
      "88/88 - 0s - loss: 0.6263 - acc: 0.7403 - mae: 0.1056 - 60ms/epoch - 680us/step\n",
      "Epoch 74/200\n",
      "88/88 - 0s - loss: 0.6317 - acc: 0.7348 - mae: 0.1064 - 60ms/epoch - 680us/step\n",
      "Epoch 75/200\n",
      "88/88 - 0s - loss: 0.6229 - acc: 0.7480 - mae: 0.1048 - 59ms/epoch - 669us/step\n",
      "Epoch 76/200\n",
      "88/88 - 0s - loss: 0.6285 - acc: 0.7364 - mae: 0.1058 - 60ms/epoch - 680us/step\n",
      "Epoch 77/200\n",
      "88/88 - 0s - loss: 0.6251 - acc: 0.7387 - mae: 0.1055 - 60ms/epoch - 680us/step\n",
      "Epoch 78/200\n",
      "88/88 - 0s - loss: 0.6225 - acc: 0.7412 - mae: 0.1049 - 61ms/epoch - 691us/step\n",
      "Epoch 79/200\n",
      "88/88 - 0s - loss: 0.6236 - acc: 0.7423 - mae: 0.1043 - 61ms/epoch - 691us/step\n",
      "Epoch 80/200\n",
      "88/88 - 0s - loss: 0.6200 - acc: 0.7487 - mae: 0.1039 - 59ms/epoch - 669us/step\n",
      "Epoch 81/200\n",
      "88/88 - 0s - loss: 0.6312 - acc: 0.7446 - mae: 0.1051 - 59ms/epoch - 669us/step\n",
      "Epoch 82/200\n",
      "88/88 - 0s - loss: 0.6221 - acc: 0.7451 - mae: 0.1049 - 61ms/epoch - 691us/step\n",
      "Epoch 83/200\n",
      "88/88 - 0s - loss: 0.6098 - acc: 0.7501 - mae: 0.1029 - 61ms/epoch - 691us/step\n",
      "Epoch 84/200\n",
      "88/88 - 0s - loss: 0.6062 - acc: 0.7437 - mae: 0.1030 - 61ms/epoch - 691us/step\n",
      "Epoch 85/200\n",
      "88/88 - 0s - loss: 0.6124 - acc: 0.7421 - mae: 0.1032 - 60ms/epoch - 680us/step\n",
      "Epoch 86/200\n",
      "88/88 - 0s - loss: 0.6112 - acc: 0.7503 - mae: 0.1029 - 61ms/epoch - 691us/step\n",
      "Epoch 87/200\n",
      "88/88 - 0s - loss: 0.6051 - acc: 0.7471 - mae: 0.1022 - 61ms/epoch - 691us/step\n",
      "Epoch 88/200\n",
      "88/88 - 0s - loss: 0.6096 - acc: 0.7487 - mae: 0.1025 - 60ms/epoch - 680us/step\n",
      "Epoch 89/200\n",
      "88/88 - 0s - loss: 0.6080 - acc: 0.7571 - mae: 0.1022 - 60ms/epoch - 680us/step\n"
     ]
    },
    {
     "name": "stdout",
     "output_type": "stream",
     "text": [
      "Epoch 90/200\n",
      "88/88 - 0s - loss: 0.6008 - acc: 0.7555 - mae: 0.1012 - 59ms/epoch - 669us/step\n",
      "Epoch 91/200\n",
      "88/88 - 0s - loss: 0.6080 - acc: 0.7476 - mae: 0.1027 - 64ms/epoch - 725us/step\n",
      "Epoch 92/200\n",
      "88/88 - 0s - loss: 0.5986 - acc: 0.7505 - mae: 0.1005 - 65ms/epoch - 737us/step\n",
      "Epoch 93/200\n",
      "88/88 - 0s - loss: 0.6011 - acc: 0.7567 - mae: 0.1002 - 65ms/epoch - 737us/step\n",
      "Epoch 94/200\n",
      "88/88 - 0s - loss: 0.5951 - acc: 0.7528 - mae: 0.1013 - 66ms/epoch - 748us/step\n",
      "Epoch 95/200\n",
      "88/88 - 0s - loss: 0.5892 - acc: 0.7578 - mae: 0.1000 - 66ms/epoch - 748us/step\n",
      "Epoch 96/200\n",
      "88/88 - 0s - loss: 0.5985 - acc: 0.7498 - mae: 0.1004 - 60ms/epoch - 680us/step\n",
      "Epoch 97/200\n",
      "88/88 - 0s - loss: 0.6010 - acc: 0.7585 - mae: 0.1012 - 60ms/epoch - 680us/step\n",
      "Epoch 98/200\n",
      "88/88 - 0s - loss: 0.5889 - acc: 0.7576 - mae: 0.0997 - 66ms/epoch - 748us/step\n",
      "Epoch 99/200\n",
      "88/88 - 0s - loss: 0.5973 - acc: 0.7521 - mae: 0.1005 - 69ms/epoch - 782us/step\n",
      "Epoch 100/200\n",
      "88/88 - 0s - loss: 0.5924 - acc: 0.7551 - mae: 0.0997 - 67ms/epoch - 759us/step\n",
      "Epoch 101/200\n",
      "88/88 - 0s - loss: 0.5942 - acc: 0.7537 - mae: 0.0999 - 69ms/epoch - 782us/step\n",
      "Epoch 102/200\n",
      "88/88 - 0s - loss: 0.5888 - acc: 0.7610 - mae: 0.0990 - 68ms/epoch - 771us/step\n",
      "Epoch 103/200\n",
      "88/88 - 0s - loss: 0.5977 - acc: 0.7485 - mae: 0.1001 - 69ms/epoch - 782us/step\n",
      "Epoch 104/200\n",
      "88/88 - 0s - loss: 0.5885 - acc: 0.7521 - mae: 0.0992 - 64ms/epoch - 725us/step\n",
      "Epoch 105/200\n",
      "88/88 - 0s - loss: 0.5846 - acc: 0.7605 - mae: 0.0985 - 61ms/epoch - 691us/step\n",
      "Epoch 106/200\n",
      "88/88 - 0s - loss: 0.5832 - acc: 0.7619 - mae: 0.0979 - 60ms/epoch - 680us/step\n",
      "Epoch 107/200\n",
      "88/88 - 0s - loss: 0.5830 - acc: 0.7660 - mae: 0.0976 - 59ms/epoch - 669us/step\n",
      "Epoch 108/200\n",
      "88/88 - 0s - loss: 0.5788 - acc: 0.7626 - mae: 0.0972 - 59ms/epoch - 669us/step\n",
      "Epoch 109/200\n",
      "88/88 - 0s - loss: 0.5796 - acc: 0.7642 - mae: 0.0979 - 59ms/epoch - 669us/step\n",
      "Epoch 110/200\n",
      "88/88 - 0s - loss: 0.5725 - acc: 0.7685 - mae: 0.0970 - 60ms/epoch - 680us/step\n",
      "Epoch 111/200\n",
      "88/88 - 0s - loss: 0.5738 - acc: 0.7680 - mae: 0.0969 - 66ms/epoch - 748us/step\n",
      "Epoch 112/200\n",
      "88/88 - 0s - loss: 0.5768 - acc: 0.7637 - mae: 0.0975 - 67ms/epoch - 759us/step\n",
      "Epoch 113/200\n",
      "88/88 - 0s - loss: 0.5767 - acc: 0.7628 - mae: 0.0969 - 66ms/epoch - 748us/step\n",
      "Epoch 114/200\n",
      "88/88 - 0s - loss: 0.5729 - acc: 0.7696 - mae: 0.0967 - 68ms/epoch - 771us/step\n",
      "Epoch 115/200\n",
      "88/88 - 0s - loss: 0.5727 - acc: 0.7644 - mae: 0.0963 - 66ms/epoch - 748us/step\n",
      "Epoch 116/200\n",
      "88/88 - 0s - loss: 0.5708 - acc: 0.7639 - mae: 0.0967 - 68ms/epoch - 771us/step\n",
      "Epoch 117/200\n",
      "88/88 - 0s - loss: 0.5701 - acc: 0.7651 - mae: 0.0962 - 66ms/epoch - 748us/step\n",
      "Epoch 118/200\n",
      "88/88 - 0s - loss: 0.5746 - acc: 0.7617 - mae: 0.0961 - 67ms/epoch - 759us/step\n",
      "Epoch 119/200\n",
      "88/88 - 0s - loss: 0.5512 - acc: 0.7794 - mae: 0.0940 - 66ms/epoch - 748us/step\n",
      "Epoch 120/200\n",
      "88/88 - 0s - loss: 0.5542 - acc: 0.7767 - mae: 0.0941 - 66ms/epoch - 748us/step\n",
      "Epoch 121/200\n",
      "88/88 - 0s - loss: 0.5682 - acc: 0.7687 - mae: 0.0959 - 66ms/epoch - 748us/step\n",
      "Epoch 122/200\n",
      "88/88 - 0s - loss: 0.5613 - acc: 0.7705 - mae: 0.0946 - 69ms/epoch - 782us/step\n",
      "Epoch 123/200\n",
      "88/88 - 0s - loss: 0.5604 - acc: 0.7708 - mae: 0.0943 - 62ms/epoch - 703us/step\n",
      "Epoch 124/200\n",
      "88/88 - 0s - loss: 0.5501 - acc: 0.7764 - mae: 0.0932 - 62ms/epoch - 703us/step\n",
      "Epoch 125/200\n",
      "88/88 - 0s - loss: 0.5495 - acc: 0.7839 - mae: 0.0933 - 60ms/epoch - 680us/step\n",
      "Epoch 126/200\n",
      "88/88 - 0s - loss: 0.5675 - acc: 0.7678 - mae: 0.0945 - 59ms/epoch - 669us/step\n",
      "Epoch 127/200\n",
      "88/88 - 0s - loss: 0.5582 - acc: 0.7717 - mae: 0.0942 - 58ms/epoch - 657us/step\n",
      "Epoch 128/200\n",
      "88/88 - 0s - loss: 0.5580 - acc: 0.7705 - mae: 0.0940 - 59ms/epoch - 669us/step\n",
      "Epoch 129/200\n",
      "88/88 - 0s - loss: 0.5496 - acc: 0.7794 - mae: 0.0924 - 59ms/epoch - 669us/step\n",
      "Epoch 130/200\n",
      "88/88 - 0s - loss: 0.5394 - acc: 0.7842 - mae: 0.0920 - 67ms/epoch - 759us/step\n",
      "Epoch 131/200\n",
      "88/88 - 0s - loss: 0.5494 - acc: 0.7792 - mae: 0.0929 - 68ms/epoch - 771us/step\n",
      "Epoch 132/200\n",
      "88/88 - 0s - loss: 0.5445 - acc: 0.7771 - mae: 0.0922 - 69ms/epoch - 782us/step\n",
      "Epoch 133/200\n",
      "88/88 - 0s - loss: 0.5485 - acc: 0.7808 - mae: 0.0920 - 67ms/epoch - 759us/step\n",
      "Epoch 134/200\n",
      "88/88 - 0s - loss: 0.5365 - acc: 0.7837 - mae: 0.0912 - 69ms/epoch - 782us/step\n",
      "Epoch 135/200\n",
      "88/88 - 0s - loss: 0.5406 - acc: 0.7839 - mae: 0.0910 - 66ms/epoch - 748us/step\n",
      "Epoch 136/200\n",
      "88/88 - 0s - loss: 0.5602 - acc: 0.7735 - mae: 0.0932 - 66ms/epoch - 748us/step\n",
      "Epoch 137/200\n",
      "88/88 - 0s - loss: 0.5424 - acc: 0.7785 - mae: 0.0921 - 63ms/epoch - 714us/step\n",
      "Epoch 138/200\n",
      "88/88 - 0s - loss: 0.5311 - acc: 0.7869 - mae: 0.0906 - 60ms/epoch - 680us/step\n",
      "Epoch 139/200\n",
      "88/88 - 0s - loss: 0.5336 - acc: 0.7869 - mae: 0.0898 - 61ms/epoch - 691us/step\n",
      "Epoch 140/200\n",
      "88/88 - 0s - loss: 0.5309 - acc: 0.7862 - mae: 0.0905 - 59ms/epoch - 669us/step\n",
      "Epoch 141/200\n",
      "88/88 - 0s - loss: 0.5356 - acc: 0.7819 - mae: 0.0904 - 60ms/epoch - 680us/step\n",
      "Epoch 142/200\n",
      "88/88 - 0s - loss: 0.5268 - acc: 0.7867 - mae: 0.0892 - 59ms/epoch - 669us/step\n",
      "Epoch 143/200\n",
      "88/88 - 0s - loss: 0.5329 - acc: 0.7926 - mae: 0.0898 - 57ms/epoch - 646us/step\n",
      "Epoch 144/200\n",
      "88/88 - 0s - loss: 0.5277 - acc: 0.7887 - mae: 0.0896 - 58ms/epoch - 657us/step\n",
      "Epoch 145/200\n",
      "88/88 - 0s - loss: 0.5230 - acc: 0.7951 - mae: 0.0887 - 58ms/epoch - 657us/step\n",
      "Epoch 146/200\n",
      "88/88 - 0s - loss: 0.5302 - acc: 0.7880 - mae: 0.0898 - 58ms/epoch - 657us/step\n",
      "Epoch 147/200\n",
      "88/88 - 0s - loss: 0.5367 - acc: 0.7849 - mae: 0.0901 - 58ms/epoch - 657us/step\n",
      "Epoch 148/200\n",
      "88/88 - 0s - loss: 0.5203 - acc: 0.7935 - mae: 0.0880 - 59ms/epoch - 669us/step\n",
      "Epoch 149/200\n",
      "88/88 - 0s - loss: 0.5173 - acc: 0.7928 - mae: 0.0881 - 60ms/epoch - 680us/step\n",
      "Epoch 150/200\n",
      "88/88 - 0s - loss: 0.5165 - acc: 0.7926 - mae: 0.0877 - 60ms/epoch - 680us/step\n",
      "Epoch 151/200\n",
      "88/88 - 0s - loss: 0.5199 - acc: 0.7864 - mae: 0.0881 - 59ms/epoch - 669us/step\n",
      "Epoch 152/200\n",
      "88/88 - 0s - loss: 0.5071 - acc: 0.8028 - mae: 0.0865 - 59ms/epoch - 669us/step\n",
      "Epoch 153/200\n",
      "88/88 - 0s - loss: 0.5129 - acc: 0.7924 - mae: 0.0872 - 61ms/epoch - 691us/step\n",
      "Epoch 154/200\n",
      "88/88 - 0s - loss: 0.5211 - acc: 0.7885 - mae: 0.0873 - 70ms/epoch - 793us/step\n",
      "Epoch 155/200\n",
      "88/88 - 0s - loss: 0.5229 - acc: 0.7926 - mae: 0.0881 - 62ms/epoch - 703us/step\n",
      "Epoch 156/200\n",
      "88/88 - 0s - loss: 0.5096 - acc: 0.7942 - mae: 0.0868 - 60ms/epoch - 680us/step\n",
      "Epoch 157/200\n",
      "88/88 - 0s - loss: 0.5098 - acc: 0.7987 - mae: 0.0869 - 59ms/epoch - 669us/step\n",
      "Epoch 158/200\n",
      "88/88 - 0s - loss: 0.5091 - acc: 0.7994 - mae: 0.0865 - 62ms/epoch - 703us/step\n",
      "Epoch 159/200\n",
      "88/88 - 0s - loss: 0.4996 - acc: 0.7960 - mae: 0.0856 - 67ms/epoch - 759us/step\n",
      "Epoch 160/200\n",
      "88/88 - 0s - loss: 0.5003 - acc: 0.8019 - mae: 0.0853 - 66ms/epoch - 748us/step\n",
      "Epoch 161/200\n",
      "88/88 - 0s - loss: 0.5067 - acc: 0.7953 - mae: 0.0856 - 65ms/epoch - 737us/step\n",
      "Epoch 162/200\n",
      "88/88 - 0s - loss: 0.5096 - acc: 0.7921 - mae: 0.0863 - 67ms/epoch - 759us/step\n",
      "Epoch 163/200\n",
      "88/88 - 0s - loss: 0.5015 - acc: 0.7978 - mae: 0.0855 - 67ms/epoch - 759us/step\n",
      "Epoch 164/200\n",
      "88/88 - 0s - loss: 0.4968 - acc: 0.8001 - mae: 0.0840 - 65ms/epoch - 737us/step\n",
      "Epoch 165/200\n",
      "88/88 - 0s - loss: 0.5129 - acc: 0.7892 - mae: 0.0865 - 65ms/epoch - 737us/step\n",
      "Epoch 166/200\n",
      "88/88 - 0s - loss: 0.4861 - acc: 0.8103 - mae: 0.0829 - 65ms/epoch - 744us/step\n",
      "Epoch 167/200\n",
      "88/88 - 0s - loss: 0.4875 - acc: 0.8055 - mae: 0.0835 - 67ms/epoch - 759us/step\n",
      "Epoch 168/200\n",
      "88/88 - 0s - loss: 0.5006 - acc: 0.8012 - mae: 0.0841 - 63ms/epoch - 714us/step\n",
      "Epoch 169/200\n",
      "88/88 - 0s - loss: 0.4931 - acc: 0.8035 - mae: 0.0842 - 65ms/epoch - 737us/step\n",
      "Epoch 170/200\n",
      "88/88 - 0s - loss: 0.4932 - acc: 0.7994 - mae: 0.0840 - 66ms/epoch - 748us/step\n",
      "Epoch 171/200\n",
      "88/88 - 0s - loss: 0.4823 - acc: 0.8067 - mae: 0.0825 - 68ms/epoch - 777us/step\n",
      "Epoch 172/200\n",
      "88/88 - 0s - loss: 0.4885 - acc: 0.8099 - mae: 0.0828 - 66ms/epoch - 748us/step\n",
      "Epoch 173/200\n",
      "88/88 - 0s - loss: 0.4943 - acc: 0.8008 - mae: 0.0833 - 61ms/epoch - 691us/step\n",
      "Epoch 174/200\n",
      "88/88 - 0s - loss: 0.4970 - acc: 0.8010 - mae: 0.0839 - 61ms/epoch - 691us/step\n",
      "Epoch 175/200\n",
      "88/88 - 0s - loss: 0.4818 - acc: 0.8117 - mae: 0.0826 - 65ms/epoch - 737us/step\n",
      "Epoch 176/200\n",
      "88/88 - 0s - loss: 0.4808 - acc: 0.8067 - mae: 0.0822 - 60ms/epoch - 680us/step\n",
      "Epoch 177/200\n",
      "88/88 - 0s - loss: 0.4807 - acc: 0.8115 - mae: 0.0817 - 61ms/epoch - 692us/step\n"
     ]
    },
    {
     "name": "stdout",
     "output_type": "stream",
     "text": [
      "Epoch 178/200\n",
      "88/88 - 0s - loss: 0.4941 - acc: 0.7992 - mae: 0.0838 - 59ms/epoch - 667us/step\n",
      "Epoch 179/200\n",
      "88/88 - 0s - loss: 0.4734 - acc: 0.8119 - mae: 0.0810 - 60ms/epoch - 680us/step\n",
      "Epoch 180/200\n",
      "88/88 - 0s - loss: 0.4840 - acc: 0.8094 - mae: 0.0814 - 59ms/epoch - 669us/step\n",
      "Epoch 181/200\n",
      "88/88 - 0s - loss: 0.4927 - acc: 0.7999 - mae: 0.0828 - 59ms/epoch - 669us/step\n",
      "Epoch 182/200\n",
      "88/88 - 0s - loss: 0.4950 - acc: 0.7990 - mae: 0.0834 - 59ms/epoch - 669us/step\n",
      "Epoch 183/200\n",
      "88/88 - 0s - loss: 0.4607 - acc: 0.8219 - mae: 0.0793 - 59ms/epoch - 669us/step\n",
      "Epoch 184/200\n",
      "88/88 - 0s - loss: 0.4665 - acc: 0.8174 - mae: 0.0802 - 64ms/epoch - 725us/step\n",
      "Epoch 185/200\n",
      "88/88 - 0s - loss: 0.4730 - acc: 0.8126 - mae: 0.0806 - 63ms/epoch - 714us/step\n",
      "Epoch 186/200\n",
      "88/88 - 0s - loss: 0.4609 - acc: 0.8210 - mae: 0.0788 - 63ms/epoch - 714us/step\n",
      "Epoch 187/200\n",
      "88/88 - 0s - loss: 0.4687 - acc: 0.8126 - mae: 0.0797 - 64ms/epoch - 725us/step\n",
      "Epoch 188/200\n",
      "88/88 - 0s - loss: 0.4653 - acc: 0.8174 - mae: 0.0796 - 64ms/epoch - 725us/step\n",
      "Epoch 189/200\n",
      "88/88 - 0s - loss: 0.4688 - acc: 0.8146 - mae: 0.0802 - 63ms/epoch - 714us/step\n",
      "Epoch 190/200\n",
      "88/88 - 0s - loss: 0.4651 - acc: 0.8185 - mae: 0.0788 - 63ms/epoch - 714us/step\n",
      "Epoch 191/200\n",
      "88/88 - 0s - loss: 0.4811 - acc: 0.8071 - mae: 0.0809 - 64ms/epoch - 725us/step\n",
      "Epoch 192/200\n",
      "88/88 - 0s - loss: 0.4780 - acc: 0.8087 - mae: 0.0802 - 64ms/epoch - 725us/step\n",
      "Epoch 193/200\n",
      "88/88 - 0s - loss: 0.4661 - acc: 0.8165 - mae: 0.0792 - 61ms/epoch - 691us/step\n",
      "Epoch 194/200\n",
      "88/88 - 0s - loss: 0.4622 - acc: 0.8194 - mae: 0.0785 - 61ms/epoch - 691us/step\n",
      "Epoch 195/200\n",
      "88/88 - 0s - loss: 0.4564 - acc: 0.8167 - mae: 0.0779 - 64ms/epoch - 725us/step\n",
      "Epoch 196/200\n",
      "88/88 - 0s - loss: 0.4685 - acc: 0.8133 - mae: 0.0792 - 66ms/epoch - 748us/step\n",
      "Epoch 197/200\n",
      "88/88 - 0s - loss: 0.4740 - acc: 0.8078 - mae: 0.0800 - 67ms/epoch - 759us/step\n",
      "Epoch 198/200\n",
      "88/88 - 0s - loss: 0.4678 - acc: 0.8131 - mae: 0.0791 - 66ms/epoch - 748us/step\n",
      "Epoch 199/200\n",
      "88/88 - 0s - loss: 0.4510 - acc: 0.8226 - mae: 0.0768 - 64ms/epoch - 725us/step\n",
      "Epoch 200/200\n",
      "88/88 - 0s - loss: 0.4535 - acc: 0.8224 - mae: 0.0774 - 63ms/epoch - 714us/step\n"
     ]
    },
    {
     "data": {
      "text/plain": [
       "<keras.callbacks.History at 0x1e7143d4888>"
      ]
     },
     "execution_count": 50,
     "metadata": {},
     "output_type": "execute_result"
    }
   ],
   "source": [
    "history = model.fit(X_train, y_train, epochs=200, batch_size=50, verbose=2)\n",
    "history"
   ]
  },
  {
   "cell_type": "code",
   "execution_count": 51,
   "metadata": {},
   "outputs": [],
   "source": [
    "## 401 epoch를 학습시킨 후, (트레인 데이터의 학습결과)\n",
    "## loss: 0.4535 - acc: 0.8224 - mae: 0.0774"
   ]
  },
  {
   "cell_type": "code",
   "execution_count": 52,
   "metadata": {},
   "outputs": [
    {
     "name": "stdout",
     "output_type": "stream",
     "text": [
      "35/35 [==============================] - 0s 587us/step - loss: 1.4374 - acc: 0.5845 - mae: 0.1341\n"
     ]
    },
    {
     "data": {
      "text/plain": [
       "[1.437376618385315, 0.5845454335212708, 0.13413578271865845]"
      ]
     },
     "execution_count": 52,
     "metadata": {},
     "output_type": "execute_result"
    }
   ],
   "source": [
    "## 테스트 데이터의 학습 결과를 비교\n",
    "## acc: train < test\n",
    "test_result = model.evaluate(X_test, y_test)\n",
    "test_result"
   ]
  },
  {
   "cell_type": "code",
   "execution_count": 53,
   "metadata": {},
   "outputs": [],
   "source": [
    "## overfitting 되었음\n",
    "## loss(적을수록 좋다) train < test\n",
    "## acc(클 수록 좋다) #train > test\n",
    "## mae(적을수록 좋다) traom > test"
   ]
  },
  {
   "cell_type": "code",
   "execution_count": 54,
   "metadata": {},
   "outputs": [
    {
     "data": {
      "text/plain": [
       "array([6.5197361e-11, 1.0612422e-06, 7.3335890e-04, 1.3195666e-02,\n",
       "       9.7809500e-01, 7.9628667e-03, 1.2090911e-05], dtype=float32)"
      ]
     },
     "execution_count": 54,
     "metadata": {},
     "output_type": "execute_result"
    }
   ],
   "source": [
    "# 다중분류에서는 predictㄹ, 할 때 각 항목이 될 가능성읗 계산해준다.\n",
    "y_pred= model.predict(X_test)\n",
    "y_pred[0]"
   ]
  },
  {
   "cell_type": "code",
   "execution_count": 55,
   "metadata": {},
   "outputs": [
    {
     "data": {
      "text/plain": [
       "7"
      ]
     },
     "execution_count": 55,
     "metadata": {},
     "output_type": "execute_result"
    }
   ],
   "source": [
    "y_pred0_index = np.argmax(y_pred[0]) \n",
    "y_pred0_index + 3"
   ]
  },
  {
   "cell_type": "code",
   "execution_count": 56,
   "metadata": {},
   "outputs": [
    {
     "data": {
      "text/plain": [
       "array([1., 0.], dtype=float32)"
      ]
     },
     "execution_count": 56,
     "metadata": {},
     "output_type": "execute_result"
    }
   ],
   "source": [
    "y_test[0][5:]"
   ]
  },
  {
   "cell_type": "code",
   "execution_count": 57,
   "metadata": {},
   "outputs": [
    {
     "data": {
      "text/plain": [
       "1100"
      ]
     },
     "execution_count": 57,
     "metadata": {},
     "output_type": "execute_result"
    }
   ],
   "source": [
    "len(y_pred)"
   ]
  },
  {
   "cell_type": "code",
   "execution_count": 58,
   "metadata": {},
   "outputs": [
    {
     "data": {
      "text/plain": [
       "(1100, 7)"
      ]
     },
     "execution_count": 58,
     "metadata": {},
     "output_type": "execute_result"
    }
   ],
   "source": [
    "y_pred.shape"
   ]
  },
  {
   "cell_type": "code",
   "execution_count": 59,
   "metadata": {},
   "outputs": [
    {
     "data": {
      "text/plain": [
       "array([7, 6, 5, ..., 6, 7, 7], dtype=int64)"
      ]
     },
     "execution_count": 59,
     "metadata": {},
     "output_type": "execute_result"
    }
   ],
   "source": [
    "y_pred_test = np.argmax(y_pred, axis= -1) + 3\n",
    "y_pred_test"
   ]
  },
  {
   "cell_type": "code",
   "execution_count": 60,
   "metadata": {},
   "outputs": [
    {
     "name": "stdout",
     "output_type": "stream",
     "text": [
      "1.0\n",
      "[[  4   0   0   0   0   0]\n",
      " [  0  26   0   0   0   0]\n",
      " [  0   0 381   0   0   0]\n",
      " [  0   0   0 479   0   0]\n",
      " [  0   0   0   0 181   0]\n",
      " [  0   0   0   0   0  29]]\n"
     ]
    }
   ],
   "source": [
    "from sklearn.metrics import accuracy_score, precision_score, recall_score, confusion_matrix\n",
    "\n",
    "print(accuracy_score(y_pred_test, y_pred_test))\n",
    "print(confusion_matrix(y_pred_test, y_pred_test))"
   ]
  },
  {
   "cell_type": "markdown",
   "metadata": {},
   "source": [
    "## 시각화"
   ]
  },
  {
   "cell_type": "code",
   "execution_count": 61,
   "metadata": {},
   "outputs": [],
   "source": [
    "import matplotlib.pyplot as plt"
   ]
  },
  {
   "cell_type": "code",
   "execution_count": 62,
   "metadata": {},
   "outputs": [
    {
     "data": {
      "image/png": "[encoded data removed]",
      "text/plain": [
       "<Figure size 432x288 with 1 Axes>"
      ]
     },
     "metadata": {
      "needs_background": "light"
     },
     "output_type": "display_data"
    }
   ],
   "source": [
    "plt.plot(history.history['mae'])\n",
    "plt.plot(history.history['loss'])\n",
    "plt.plot(history.history['acc'])\n",
    "plt.legend(['mae', 'loss', 'acc'])\n",
    "plt.grid()\n",
    "plt.show()"
   ]
  },
  {
   "cell_type": "code",
   "execution_count": null,
   "metadata": {},
   "outputs": [],
   "source": []
  }
 ],
 "metadata": {
  "kernelspec": {
   "display_name": "Python 3",
   "language": "python",
   "name": "python3"
  },
  "language_info": {
   "codemirror_mode": {
    "name": "ipython",
    "version": 3
   },
   "file_extension": ".py",
   "mimetype": "text/x-python",
   "name": "python",
   "nbconvert_exporter": "python",
   "pygments_lexer": "ipython3",
   "version": "3.7.4"
  }
 },
 "nbformat": 4,
 "nbformat_minor": 2
}
