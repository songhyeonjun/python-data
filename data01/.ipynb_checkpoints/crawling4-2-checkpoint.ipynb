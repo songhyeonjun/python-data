{
 "cells": [
  {
   "cell_type": "code",
   "execution_count": 5,
   "metadata": {},
   "outputs": [],
   "source": [
    "from urllib import request"
   ]
  },
  {
   "cell_type": "code",
   "execution_count": 6,
   "metadata": {},
   "outputs": [],
   "source": [
    "from bs4 import BeautifulSoup"
   ]
  },
  {
   "cell_type": "code",
   "execution_count": 7,
   "metadata": {},
   "outputs": [],
   "source": [
    "import pandas as pd"
   ]
  },
  {
   "cell_type": "code",
   "execution_count": 22,
   "metadata": {},
   "outputs": [],
   "source": [
    "class Doc:\n",
    "    con = None\n",
    "    doc = None\n",
    "    img_list = []\n",
    "    title_list = []\n",
    "    author_list = []\n",
    "    rating_list = []\n",
    "    def con_doc(self):\n",
    "        self.con = request.urlopen('https://novel.naver.com/best/ranking?genre=101&periodType=DAILY')\n",
    "        self.con.status #status code\n",
    "        self.doc = BeautifulSoup(self.con, 'html.parser')\n",
    "    def crawl_img(self):\n",
    "        img_crawl = self.doc.select('#content > div > div.ranking_lst > div.ranking_wrap_right > ul > li > a > div.pic > img')\n",
    "    #     print(img_crawl)\n",
    "        for crawl in img_crawl:\n",
    "            self.img_list.append(crawl.get(\"src\"))\n",
    "    def crawl_title(self):\n",
    "        title_crawl = self.doc.select('#content > div > div.ranking_lst > div.ranking_wrap_right > ul > li > a > div > p > span.tit')\n",
    "        for title in title_crawl:\n",
    "            self.title_list.append(title.text.replace(',',''))\n",
    "    def crawl_author(self):\n",
    "        author_crawl = self.doc.select('#content > div > div.ranking_lst > div.ranking_wrap_right > ul > li > a > div > p.sub_info > span.author')\n",
    "        for author in author_crawl:\n",
    "            self.author_list.append(author.text.replace(',',''))\n",
    "    def crawl_rating(self):\n",
    "        rating_lists=[]\n",
    "        rating_crawl = self.doc.select('#content > div > div.ranking_lst > div.ranking_wrap_right > ul > li > a > div > p.rating > span.score_area')\n",
    "        for ratings in rating_crawl:\n",
    "            rating_lists.append(ratings.text)\n",
    "        for s in rating_lists:\n",
    "            self.rating_list.append(s[2:])\n",
    "    def write_column(self):\n",
    "        webtoon_file = open('webtoon.csv', 'w', encoding='utf8')\n",
    "        webtoon_file.write('title' + ',' +\n",
    "                         'author' + ',' +\n",
    "                         'img'+','+'rating' +'\\n')\n",
    "        webtoon_file.close()\n",
    "\n",
    "    def write_data(self):\n",
    "        webtoon_file = open('webtoon.csv', 'a', encoding='utf8')\n",
    "        for i in range(len(self.rating_list)):\n",
    "            webtoon_file.write(self.title_list[i] + ',' + self.author_list[i] + ',' + self.img_list[i]+','+self.rating_list[i]+'\\n')\n",
    "        webtoon_file.close()\n",
    "    def read_data(self):\n",
    "        webtoonlist = pd.read_csv('webtoon.csv', encoding='utf8')\n",
    "        return webtoonlist"
   ]
  },
  {
   "cell_type": "code",
   "execution_count": 23,
   "metadata": {},
   "outputs": [
    {
     "ename": "NameError",
     "evalue": "name 'doc' is not defined",
     "output_type": "error",
     "traceback": [
      "\u001b[1;31m---------------------------------------------------------------------------\u001b[0m",
      "\u001b[1;31mNameError\u001b[0m                                 Traceback (most recent call last)",
      "\u001b[1;32m<ipython-input-23-6bde25d8650a>\u001b[0m in \u001b[0;36m<module>\u001b[1;34m\u001b[0m\n\u001b[0;32m      1\u001b[0m \u001b[0mdoc1\u001b[0m \u001b[1;33m=\u001b[0m \u001b[0mDoc\u001b[0m\u001b[1;33m(\u001b[0m\u001b[1;33m)\u001b[0m\u001b[1;33m\u001b[0m\u001b[1;33m\u001b[0m\u001b[0m\n\u001b[0;32m      2\u001b[0m \u001b[0mdoc1\u001b[0m\u001b[1;33m.\u001b[0m\u001b[0mcon_doc\u001b[0m\u001b[1;33m(\u001b[0m\u001b[1;33m)\u001b[0m\u001b[1;33m\u001b[0m\u001b[1;33m\u001b[0m\u001b[0m\n\u001b[1;32m----> 3\u001b[1;33m \u001b[0mdoc1\u001b[0m\u001b[1;33m.\u001b[0m\u001b[0mcrawl_img\u001b[0m\u001b[1;33m(\u001b[0m\u001b[1;33m)\u001b[0m\u001b[1;33m\u001b[0m\u001b[1;33m\u001b[0m\u001b[0m\n\u001b[0m\u001b[0;32m      4\u001b[0m \u001b[0mdoc1\u001b[0m\u001b[1;33m.\u001b[0m\u001b[0mcrawl_rating\u001b[0m\u001b[1;33m(\u001b[0m\u001b[1;33m)\u001b[0m\u001b[1;33m\u001b[0m\u001b[1;33m\u001b[0m\u001b[0m\n\u001b[0;32m      5\u001b[0m \u001b[0mdoc1\u001b[0m\u001b[1;33m.\u001b[0m\u001b[0mcrawl_title\u001b[0m\u001b[1;33m(\u001b[0m\u001b[1;33m)\u001b[0m\u001b[1;33m\u001b[0m\u001b[1;33m\u001b[0m\u001b[0m\n",
      "\u001b[1;32m<ipython-input-22-5b1ae440cd9c>\u001b[0m in \u001b[0;36mcrawl_img\u001b[1;34m(self)\u001b[0m\n\u001b[0;32m     11\u001b[0m         \u001b[0mself\u001b[0m\u001b[1;33m.\u001b[0m\u001b[0mdoc\u001b[0m \u001b[1;33m=\u001b[0m \u001b[0mBeautifulSoup\u001b[0m\u001b[1;33m(\u001b[0m\u001b[0mself\u001b[0m\u001b[1;33m.\u001b[0m\u001b[0mcon\u001b[0m\u001b[1;33m,\u001b[0m \u001b[1;34m'html.parser'\u001b[0m\u001b[1;33m)\u001b[0m\u001b[1;33m\u001b[0m\u001b[1;33m\u001b[0m\u001b[0m\n\u001b[0;32m     12\u001b[0m     \u001b[1;32mdef\u001b[0m \u001b[0mcrawl_img\u001b[0m\u001b[1;33m(\u001b[0m\u001b[0mself\u001b[0m\u001b[1;33m)\u001b[0m\u001b[1;33m:\u001b[0m\u001b[1;33m\u001b[0m\u001b[1;33m\u001b[0m\u001b[0m\n\u001b[1;32m---> 13\u001b[1;33m         \u001b[0mimg_crawl\u001b[0m \u001b[1;33m=\u001b[0m \u001b[0mdoc\u001b[0m\u001b[1;33m.\u001b[0m\u001b[0mselect\u001b[0m\u001b[1;33m(\u001b[0m\u001b[1;34m'#content > div > div.ranking_lst > div.ranking_wrap_right > ul > li > a > div.pic > img'\u001b[0m\u001b[1;33m)\u001b[0m\u001b[1;33m\u001b[0m\u001b[1;33m\u001b[0m\u001b[0m\n\u001b[0m\u001b[0;32m     14\u001b[0m     \u001b[1;31m#     print(img_crawl)\u001b[0m\u001b[1;33m\u001b[0m\u001b[1;33m\u001b[0m\u001b[1;33m\u001b[0m\u001b[0m\n\u001b[0;32m     15\u001b[0m         \u001b[1;32mfor\u001b[0m \u001b[0mcrawl\u001b[0m \u001b[1;32min\u001b[0m \u001b[0mimg_crawl\u001b[0m\u001b[1;33m:\u001b[0m\u001b[1;33m\u001b[0m\u001b[1;33m\u001b[0m\u001b[0m\n",
      "\u001b[1;31mNameError\u001b[0m: name 'doc' is not defined"
     ]
    }
   ],
   "source": [
    "doc1 = Doc()\n",
    "doc1.con_doc()\n",
    "doc1.crawl_img()\n",
    "doc1.crawl_rating()\n",
    "doc1.crawl_title()\n",
    "doc1.crawl_author()\n",
    "doc1.write_column()\n",
    "doc1.write_data()\n",
    "webtoonlist = doc1.read_data()\n",
    "webtoonlist"
   ]
  },
  {
   "cell_type": "code",
   "execution_count": null,
   "metadata": {},
   "outputs": [],
   "source": []
  }
 ],
 "metadata": {
  "kernelspec": {
   "display_name": "Python 3",
   "language": "python",
   "name": "python3"
  },
  "language_info": {
   "codemirror_mode": {
    "name": "ipython",
    "version": 3
   },
   "file_extension": ".py",
   "mimetype": "text/x-python",
   "name": "python",
   "nbconvert_exporter": "python",
   "pygments_lexer": "ipython3",
   "version": "3.7.4"
  }
 },
 "nbformat": 4,
 "nbformat_minor": 2
}
