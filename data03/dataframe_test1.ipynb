{
 "cells": [
  {
   "cell_type": "code",
   "execution_count": 99,
   "metadata": {},
   "outputs": [],
   "source": [
    "import pandas as pd\n",
    "import numpy as np"
   ]
  },
  {
   "cell_type": "code",
   "execution_count": 100,
   "metadata": {},
   "outputs": [
    {
     "data": {
      "text/plain": [
       "DatetimeIndex(['2020-06-25', '2020-06-26', '2020-06-27', '2020-06-28',\n",
       "               '2020-06-29', '2020-06-30'],\n",
       "              dtype='datetime64[ns]', freq='D')"
      ]
     },
     "execution_count": 100,
     "metadata": {},
     "output_type": "execute_result"
    }
   ],
   "source": [
    "dates = pd.date_range('20200625', periods=6)\n",
    "dates"
   ]
  },
  {
   "cell_type": "code",
   "execution_count": 101,
   "metadata": {},
   "outputs": [],
   "source": [
    "df = pd.DataFrame(np.random.randn(6, 4), \n",
    "                  index=dates, \n",
    "                  columns=['A','B','C','D'])"
   ]
  },
  {
   "cell_type": "code",
   "execution_count": 102,
   "metadata": {},
   "outputs": [
    {
     "data": {
      "text/html": [
       "<div>\n",
       "<style scoped>\n",
       "    .dataframe tbody tr th:only-of-type {\n",
       "        vertical-align: middle;\n",
       "    }\n",
       "\n",
       "    .dataframe tbody tr th {\n",
       "        vertical-align: top;\n",
       "    }\n",
       "\n",
       "    .dataframe thead th {\n",
       "        text-align: right;\n",
       "    }\n",
       "</style>\n",
       "<table border=\"1\" class=\"dataframe\">\n",
       "  <thead>\n",
       "    <tr style=\"text-align: right;\">\n",
       "      <th></th>\n",
       "      <th>A</th>\n",
       "      <th>B</th>\n",
       "      <th>C</th>\n",
       "      <th>D</th>\n",
       "    </tr>\n",
       "  </thead>\n",
       "  <tbody>\n",
       "    <tr>\n",
       "      <td>2020-06-25</td>\n",
       "      <td>-1.192645</td>\n",
       "      <td>1.307525</td>\n",
       "      <td>-0.084312</td>\n",
       "      <td>-0.290315</td>\n",
       "    </tr>\n",
       "    <tr>\n",
       "      <td>2020-06-26</td>\n",
       "      <td>1.503037</td>\n",
       "      <td>-1.205906</td>\n",
       "      <td>-1.169684</td>\n",
       "      <td>-1.379510</td>\n",
       "    </tr>\n",
       "    <tr>\n",
       "      <td>2020-06-27</td>\n",
       "      <td>-0.721590</td>\n",
       "      <td>-0.591323</td>\n",
       "      <td>-2.285181</td>\n",
       "      <td>-1.210277</td>\n",
       "    </tr>\n",
       "    <tr>\n",
       "      <td>2020-06-28</td>\n",
       "      <td>-0.867334</td>\n",
       "      <td>0.236723</td>\n",
       "      <td>0.331853</td>\n",
       "      <td>0.492468</td>\n",
       "    </tr>\n",
       "    <tr>\n",
       "      <td>2020-06-29</td>\n",
       "      <td>-0.878442</td>\n",
       "      <td>0.090991</td>\n",
       "      <td>-1.114409</td>\n",
       "      <td>-0.233650</td>\n",
       "    </tr>\n",
       "    <tr>\n",
       "      <td>2020-06-30</td>\n",
       "      <td>0.733077</td>\n",
       "      <td>0.090834</td>\n",
       "      <td>2.283152</td>\n",
       "      <td>-1.540344</td>\n",
       "    </tr>\n",
       "  </tbody>\n",
       "</table>\n",
       "</div>"
      ],
      "text/plain": [
       "                   A         B         C         D\n",
       "2020-06-25 -1.192645  1.307525 -0.084312 -0.290315\n",
       "2020-06-26  1.503037 -1.205906 -1.169684 -1.379510\n",
       "2020-06-27 -0.721590 -0.591323 -2.285181 -1.210277\n",
       "2020-06-28 -0.867334  0.236723  0.331853  0.492468\n",
       "2020-06-29 -0.878442  0.090991 -1.114409 -0.233650\n",
       "2020-06-30  0.733077  0.090834  2.283152 -1.540344"
      ]
     },
     "execution_count": 102,
     "metadata": {},
     "output_type": "execute_result"
    }
   ],
   "source": [
    "df"
   ]
  },
  {
   "cell_type": "code",
   "execution_count": 103,
   "metadata": {},
   "outputs": [
    {
     "data": {
      "text/html": [
       "<div>\n",
       "<style scoped>\n",
       "    .dataframe tbody tr th:only-of-type {\n",
       "        vertical-align: middle;\n",
       "    }\n",
       "\n",
       "    .dataframe tbody tr th {\n",
       "        vertical-align: top;\n",
       "    }\n",
       "\n",
       "    .dataframe thead th {\n",
       "        text-align: right;\n",
       "    }\n",
       "</style>\n",
       "<table border=\"1\" class=\"dataframe\">\n",
       "  <thead>\n",
       "    <tr style=\"text-align: right;\">\n",
       "      <th></th>\n",
       "      <th>A</th>\n",
       "      <th>B</th>\n",
       "      <th>C</th>\n",
       "      <th>D</th>\n",
       "    </tr>\n",
       "  </thead>\n",
       "  <tbody>\n",
       "    <tr>\n",
       "      <td>2020-06-25</td>\n",
       "      <td>-1.192645</td>\n",
       "      <td>1.307525</td>\n",
       "      <td>-0.084312</td>\n",
       "      <td>-0.290315</td>\n",
       "    </tr>\n",
       "    <tr>\n",
       "      <td>2020-06-26</td>\n",
       "      <td>1.503037</td>\n",
       "      <td>-1.205906</td>\n",
       "      <td>-1.169684</td>\n",
       "      <td>-1.379510</td>\n",
       "    </tr>\n",
       "    <tr>\n",
       "      <td>2020-06-27</td>\n",
       "      <td>-0.721590</td>\n",
       "      <td>-0.591323</td>\n",
       "      <td>-2.285181</td>\n",
       "      <td>-1.210277</td>\n",
       "    </tr>\n",
       "    <tr>\n",
       "      <td>2020-06-28</td>\n",
       "      <td>-0.867334</td>\n",
       "      <td>0.236723</td>\n",
       "      <td>0.331853</td>\n",
       "      <td>0.492468</td>\n",
       "    </tr>\n",
       "    <tr>\n",
       "      <td>2020-06-29</td>\n",
       "      <td>-0.878442</td>\n",
       "      <td>0.090991</td>\n",
       "      <td>-1.114409</td>\n",
       "      <td>-0.233650</td>\n",
       "    </tr>\n",
       "    <tr>\n",
       "      <td>2020-06-30</td>\n",
       "      <td>0.733077</td>\n",
       "      <td>0.090834</td>\n",
       "      <td>2.283152</td>\n",
       "      <td>-1.540344</td>\n",
       "    </tr>\n",
       "  </tbody>\n",
       "</table>\n",
       "</div>"
      ],
      "text/plain": [
       "                   A         B         C         D\n",
       "2020-06-25 -1.192645  1.307525 -0.084312 -0.290315\n",
       "2020-06-26  1.503037 -1.205906 -1.169684 -1.379510\n",
       "2020-06-27 -0.721590 -0.591323 -2.285181 -1.210277\n",
       "2020-06-28 -0.867334  0.236723  0.331853  0.492468\n",
       "2020-06-29 -0.878442  0.090991 -1.114409 -0.233650\n",
       "2020-06-30  0.733077  0.090834  2.283152 -1.540344"
      ]
     },
     "execution_count": 103,
     "metadata": {},
     "output_type": "execute_result"
    }
   ],
   "source": [
    "df2 = df.copy()\n",
    "df2\n",
    "# df는 기본적으로 행, 열의 위치값을 가지고 있음\n",
    "# 기본적으로 가지고 있는 위치값(index)를 이용해서 조작하는 경우\n",
    "# iloc[]를 사용\n",
    "# 일부 그래프나. 분석시 특정 항목을 index항목으로 수동으로 설정해야 하는 경우가 있음\n",
    "# 특정항목을 index항목으로 설정 가능한 경우는 unique / not null인 값을 \n",
    "#$ 가지는 항목만 설정 가능\n",
    "# user_id, bbs_id\n"
   ]
  },
  {
   "cell_type": "code",
   "execution_count": 104,
   "metadata": {},
   "outputs": [],
   "source": [
    "df2.reset_index(inplace=True)"
   ]
  },
  {
   "cell_type": "code",
   "execution_count": 105,
   "metadata": {},
   "outputs": [
    {
     "data": {
      "text/html": [
       "<div>\n",
       "<style scoped>\n",
       "    .dataframe tbody tr th:only-of-type {\n",
       "        vertical-align: middle;\n",
       "    }\n",
       "\n",
       "    .dataframe tbody tr th {\n",
       "        vertical-align: top;\n",
       "    }\n",
       "\n",
       "    .dataframe thead th {\n",
       "        text-align: right;\n",
       "    }\n",
       "</style>\n",
       "<table border=\"1\" class=\"dataframe\">\n",
       "  <thead>\n",
       "    <tr style=\"text-align: right;\">\n",
       "      <th></th>\n",
       "      <th>index</th>\n",
       "      <th>A</th>\n",
       "      <th>B</th>\n",
       "      <th>C</th>\n",
       "      <th>D</th>\n",
       "    </tr>\n",
       "  </thead>\n",
       "  <tbody>\n",
       "    <tr>\n",
       "      <td>0</td>\n",
       "      <td>2020-06-25</td>\n",
       "      <td>-1.192645</td>\n",
       "      <td>1.307525</td>\n",
       "      <td>-0.084312</td>\n",
       "      <td>-0.290315</td>\n",
       "    </tr>\n",
       "    <tr>\n",
       "      <td>1</td>\n",
       "      <td>2020-06-26</td>\n",
       "      <td>1.503037</td>\n",
       "      <td>-1.205906</td>\n",
       "      <td>-1.169684</td>\n",
       "      <td>-1.379510</td>\n",
       "    </tr>\n",
       "    <tr>\n",
       "      <td>2</td>\n",
       "      <td>2020-06-27</td>\n",
       "      <td>-0.721590</td>\n",
       "      <td>-0.591323</td>\n",
       "      <td>-2.285181</td>\n",
       "      <td>-1.210277</td>\n",
       "    </tr>\n",
       "    <tr>\n",
       "      <td>3</td>\n",
       "      <td>2020-06-28</td>\n",
       "      <td>-0.867334</td>\n",
       "      <td>0.236723</td>\n",
       "      <td>0.331853</td>\n",
       "      <td>0.492468</td>\n",
       "    </tr>\n",
       "    <tr>\n",
       "      <td>4</td>\n",
       "      <td>2020-06-29</td>\n",
       "      <td>-0.878442</td>\n",
       "      <td>0.090991</td>\n",
       "      <td>-1.114409</td>\n",
       "      <td>-0.233650</td>\n",
       "    </tr>\n",
       "    <tr>\n",
       "      <td>5</td>\n",
       "      <td>2020-06-30</td>\n",
       "      <td>0.733077</td>\n",
       "      <td>0.090834</td>\n",
       "      <td>2.283152</td>\n",
       "      <td>-1.540344</td>\n",
       "    </tr>\n",
       "  </tbody>\n",
       "</table>\n",
       "</div>"
      ],
      "text/plain": [
       "       index         A         B         C         D\n",
       "0 2020-06-25 -1.192645  1.307525 -0.084312 -0.290315\n",
       "1 2020-06-26  1.503037 -1.205906 -1.169684 -1.379510\n",
       "2 2020-06-27 -0.721590 -0.591323 -2.285181 -1.210277\n",
       "3 2020-06-28 -0.867334  0.236723  0.331853  0.492468\n",
       "4 2020-06-29 -0.878442  0.090991 -1.114409 -0.233650\n",
       "5 2020-06-30  0.733077  0.090834  2.283152 -1.540344"
      ]
     },
     "execution_count": 105,
     "metadata": {},
     "output_type": "execute_result"
    }
   ],
   "source": [
    "df2"
   ]
  },
  {
   "cell_type": "code",
   "execution_count": 106,
   "metadata": {},
   "outputs": [
    {
     "data": {
      "text/html": [
       "<div>\n",
       "<style scoped>\n",
       "    .dataframe tbody tr th:only-of-type {\n",
       "        vertical-align: middle;\n",
       "    }\n",
       "\n",
       "    .dataframe tbody tr th {\n",
       "        vertical-align: top;\n",
       "    }\n",
       "\n",
       "    .dataframe thead th {\n",
       "        text-align: right;\n",
       "    }\n",
       "</style>\n",
       "<table border=\"1\" class=\"dataframe\">\n",
       "  <thead>\n",
       "    <tr style=\"text-align: right;\">\n",
       "      <th></th>\n",
       "      <th>A</th>\n",
       "      <th>B</th>\n",
       "      <th>C</th>\n",
       "      <th>D</th>\n",
       "    </tr>\n",
       "    <tr>\n",
       "      <th>index</th>\n",
       "      <th></th>\n",
       "      <th></th>\n",
       "      <th></th>\n",
       "      <th></th>\n",
       "    </tr>\n",
       "  </thead>\n",
       "  <tbody>\n",
       "    <tr>\n",
       "      <td>2020-06-25</td>\n",
       "      <td>-1.192645</td>\n",
       "      <td>1.307525</td>\n",
       "      <td>-0.084312</td>\n",
       "      <td>-0.290315</td>\n",
       "    </tr>\n",
       "    <tr>\n",
       "      <td>2020-06-26</td>\n",
       "      <td>1.503037</td>\n",
       "      <td>-1.205906</td>\n",
       "      <td>-1.169684</td>\n",
       "      <td>-1.379510</td>\n",
       "    </tr>\n",
       "    <tr>\n",
       "      <td>2020-06-27</td>\n",
       "      <td>-0.721590</td>\n",
       "      <td>-0.591323</td>\n",
       "      <td>-2.285181</td>\n",
       "      <td>-1.210277</td>\n",
       "    </tr>\n",
       "    <tr>\n",
       "      <td>2020-06-28</td>\n",
       "      <td>-0.867334</td>\n",
       "      <td>0.236723</td>\n",
       "      <td>0.331853</td>\n",
       "      <td>0.492468</td>\n",
       "    </tr>\n",
       "    <tr>\n",
       "      <td>2020-06-29</td>\n",
       "      <td>-0.878442</td>\n",
       "      <td>0.090991</td>\n",
       "      <td>-1.114409</td>\n",
       "      <td>-0.233650</td>\n",
       "    </tr>\n",
       "    <tr>\n",
       "      <td>2020-06-30</td>\n",
       "      <td>0.733077</td>\n",
       "      <td>0.090834</td>\n",
       "      <td>2.283152</td>\n",
       "      <td>-1.540344</td>\n",
       "    </tr>\n",
       "  </tbody>\n",
       "</table>\n",
       "</div>"
      ],
      "text/plain": [
       "                   A         B         C         D\n",
       "index                                             \n",
       "2020-06-25 -1.192645  1.307525 -0.084312 -0.290315\n",
       "2020-06-26  1.503037 -1.205906 -1.169684 -1.379510\n",
       "2020-06-27 -0.721590 -0.591323 -2.285181 -1.210277\n",
       "2020-06-28 -0.867334  0.236723  0.331853  0.492468\n",
       "2020-06-29 -0.878442  0.090991 -1.114409 -0.233650\n",
       "2020-06-30  0.733077  0.090834  2.283152 -1.540344"
      ]
     },
     "execution_count": 106,
     "metadata": {},
     "output_type": "execute_result"
    }
   ],
   "source": [
    "df2.set_index('index', inplace=True)\n",
    "df2"
   ]
  },
  {
   "cell_type": "code",
   "execution_count": 107,
   "metadata": {},
   "outputs": [],
   "source": [
    "df2['E'] = df2['A'] + 1 #브로드캐스팅!"
   ]
  },
  {
   "cell_type": "code",
   "execution_count": 108,
   "metadata": {},
   "outputs": [
    {
     "data": {
      "text/plain": [
       "Index(['A', 'B', 'C', 'D', 'E'], dtype='object')"
      ]
     },
     "execution_count": 108,
     "metadata": {},
     "output_type": "execute_result"
    }
   ],
   "source": [
    "df2.columns"
   ]
  },
  {
   "cell_type": "code",
   "execution_count": 109,
   "metadata": {},
   "outputs": [
    {
     "data": {
      "text/plain": [
       "index\n",
       "2020-06-25   -0.192645\n",
       "2020-06-26    2.503037\n",
       "2020-06-27    0.278410\n",
       "2020-06-28    0.132666\n",
       "2020-06-29    0.121558\n",
       "2020-06-30    1.733077\n",
       "Name: E, dtype: float64"
      ]
     },
     "execution_count": 109,
     "metadata": {},
     "output_type": "execute_result"
    }
   ],
   "source": [
    "df2['E']"
   ]
  },
  {
   "cell_type": "code",
   "execution_count": 110,
   "metadata": {},
   "outputs": [],
   "source": [
    "df2['F'] = 0"
   ]
  },
  {
   "cell_type": "code",
   "execution_count": 111,
   "metadata": {},
   "outputs": [
    {
     "data": {
      "text/plain": [
       "index\n",
       "2020-06-25    0\n",
       "2020-06-26    0\n",
       "2020-06-27    0\n",
       "2020-06-28    0\n",
       "2020-06-29    0\n",
       "2020-06-30    0\n",
       "Name: F, dtype: int64"
      ]
     },
     "execution_count": 111,
     "metadata": {},
     "output_type": "execute_result"
    }
   ],
   "source": [
    "df2['F']"
   ]
  },
  {
   "cell_type": "code",
   "execution_count": 112,
   "metadata": {},
   "outputs": [
    {
     "data": {
      "text/plain": [
       "index\n",
       "2020-06-25    0\n",
       "2020-06-26    1\n",
       "2020-06-27    2\n",
       "2020-06-28    3\n",
       "2020-06-29    4\n",
       "2020-06-30    5\n",
       "Name: G, dtype: int32"
      ]
     },
     "execution_count": 112,
     "metadata": {},
     "output_type": "execute_result"
    }
   ],
   "source": [
    "df2['G'] = range(0, 6)\n",
    "df2['G']"
   ]
  },
  {
   "cell_type": "code",
   "execution_count": 113,
   "metadata": {},
   "outputs": [],
   "source": [
    "# index를 변경하고 싶은 경우, 기존의 인덱스를 살리고 싶으면\n",
    "# 먼저 reset_index()하고 나서 해야함.\n",
    "# reset을 하지 않는 경우 기존 index항목은 사라짐.\n",
    "df2.set_index('G', inplace=True)"
   ]
  },
  {
   "cell_type": "code",
   "execution_count": 114,
   "metadata": {},
   "outputs": [
    {
     "data": {
      "text/html": [
       "<div>\n",
       "<style scoped>\n",
       "    .dataframe tbody tr th:only-of-type {\n",
       "        vertical-align: middle;\n",
       "    }\n",
       "\n",
       "    .dataframe tbody tr th {\n",
       "        vertical-align: top;\n",
       "    }\n",
       "\n",
       "    .dataframe thead th {\n",
       "        text-align: right;\n",
       "    }\n",
       "</style>\n",
       "<table border=\"1\" class=\"dataframe\">\n",
       "  <thead>\n",
       "    <tr style=\"text-align: right;\">\n",
       "      <th></th>\n",
       "      <th>A</th>\n",
       "      <th>B</th>\n",
       "      <th>C</th>\n",
       "      <th>D</th>\n",
       "      <th>E</th>\n",
       "      <th>F</th>\n",
       "    </tr>\n",
       "    <tr>\n",
       "      <th>G</th>\n",
       "      <th></th>\n",
       "      <th></th>\n",
       "      <th></th>\n",
       "      <th></th>\n",
       "      <th></th>\n",
       "      <th></th>\n",
       "    </tr>\n",
       "  </thead>\n",
       "  <tbody>\n",
       "    <tr>\n",
       "      <td>0</td>\n",
       "      <td>-1.192645</td>\n",
       "      <td>1.307525</td>\n",
       "      <td>-0.084312</td>\n",
       "      <td>-0.290315</td>\n",
       "      <td>-0.192645</td>\n",
       "      <td>0</td>\n",
       "    </tr>\n",
       "    <tr>\n",
       "      <td>1</td>\n",
       "      <td>1.503037</td>\n",
       "      <td>-1.205906</td>\n",
       "      <td>-1.169684</td>\n",
       "      <td>-1.379510</td>\n",
       "      <td>2.503037</td>\n",
       "      <td>0</td>\n",
       "    </tr>\n",
       "    <tr>\n",
       "      <td>2</td>\n",
       "      <td>-0.721590</td>\n",
       "      <td>-0.591323</td>\n",
       "      <td>-2.285181</td>\n",
       "      <td>-1.210277</td>\n",
       "      <td>0.278410</td>\n",
       "      <td>0</td>\n",
       "    </tr>\n",
       "    <tr>\n",
       "      <td>3</td>\n",
       "      <td>-0.867334</td>\n",
       "      <td>0.236723</td>\n",
       "      <td>0.331853</td>\n",
       "      <td>0.492468</td>\n",
       "      <td>0.132666</td>\n",
       "      <td>0</td>\n",
       "    </tr>\n",
       "    <tr>\n",
       "      <td>4</td>\n",
       "      <td>-0.878442</td>\n",
       "      <td>0.090991</td>\n",
       "      <td>-1.114409</td>\n",
       "      <td>-0.233650</td>\n",
       "      <td>0.121558</td>\n",
       "      <td>0</td>\n",
       "    </tr>\n",
       "    <tr>\n",
       "      <td>5</td>\n",
       "      <td>0.733077</td>\n",
       "      <td>0.090834</td>\n",
       "      <td>2.283152</td>\n",
       "      <td>-1.540344</td>\n",
       "      <td>1.733077</td>\n",
       "      <td>0</td>\n",
       "    </tr>\n",
       "  </tbody>\n",
       "</table>\n",
       "</div>"
      ],
      "text/plain": [
       "          A         B         C         D         E  F\n",
       "G                                                     \n",
       "0 -1.192645  1.307525 -0.084312 -0.290315 -0.192645  0\n",
       "1  1.503037 -1.205906 -1.169684 -1.379510  2.503037  0\n",
       "2 -0.721590 -0.591323 -2.285181 -1.210277  0.278410  0\n",
       "3 -0.867334  0.236723  0.331853  0.492468  0.132666  0\n",
       "4 -0.878442  0.090991 -1.114409 -0.233650  0.121558  0\n",
       "5  0.733077  0.090834  2.283152 -1.540344  1.733077  0"
      ]
     },
     "execution_count": 114,
     "metadata": {},
     "output_type": "execute_result"
    }
   ],
   "source": [
    "df2"
   ]
  },
  {
   "cell_type": "code",
   "execution_count": 115,
   "metadata": {},
   "outputs": [
    {
     "data": {
      "text/plain": [
       "Index(['A', 'B', 'C', 'D', 'E', 'F'], dtype='object')"
      ]
     },
     "execution_count": 115,
     "metadata": {},
     "output_type": "execute_result"
    }
   ],
   "source": [
    "df2.columns"
   ]
  },
  {
   "cell_type": "code",
   "execution_count": 116,
   "metadata": {},
   "outputs": [
    {
     "data": {
      "text/html": [
       "<div>\n",
       "<style scoped>\n",
       "    .dataframe tbody tr th:only-of-type {\n",
       "        vertical-align: middle;\n",
       "    }\n",
       "\n",
       "    .dataframe tbody tr th {\n",
       "        vertical-align: top;\n",
       "    }\n",
       "\n",
       "    .dataframe thead th {\n",
       "        text-align: right;\n",
       "    }\n",
       "</style>\n",
       "<table border=\"1\" class=\"dataframe\">\n",
       "  <thead>\n",
       "    <tr style=\"text-align: right;\">\n",
       "      <th></th>\n",
       "      <th>A</th>\n",
       "      <th>B</th>\n",
       "      <th>C</th>\n",
       "      <th>D</th>\n",
       "    </tr>\n",
       "  </thead>\n",
       "  <tbody>\n",
       "    <tr>\n",
       "      <td>2020-06-25</td>\n",
       "      <td>-1.192645</td>\n",
       "      <td>1.307525</td>\n",
       "      <td>-0.084312</td>\n",
       "      <td>-0.290315</td>\n",
       "    </tr>\n",
       "    <tr>\n",
       "      <td>2020-06-26</td>\n",
       "      <td>1.503037</td>\n",
       "      <td>-1.205906</td>\n",
       "      <td>-1.169684</td>\n",
       "      <td>-1.379510</td>\n",
       "    </tr>\n",
       "    <tr>\n",
       "      <td>2020-06-27</td>\n",
       "      <td>-0.721590</td>\n",
       "      <td>-0.591323</td>\n",
       "      <td>-2.285181</td>\n",
       "      <td>-1.210277</td>\n",
       "    </tr>\n",
       "    <tr>\n",
       "      <td>2020-06-28</td>\n",
       "      <td>-0.867334</td>\n",
       "      <td>0.236723</td>\n",
       "      <td>0.331853</td>\n",
       "      <td>0.492468</td>\n",
       "    </tr>\n",
       "    <tr>\n",
       "      <td>2020-06-29</td>\n",
       "      <td>-0.878442</td>\n",
       "      <td>0.090991</td>\n",
       "      <td>-1.114409</td>\n",
       "      <td>-0.233650</td>\n",
       "    </tr>\n",
       "    <tr>\n",
       "      <td>2020-06-30</td>\n",
       "      <td>0.733077</td>\n",
       "      <td>0.090834</td>\n",
       "      <td>2.283152</td>\n",
       "      <td>-1.540344</td>\n",
       "    </tr>\n",
       "  </tbody>\n",
       "</table>\n",
       "</div>"
      ],
      "text/plain": [
       "                   A         B         C         D\n",
       "2020-06-25 -1.192645  1.307525 -0.084312 -0.290315\n",
       "2020-06-26  1.503037 -1.205906 -1.169684 -1.379510\n",
       "2020-06-27 -0.721590 -0.591323 -2.285181 -1.210277\n",
       "2020-06-28 -0.867334  0.236723  0.331853  0.492468\n",
       "2020-06-29 -0.878442  0.090991 -1.114409 -0.233650\n",
       "2020-06-30  0.733077  0.090834  2.283152 -1.540344"
      ]
     },
     "execution_count": 116,
     "metadata": {},
     "output_type": "execute_result"
    }
   ],
   "source": [
    "df3 = df.copy()\n",
    "df3"
   ]
  },
  {
   "cell_type": "code",
   "execution_count": 117,
   "metadata": {},
   "outputs": [],
   "source": [
    "# E 항목을 파생변수로 만드세요 1~10범위 값\n",
    "# F 항목을 파생변수로 만드세요 A열과 C의 합\n",
    "# H 항목을 파생변수로 만드세여 1로 설정\n",
    "# Z 항목을 파생변수로 만드세요 1~9까지의 랜덤한 값으로 설정"
   ]
  },
  {
   "cell_type": "code",
   "execution_count": 118,
   "metadata": {},
   "outputs": [],
   "source": [
    "import random"
   ]
  },
  {
   "cell_type": "code",
   "execution_count": 119,
   "metadata": {},
   "outputs": [
    {
     "data": {
      "text/plain": [
       "2020-06-25     1\n",
       "2020-06-26     1\n",
       "2020-06-27    10\n",
       "2020-06-28     4\n",
       "2020-06-29     1\n",
       "2020-06-30     2\n",
       "Freq: D, Name: E, dtype: int64"
      ]
     },
     "execution_count": 119,
     "metadata": {},
     "output_type": "execute_result"
    }
   ],
   "source": [
    "# E 항목을 파생변수로 만드세요 1~10범위 값\n",
    "data = range(1,11) # 1~10\n",
    "data2 = []\n",
    "for i in range(6):\n",
    "    data2.append(random.choice(data))\n",
    "df3['E'] = data2\n",
    "df3['E']"
   ]
  },
  {
   "cell_type": "code",
   "execution_count": 120,
   "metadata": {},
   "outputs": [
    {
     "data": {
      "text/html": [
       "<div>\n",
       "<style scoped>\n",
       "    .dataframe tbody tr th:only-of-type {\n",
       "        vertical-align: middle;\n",
       "    }\n",
       "\n",
       "    .dataframe tbody tr th {\n",
       "        vertical-align: top;\n",
       "    }\n",
       "\n",
       "    .dataframe thead th {\n",
       "        text-align: right;\n",
       "    }\n",
       "</style>\n",
       "<table border=\"1\" class=\"dataframe\">\n",
       "  <thead>\n",
       "    <tr style=\"text-align: right;\">\n",
       "      <th></th>\n",
       "      <th>A</th>\n",
       "      <th>B</th>\n",
       "      <th>C</th>\n",
       "      <th>D</th>\n",
       "      <th>E</th>\n",
       "      <th>F</th>\n",
       "    </tr>\n",
       "  </thead>\n",
       "  <tbody>\n",
       "    <tr>\n",
       "      <td>2020-06-25</td>\n",
       "      <td>-1.192645</td>\n",
       "      <td>1.307525</td>\n",
       "      <td>-0.084312</td>\n",
       "      <td>-0.290315</td>\n",
       "      <td>1</td>\n",
       "      <td>-1.276957</td>\n",
       "    </tr>\n",
       "    <tr>\n",
       "      <td>2020-06-26</td>\n",
       "      <td>1.503037</td>\n",
       "      <td>-1.205906</td>\n",
       "      <td>-1.169684</td>\n",
       "      <td>-1.379510</td>\n",
       "      <td>1</td>\n",
       "      <td>0.333354</td>\n",
       "    </tr>\n",
       "    <tr>\n",
       "      <td>2020-06-27</td>\n",
       "      <td>-0.721590</td>\n",
       "      <td>-0.591323</td>\n",
       "      <td>-2.285181</td>\n",
       "      <td>-1.210277</td>\n",
       "      <td>10</td>\n",
       "      <td>-3.006771</td>\n",
       "    </tr>\n",
       "    <tr>\n",
       "      <td>2020-06-28</td>\n",
       "      <td>-0.867334</td>\n",
       "      <td>0.236723</td>\n",
       "      <td>0.331853</td>\n",
       "      <td>0.492468</td>\n",
       "      <td>4</td>\n",
       "      <td>-0.535481</td>\n",
       "    </tr>\n",
       "    <tr>\n",
       "      <td>2020-06-29</td>\n",
       "      <td>-0.878442</td>\n",
       "      <td>0.090991</td>\n",
       "      <td>-1.114409</td>\n",
       "      <td>-0.233650</td>\n",
       "      <td>1</td>\n",
       "      <td>-1.992851</td>\n",
       "    </tr>\n",
       "    <tr>\n",
       "      <td>2020-06-30</td>\n",
       "      <td>0.733077</td>\n",
       "      <td>0.090834</td>\n",
       "      <td>2.283152</td>\n",
       "      <td>-1.540344</td>\n",
       "      <td>2</td>\n",
       "      <td>3.016228</td>\n",
       "    </tr>\n",
       "  </tbody>\n",
       "</table>\n",
       "</div>"
      ],
      "text/plain": [
       "                   A         B         C         D   E         F\n",
       "2020-06-25 -1.192645  1.307525 -0.084312 -0.290315   1 -1.276957\n",
       "2020-06-26  1.503037 -1.205906 -1.169684 -1.379510   1  0.333354\n",
       "2020-06-27 -0.721590 -0.591323 -2.285181 -1.210277  10 -3.006771\n",
       "2020-06-28 -0.867334  0.236723  0.331853  0.492468   4 -0.535481\n",
       "2020-06-29 -0.878442  0.090991 -1.114409 -0.233650   1 -1.992851\n",
       "2020-06-30  0.733077  0.090834  2.283152 -1.540344   2  3.016228"
      ]
     },
     "execution_count": 120,
     "metadata": {},
     "output_type": "execute_result"
    }
   ],
   "source": [
    "# F 항목을 파생변수로 만드세요 A열과 C열의 합\n",
    "df3['F'] = df['A'] + df['C']\n",
    "df3"
   ]
  },
  {
   "cell_type": "code",
   "execution_count": 121,
   "metadata": {},
   "outputs": [
    {
     "data": {
      "text/html": [
       "<div>\n",
       "<style scoped>\n",
       "    .dataframe tbody tr th:only-of-type {\n",
       "        vertical-align: middle;\n",
       "    }\n",
       "\n",
       "    .dataframe tbody tr th {\n",
       "        vertical-align: top;\n",
       "    }\n",
       "\n",
       "    .dataframe thead th {\n",
       "        text-align: right;\n",
       "    }\n",
       "</style>\n",
       "<table border=\"1\" class=\"dataframe\">\n",
       "  <thead>\n",
       "    <tr style=\"text-align: right;\">\n",
       "      <th></th>\n",
       "      <th>A</th>\n",
       "      <th>B</th>\n",
       "      <th>C</th>\n",
       "      <th>D</th>\n",
       "      <th>E</th>\n",
       "      <th>F</th>\n",
       "      <th>H</th>\n",
       "    </tr>\n",
       "  </thead>\n",
       "  <tbody>\n",
       "    <tr>\n",
       "      <td>2020-06-25</td>\n",
       "      <td>-1.192645</td>\n",
       "      <td>1.307525</td>\n",
       "      <td>-0.084312</td>\n",
       "      <td>-0.290315</td>\n",
       "      <td>1</td>\n",
       "      <td>-1.276957</td>\n",
       "      <td>1</td>\n",
       "    </tr>\n",
       "    <tr>\n",
       "      <td>2020-06-26</td>\n",
       "      <td>1.503037</td>\n",
       "      <td>-1.205906</td>\n",
       "      <td>-1.169684</td>\n",
       "      <td>-1.379510</td>\n",
       "      <td>1</td>\n",
       "      <td>0.333354</td>\n",
       "      <td>1</td>\n",
       "    </tr>\n",
       "    <tr>\n",
       "      <td>2020-06-27</td>\n",
       "      <td>-0.721590</td>\n",
       "      <td>-0.591323</td>\n",
       "      <td>-2.285181</td>\n",
       "      <td>-1.210277</td>\n",
       "      <td>10</td>\n",
       "      <td>-3.006771</td>\n",
       "      <td>1</td>\n",
       "    </tr>\n",
       "    <tr>\n",
       "      <td>2020-06-28</td>\n",
       "      <td>-0.867334</td>\n",
       "      <td>0.236723</td>\n",
       "      <td>0.331853</td>\n",
       "      <td>0.492468</td>\n",
       "      <td>4</td>\n",
       "      <td>-0.535481</td>\n",
       "      <td>1</td>\n",
       "    </tr>\n",
       "    <tr>\n",
       "      <td>2020-06-29</td>\n",
       "      <td>-0.878442</td>\n",
       "      <td>0.090991</td>\n",
       "      <td>-1.114409</td>\n",
       "      <td>-0.233650</td>\n",
       "      <td>1</td>\n",
       "      <td>-1.992851</td>\n",
       "      <td>1</td>\n",
       "    </tr>\n",
       "    <tr>\n",
       "      <td>2020-06-30</td>\n",
       "      <td>0.733077</td>\n",
       "      <td>0.090834</td>\n",
       "      <td>2.283152</td>\n",
       "      <td>-1.540344</td>\n",
       "      <td>2</td>\n",
       "      <td>3.016228</td>\n",
       "      <td>1</td>\n",
       "    </tr>\n",
       "  </tbody>\n",
       "</table>\n",
       "</div>"
      ],
      "text/plain": [
       "                   A         B         C         D   E         F  H\n",
       "2020-06-25 -1.192645  1.307525 -0.084312 -0.290315   1 -1.276957  1\n",
       "2020-06-26  1.503037 -1.205906 -1.169684 -1.379510   1  0.333354  1\n",
       "2020-06-27 -0.721590 -0.591323 -2.285181 -1.210277  10 -3.006771  1\n",
       "2020-06-28 -0.867334  0.236723  0.331853  0.492468   4 -0.535481  1\n",
       "2020-06-29 -0.878442  0.090991 -1.114409 -0.233650   1 -1.992851  1\n",
       "2020-06-30  0.733077  0.090834  2.283152 -1.540344   2  3.016228  1"
      ]
     },
     "execution_count": 121,
     "metadata": {},
     "output_type": "execute_result"
    }
   ],
   "source": [
    "# H 항목을 파생변수로 만드세여 1로 설정\n",
    "df3['H'] = 1\n",
    "df3"
   ]
  },
  {
   "cell_type": "code",
   "execution_count": 122,
   "metadata": {},
   "outputs": [
    {
     "data": {
      "text/plain": [
       "2020-06-25    8\n",
       "2020-06-26    8\n",
       "2020-06-27    8\n",
       "2020-06-28    8\n",
       "2020-06-29    8\n",
       "2020-06-30    8\n",
       "Freq: D, Name: Z, dtype: int64"
      ]
     },
     "execution_count": 122,
     "metadata": {},
     "output_type": "execute_result"
    }
   ],
   "source": [
    "df3['Z'] = random.randint(1, 10)\n",
    "df3['Z']"
   ]
  },
  {
   "cell_type": "code",
   "execution_count": 123,
   "metadata": {},
   "outputs": [
    {
     "data": {
      "text/plain": [
       "[2, 7, 5, 7, 7, 7]"
      ]
     },
     "execution_count": 123,
     "metadata": {},
     "output_type": "execute_result"
    }
   ],
   "source": [
    "data2 = []\n",
    "for _ in range(6):\n",
    "    data2.append(random.randint(1, 10))\n",
    "data2"
   ]
  },
  {
   "cell_type": "code",
   "execution_count": 124,
   "metadata": {},
   "outputs": [
    {
     "data": {
      "text/plain": [
       "2020-06-25     3\n",
       "2020-06-26     2\n",
       "2020-06-27    10\n",
       "2020-06-28     4\n",
       "2020-06-29     8\n",
       "2020-06-30    10\n",
       "Freq: D, Name: Z2, dtype: int64"
      ]
     },
     "execution_count": 124,
     "metadata": {},
     "output_type": "execute_result"
    }
   ],
   "source": [
    "# Z 항목을 파생변수로 만드세요 1~9까지의 랜덤한 값으로 설정\n",
    "\n",
    "# data2 = []\n",
    "# for _ in range(6):\n",
    "#     data2.append(random.randint(1, 10))\n",
    "# data2\n",
    "# df3['Z2'] = data2\n",
    "\n",
    "df3['Z2'] = [random.randint(1, 10) for _ in range(6)]\n",
    "df3['Z2']"
   ]
  },
  {
   "cell_type": "code",
   "execution_count": 125,
   "metadata": {},
   "outputs": [
    {
     "data": {
      "text/plain": [
       "[3, 3, 3, 2, 5, 1]"
      ]
     },
     "execution_count": 125,
     "metadata": {},
     "output_type": "execute_result"
    }
   ],
   "source": [
    "# 리스트 내포 : 결과가 항상 list\n",
    "# list comprehension\n",
    "[random.randint(1, 10) for _ in range(6)]"
   ]
  },
  {
   "cell_type": "code",
   "execution_count": 126,
   "metadata": {},
   "outputs": [
    {
     "data": {
      "text/plain": [
       "[1, 2, 3, 4, 5, 6, 7, 8, 9, 10]"
      ]
     },
     "execution_count": 126,
     "metadata": {},
     "output_type": "execute_result"
    }
   ],
   "source": [
    "# [ '반복하면서 한번에 처리할 내용' for i in range(10)]\n",
    "[i + 1 for i in range(10)]"
   ]
  },
  {
   "cell_type": "code",
   "execution_count": 127,
   "metadata": {},
   "outputs": [
    {
     "data": {
      "text/plain": [
       "[1, 3, 5, 7, 9]"
      ]
     },
     "execution_count": 127,
     "metadata": {},
     "output_type": "execute_result"
    }
   ],
   "source": [
    "# [ '반복하면서 한번에 처리할 내용' for i in range(10) if i % 2 == 0]\n",
    "[i + 1 for i in range(10) if  i % 2 == 0]"
   ]
  },
  {
   "cell_type": "code",
   "execution_count": 128,
   "metadata": {},
   "outputs": [
    {
     "name": "stdout",
     "output_type": "stream",
     "text": [
      "홍길동\n",
      "김길동\n",
      "송길동\n"
     ]
    }
   ],
   "source": [
    "name = ['홍길동', '김길동', '송길동']\n",
    "for x in name :\n",
    "    print(x)"
   ]
  },
  {
   "cell_type": "code",
   "execution_count": 129,
   "metadata": {},
   "outputs": [
    {
     "data": {
      "text/plain": [
       "['홍길동님', '김길동님', '송길동님']"
      ]
     },
     "execution_count": 129,
     "metadata": {},
     "output_type": "execute_result"
    }
   ],
   "source": [
    "# name에 들어있는 각각의 모든 데이터에 '님'자를 붙여주세요\n",
    "[i + '님' for i in name]"
   ]
  },
  {
   "cell_type": "code",
   "execution_count": 130,
   "metadata": {},
   "outputs": [],
   "source": [
    "# name에 들어있는 각각의 모든 데이터에 '신입'자를 붙여주세요"
   ]
  },
  {
   "cell_type": "code",
   "execution_count": 131,
   "metadata": {},
   "outputs": [
    {
     "data": {
      "text/plain": [
       "['신입 홍길동', '신입 김길동', '신입 송길동']"
      ]
     },
     "execution_count": 131,
     "metadata": {},
     "output_type": "execute_result"
    }
   ],
   "source": [
    "['신입 ' + i  for i in name]"
   ]
  },
  {
   "cell_type": "code",
   "execution_count": 132,
   "metadata": {},
   "outputs": [],
   "source": [
    "a_list = range(1, 100, 2)"
   ]
  },
  {
   "cell_type": "code",
   "execution_count": 133,
   "metadata": {},
   "outputs": [
    {
     "data": {
      "text/plain": [
       "50"
      ]
     },
     "execution_count": 133,
     "metadata": {},
     "output_type": "execute_result"
    }
   ],
   "source": [
    "# a_list에 몇 개가 들어 있는지 세어보기\n",
    "count = 0\n",
    "result = [count + 1 for x in a_list]\n",
    "sum(result)"
   ]
  },
  {
   "cell_type": "code",
   "execution_count": 134,
   "metadata": {},
   "outputs": [],
   "source": [
    "# a_list의 각각의 모든 데이터에 0.1을 곱하기. 변경된 a_list의 합과 평균"
   ]
  },
  {
   "cell_type": "code",
   "execution_count": 135,
   "metadata": {},
   "outputs": [],
   "source": [
    "a_list = [x * 0.1 for x in a_list]"
   ]
  },
  {
   "cell_type": "code",
   "execution_count": 136,
   "metadata": {},
   "outputs": [
    {
     "data": {
      "text/plain": [
       "250.0"
      ]
     },
     "execution_count": 136,
     "metadata": {},
     "output_type": "execute_result"
    }
   ],
   "source": [
    "np.sum(a_list)"
   ]
  },
  {
   "cell_type": "code",
   "execution_count": 137,
   "metadata": {},
   "outputs": [
    {
     "data": {
      "text/plain": [
       "5.0"
      ]
     },
     "execution_count": 137,
     "metadata": {},
     "output_type": "execute_result"
    }
   ],
   "source": [
    "np.mean(a_list)"
   ]
  },
  {
   "cell_type": "code",
   "execution_count": 138,
   "metadata": {},
   "outputs": [
    {
     "data": {
      "text/plain": [
       "2.8861739379323628"
      ]
     },
     "execution_count": 138,
     "metadata": {},
     "output_type": "execute_result"
    }
   ],
   "source": [
    "np.std(a_list)"
   ]
  },
  {
   "cell_type": "code",
   "execution_count": 139,
   "metadata": {},
   "outputs": [
    {
     "data": {
      "text/plain": [
       "[0.010000000000000002, 0.030000000000000006, 0.05]"
      ]
     },
     "execution_count": 139,
     "metadata": {},
     "output_type": "execute_result"
    }
   ],
   "source": [
    "[x * 0.1 for x in a_list][:3]"
   ]
  },
  {
   "cell_type": "code",
   "execution_count": 140,
   "metadata": {},
   "outputs": [],
   "source": [
    "df3.drop(columns=['H'], inplace=True) #열 삭제"
   ]
  },
  {
   "cell_type": "code",
   "execution_count": 141,
   "metadata": {},
   "outputs": [
    {
     "data": {
      "text/html": [
       "<div>\n",
       "<style scoped>\n",
       "    .dataframe tbody tr th:only-of-type {\n",
       "        vertical-align: middle;\n",
       "    }\n",
       "\n",
       "    .dataframe tbody tr th {\n",
       "        vertical-align: top;\n",
       "    }\n",
       "\n",
       "    .dataframe thead th {\n",
       "        text-align: right;\n",
       "    }\n",
       "</style>\n",
       "<table border=\"1\" class=\"dataframe\">\n",
       "  <thead>\n",
       "    <tr style=\"text-align: right;\">\n",
       "      <th></th>\n",
       "      <th>A</th>\n",
       "      <th>B</th>\n",
       "      <th>C</th>\n",
       "      <th>D</th>\n",
       "      <th>E</th>\n",
       "      <th>F</th>\n",
       "      <th>Z</th>\n",
       "      <th>Z2</th>\n",
       "    </tr>\n",
       "  </thead>\n",
       "  <tbody>\n",
       "    <tr>\n",
       "      <td>2020-06-25</td>\n",
       "      <td>-1.192645</td>\n",
       "      <td>1.307525</td>\n",
       "      <td>-0.084312</td>\n",
       "      <td>-0.290315</td>\n",
       "      <td>1</td>\n",
       "      <td>-1.276957</td>\n",
       "      <td>8</td>\n",
       "      <td>3</td>\n",
       "    </tr>\n",
       "    <tr>\n",
       "      <td>2020-06-26</td>\n",
       "      <td>1.503037</td>\n",
       "      <td>-1.205906</td>\n",
       "      <td>-1.169684</td>\n",
       "      <td>-1.379510</td>\n",
       "      <td>1</td>\n",
       "      <td>0.333354</td>\n",
       "      <td>8</td>\n",
       "      <td>2</td>\n",
       "    </tr>\n",
       "    <tr>\n",
       "      <td>2020-06-27</td>\n",
       "      <td>-0.721590</td>\n",
       "      <td>-0.591323</td>\n",
       "      <td>-2.285181</td>\n",
       "      <td>-1.210277</td>\n",
       "      <td>10</td>\n",
       "      <td>-3.006771</td>\n",
       "      <td>8</td>\n",
       "      <td>10</td>\n",
       "    </tr>\n",
       "    <tr>\n",
       "      <td>2020-06-28</td>\n",
       "      <td>-0.867334</td>\n",
       "      <td>0.236723</td>\n",
       "      <td>0.331853</td>\n",
       "      <td>0.492468</td>\n",
       "      <td>4</td>\n",
       "      <td>-0.535481</td>\n",
       "      <td>8</td>\n",
       "      <td>4</td>\n",
       "    </tr>\n",
       "    <tr>\n",
       "      <td>2020-06-29</td>\n",
       "      <td>-0.878442</td>\n",
       "      <td>0.090991</td>\n",
       "      <td>-1.114409</td>\n",
       "      <td>-0.233650</td>\n",
       "      <td>1</td>\n",
       "      <td>-1.992851</td>\n",
       "      <td>8</td>\n",
       "      <td>8</td>\n",
       "    </tr>\n",
       "    <tr>\n",
       "      <td>2020-06-30</td>\n",
       "      <td>0.733077</td>\n",
       "      <td>0.090834</td>\n",
       "      <td>2.283152</td>\n",
       "      <td>-1.540344</td>\n",
       "      <td>2</td>\n",
       "      <td>3.016228</td>\n",
       "      <td>8</td>\n",
       "      <td>10</td>\n",
       "    </tr>\n",
       "  </tbody>\n",
       "</table>\n",
       "</div>"
      ],
      "text/plain": [
       "                   A         B         C         D   E         F  Z  Z2\n",
       "2020-06-25 -1.192645  1.307525 -0.084312 -0.290315   1 -1.276957  8   3\n",
       "2020-06-26  1.503037 -1.205906 -1.169684 -1.379510   1  0.333354  8   2\n",
       "2020-06-27 -0.721590 -0.591323 -2.285181 -1.210277  10 -3.006771  8  10\n",
       "2020-06-28 -0.867334  0.236723  0.331853  0.492468   4 -0.535481  8   4\n",
       "2020-06-29 -0.878442  0.090991 -1.114409 -0.233650   1 -1.992851  8   8\n",
       "2020-06-30  0.733077  0.090834  2.283152 -1.540344   2  3.016228  8  10"
      ]
     },
     "execution_count": 141,
     "metadata": {},
     "output_type": "execute_result"
    }
   ],
   "source": [
    "df3"
   ]
  },
  {
   "cell_type": "code",
   "execution_count": 142,
   "metadata": {},
   "outputs": [
    {
     "data": {
      "text/html": [
       "<div>\n",
       "<style scoped>\n",
       "    .dataframe tbody tr th:only-of-type {\n",
       "        vertical-align: middle;\n",
       "    }\n",
       "\n",
       "    .dataframe tbody tr th {\n",
       "        vertical-align: top;\n",
       "    }\n",
       "\n",
       "    .dataframe thead th {\n",
       "        text-align: right;\n",
       "    }\n",
       "</style>\n",
       "<table border=\"1\" class=\"dataframe\">\n",
       "  <thead>\n",
       "    <tr style=\"text-align: right;\">\n",
       "      <th></th>\n",
       "      <th>A</th>\n",
       "      <th>B</th>\n",
       "      <th>C</th>\n",
       "      <th>D</th>\n",
       "    </tr>\n",
       "  </thead>\n",
       "  <tbody>\n",
       "    <tr>\n",
       "      <td>2020-06-25</td>\n",
       "      <td>-1.192645</td>\n",
       "      <td>1.307525</td>\n",
       "      <td>-0.084312</td>\n",
       "      <td>-0.290315</td>\n",
       "    </tr>\n",
       "    <tr>\n",
       "      <td>2020-06-26</td>\n",
       "      <td>1.503037</td>\n",
       "      <td>-1.205906</td>\n",
       "      <td>-1.169684</td>\n",
       "      <td>-1.379510</td>\n",
       "    </tr>\n",
       "    <tr>\n",
       "      <td>2020-06-27</td>\n",
       "      <td>-0.721590</td>\n",
       "      <td>-0.591323</td>\n",
       "      <td>-2.285181</td>\n",
       "      <td>-1.210277</td>\n",
       "    </tr>\n",
       "    <tr>\n",
       "      <td>2020-06-28</td>\n",
       "      <td>-0.867334</td>\n",
       "      <td>0.236723</td>\n",
       "      <td>0.331853</td>\n",
       "      <td>0.492468</td>\n",
       "    </tr>\n",
       "    <tr>\n",
       "      <td>2020-06-29</td>\n",
       "      <td>-0.878442</td>\n",
       "      <td>0.090991</td>\n",
       "      <td>-1.114409</td>\n",
       "      <td>-0.233650</td>\n",
       "    </tr>\n",
       "    <tr>\n",
       "      <td>2020-06-30</td>\n",
       "      <td>0.733077</td>\n",
       "      <td>0.090834</td>\n",
       "      <td>2.283152</td>\n",
       "      <td>-1.540344</td>\n",
       "    </tr>\n",
       "  </tbody>\n",
       "</table>\n",
       "</div>"
      ],
      "text/plain": [
       "                   A         B         C         D\n",
       "2020-06-25 -1.192645  1.307525 -0.084312 -0.290315\n",
       "2020-06-26  1.503037 -1.205906 -1.169684 -1.379510\n",
       "2020-06-27 -0.721590 -0.591323 -2.285181 -1.210277\n",
       "2020-06-28 -0.867334  0.236723  0.331853  0.492468\n",
       "2020-06-29 -0.878442  0.090991 -1.114409 -0.233650\n",
       "2020-06-30  0.733077  0.090834  2.283152 -1.540344"
      ]
     },
     "execution_count": 142,
     "metadata": {},
     "output_type": "execute_result"
    }
   ],
   "source": [
    "df3.drop(columns=['E', 'F', 'Z', 'Z2'], inplace=True) #열 삭제\n",
    "df3"
   ]
  },
  {
   "cell_type": "code",
   "execution_count": 145,
   "metadata": {},
   "outputs": [
    {
     "data": {
      "text/html": [
       "<div>\n",
       "<style scoped>\n",
       "    .dataframe tbody tr th:only-of-type {\n",
       "        vertical-align: middle;\n",
       "    }\n",
       "\n",
       "    .dataframe tbody tr th {\n",
       "        vertical-align: top;\n",
       "    }\n",
       "\n",
       "    .dataframe thead th {\n",
       "        text-align: right;\n",
       "    }\n",
       "</style>\n",
       "<table border=\"1\" class=\"dataframe\">\n",
       "  <thead>\n",
       "    <tr style=\"text-align: right;\">\n",
       "      <th></th>\n",
       "      <th>A</th>\n",
       "      <th>B</th>\n",
       "      <th>C</th>\n",
       "      <th>D</th>\n",
       "    </tr>\n",
       "  </thead>\n",
       "  <tbody>\n",
       "    <tr>\n",
       "      <td>2020-06-25</td>\n",
       "      <td>-1.192645</td>\n",
       "      <td>1.307525</td>\n",
       "      <td>-0.084312</td>\n",
       "      <td>-0.290315</td>\n",
       "    </tr>\n",
       "    <tr>\n",
       "      <td>2020-06-26</td>\n",
       "      <td>1.503037</td>\n",
       "      <td>-1.205906</td>\n",
       "      <td>-1.169684</td>\n",
       "      <td>-1.379510</td>\n",
       "    </tr>\n",
       "    <tr>\n",
       "      <td>2020-06-27</td>\n",
       "      <td>-0.721590</td>\n",
       "      <td>-0.591323</td>\n",
       "      <td>-2.285181</td>\n",
       "      <td>-1.210277</td>\n",
       "    </tr>\n",
       "    <tr>\n",
       "      <td>2020-06-28</td>\n",
       "      <td>-0.867334</td>\n",
       "      <td>0.236723</td>\n",
       "      <td>0.331853</td>\n",
       "      <td>0.492468</td>\n",
       "    </tr>\n",
       "    <tr>\n",
       "      <td>2020-06-29</td>\n",
       "      <td>-0.878442</td>\n",
       "      <td>0.090991</td>\n",
       "      <td>-1.114409</td>\n",
       "      <td>-0.233650</td>\n",
       "    </tr>\n",
       "    <tr>\n",
       "      <td>2020-06-30</td>\n",
       "      <td>0.733077</td>\n",
       "      <td>0.090834</td>\n",
       "      <td>2.283152</td>\n",
       "      <td>-1.540344</td>\n",
       "    </tr>\n",
       "  </tbody>\n",
       "</table>\n",
       "</div>"
      ],
      "text/plain": [
       "                   A         B         C         D\n",
       "2020-06-25 -1.192645  1.307525 -0.084312 -0.290315\n",
       "2020-06-26  1.503037 -1.205906 -1.169684 -1.379510\n",
       "2020-06-27 -0.721590 -0.591323 -2.285181 -1.210277\n",
       "2020-06-28 -0.867334  0.236723  0.331853  0.492468\n",
       "2020-06-29 -0.878442  0.090991 -1.114409 -0.233650\n",
       "2020-06-30  0.733077  0.090834  2.283152 -1.540344"
      ]
     },
     "execution_count": 145,
     "metadata": {},
     "output_type": "execute_result"
    }
   ],
   "source": [
    "df3"
   ]
  },
  {
   "cell_type": "code",
   "execution_count": 146,
   "metadata": {},
   "outputs": [
    {
     "ename": "KeyError",
     "evalue": "\"['2020-06-25'] not found in axis\"",
     "output_type": "error",
     "traceback": [
      "\u001b[1;31m---------------------------------------------------------------------------\u001b[0m",
      "\u001b[1;31mKeyError\u001b[0m                                  Traceback (most recent call last)",
      "\u001b[1;32m<ipython-input-146-697b8e9a97a8>\u001b[0m in \u001b[0;36m<module>\u001b[1;34m\u001b[0m\n\u001b[1;32m----> 1\u001b[1;33m \u001b[0mdf3\u001b[0m\u001b[1;33m.\u001b[0m\u001b[0mdrop\u001b[0m\u001b[1;33m(\u001b[0m\u001b[0mindex\u001b[0m\u001b[1;33m=\u001b[0m\u001b[1;33m[\u001b[0m\u001b[1;34m'2020-06-25'\u001b[0m\u001b[1;33m]\u001b[0m\u001b[1;33m,\u001b[0m \u001b[0minplace\u001b[0m\u001b[1;33m=\u001b[0m\u001b[1;32mTrue\u001b[0m\u001b[1;33m)\u001b[0m \u001b[1;31m#행삭제\u001b[0m\u001b[1;33m\u001b[0m\u001b[1;33m\u001b[0m\u001b[0m\n\u001b[0m\u001b[0;32m      2\u001b[0m \u001b[0mdf3\u001b[0m\u001b[1;33m\u001b[0m\u001b[1;33m\u001b[0m\u001b[0m\n",
      "\u001b[1;32mC:\\ProgramData\\Anaconda3\\lib\\site-packages\\pandas\\core\\frame.py\u001b[0m in \u001b[0;36mdrop\u001b[1;34m(self, labels, axis, index, columns, level, inplace, errors)\u001b[0m\n\u001b[0;32m   4100\u001b[0m             \u001b[0mlevel\u001b[0m\u001b[1;33m=\u001b[0m\u001b[0mlevel\u001b[0m\u001b[1;33m,\u001b[0m\u001b[1;33m\u001b[0m\u001b[1;33m\u001b[0m\u001b[0m\n\u001b[0;32m   4101\u001b[0m             \u001b[0minplace\u001b[0m\u001b[1;33m=\u001b[0m\u001b[0minplace\u001b[0m\u001b[1;33m,\u001b[0m\u001b[1;33m\u001b[0m\u001b[1;33m\u001b[0m\u001b[0m\n\u001b[1;32m-> 4102\u001b[1;33m             \u001b[0merrors\u001b[0m\u001b[1;33m=\u001b[0m\u001b[0merrors\u001b[0m\u001b[1;33m,\u001b[0m\u001b[1;33m\u001b[0m\u001b[1;33m\u001b[0m\u001b[0m\n\u001b[0m\u001b[0;32m   4103\u001b[0m         )\n\u001b[0;32m   4104\u001b[0m \u001b[1;33m\u001b[0m\u001b[0m\n",
      "\u001b[1;32mC:\\ProgramData\\Anaconda3\\lib\\site-packages\\pandas\\core\\generic.py\u001b[0m in \u001b[0;36mdrop\u001b[1;34m(self, labels, axis, index, columns, level, inplace, errors)\u001b[0m\n\u001b[0;32m   3912\u001b[0m         \u001b[1;32mfor\u001b[0m \u001b[0maxis\u001b[0m\u001b[1;33m,\u001b[0m \u001b[0mlabels\u001b[0m \u001b[1;32min\u001b[0m \u001b[0maxes\u001b[0m\u001b[1;33m.\u001b[0m\u001b[0mitems\u001b[0m\u001b[1;33m(\u001b[0m\u001b[1;33m)\u001b[0m\u001b[1;33m:\u001b[0m\u001b[1;33m\u001b[0m\u001b[1;33m\u001b[0m\u001b[0m\n\u001b[0;32m   3913\u001b[0m             \u001b[1;32mif\u001b[0m \u001b[0mlabels\u001b[0m \u001b[1;32mis\u001b[0m \u001b[1;32mnot\u001b[0m \u001b[1;32mNone\u001b[0m\u001b[1;33m:\u001b[0m\u001b[1;33m\u001b[0m\u001b[1;33m\u001b[0m\u001b[0m\n\u001b[1;32m-> 3914\u001b[1;33m                 \u001b[0mobj\u001b[0m \u001b[1;33m=\u001b[0m \u001b[0mobj\u001b[0m\u001b[1;33m.\u001b[0m\u001b[0m_drop_axis\u001b[0m\u001b[1;33m(\u001b[0m\u001b[0mlabels\u001b[0m\u001b[1;33m,\u001b[0m \u001b[0maxis\u001b[0m\u001b[1;33m,\u001b[0m \u001b[0mlevel\u001b[0m\u001b[1;33m=\u001b[0m\u001b[0mlevel\u001b[0m\u001b[1;33m,\u001b[0m \u001b[0merrors\u001b[0m\u001b[1;33m=\u001b[0m\u001b[0merrors\u001b[0m\u001b[1;33m)\u001b[0m\u001b[1;33m\u001b[0m\u001b[1;33m\u001b[0m\u001b[0m\n\u001b[0m\u001b[0;32m   3915\u001b[0m \u001b[1;33m\u001b[0m\u001b[0m\n\u001b[0;32m   3916\u001b[0m         \u001b[1;32mif\u001b[0m \u001b[0minplace\u001b[0m\u001b[1;33m:\u001b[0m\u001b[1;33m\u001b[0m\u001b[1;33m\u001b[0m\u001b[0m\n",
      "\u001b[1;32mC:\\ProgramData\\Anaconda3\\lib\\site-packages\\pandas\\core\\generic.py\u001b[0m in \u001b[0;36m_drop_axis\u001b[1;34m(self, labels, axis, level, errors)\u001b[0m\n\u001b[0;32m   3944\u001b[0m                 \u001b[0mnew_axis\u001b[0m \u001b[1;33m=\u001b[0m \u001b[0maxis\u001b[0m\u001b[1;33m.\u001b[0m\u001b[0mdrop\u001b[0m\u001b[1;33m(\u001b[0m\u001b[0mlabels\u001b[0m\u001b[1;33m,\u001b[0m \u001b[0mlevel\u001b[0m\u001b[1;33m=\u001b[0m\u001b[0mlevel\u001b[0m\u001b[1;33m,\u001b[0m \u001b[0merrors\u001b[0m\u001b[1;33m=\u001b[0m\u001b[0merrors\u001b[0m\u001b[1;33m)\u001b[0m\u001b[1;33m\u001b[0m\u001b[1;33m\u001b[0m\u001b[0m\n\u001b[0;32m   3945\u001b[0m             \u001b[1;32melse\u001b[0m\u001b[1;33m:\u001b[0m\u001b[1;33m\u001b[0m\u001b[1;33m\u001b[0m\u001b[0m\n\u001b[1;32m-> 3946\u001b[1;33m                 \u001b[0mnew_axis\u001b[0m \u001b[1;33m=\u001b[0m \u001b[0maxis\u001b[0m\u001b[1;33m.\u001b[0m\u001b[0mdrop\u001b[0m\u001b[1;33m(\u001b[0m\u001b[0mlabels\u001b[0m\u001b[1;33m,\u001b[0m \u001b[0merrors\u001b[0m\u001b[1;33m=\u001b[0m\u001b[0merrors\u001b[0m\u001b[1;33m)\u001b[0m\u001b[1;33m\u001b[0m\u001b[1;33m\u001b[0m\u001b[0m\n\u001b[0m\u001b[0;32m   3947\u001b[0m             \u001b[0mresult\u001b[0m \u001b[1;33m=\u001b[0m \u001b[0mself\u001b[0m\u001b[1;33m.\u001b[0m\u001b[0mreindex\u001b[0m\u001b[1;33m(\u001b[0m\u001b[1;33m**\u001b[0m\u001b[1;33m{\u001b[0m\u001b[0maxis_name\u001b[0m\u001b[1;33m:\u001b[0m \u001b[0mnew_axis\u001b[0m\u001b[1;33m}\u001b[0m\u001b[1;33m)\u001b[0m\u001b[1;33m\u001b[0m\u001b[1;33m\u001b[0m\u001b[0m\n\u001b[0;32m   3948\u001b[0m \u001b[1;33m\u001b[0m\u001b[0m\n",
      "\u001b[1;32mC:\\ProgramData\\Anaconda3\\lib\\site-packages\\pandas\\core\\indexes\\base.py\u001b[0m in \u001b[0;36mdrop\u001b[1;34m(self, labels, errors)\u001b[0m\n\u001b[0;32m   5338\u001b[0m         \u001b[1;32mif\u001b[0m \u001b[0mmask\u001b[0m\u001b[1;33m.\u001b[0m\u001b[0many\u001b[0m\u001b[1;33m(\u001b[0m\u001b[1;33m)\u001b[0m\u001b[1;33m:\u001b[0m\u001b[1;33m\u001b[0m\u001b[1;33m\u001b[0m\u001b[0m\n\u001b[0;32m   5339\u001b[0m             \u001b[1;32mif\u001b[0m \u001b[0merrors\u001b[0m \u001b[1;33m!=\u001b[0m \u001b[1;34m\"ignore\"\u001b[0m\u001b[1;33m:\u001b[0m\u001b[1;33m\u001b[0m\u001b[1;33m\u001b[0m\u001b[0m\n\u001b[1;32m-> 5340\u001b[1;33m                 \u001b[1;32mraise\u001b[0m \u001b[0mKeyError\u001b[0m\u001b[1;33m(\u001b[0m\u001b[1;34m\"{} not found in axis\"\u001b[0m\u001b[1;33m.\u001b[0m\u001b[0mformat\u001b[0m\u001b[1;33m(\u001b[0m\u001b[0mlabels\u001b[0m\u001b[1;33m[\u001b[0m\u001b[0mmask\u001b[0m\u001b[1;33m]\u001b[0m\u001b[1;33m)\u001b[0m\u001b[1;33m)\u001b[0m\u001b[1;33m\u001b[0m\u001b[1;33m\u001b[0m\u001b[0m\n\u001b[0m\u001b[0;32m   5341\u001b[0m             \u001b[0mindexer\u001b[0m \u001b[1;33m=\u001b[0m \u001b[0mindexer\u001b[0m\u001b[1;33m[\u001b[0m\u001b[1;33m~\u001b[0m\u001b[0mmask\u001b[0m\u001b[1;33m]\u001b[0m\u001b[1;33m\u001b[0m\u001b[1;33m\u001b[0m\u001b[0m\n\u001b[0;32m   5342\u001b[0m         \u001b[1;32mreturn\u001b[0m \u001b[0mself\u001b[0m\u001b[1;33m.\u001b[0m\u001b[0mdelete\u001b[0m\u001b[1;33m(\u001b[0m\u001b[0mindexer\u001b[0m\u001b[1;33m)\u001b[0m\u001b[1;33m\u001b[0m\u001b[1;33m\u001b[0m\u001b[0m\n",
      "\u001b[1;31mKeyError\u001b[0m: \"['2020-06-25'] not found in axis\""
     ]
    }
   ],
   "source": [
    "df3.drop(index=['2020-06-25'], inplace=True) #행삭제\n",
    "df3"
   ]
  },
  {
   "cell_type": "code",
   "execution_count": 147,
   "metadata": {},
   "outputs": [],
   "source": [
    "df3.loc['2020-06-25'] = [1, 1, 1, 1] #열의 순서대로 들어감."
   ]
  },
  {
   "cell_type": "code",
   "execution_count": 148,
   "metadata": {},
   "outputs": [
    {
     "data": {
      "text/html": [
       "<div>\n",
       "<style scoped>\n",
       "    .dataframe tbody tr th:only-of-type {\n",
       "        vertical-align: middle;\n",
       "    }\n",
       "\n",
       "    .dataframe tbody tr th {\n",
       "        vertical-align: top;\n",
       "    }\n",
       "\n",
       "    .dataframe thead th {\n",
       "        text-align: right;\n",
       "    }\n",
       "</style>\n",
       "<table border=\"1\" class=\"dataframe\">\n",
       "  <thead>\n",
       "    <tr style=\"text-align: right;\">\n",
       "      <th></th>\n",
       "      <th>A</th>\n",
       "      <th>B</th>\n",
       "      <th>C</th>\n",
       "      <th>D</th>\n",
       "    </tr>\n",
       "  </thead>\n",
       "  <tbody>\n",
       "    <tr>\n",
       "      <td>2020-06-25</td>\n",
       "      <td>1.000000</td>\n",
       "      <td>1.000000</td>\n",
       "      <td>1.000000</td>\n",
       "      <td>1.000000</td>\n",
       "    </tr>\n",
       "    <tr>\n",
       "      <td>2020-06-26</td>\n",
       "      <td>1.503037</td>\n",
       "      <td>-1.205906</td>\n",
       "      <td>-1.169684</td>\n",
       "      <td>-1.379510</td>\n",
       "    </tr>\n",
       "    <tr>\n",
       "      <td>2020-06-27</td>\n",
       "      <td>-0.721590</td>\n",
       "      <td>-0.591323</td>\n",
       "      <td>-2.285181</td>\n",
       "      <td>-1.210277</td>\n",
       "    </tr>\n",
       "    <tr>\n",
       "      <td>2020-06-28</td>\n",
       "      <td>-0.867334</td>\n",
       "      <td>0.236723</td>\n",
       "      <td>0.331853</td>\n",
       "      <td>0.492468</td>\n",
       "    </tr>\n",
       "    <tr>\n",
       "      <td>2020-06-29</td>\n",
       "      <td>-0.878442</td>\n",
       "      <td>0.090991</td>\n",
       "      <td>-1.114409</td>\n",
       "      <td>-0.233650</td>\n",
       "    </tr>\n",
       "    <tr>\n",
       "      <td>2020-06-30</td>\n",
       "      <td>0.733077</td>\n",
       "      <td>0.090834</td>\n",
       "      <td>2.283152</td>\n",
       "      <td>-1.540344</td>\n",
       "    </tr>\n",
       "  </tbody>\n",
       "</table>\n",
       "</div>"
      ],
      "text/plain": [
       "                   A         B         C         D\n",
       "2020-06-25  1.000000  1.000000  1.000000  1.000000\n",
       "2020-06-26  1.503037 -1.205906 -1.169684 -1.379510\n",
       "2020-06-27 -0.721590 -0.591323 -2.285181 -1.210277\n",
       "2020-06-28 -0.867334  0.236723  0.331853  0.492468\n",
       "2020-06-29 -0.878442  0.090991 -1.114409 -0.233650\n",
       "2020-06-30  0.733077  0.090834  2.283152 -1.540344"
      ]
     },
     "execution_count": 148,
     "metadata": {},
     "output_type": "execute_result"
    }
   ],
   "source": [
    "df3"
   ]
  },
  {
   "cell_type": "code",
   "execution_count": null,
   "metadata": {},
   "outputs": [],
   "source": []
  }
 ],
 "metadata": {
  "kernelspec": {
   "display_name": "Python 3",
   "language": "python",
   "name": "python3"
  },
  "language_info": {
   "codemirror_mode": {
    "name": "ipython",
    "version": 3
   },
   "file_extension": ".py",
   "mimetype": "text/x-python",
   "name": "python",
   "nbconvert_exporter": "python",
   "pygments_lexer": "ipython3",
   "version": "3.7.4"
  }
 },
 "nbformat": 4,
 "nbformat_minor": 2
}
