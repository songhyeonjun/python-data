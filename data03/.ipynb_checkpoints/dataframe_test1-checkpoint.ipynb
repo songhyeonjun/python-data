{
 "cells": [
  {
   "cell_type": "code",
   "execution_count": 116,
   "metadata": {},
   "outputs": [],
   "source": [
    "import pandas as pd\n",
    "import numpy as np"
   ]
  },
  {
   "cell_type": "code",
   "execution_count": 117,
   "metadata": {},
   "outputs": [
    {
     "data": {
      "text/plain": [
       "DatetimeIndex(['2020-06-25', '2020-06-26', '2020-06-27', '2020-06-28',\n",
       "               '2020-06-29', '2020-06-30'],\n",
       "              dtype='datetime64[ns]', freq='D')"
      ]
     },
     "execution_count": 117,
     "metadata": {},
     "output_type": "execute_result"
    }
   ],
   "source": [
    "dates = pd.date_range('20200625', periods=6)\n",
    "dates"
   ]
  },
  {
   "cell_type": "code",
   "execution_count": 118,
   "metadata": {},
   "outputs": [],
   "source": [
    "df = pd.DataFrame(np.random.randn(6, 4), \n",
    "                  index=dates, \n",
    "                  columns=['A','B','C','D'])"
   ]
  },
  {
   "cell_type": "code",
   "execution_count": 119,
   "metadata": {},
   "outputs": [
    {
     "data": {
      "text/html": [
       "<div>\n",
       "<style scoped>\n",
       "    .dataframe tbody tr th:only-of-type {\n",
       "        vertical-align: middle;\n",
       "    }\n",
       "\n",
       "    .dataframe tbody tr th {\n",
       "        vertical-align: top;\n",
       "    }\n",
       "\n",
       "    .dataframe thead th {\n",
       "        text-align: right;\n",
       "    }\n",
       "</style>\n",
       "<table border=\"1\" class=\"dataframe\">\n",
       "  <thead>\n",
       "    <tr style=\"text-align: right;\">\n",
       "      <th></th>\n",
       "      <th>A</th>\n",
       "      <th>B</th>\n",
       "      <th>C</th>\n",
       "      <th>D</th>\n",
       "    </tr>\n",
       "  </thead>\n",
       "  <tbody>\n",
       "    <tr>\n",
       "      <td>2020-06-25</td>\n",
       "      <td>0.881860</td>\n",
       "      <td>-0.489489</td>\n",
       "      <td>-0.809510</td>\n",
       "      <td>-0.161979</td>\n",
       "    </tr>\n",
       "    <tr>\n",
       "      <td>2020-06-26</td>\n",
       "      <td>-1.212559</td>\n",
       "      <td>-0.349677</td>\n",
       "      <td>-2.944039</td>\n",
       "      <td>-0.993505</td>\n",
       "    </tr>\n",
       "    <tr>\n",
       "      <td>2020-06-27</td>\n",
       "      <td>1.220350</td>\n",
       "      <td>-0.681578</td>\n",
       "      <td>0.176201</td>\n",
       "      <td>0.454634</td>\n",
       "    </tr>\n",
       "    <tr>\n",
       "      <td>2020-06-28</td>\n",
       "      <td>-0.080429</td>\n",
       "      <td>1.257662</td>\n",
       "      <td>0.645795</td>\n",
       "      <td>-0.907973</td>\n",
       "    </tr>\n",
       "    <tr>\n",
       "      <td>2020-06-29</td>\n",
       "      <td>-0.603151</td>\n",
       "      <td>-0.068976</td>\n",
       "      <td>1.758890</td>\n",
       "      <td>-0.459301</td>\n",
       "    </tr>\n",
       "    <tr>\n",
       "      <td>2020-06-30</td>\n",
       "      <td>-1.284816</td>\n",
       "      <td>0.226581</td>\n",
       "      <td>-0.785470</td>\n",
       "      <td>1.323591</td>\n",
       "    </tr>\n",
       "  </tbody>\n",
       "</table>\n",
       "</div>"
      ],
      "text/plain": [
       "                   A         B         C         D\n",
       "2020-06-25  0.881860 -0.489489 -0.809510 -0.161979\n",
       "2020-06-26 -1.212559 -0.349677 -2.944039 -0.993505\n",
       "2020-06-27  1.220350 -0.681578  0.176201  0.454634\n",
       "2020-06-28 -0.080429  1.257662  0.645795 -0.907973\n",
       "2020-06-29 -0.603151 -0.068976  1.758890 -0.459301\n",
       "2020-06-30 -1.284816  0.226581 -0.785470  1.323591"
      ]
     },
     "execution_count": 119,
     "metadata": {},
     "output_type": "execute_result"
    }
   ],
   "source": [
    "df"
   ]
  },
  {
   "cell_type": "code",
   "execution_count": 120,
   "metadata": {},
   "outputs": [
    {
     "data": {
      "text/html": [
       "<div>\n",
       "<style scoped>\n",
       "    .dataframe tbody tr th:only-of-type {\n",
       "        vertical-align: middle;\n",
       "    }\n",
       "\n",
       "    .dataframe tbody tr th {\n",
       "        vertical-align: top;\n",
       "    }\n",
       "\n",
       "    .dataframe thead th {\n",
       "        text-align: right;\n",
       "    }\n",
       "</style>\n",
       "<table border=\"1\" class=\"dataframe\">\n",
       "  <thead>\n",
       "    <tr style=\"text-align: right;\">\n",
       "      <th></th>\n",
       "      <th>A</th>\n",
       "      <th>B</th>\n",
       "      <th>C</th>\n",
       "      <th>D</th>\n",
       "    </tr>\n",
       "  </thead>\n",
       "  <tbody>\n",
       "    <tr>\n",
       "      <td>2020-06-25</td>\n",
       "      <td>0.881860</td>\n",
       "      <td>-0.489489</td>\n",
       "      <td>-0.809510</td>\n",
       "      <td>-0.161979</td>\n",
       "    </tr>\n",
       "    <tr>\n",
       "      <td>2020-06-26</td>\n",
       "      <td>-1.212559</td>\n",
       "      <td>-0.349677</td>\n",
       "      <td>-2.944039</td>\n",
       "      <td>-0.993505</td>\n",
       "    </tr>\n",
       "    <tr>\n",
       "      <td>2020-06-27</td>\n",
       "      <td>1.220350</td>\n",
       "      <td>-0.681578</td>\n",
       "      <td>0.176201</td>\n",
       "      <td>0.454634</td>\n",
       "    </tr>\n",
       "    <tr>\n",
       "      <td>2020-06-28</td>\n",
       "      <td>-0.080429</td>\n",
       "      <td>1.257662</td>\n",
       "      <td>0.645795</td>\n",
       "      <td>-0.907973</td>\n",
       "    </tr>\n",
       "    <tr>\n",
       "      <td>2020-06-29</td>\n",
       "      <td>-0.603151</td>\n",
       "      <td>-0.068976</td>\n",
       "      <td>1.758890</td>\n",
       "      <td>-0.459301</td>\n",
       "    </tr>\n",
       "    <tr>\n",
       "      <td>2020-06-30</td>\n",
       "      <td>-1.284816</td>\n",
       "      <td>0.226581</td>\n",
       "      <td>-0.785470</td>\n",
       "      <td>1.323591</td>\n",
       "    </tr>\n",
       "  </tbody>\n",
       "</table>\n",
       "</div>"
      ],
      "text/plain": [
       "                   A         B         C         D\n",
       "2020-06-25  0.881860 -0.489489 -0.809510 -0.161979\n",
       "2020-06-26 -1.212559 -0.349677 -2.944039 -0.993505\n",
       "2020-06-27  1.220350 -0.681578  0.176201  0.454634\n",
       "2020-06-28 -0.080429  1.257662  0.645795 -0.907973\n",
       "2020-06-29 -0.603151 -0.068976  1.758890 -0.459301\n",
       "2020-06-30 -1.284816  0.226581 -0.785470  1.323591"
      ]
     },
     "execution_count": 120,
     "metadata": {},
     "output_type": "execute_result"
    }
   ],
   "source": [
    "df2 = df.copy()\n",
    "df2\n",
    "# df는 기본적으로 행, 열의 위치값을 가지고 있음\n",
    "# 기본적으로 가지고 있는 위치값(index)를 이용해서 조작하는 경우\n",
    "# iloc[]를 사용\n",
    "# 일부 그래프나. 분석시 특정 항목을 index항목으로 수동으로 설정해야 하는 경우가 있음\n",
    "# 특정항목을 index항목으로 설정 가능한 경우는 unique / not null인 값을 \n",
    "#$ 가지는 항목만 설정 가능\n",
    "# user_id, bbs_id\n"
   ]
  },
  {
   "cell_type": "code",
   "execution_count": 121,
   "metadata": {},
   "outputs": [],
   "source": [
    "df2.reset_index(inplace=True)"
   ]
  },
  {
   "cell_type": "code",
   "execution_count": 122,
   "metadata": {},
   "outputs": [
    {
     "data": {
      "text/html": [
       "<div>\n",
       "<style scoped>\n",
       "    .dataframe tbody tr th:only-of-type {\n",
       "        vertical-align: middle;\n",
       "    }\n",
       "\n",
       "    .dataframe tbody tr th {\n",
       "        vertical-align: top;\n",
       "    }\n",
       "\n",
       "    .dataframe thead th {\n",
       "        text-align: right;\n",
       "    }\n",
       "</style>\n",
       "<table border=\"1\" class=\"dataframe\">\n",
       "  <thead>\n",
       "    <tr style=\"text-align: right;\">\n",
       "      <th></th>\n",
       "      <th>index</th>\n",
       "      <th>A</th>\n",
       "      <th>B</th>\n",
       "      <th>C</th>\n",
       "      <th>D</th>\n",
       "    </tr>\n",
       "  </thead>\n",
       "  <tbody>\n",
       "    <tr>\n",
       "      <td>0</td>\n",
       "      <td>2020-06-25</td>\n",
       "      <td>0.881860</td>\n",
       "      <td>-0.489489</td>\n",
       "      <td>-0.809510</td>\n",
       "      <td>-0.161979</td>\n",
       "    </tr>\n",
       "    <tr>\n",
       "      <td>1</td>\n",
       "      <td>2020-06-26</td>\n",
       "      <td>-1.212559</td>\n",
       "      <td>-0.349677</td>\n",
       "      <td>-2.944039</td>\n",
       "      <td>-0.993505</td>\n",
       "    </tr>\n",
       "    <tr>\n",
       "      <td>2</td>\n",
       "      <td>2020-06-27</td>\n",
       "      <td>1.220350</td>\n",
       "      <td>-0.681578</td>\n",
       "      <td>0.176201</td>\n",
       "      <td>0.454634</td>\n",
       "    </tr>\n",
       "    <tr>\n",
       "      <td>3</td>\n",
       "      <td>2020-06-28</td>\n",
       "      <td>-0.080429</td>\n",
       "      <td>1.257662</td>\n",
       "      <td>0.645795</td>\n",
       "      <td>-0.907973</td>\n",
       "    </tr>\n",
       "    <tr>\n",
       "      <td>4</td>\n",
       "      <td>2020-06-29</td>\n",
       "      <td>-0.603151</td>\n",
       "      <td>-0.068976</td>\n",
       "      <td>1.758890</td>\n",
       "      <td>-0.459301</td>\n",
       "    </tr>\n",
       "    <tr>\n",
       "      <td>5</td>\n",
       "      <td>2020-06-30</td>\n",
       "      <td>-1.284816</td>\n",
       "      <td>0.226581</td>\n",
       "      <td>-0.785470</td>\n",
       "      <td>1.323591</td>\n",
       "    </tr>\n",
       "  </tbody>\n",
       "</table>\n",
       "</div>"
      ],
      "text/plain": [
       "       index         A         B         C         D\n",
       "0 2020-06-25  0.881860 -0.489489 -0.809510 -0.161979\n",
       "1 2020-06-26 -1.212559 -0.349677 -2.944039 -0.993505\n",
       "2 2020-06-27  1.220350 -0.681578  0.176201  0.454634\n",
       "3 2020-06-28 -0.080429  1.257662  0.645795 -0.907973\n",
       "4 2020-06-29 -0.603151 -0.068976  1.758890 -0.459301\n",
       "5 2020-06-30 -1.284816  0.226581 -0.785470  1.323591"
      ]
     },
     "execution_count": 122,
     "metadata": {},
     "output_type": "execute_result"
    }
   ],
   "source": [
    "df2"
   ]
  },
  {
   "cell_type": "code",
   "execution_count": 123,
   "metadata": {},
   "outputs": [
    {
     "data": {
      "text/html": [
       "<div>\n",
       "<style scoped>\n",
       "    .dataframe tbody tr th:only-of-type {\n",
       "        vertical-align: middle;\n",
       "    }\n",
       "\n",
       "    .dataframe tbody tr th {\n",
       "        vertical-align: top;\n",
       "    }\n",
       "\n",
       "    .dataframe thead th {\n",
       "        text-align: right;\n",
       "    }\n",
       "</style>\n",
       "<table border=\"1\" class=\"dataframe\">\n",
       "  <thead>\n",
       "    <tr style=\"text-align: right;\">\n",
       "      <th></th>\n",
       "      <th>A</th>\n",
       "      <th>B</th>\n",
       "      <th>C</th>\n",
       "      <th>D</th>\n",
       "    </tr>\n",
       "    <tr>\n",
       "      <th>index</th>\n",
       "      <th></th>\n",
       "      <th></th>\n",
       "      <th></th>\n",
       "      <th></th>\n",
       "    </tr>\n",
       "  </thead>\n",
       "  <tbody>\n",
       "    <tr>\n",
       "      <td>2020-06-25</td>\n",
       "      <td>0.881860</td>\n",
       "      <td>-0.489489</td>\n",
       "      <td>-0.809510</td>\n",
       "      <td>-0.161979</td>\n",
       "    </tr>\n",
       "    <tr>\n",
       "      <td>2020-06-26</td>\n",
       "      <td>-1.212559</td>\n",
       "      <td>-0.349677</td>\n",
       "      <td>-2.944039</td>\n",
       "      <td>-0.993505</td>\n",
       "    </tr>\n",
       "    <tr>\n",
       "      <td>2020-06-27</td>\n",
       "      <td>1.220350</td>\n",
       "      <td>-0.681578</td>\n",
       "      <td>0.176201</td>\n",
       "      <td>0.454634</td>\n",
       "    </tr>\n",
       "    <tr>\n",
       "      <td>2020-06-28</td>\n",
       "      <td>-0.080429</td>\n",
       "      <td>1.257662</td>\n",
       "      <td>0.645795</td>\n",
       "      <td>-0.907973</td>\n",
       "    </tr>\n",
       "    <tr>\n",
       "      <td>2020-06-29</td>\n",
       "      <td>-0.603151</td>\n",
       "      <td>-0.068976</td>\n",
       "      <td>1.758890</td>\n",
       "      <td>-0.459301</td>\n",
       "    </tr>\n",
       "    <tr>\n",
       "      <td>2020-06-30</td>\n",
       "      <td>-1.284816</td>\n",
       "      <td>0.226581</td>\n",
       "      <td>-0.785470</td>\n",
       "      <td>1.323591</td>\n",
       "    </tr>\n",
       "  </tbody>\n",
       "</table>\n",
       "</div>"
      ],
      "text/plain": [
       "                   A         B         C         D\n",
       "index                                             \n",
       "2020-06-25  0.881860 -0.489489 -0.809510 -0.161979\n",
       "2020-06-26 -1.212559 -0.349677 -2.944039 -0.993505\n",
       "2020-06-27  1.220350 -0.681578  0.176201  0.454634\n",
       "2020-06-28 -0.080429  1.257662  0.645795 -0.907973\n",
       "2020-06-29 -0.603151 -0.068976  1.758890 -0.459301\n",
       "2020-06-30 -1.284816  0.226581 -0.785470  1.323591"
      ]
     },
     "execution_count": 123,
     "metadata": {},
     "output_type": "execute_result"
    }
   ],
   "source": [
    "df2.set_index('index', inplace=True)\n",
    "df2"
   ]
  },
  {
   "cell_type": "code",
   "execution_count": 124,
   "metadata": {},
   "outputs": [],
   "source": [
    "df2['E'] = df2['A'] + 1 #브로드캐스팅!"
   ]
  },
  {
   "cell_type": "code",
   "execution_count": 125,
   "metadata": {},
   "outputs": [
    {
     "data": {
      "text/plain": [
       "Index(['A', 'B', 'C', 'D', 'E'], dtype='object')"
      ]
     },
     "execution_count": 125,
     "metadata": {},
     "output_type": "execute_result"
    }
   ],
   "source": [
    "df2.columns"
   ]
  },
  {
   "cell_type": "code",
   "execution_count": 126,
   "metadata": {},
   "outputs": [
    {
     "data": {
      "text/plain": [
       "index\n",
       "2020-06-25    1.881860\n",
       "2020-06-26   -0.212559\n",
       "2020-06-27    2.220350\n",
       "2020-06-28    0.919571\n",
       "2020-06-29    0.396849\n",
       "2020-06-30   -0.284816\n",
       "Name: E, dtype: float64"
      ]
     },
     "execution_count": 126,
     "metadata": {},
     "output_type": "execute_result"
    }
   ],
   "source": [
    "df2['E']"
   ]
  },
  {
   "cell_type": "code",
   "execution_count": 127,
   "metadata": {},
   "outputs": [],
   "source": [
    "df2['F'] = 0"
   ]
  },
  {
   "cell_type": "code",
   "execution_count": 128,
   "metadata": {},
   "outputs": [
    {
     "data": {
      "text/plain": [
       "index\n",
       "2020-06-25    0\n",
       "2020-06-26    0\n",
       "2020-06-27    0\n",
       "2020-06-28    0\n",
       "2020-06-29    0\n",
       "2020-06-30    0\n",
       "Name: F, dtype: int64"
      ]
     },
     "execution_count": 128,
     "metadata": {},
     "output_type": "execute_result"
    }
   ],
   "source": [
    "df2['F']"
   ]
  },
  {
   "cell_type": "code",
   "execution_count": 129,
   "metadata": {},
   "outputs": [
    {
     "data": {
      "text/plain": [
       "index\n",
       "2020-06-25    0\n",
       "2020-06-26    1\n",
       "2020-06-27    2\n",
       "2020-06-28    3\n",
       "2020-06-29    4\n",
       "2020-06-30    5\n",
       "Name: G, dtype: int32"
      ]
     },
     "execution_count": 129,
     "metadata": {},
     "output_type": "execute_result"
    }
   ],
   "source": [
    "df2['G'] = range(0, 6)\n",
    "df2['G']"
   ]
  },
  {
   "cell_type": "code",
   "execution_count": 130,
   "metadata": {},
   "outputs": [],
   "source": [
    "# index를 변경하고 싶은 경우, 기존의 인덱스를 살리고 싶으면\n",
    "# 먼저 reset_index()하고 나서 해야함.\n",
    "# reset을 하지 않는 경우 기존 index항목은 사라짐.\n",
    "df2.set_index('G', inplace=True)"
   ]
  },
  {
   "cell_type": "code",
   "execution_count": 131,
   "metadata": {},
   "outputs": [
    {
     "data": {
      "text/html": [
       "<div>\n",
       "<style scoped>\n",
       "    .dataframe tbody tr th:only-of-type {\n",
       "        vertical-align: middle;\n",
       "    }\n",
       "\n",
       "    .dataframe tbody tr th {\n",
       "        vertical-align: top;\n",
       "    }\n",
       "\n",
       "    .dataframe thead th {\n",
       "        text-align: right;\n",
       "    }\n",
       "</style>\n",
       "<table border=\"1\" class=\"dataframe\">\n",
       "  <thead>\n",
       "    <tr style=\"text-align: right;\">\n",
       "      <th></th>\n",
       "      <th>A</th>\n",
       "      <th>B</th>\n",
       "      <th>C</th>\n",
       "      <th>D</th>\n",
       "      <th>E</th>\n",
       "      <th>F</th>\n",
       "    </tr>\n",
       "    <tr>\n",
       "      <th>G</th>\n",
       "      <th></th>\n",
       "      <th></th>\n",
       "      <th></th>\n",
       "      <th></th>\n",
       "      <th></th>\n",
       "      <th></th>\n",
       "    </tr>\n",
       "  </thead>\n",
       "  <tbody>\n",
       "    <tr>\n",
       "      <td>0</td>\n",
       "      <td>0.881860</td>\n",
       "      <td>-0.489489</td>\n",
       "      <td>-0.809510</td>\n",
       "      <td>-0.161979</td>\n",
       "      <td>1.881860</td>\n",
       "      <td>0</td>\n",
       "    </tr>\n",
       "    <tr>\n",
       "      <td>1</td>\n",
       "      <td>-1.212559</td>\n",
       "      <td>-0.349677</td>\n",
       "      <td>-2.944039</td>\n",
       "      <td>-0.993505</td>\n",
       "      <td>-0.212559</td>\n",
       "      <td>0</td>\n",
       "    </tr>\n",
       "    <tr>\n",
       "      <td>2</td>\n",
       "      <td>1.220350</td>\n",
       "      <td>-0.681578</td>\n",
       "      <td>0.176201</td>\n",
       "      <td>0.454634</td>\n",
       "      <td>2.220350</td>\n",
       "      <td>0</td>\n",
       "    </tr>\n",
       "    <tr>\n",
       "      <td>3</td>\n",
       "      <td>-0.080429</td>\n",
       "      <td>1.257662</td>\n",
       "      <td>0.645795</td>\n",
       "      <td>-0.907973</td>\n",
       "      <td>0.919571</td>\n",
       "      <td>0</td>\n",
       "    </tr>\n",
       "    <tr>\n",
       "      <td>4</td>\n",
       "      <td>-0.603151</td>\n",
       "      <td>-0.068976</td>\n",
       "      <td>1.758890</td>\n",
       "      <td>-0.459301</td>\n",
       "      <td>0.396849</td>\n",
       "      <td>0</td>\n",
       "    </tr>\n",
       "    <tr>\n",
       "      <td>5</td>\n",
       "      <td>-1.284816</td>\n",
       "      <td>0.226581</td>\n",
       "      <td>-0.785470</td>\n",
       "      <td>1.323591</td>\n",
       "      <td>-0.284816</td>\n",
       "      <td>0</td>\n",
       "    </tr>\n",
       "  </tbody>\n",
       "</table>\n",
       "</div>"
      ],
      "text/plain": [
       "          A         B         C         D         E  F\n",
       "G                                                     \n",
       "0  0.881860 -0.489489 -0.809510 -0.161979  1.881860  0\n",
       "1 -1.212559 -0.349677 -2.944039 -0.993505 -0.212559  0\n",
       "2  1.220350 -0.681578  0.176201  0.454634  2.220350  0\n",
       "3 -0.080429  1.257662  0.645795 -0.907973  0.919571  0\n",
       "4 -0.603151 -0.068976  1.758890 -0.459301  0.396849  0\n",
       "5 -1.284816  0.226581 -0.785470  1.323591 -0.284816  0"
      ]
     },
     "execution_count": 131,
     "metadata": {},
     "output_type": "execute_result"
    }
   ],
   "source": [
    "df2"
   ]
  },
  {
   "cell_type": "code",
   "execution_count": 132,
   "metadata": {},
   "outputs": [
    {
     "data": {
      "text/plain": [
       "Index(['A', 'B', 'C', 'D', 'E', 'F'], dtype='object')"
      ]
     },
     "execution_count": 132,
     "metadata": {},
     "output_type": "execute_result"
    }
   ],
   "source": [
    "df2.columns"
   ]
  },
  {
   "cell_type": "code",
   "execution_count": 133,
   "metadata": {},
   "outputs": [
    {
     "data": {
      "text/html": [
       "<div>\n",
       "<style scoped>\n",
       "    .dataframe tbody tr th:only-of-type {\n",
       "        vertical-align: middle;\n",
       "    }\n",
       "\n",
       "    .dataframe tbody tr th {\n",
       "        vertical-align: top;\n",
       "    }\n",
       "\n",
       "    .dataframe thead th {\n",
       "        text-align: right;\n",
       "    }\n",
       "</style>\n",
       "<table border=\"1\" class=\"dataframe\">\n",
       "  <thead>\n",
       "    <tr style=\"text-align: right;\">\n",
       "      <th></th>\n",
       "      <th>A</th>\n",
       "      <th>B</th>\n",
       "      <th>C</th>\n",
       "      <th>D</th>\n",
       "    </tr>\n",
       "  </thead>\n",
       "  <tbody>\n",
       "    <tr>\n",
       "      <td>2020-06-25</td>\n",
       "      <td>0.881860</td>\n",
       "      <td>-0.489489</td>\n",
       "      <td>-0.809510</td>\n",
       "      <td>-0.161979</td>\n",
       "    </tr>\n",
       "    <tr>\n",
       "      <td>2020-06-26</td>\n",
       "      <td>-1.212559</td>\n",
       "      <td>-0.349677</td>\n",
       "      <td>-2.944039</td>\n",
       "      <td>-0.993505</td>\n",
       "    </tr>\n",
       "    <tr>\n",
       "      <td>2020-06-27</td>\n",
       "      <td>1.220350</td>\n",
       "      <td>-0.681578</td>\n",
       "      <td>0.176201</td>\n",
       "      <td>0.454634</td>\n",
       "    </tr>\n",
       "    <tr>\n",
       "      <td>2020-06-28</td>\n",
       "      <td>-0.080429</td>\n",
       "      <td>1.257662</td>\n",
       "      <td>0.645795</td>\n",
       "      <td>-0.907973</td>\n",
       "    </tr>\n",
       "    <tr>\n",
       "      <td>2020-06-29</td>\n",
       "      <td>-0.603151</td>\n",
       "      <td>-0.068976</td>\n",
       "      <td>1.758890</td>\n",
       "      <td>-0.459301</td>\n",
       "    </tr>\n",
       "    <tr>\n",
       "      <td>2020-06-30</td>\n",
       "      <td>-1.284816</td>\n",
       "      <td>0.226581</td>\n",
       "      <td>-0.785470</td>\n",
       "      <td>1.323591</td>\n",
       "    </tr>\n",
       "  </tbody>\n",
       "</table>\n",
       "</div>"
      ],
      "text/plain": [
       "                   A         B         C         D\n",
       "2020-06-25  0.881860 -0.489489 -0.809510 -0.161979\n",
       "2020-06-26 -1.212559 -0.349677 -2.944039 -0.993505\n",
       "2020-06-27  1.220350 -0.681578  0.176201  0.454634\n",
       "2020-06-28 -0.080429  1.257662  0.645795 -0.907973\n",
       "2020-06-29 -0.603151 -0.068976  1.758890 -0.459301\n",
       "2020-06-30 -1.284816  0.226581 -0.785470  1.323591"
      ]
     },
     "execution_count": 133,
     "metadata": {},
     "output_type": "execute_result"
    }
   ],
   "source": [
    "df3 = df.copy()\n",
    "df3"
   ]
  },
  {
   "cell_type": "code",
   "execution_count": 134,
   "metadata": {},
   "outputs": [],
   "source": [
    "# E 항목을 파생변수로 만드세요 1~10범위 값\n",
    "# F 항목을 파생변수로 만드세요 A열과 C의 합\n",
    "# H 항목을 파생변수로 만드세여 1로 설정\n",
    "# Z 항목을 파생변수로 만드세요 1~9까지의 랜덤한 값으로 설정"
   ]
  },
  {
   "cell_type": "code",
   "execution_count": 135,
   "metadata": {},
   "outputs": [],
   "source": [
    "import random"
   ]
  },
  {
   "cell_type": "code",
   "execution_count": 136,
   "metadata": {},
   "outputs": [
    {
     "data": {
      "text/plain": [
       "2020-06-25    10\n",
       "2020-06-26     3\n",
       "2020-06-27     4\n",
       "2020-06-28     7\n",
       "2020-06-29     4\n",
       "2020-06-30     7\n",
       "Freq: D, Name: E, dtype: int64"
      ]
     },
     "execution_count": 136,
     "metadata": {},
     "output_type": "execute_result"
    }
   ],
   "source": [
    "# E 항목을 파생변수로 만드세요 1~10범위 값\n",
    "data = range(1,11) # 1~10\n",
    "data2 = []\n",
    "for i in range(6):\n",
    "    data2.append(random.choice(data))\n",
    "df3['E'] = data2\n",
    "df3['E']"
   ]
  },
  {
   "cell_type": "code",
   "execution_count": 137,
   "metadata": {},
   "outputs": [
    {
     "data": {
      "text/html": [
       "<div>\n",
       "<style scoped>\n",
       "    .dataframe tbody tr th:only-of-type {\n",
       "        vertical-align: middle;\n",
       "    }\n",
       "\n",
       "    .dataframe tbody tr th {\n",
       "        vertical-align: top;\n",
       "    }\n",
       "\n",
       "    .dataframe thead th {\n",
       "        text-align: right;\n",
       "    }\n",
       "</style>\n",
       "<table border=\"1\" class=\"dataframe\">\n",
       "  <thead>\n",
       "    <tr style=\"text-align: right;\">\n",
       "      <th></th>\n",
       "      <th>A</th>\n",
       "      <th>B</th>\n",
       "      <th>C</th>\n",
       "      <th>D</th>\n",
       "      <th>E</th>\n",
       "      <th>F</th>\n",
       "    </tr>\n",
       "  </thead>\n",
       "  <tbody>\n",
       "    <tr>\n",
       "      <td>2020-06-25</td>\n",
       "      <td>0.881860</td>\n",
       "      <td>-0.489489</td>\n",
       "      <td>-0.809510</td>\n",
       "      <td>-0.161979</td>\n",
       "      <td>10</td>\n",
       "      <td>0.072351</td>\n",
       "    </tr>\n",
       "    <tr>\n",
       "      <td>2020-06-26</td>\n",
       "      <td>-1.212559</td>\n",
       "      <td>-0.349677</td>\n",
       "      <td>-2.944039</td>\n",
       "      <td>-0.993505</td>\n",
       "      <td>3</td>\n",
       "      <td>-4.156598</td>\n",
       "    </tr>\n",
       "    <tr>\n",
       "      <td>2020-06-27</td>\n",
       "      <td>1.220350</td>\n",
       "      <td>-0.681578</td>\n",
       "      <td>0.176201</td>\n",
       "      <td>0.454634</td>\n",
       "      <td>4</td>\n",
       "      <td>1.396550</td>\n",
       "    </tr>\n",
       "    <tr>\n",
       "      <td>2020-06-28</td>\n",
       "      <td>-0.080429</td>\n",
       "      <td>1.257662</td>\n",
       "      <td>0.645795</td>\n",
       "      <td>-0.907973</td>\n",
       "      <td>7</td>\n",
       "      <td>0.565365</td>\n",
       "    </tr>\n",
       "    <tr>\n",
       "      <td>2020-06-29</td>\n",
       "      <td>-0.603151</td>\n",
       "      <td>-0.068976</td>\n",
       "      <td>1.758890</td>\n",
       "      <td>-0.459301</td>\n",
       "      <td>4</td>\n",
       "      <td>1.155739</td>\n",
       "    </tr>\n",
       "    <tr>\n",
       "      <td>2020-06-30</td>\n",
       "      <td>-1.284816</td>\n",
       "      <td>0.226581</td>\n",
       "      <td>-0.785470</td>\n",
       "      <td>1.323591</td>\n",
       "      <td>7</td>\n",
       "      <td>-2.070285</td>\n",
       "    </tr>\n",
       "  </tbody>\n",
       "</table>\n",
       "</div>"
      ],
      "text/plain": [
       "                   A         B         C         D   E         F\n",
       "2020-06-25  0.881860 -0.489489 -0.809510 -0.161979  10  0.072351\n",
       "2020-06-26 -1.212559 -0.349677 -2.944039 -0.993505   3 -4.156598\n",
       "2020-06-27  1.220350 -0.681578  0.176201  0.454634   4  1.396550\n",
       "2020-06-28 -0.080429  1.257662  0.645795 -0.907973   7  0.565365\n",
       "2020-06-29 -0.603151 -0.068976  1.758890 -0.459301   4  1.155739\n",
       "2020-06-30 -1.284816  0.226581 -0.785470  1.323591   7 -2.070285"
      ]
     },
     "execution_count": 137,
     "metadata": {},
     "output_type": "execute_result"
    }
   ],
   "source": [
    "# F 항목을 파생변수로 만드세요 A열과 C열의 합\n",
    "df3['F'] = df['A'] + df['C']\n",
    "df3"
   ]
  },
  {
   "cell_type": "code",
   "execution_count": 138,
   "metadata": {},
   "outputs": [
    {
     "data": {
      "text/html": [
       "<div>\n",
       "<style scoped>\n",
       "    .dataframe tbody tr th:only-of-type {\n",
       "        vertical-align: middle;\n",
       "    }\n",
       "\n",
       "    .dataframe tbody tr th {\n",
       "        vertical-align: top;\n",
       "    }\n",
       "\n",
       "    .dataframe thead th {\n",
       "        text-align: right;\n",
       "    }\n",
       "</style>\n",
       "<table border=\"1\" class=\"dataframe\">\n",
       "  <thead>\n",
       "    <tr style=\"text-align: right;\">\n",
       "      <th></th>\n",
       "      <th>A</th>\n",
       "      <th>B</th>\n",
       "      <th>C</th>\n",
       "      <th>D</th>\n",
       "      <th>E</th>\n",
       "      <th>F</th>\n",
       "      <th>H</th>\n",
       "    </tr>\n",
       "  </thead>\n",
       "  <tbody>\n",
       "    <tr>\n",
       "      <td>2020-06-25</td>\n",
       "      <td>0.881860</td>\n",
       "      <td>-0.489489</td>\n",
       "      <td>-0.809510</td>\n",
       "      <td>-0.161979</td>\n",
       "      <td>10</td>\n",
       "      <td>0.072351</td>\n",
       "      <td>1</td>\n",
       "    </tr>\n",
       "    <tr>\n",
       "      <td>2020-06-26</td>\n",
       "      <td>-1.212559</td>\n",
       "      <td>-0.349677</td>\n",
       "      <td>-2.944039</td>\n",
       "      <td>-0.993505</td>\n",
       "      <td>3</td>\n",
       "      <td>-4.156598</td>\n",
       "      <td>1</td>\n",
       "    </tr>\n",
       "    <tr>\n",
       "      <td>2020-06-27</td>\n",
       "      <td>1.220350</td>\n",
       "      <td>-0.681578</td>\n",
       "      <td>0.176201</td>\n",
       "      <td>0.454634</td>\n",
       "      <td>4</td>\n",
       "      <td>1.396550</td>\n",
       "      <td>1</td>\n",
       "    </tr>\n",
       "    <tr>\n",
       "      <td>2020-06-28</td>\n",
       "      <td>-0.080429</td>\n",
       "      <td>1.257662</td>\n",
       "      <td>0.645795</td>\n",
       "      <td>-0.907973</td>\n",
       "      <td>7</td>\n",
       "      <td>0.565365</td>\n",
       "      <td>1</td>\n",
       "    </tr>\n",
       "    <tr>\n",
       "      <td>2020-06-29</td>\n",
       "      <td>-0.603151</td>\n",
       "      <td>-0.068976</td>\n",
       "      <td>1.758890</td>\n",
       "      <td>-0.459301</td>\n",
       "      <td>4</td>\n",
       "      <td>1.155739</td>\n",
       "      <td>1</td>\n",
       "    </tr>\n",
       "    <tr>\n",
       "      <td>2020-06-30</td>\n",
       "      <td>-1.284816</td>\n",
       "      <td>0.226581</td>\n",
       "      <td>-0.785470</td>\n",
       "      <td>1.323591</td>\n",
       "      <td>7</td>\n",
       "      <td>-2.070285</td>\n",
       "      <td>1</td>\n",
       "    </tr>\n",
       "  </tbody>\n",
       "</table>\n",
       "</div>"
      ],
      "text/plain": [
       "                   A         B         C         D   E         F  H\n",
       "2020-06-25  0.881860 -0.489489 -0.809510 -0.161979  10  0.072351  1\n",
       "2020-06-26 -1.212559 -0.349677 -2.944039 -0.993505   3 -4.156598  1\n",
       "2020-06-27  1.220350 -0.681578  0.176201  0.454634   4  1.396550  1\n",
       "2020-06-28 -0.080429  1.257662  0.645795 -0.907973   7  0.565365  1\n",
       "2020-06-29 -0.603151 -0.068976  1.758890 -0.459301   4  1.155739  1\n",
       "2020-06-30 -1.284816  0.226581 -0.785470  1.323591   7 -2.070285  1"
      ]
     },
     "execution_count": 138,
     "metadata": {},
     "output_type": "execute_result"
    }
   ],
   "source": [
    "# H 항목을 파생변수로 만드세여 1로 설정\n",
    "df3['H'] = 1\n",
    "df3"
   ]
  },
  {
   "cell_type": "code",
   "execution_count": 139,
   "metadata": {},
   "outputs": [
    {
     "data": {
      "text/plain": [
       "2020-06-25    7\n",
       "2020-06-26    7\n",
       "2020-06-27    7\n",
       "2020-06-28    7\n",
       "2020-06-29    7\n",
       "2020-06-30    7\n",
       "Freq: D, Name: Z, dtype: int64"
      ]
     },
     "execution_count": 139,
     "metadata": {},
     "output_type": "execute_result"
    }
   ],
   "source": [
    "df3['Z'] = random.randint(1, 10)\n",
    "df3['Z']"
   ]
  },
  {
   "cell_type": "code",
   "execution_count": 141,
   "metadata": {},
   "outputs": [
    {
     "data": {
      "text/plain": [
       "[7, 7, 5, 6, 8, 10]"
      ]
     },
     "execution_count": 141,
     "metadata": {},
     "output_type": "execute_result"
    }
   ],
   "source": [
    "data2 = []\n",
    "for _ in range(6):\n",
    "    data2.append(random.randint(1, 10))\n",
    "data2"
   ]
  },
  {
   "cell_type": "code",
   "execution_count": 140,
   "metadata": {},
   "outputs": [
    {
     "data": {
      "text/plain": [
       "2020-06-25    8\n",
       "2020-06-26    7\n",
       "2020-06-27    1\n",
       "2020-06-28    7\n",
       "2020-06-29    9\n",
       "2020-06-30    4\n",
       "Freq: D, Name: Z2, dtype: int64"
      ]
     },
     "execution_count": 140,
     "metadata": {},
     "output_type": "execute_result"
    }
   ],
   "source": [
    "# Z 항목을 파생변수로 만드세요 1~9까지의 랜덤한 값으로 설정\n",
    "\n",
    "# data2 = []\n",
    "# for _ in range(6):\n",
    "#     data2.append(random.randint(1, 10))\n",
    "# data2\n",
    "# df3['Z2'] = data2\n",
    "\n",
    "df3['Z2'] = [random.randint(1, 10) for _ in range(6)]\n",
    "df3['Z2']"
   ]
  },
  {
   "cell_type": "code",
   "execution_count": 142,
   "metadata": {},
   "outputs": [
    {
     "data": {
      "text/plain": [
       "[4, 10, 10, 2, 10, 4]"
      ]
     },
     "execution_count": 142,
     "metadata": {},
     "output_type": "execute_result"
    }
   ],
   "source": [
    "# 리스트 내포 : 결과가 항상 list\n",
    "# list comprehension\n",
    "[random.randint(1, 10) for _ in range(6)]"
   ]
  },
  {
   "cell_type": "code",
   "execution_count": 144,
   "metadata": {},
   "outputs": [
    {
     "data": {
      "text/plain": [
       "[1, 2, 3, 4, 5, 6, 7, 8, 9, 10]"
      ]
     },
     "execution_count": 144,
     "metadata": {},
     "output_type": "execute_result"
    }
   ],
   "source": [
    "# [ '반복하면서 한번에 처리할 내용' for i in range(10)]\n",
    "[i + 1 for i in range(10)]"
   ]
  },
  {
   "cell_type": "code",
   "execution_count": 153,
   "metadata": {},
   "outputs": [
    {
     "data": {
      "text/plain": [
       "[1, 3, 5, 7, 9]"
      ]
     },
     "execution_count": 153,
     "metadata": {},
     "output_type": "execute_result"
    }
   ],
   "source": [
    "# [ '반복하면서 한번에 처리할 내용' for i in range(10) if i % 2 == 0]\n",
    "[i + 1 for i in range(10) if  i % 2 == 0]"
   ]
  },
  {
   "cell_type": "code",
   "execution_count": 154,
   "metadata": {},
   "outputs": [
    {
     "name": "stdout",
     "output_type": "stream",
     "text": [
      "홍길동\n",
      "김길동\n",
      "송길동\n"
     ]
    }
   ],
   "source": [
    "name = ['홍길동', '김길동', '송길동']\n",
    "for x in name :\n",
    "    print(x)"
   ]
  },
  {
   "cell_type": "code",
   "execution_count": 158,
   "metadata": {},
   "outputs": [
    {
     "data": {
      "text/plain": [
       "['홍길동님', '김길동님', '송길동님']"
      ]
     },
     "execution_count": 158,
     "metadata": {},
     "output_type": "execute_result"
    }
   ],
   "source": [
    "# name에 들어있는 각각의 모든 데이터에 '님'자를 붙여주세요\n",
    "[i + '님' for i in name]"
   ]
  },
  {
   "cell_type": "code",
   "execution_count": null,
   "metadata": {},
   "outputs": [],
   "source": [
    "# name에 들어있는 각각의 모든 데이터에 '신입'자를 붙여주세요"
   ]
  },
  {
   "cell_type": "code",
   "execution_count": 161,
   "metadata": {},
   "outputs": [
    {
     "data": {
      "text/plain": [
       "['신입 홍길동', '신입 김길동', '신입 송길동']"
      ]
     },
     "execution_count": 161,
     "metadata": {},
     "output_type": "execute_result"
    }
   ],
   "source": [
    "['신입 ' + i  for i in name]"
   ]
  },
  {
   "cell_type": "code",
   "execution_count": 188,
   "metadata": {},
   "outputs": [],
   "source": [
    "a_list = range(1, 100, 2)"
   ]
  },
  {
   "cell_type": "code",
   "execution_count": 191,
   "metadata": {},
   "outputs": [
    {
     "data": {
      "text/plain": [
       "50"
      ]
     },
     "execution_count": 191,
     "metadata": {},
     "output_type": "execute_result"
    }
   ],
   "source": [
    "# a_list에 몇 개가 들어 있는지 세어보기\n",
    "count = 0\n",
    "result = [count + 1 for x in a_list]\n",
    "sum(result)"
   ]
  },
  {
   "cell_type": "code",
   "execution_count": null,
   "metadata": {},
   "outputs": [],
   "source": [
    "# a_list의 각각의 모든 데이터에 0.1을 곱하기. 변경된 a_list의 합과 평균"
   ]
  },
  {
   "cell_type": "code",
   "execution_count": 199,
   "metadata": {},
   "outputs": [],
   "source": [
    "a_list = [x * 0.1 for x in a_list]"
   ]
  },
  {
   "cell_type": "code",
   "execution_count": 200,
   "metadata": {},
   "outputs": [
    {
     "data": {
      "text/plain": [
       "250.0"
      ]
     },
     "execution_count": 200,
     "metadata": {},
     "output_type": "execute_result"
    }
   ],
   "source": [
    "np.sum(a_list)"
   ]
  },
  {
   "cell_type": "code",
   "execution_count": 201,
   "metadata": {},
   "outputs": [
    {
     "data": {
      "text/plain": [
       "5.0"
      ]
     },
     "execution_count": 201,
     "metadata": {},
     "output_type": "execute_result"
    }
   ],
   "source": [
    "np.mean(a_list)"
   ]
  },
  {
   "cell_type": "code",
   "execution_count": 203,
   "metadata": {},
   "outputs": [
    {
     "data": {
      "text/plain": [
       "2.8861739379323628"
      ]
     },
     "execution_count": 203,
     "metadata": {},
     "output_type": "execute_result"
    }
   ],
   "source": [
    "np.std(a_list)"
   ]
  },
  {
   "cell_type": "code",
   "execution_count": 204,
   "metadata": {},
   "outputs": [
    {
     "data": {
      "text/plain": [
       "[0.010000000000000002, 0.030000000000000006, 0.05]"
      ]
     },
     "execution_count": 204,
     "metadata": {},
     "output_type": "execute_result"
    }
   ],
   "source": [
    "[x * 0.1 for x in a_list][:3]"
   ]
  },
  {
   "cell_type": "code",
   "execution_count": 209,
   "metadata": {},
   "outputs": [],
   "source": [
    "df3.drop(columns=['H'], inplace=True) #열 삭제"
   ]
  },
  {
   "cell_type": "code",
   "execution_count": 211,
   "metadata": {},
   "outputs": [
    {
     "data": {
      "text/html": [
       "<div>\n",
       "<style scoped>\n",
       "    .dataframe tbody tr th:only-of-type {\n",
       "        vertical-align: middle;\n",
       "    }\n",
       "\n",
       "    .dataframe tbody tr th {\n",
       "        vertical-align: top;\n",
       "    }\n",
       "\n",
       "    .dataframe thead th {\n",
       "        text-align: right;\n",
       "    }\n",
       "</style>\n",
       "<table border=\"1\" class=\"dataframe\">\n",
       "  <thead>\n",
       "    <tr style=\"text-align: right;\">\n",
       "      <th></th>\n",
       "      <th>A</th>\n",
       "      <th>B</th>\n",
       "      <th>C</th>\n",
       "      <th>D</th>\n",
       "      <th>E</th>\n",
       "      <th>F</th>\n",
       "      <th>Z</th>\n",
       "      <th>Z2</th>\n",
       "    </tr>\n",
       "  </thead>\n",
       "  <tbody>\n",
       "    <tr>\n",
       "      <td>2020-06-25</td>\n",
       "      <td>0.881860</td>\n",
       "      <td>-0.489489</td>\n",
       "      <td>-0.809510</td>\n",
       "      <td>-0.161979</td>\n",
       "      <td>10</td>\n",
       "      <td>0.072351</td>\n",
       "      <td>7</td>\n",
       "      <td>8</td>\n",
       "    </tr>\n",
       "    <tr>\n",
       "      <td>2020-06-26</td>\n",
       "      <td>-1.212559</td>\n",
       "      <td>-0.349677</td>\n",
       "      <td>-2.944039</td>\n",
       "      <td>-0.993505</td>\n",
       "      <td>3</td>\n",
       "      <td>-4.156598</td>\n",
       "      <td>7</td>\n",
       "      <td>7</td>\n",
       "    </tr>\n",
       "    <tr>\n",
       "      <td>2020-06-27</td>\n",
       "      <td>1.220350</td>\n",
       "      <td>-0.681578</td>\n",
       "      <td>0.176201</td>\n",
       "      <td>0.454634</td>\n",
       "      <td>4</td>\n",
       "      <td>1.396550</td>\n",
       "      <td>7</td>\n",
       "      <td>1</td>\n",
       "    </tr>\n",
       "    <tr>\n",
       "      <td>2020-06-28</td>\n",
       "      <td>-0.080429</td>\n",
       "      <td>1.257662</td>\n",
       "      <td>0.645795</td>\n",
       "      <td>-0.907973</td>\n",
       "      <td>7</td>\n",
       "      <td>0.565365</td>\n",
       "      <td>7</td>\n",
       "      <td>7</td>\n",
       "    </tr>\n",
       "    <tr>\n",
       "      <td>2020-06-29</td>\n",
       "      <td>-0.603151</td>\n",
       "      <td>-0.068976</td>\n",
       "      <td>1.758890</td>\n",
       "      <td>-0.459301</td>\n",
       "      <td>4</td>\n",
       "      <td>1.155739</td>\n",
       "      <td>7</td>\n",
       "      <td>9</td>\n",
       "    </tr>\n",
       "    <tr>\n",
       "      <td>2020-06-30</td>\n",
       "      <td>-1.284816</td>\n",
       "      <td>0.226581</td>\n",
       "      <td>-0.785470</td>\n",
       "      <td>1.323591</td>\n",
       "      <td>7</td>\n",
       "      <td>-2.070285</td>\n",
       "      <td>7</td>\n",
       "      <td>4</td>\n",
       "    </tr>\n",
       "  </tbody>\n",
       "</table>\n",
       "</div>"
      ],
      "text/plain": [
       "                   A         B         C         D   E         F  Z  Z2\n",
       "2020-06-25  0.881860 -0.489489 -0.809510 -0.161979  10  0.072351  7   8\n",
       "2020-06-26 -1.212559 -0.349677 -2.944039 -0.993505   3 -4.156598  7   7\n",
       "2020-06-27  1.220350 -0.681578  0.176201  0.454634   4  1.396550  7   1\n",
       "2020-06-28 -0.080429  1.257662  0.645795 -0.907973   7  0.565365  7   7\n",
       "2020-06-29 -0.603151 -0.068976  1.758890 -0.459301   4  1.155739  7   9\n",
       "2020-06-30 -1.284816  0.226581 -0.785470  1.323591   7 -2.070285  7   4"
      ]
     },
     "execution_count": 211,
     "metadata": {},
     "output_type": "execute_result"
    }
   ],
   "source": [
    "df3"
   ]
  },
  {
   "cell_type": "code",
   "execution_count": 1,
   "metadata": {},
   "outputs": [
    {
     "ename": "NameError",
     "evalue": "name 'df3' is not defined",
     "output_type": "error",
     "traceback": [
      "\u001b[1;31m---------------------------------------------------------------------------\u001b[0m",
      "\u001b[1;31mNameError\u001b[0m                                 Traceback (most recent call last)",
      "\u001b[1;32m<ipython-input-1-9ed7a33a7f9b>\u001b[0m in \u001b[0;36m<module>\u001b[1;34m\u001b[0m\n\u001b[1;32m----> 1\u001b[1;33m \u001b[0mdf3\u001b[0m\u001b[1;33m.\u001b[0m\u001b[0mdrop\u001b[0m\u001b[1;33m(\u001b[0m\u001b[0mcolumns\u001b[0m\u001b[1;33m=\u001b[0m\u001b[1;33m[\u001b[0m\u001b[1;34m'Z'\u001b[0m\u001b[1;33m,\u001b[0m \u001b[1;34m'Z2'\u001b[0m\u001b[1;33m,\u001b[0m \u001b[1;34m'E'\u001b[0m\u001b[1;33m,\u001b[0m \u001b[1;34m'F'\u001b[0m\u001b[1;33m]\u001b[0m\u001b[1;33m,\u001b[0m \u001b[0minplace\u001b[0m\u001b[1;33m=\u001b[0m\u001b[1;32mTrue\u001b[0m\u001b[1;33m)\u001b[0m \u001b[1;31m#열 삭제\u001b[0m\u001b[1;33m\u001b[0m\u001b[1;33m\u001b[0m\u001b[0m\n\u001b[0m\u001b[0;32m      2\u001b[0m \u001b[0mdf3\u001b[0m\u001b[1;33m\u001b[0m\u001b[1;33m\u001b[0m\u001b[0m\n",
      "\u001b[1;31mNameError\u001b[0m: name 'df3' is not defined"
     ]
    }
   ],
   "source": [
    "df3.drop(columns=['Z', 'Z2', 'E', 'F'], inplace=True) #열 삭제\n",
    "df3"
   ]
  },
  {
   "cell_type": "code",
   "execution_count": null,
   "metadata": {},
   "outputs": [],
   "source": [
    "df3.drop(index='2020-0626')"
   ]
  }
 ],
 "metadata": {
  "kernelspec": {
   "display_name": "Python 3",
   "language": "python",
   "name": "python3"
  },
  "language_info": {
   "codemirror_mode": {
    "name": "ipython",
    "version": 3
   },
   "file_extension": ".py",
   "mimetype": "text/x-python",
   "name": "python",
   "nbconvert_exporter": "python",
   "pygments_lexer": "ipython3",
   "version": "3.7.4"
  }
 },
 "nbformat": 4,
 "nbformat_minor": 2
}
