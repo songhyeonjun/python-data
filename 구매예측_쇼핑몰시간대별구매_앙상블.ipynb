{
  "nbformat": 4,
  "nbformat_minor": 0,
  "metadata": {
    "colab": {
      "name": "구매에측-쇼핑몰시간대별구매-앙상블",
      "provenance": [],
      "collapsed_sections": [],
      "authorship_tag": "ABX9TyNn/CjhrcIfXBicOC7KBbUC",
      "include_colab_link": true
    },
    "kernelspec": {
      "name": "python3",
      "display_name": "Python 3"
    },
    "language_info": {
      "name": "python"
    }
  },
  "cells": [
    {
      "cell_type": "markdown",
      "metadata": {
        "id": "view-in-github",
        "colab_type": "text"
      },
      "source": [
        "<a href=\"https://colab.research.google.com/github/songhyeonjun/python-data/blob/master/%EA%B5%AC%EB%A7%A4%EC%98%88%EC%B8%A1_%EC%87%BC%ED%95%91%EB%AA%B0%EC%8B%9C%EA%B0%84%EB%8C%80%EB%B3%84%EA%B5%AC%EB%A7%A4_%EC%95%99%EC%83%81%EB%B8%94.ipynb\" target=\"_parent\"><img src=\"https://colab.research.google.com/assets/colab-badge.svg\" alt=\"Open In Colab\"/></a>"
      ]
    },
    {
      "cell_type": "code",
      "execution_count": 100,
      "metadata": {
        "id": "MuroOq5O2hJ_"
      },
      "outputs": [],
      "source": [
        "# 주요 라이브러리 import\n",
        "import warnings\n",
        "warnings.filterwarnings(action='ignore')\n",
        "import time\n",
        "from IPython.display import Image\n",
        "import pandas as pd\n",
        "import numpy as np\n",
        "\n",
        "import matplotlib.pyplot as plt\n",
        "import seaborn as sns\n",
        "\n",
        "from sklearn.model_selection import train_test_split\n",
        "from sklearn.model_selection import GridSearchCV\n",
        "from sklearn.model_selection import cross_val_score\n",
        "from sklearn.metrics import *\n",
        "from sklearn.metrics import roc_curve, roc_auc_score\n",
        "\n",
        "from matplotlib import rc, font_manager\n",
        "import matplotlib.font_manager as fm\n",
        "from sklearn.preprocessing import StandardScaler\n",
        "from sklearn.preprocessing import MinMaxScaler\n",
        "from sklearn.preprocessing import LabelEncoder\n",
        "\n",
        "from sklearn.tree import DecisionTreeClassifier\n",
        "from sklearn.svm import SVC\n",
        "from sklearn.linear_model import LogisticRegression\n",
        "\n",
        "from sklearn.ensemble import VotingClassifier\n",
        "from sklearn.ensemble import RandomForestClassifier\n"
      ]
    },
    {
      "cell_type": "code",
      "source": [
        "df = pd.read_csv(\"/content/shopping-label-2.csv\")\n",
        "df.head()"
      ],
      "metadata": {
        "colab": {
          "base_uri": "https://localhost:8080/",
          "height": 302
        },
        "id": "qOS8bYQ32r-V",
        "outputId": "57a9e2f8-96d2-43c4-b5e0-bff42641e003"
      },
      "execution_count": 69,
      "outputs": [
        {
          "output_type": "execute_result",
          "data": {
            "text/plain": [
              "   Unnamed: 0  CRI_YM  TAG  평일휴일  요일  시간대  성별  연령대   건수합계   Unnamed: 8  \\\n",
              "0           0  201905    0     0   1    1   0    0     291         NaN   \n",
              "1           1  202005    0     0   3    3   1    2    6225         NaN   \n",
              "2           2  201905    0     1   4    5   1    1      51         NaN   \n",
              "3           3  202105    1     1   4    3   0    2    3564         NaN   \n",
              "4           4  202005    0     0   3    2   0    3    1101         NaN   \n",
              "\n",
              "   Unnamed: 9  Unnamed: 10  \n",
              "0         NaN          NaN  \n",
              "1         NaN          NaN  \n",
              "2  1, 1, 1, 1          1.0  \n",
              "3     02월 02일          2.0  \n",
              "4           3          3.0  "
            ],
            "text/html": [
              "\n",
              "  <div id=\"df-662af39e-418c-4d7c-8526-bc6654c27c74\">\n",
              "    <div class=\"colab-df-container\">\n",
              "      <div>\n",
              "<style scoped>\n",
              "    .dataframe tbody tr th:only-of-type {\n",
              "        vertical-align: middle;\n",
              "    }\n",
              "\n",
              "    .dataframe tbody tr th {\n",
              "        vertical-align: top;\n",
              "    }\n",
              "\n",
              "    .dataframe thead th {\n",
              "        text-align: right;\n",
              "    }\n",
              "</style>\n",
              "<table border=\"1\" class=\"dataframe\">\n",
              "  <thead>\n",
              "    <tr style=\"text-align: right;\">\n",
              "      <th></th>\n",
              "      <th>Unnamed: 0</th>\n",
              "      <th>CRI_YM</th>\n",
              "      <th>TAG</th>\n",
              "      <th>평일휴일</th>\n",
              "      <th>요일</th>\n",
              "      <th>시간대</th>\n",
              "      <th>성별</th>\n",
              "      <th>연령대</th>\n",
              "      <th>건수합계</th>\n",
              "      <th>Unnamed: 8</th>\n",
              "      <th>Unnamed: 9</th>\n",
              "      <th>Unnamed: 10</th>\n",
              "    </tr>\n",
              "  </thead>\n",
              "  <tbody>\n",
              "    <tr>\n",
              "      <th>0</th>\n",
              "      <td>0</td>\n",
              "      <td>201905</td>\n",
              "      <td>0</td>\n",
              "      <td>0</td>\n",
              "      <td>1</td>\n",
              "      <td>1</td>\n",
              "      <td>0</td>\n",
              "      <td>0</td>\n",
              "      <td>291</td>\n",
              "      <td>NaN</td>\n",
              "      <td>NaN</td>\n",
              "      <td>NaN</td>\n",
              "    </tr>\n",
              "    <tr>\n",
              "      <th>1</th>\n",
              "      <td>1</td>\n",
              "      <td>202005</td>\n",
              "      <td>0</td>\n",
              "      <td>0</td>\n",
              "      <td>3</td>\n",
              "      <td>3</td>\n",
              "      <td>1</td>\n",
              "      <td>2</td>\n",
              "      <td>6225</td>\n",
              "      <td>NaN</td>\n",
              "      <td>NaN</td>\n",
              "      <td>NaN</td>\n",
              "    </tr>\n",
              "    <tr>\n",
              "      <th>2</th>\n",
              "      <td>2</td>\n",
              "      <td>201905</td>\n",
              "      <td>0</td>\n",
              "      <td>1</td>\n",
              "      <td>4</td>\n",
              "      <td>5</td>\n",
              "      <td>1</td>\n",
              "      <td>1</td>\n",
              "      <td>51</td>\n",
              "      <td>NaN</td>\n",
              "      <td>1, 1, 1, 1</td>\n",
              "      <td>1.0</td>\n",
              "    </tr>\n",
              "    <tr>\n",
              "      <th>3</th>\n",
              "      <td>3</td>\n",
              "      <td>202105</td>\n",
              "      <td>1</td>\n",
              "      <td>1</td>\n",
              "      <td>4</td>\n",
              "      <td>3</td>\n",
              "      <td>0</td>\n",
              "      <td>2</td>\n",
              "      <td>3564</td>\n",
              "      <td>NaN</td>\n",
              "      <td>02월 02일</td>\n",
              "      <td>2.0</td>\n",
              "    </tr>\n",
              "    <tr>\n",
              "      <th>4</th>\n",
              "      <td>4</td>\n",
              "      <td>202005</td>\n",
              "      <td>0</td>\n",
              "      <td>0</td>\n",
              "      <td>3</td>\n",
              "      <td>2</td>\n",
              "      <td>0</td>\n",
              "      <td>3</td>\n",
              "      <td>1101</td>\n",
              "      <td>NaN</td>\n",
              "      <td>3</td>\n",
              "      <td>3.0</td>\n",
              "    </tr>\n",
              "  </tbody>\n",
              "</table>\n",
              "</div>\n",
              "      <button class=\"colab-df-convert\" onclick=\"convertToInteractive('df-662af39e-418c-4d7c-8526-bc6654c27c74')\"\n",
              "              title=\"Convert this dataframe to an interactive table.\"\n",
              "              style=\"display:none;\">\n",
              "        \n",
              "  <svg xmlns=\"http://www.w3.org/2000/svg\" height=\"24px\"viewBox=\"0 0 24 24\"\n",
              "       width=\"24px\">\n",
              "    <path d=\"M0 0h24v24H0V0z\" fill=\"none\"/>\n",
              "    <path d=\"M18.56 5.44l.94 2.06.94-2.06 2.06-.94-2.06-.94-.94-2.06-.94 2.06-2.06.94zm-11 1L8.5 8.5l.94-2.06 2.06-.94-2.06-.94L8.5 2.5l-.94 2.06-2.06.94zm10 10l.94 2.06.94-2.06 2.06-.94-2.06-.94-.94-2.06-.94 2.06-2.06.94z\"/><path d=\"M17.41 7.96l-1.37-1.37c-.4-.4-.92-.59-1.43-.59-.52 0-1.04.2-1.43.59L10.3 9.45l-7.72 7.72c-.78.78-.78 2.05 0 2.83L4 21.41c.39.39.9.59 1.41.59.51 0 1.02-.2 1.41-.59l7.78-7.78 2.81-2.81c.8-.78.8-2.07 0-2.86zM5.41 20L4 18.59l7.72-7.72 1.47 1.35L5.41 20z\"/>\n",
              "  </svg>\n",
              "      </button>\n",
              "      \n",
              "  <style>\n",
              "    .colab-df-container {\n",
              "      display:flex;\n",
              "      flex-wrap:wrap;\n",
              "      gap: 12px;\n",
              "    }\n",
              "\n",
              "    .colab-df-convert {\n",
              "      background-color: #E8F0FE;\n",
              "      border: none;\n",
              "      border-radius: 50%;\n",
              "      cursor: pointer;\n",
              "      display: none;\n",
              "      fill: #1967D2;\n",
              "      height: 32px;\n",
              "      padding: 0 0 0 0;\n",
              "      width: 32px;\n",
              "    }\n",
              "\n",
              "    .colab-df-convert:hover {\n",
              "      background-color: #E2EBFA;\n",
              "      box-shadow: 0px 1px 2px rgba(60, 64, 67, 0.3), 0px 1px 3px 1px rgba(60, 64, 67, 0.15);\n",
              "      fill: #174EA6;\n",
              "    }\n",
              "\n",
              "    [theme=dark] .colab-df-convert {\n",
              "      background-color: #3B4455;\n",
              "      fill: #D2E3FC;\n",
              "    }\n",
              "\n",
              "    [theme=dark] .colab-df-convert:hover {\n",
              "      background-color: #434B5C;\n",
              "      box-shadow: 0px 1px 3px 1px rgba(0, 0, 0, 0.15);\n",
              "      filter: drop-shadow(0px 1px 2px rgba(0, 0, 0, 0.3));\n",
              "      fill: #FFFFFF;\n",
              "    }\n",
              "  </style>\n",
              "\n",
              "      <script>\n",
              "        const buttonEl =\n",
              "          document.querySelector('#df-662af39e-418c-4d7c-8526-bc6654c27c74 button.colab-df-convert');\n",
              "        buttonEl.style.display =\n",
              "          google.colab.kernel.accessAllowed ? 'block' : 'none';\n",
              "\n",
              "        async function convertToInteractive(key) {\n",
              "          const element = document.querySelector('#df-662af39e-418c-4d7c-8526-bc6654c27c74');\n",
              "          const dataTable =\n",
              "            await google.colab.kernel.invokeFunction('convertToInteractive',\n",
              "                                                     [key], {});\n",
              "          if (!dataTable) return;\n",
              "\n",
              "          const docLinkHtml = 'Like what you see? Visit the ' +\n",
              "            '<a target=\"_blank\" href=https://colab.research.google.com/notebooks/data_table.ipynb>data table notebook</a>'\n",
              "            + ' to learn more about interactive tables.';\n",
              "          element.innerHTML = '';\n",
              "          dataTable['output_type'] = 'display_data';\n",
              "          await google.colab.output.renderOutput(dataTable, element);\n",
              "          const docLink = document.createElement('div');\n",
              "          docLink.innerHTML = docLinkHtml;\n",
              "          element.appendChild(docLink);\n",
              "        }\n",
              "      </script>\n",
              "    </div>\n",
              "  </div>\n",
              "  "
            ]
          },
          "metadata": {},
          "execution_count": 69
        }
      ]
    },
    {
      "cell_type": "code",
      "source": [
        "df.drop('Unnamed: 0', axis=1, inplace=True)\n",
        "df"
      ],
      "metadata": {
        "colab": {
          "base_uri": "https://localhost:8080/",
          "height": 520
        },
        "id": "sz_b-8NH2z9c",
        "outputId": "81c3ec8a-7c59-48e9-a844-a2c5692e1507"
      },
      "execution_count": 70,
      "outputs": [
        {
          "output_type": "execute_result",
          "data": {
            "text/plain": [
              "       CRI_YM  TAG  평일휴일  요일  시간대  성별  연령대   건수합계   Unnamed: 8  Unnamed: 9  \\\n",
              "0      201905    0     0   1    1   0    0     291         NaN         NaN   \n",
              "1      202005    0     0   3    3   1    2    6225         NaN         NaN   \n",
              "2      201905    0     1   4    5   1    1      51         NaN  1, 1, 1, 1   \n",
              "3      202105    1     1   4    3   0    2    3564         NaN     02월 02일   \n",
              "4      202005    0     0   3    2   0    3    1101         NaN           3   \n",
              "...       ...  ...   ...  ..  ...  ..  ...     ...         ...         ...   \n",
              "19992  201905    1     0   3    5   1    2    2470         NaN         NaN   \n",
              "19993  202005    0     0   0    3   0    2     107         NaN         NaN   \n",
              "19994  202105    1     0   6    4   1    1     603         NaN         NaN   \n",
              "19995  202105    0     0   6    2   0    4     415         NaN         NaN   \n",
              "19996  201905    0     0   1    2   1    2     580         NaN         NaN   \n",
              "\n",
              "       Unnamed: 10  \n",
              "0              NaN  \n",
              "1              NaN  \n",
              "2              1.0  \n",
              "3              2.0  \n",
              "4              3.0  \n",
              "...            ...  \n",
              "19992          NaN  \n",
              "19993          NaN  \n",
              "19994          NaN  \n",
              "19995          NaN  \n",
              "19996          NaN  \n",
              "\n",
              "[19997 rows x 11 columns]"
            ],
            "text/html": [
              "\n",
              "  <div id=\"df-23f4b63a-0805-4a38-a962-5ff89c22e7b0\">\n",
              "    <div class=\"colab-df-container\">\n",
              "      <div>\n",
              "<style scoped>\n",
              "    .dataframe tbody tr th:only-of-type {\n",
              "        vertical-align: middle;\n",
              "    }\n",
              "\n",
              "    .dataframe tbody tr th {\n",
              "        vertical-align: top;\n",
              "    }\n",
              "\n",
              "    .dataframe thead th {\n",
              "        text-align: right;\n",
              "    }\n",
              "</style>\n",
              "<table border=\"1\" class=\"dataframe\">\n",
              "  <thead>\n",
              "    <tr style=\"text-align: right;\">\n",
              "      <th></th>\n",
              "      <th>CRI_YM</th>\n",
              "      <th>TAG</th>\n",
              "      <th>평일휴일</th>\n",
              "      <th>요일</th>\n",
              "      <th>시간대</th>\n",
              "      <th>성별</th>\n",
              "      <th>연령대</th>\n",
              "      <th>건수합계</th>\n",
              "      <th>Unnamed: 8</th>\n",
              "      <th>Unnamed: 9</th>\n",
              "      <th>Unnamed: 10</th>\n",
              "    </tr>\n",
              "  </thead>\n",
              "  <tbody>\n",
              "    <tr>\n",
              "      <th>0</th>\n",
              "      <td>201905</td>\n",
              "      <td>0</td>\n",
              "      <td>0</td>\n",
              "      <td>1</td>\n",
              "      <td>1</td>\n",
              "      <td>0</td>\n",
              "      <td>0</td>\n",
              "      <td>291</td>\n",
              "      <td>NaN</td>\n",
              "      <td>NaN</td>\n",
              "      <td>NaN</td>\n",
              "    </tr>\n",
              "    <tr>\n",
              "      <th>1</th>\n",
              "      <td>202005</td>\n",
              "      <td>0</td>\n",
              "      <td>0</td>\n",
              "      <td>3</td>\n",
              "      <td>3</td>\n",
              "      <td>1</td>\n",
              "      <td>2</td>\n",
              "      <td>6225</td>\n",
              "      <td>NaN</td>\n",
              "      <td>NaN</td>\n",
              "      <td>NaN</td>\n",
              "    </tr>\n",
              "    <tr>\n",
              "      <th>2</th>\n",
              "      <td>201905</td>\n",
              "      <td>0</td>\n",
              "      <td>1</td>\n",
              "      <td>4</td>\n",
              "      <td>5</td>\n",
              "      <td>1</td>\n",
              "      <td>1</td>\n",
              "      <td>51</td>\n",
              "      <td>NaN</td>\n",
              "      <td>1, 1, 1, 1</td>\n",
              "      <td>1.0</td>\n",
              "    </tr>\n",
              "    <tr>\n",
              "      <th>3</th>\n",
              "      <td>202105</td>\n",
              "      <td>1</td>\n",
              "      <td>1</td>\n",
              "      <td>4</td>\n",
              "      <td>3</td>\n",
              "      <td>0</td>\n",
              "      <td>2</td>\n",
              "      <td>3564</td>\n",
              "      <td>NaN</td>\n",
              "      <td>02월 02일</td>\n",
              "      <td>2.0</td>\n",
              "    </tr>\n",
              "    <tr>\n",
              "      <th>4</th>\n",
              "      <td>202005</td>\n",
              "      <td>0</td>\n",
              "      <td>0</td>\n",
              "      <td>3</td>\n",
              "      <td>2</td>\n",
              "      <td>0</td>\n",
              "      <td>3</td>\n",
              "      <td>1101</td>\n",
              "      <td>NaN</td>\n",
              "      <td>3</td>\n",
              "      <td>3.0</td>\n",
              "    </tr>\n",
              "    <tr>\n",
              "      <th>...</th>\n",
              "      <td>...</td>\n",
              "      <td>...</td>\n",
              "      <td>...</td>\n",
              "      <td>...</td>\n",
              "      <td>...</td>\n",
              "      <td>...</td>\n",
              "      <td>...</td>\n",
              "      <td>...</td>\n",
              "      <td>...</td>\n",
              "      <td>...</td>\n",
              "      <td>...</td>\n",
              "    </tr>\n",
              "    <tr>\n",
              "      <th>19992</th>\n",
              "      <td>201905</td>\n",
              "      <td>1</td>\n",
              "      <td>0</td>\n",
              "      <td>3</td>\n",
              "      <td>5</td>\n",
              "      <td>1</td>\n",
              "      <td>2</td>\n",
              "      <td>2470</td>\n",
              "      <td>NaN</td>\n",
              "      <td>NaN</td>\n",
              "      <td>NaN</td>\n",
              "    </tr>\n",
              "    <tr>\n",
              "      <th>19993</th>\n",
              "      <td>202005</td>\n",
              "      <td>0</td>\n",
              "      <td>0</td>\n",
              "      <td>0</td>\n",
              "      <td>3</td>\n",
              "      <td>0</td>\n",
              "      <td>2</td>\n",
              "      <td>107</td>\n",
              "      <td>NaN</td>\n",
              "      <td>NaN</td>\n",
              "      <td>NaN</td>\n",
              "    </tr>\n",
              "    <tr>\n",
              "      <th>19994</th>\n",
              "      <td>202105</td>\n",
              "      <td>1</td>\n",
              "      <td>0</td>\n",
              "      <td>6</td>\n",
              "      <td>4</td>\n",
              "      <td>1</td>\n",
              "      <td>1</td>\n",
              "      <td>603</td>\n",
              "      <td>NaN</td>\n",
              "      <td>NaN</td>\n",
              "      <td>NaN</td>\n",
              "    </tr>\n",
              "    <tr>\n",
              "      <th>19995</th>\n",
              "      <td>202105</td>\n",
              "      <td>0</td>\n",
              "      <td>0</td>\n",
              "      <td>6</td>\n",
              "      <td>2</td>\n",
              "      <td>0</td>\n",
              "      <td>4</td>\n",
              "      <td>415</td>\n",
              "      <td>NaN</td>\n",
              "      <td>NaN</td>\n",
              "      <td>NaN</td>\n",
              "    </tr>\n",
              "    <tr>\n",
              "      <th>19996</th>\n",
              "      <td>201905</td>\n",
              "      <td>0</td>\n",
              "      <td>0</td>\n",
              "      <td>1</td>\n",
              "      <td>2</td>\n",
              "      <td>1</td>\n",
              "      <td>2</td>\n",
              "      <td>580</td>\n",
              "      <td>NaN</td>\n",
              "      <td>NaN</td>\n",
              "      <td>NaN</td>\n",
              "    </tr>\n",
              "  </tbody>\n",
              "</table>\n",
              "<p>19997 rows × 11 columns</p>\n",
              "</div>\n",
              "      <button class=\"colab-df-convert\" onclick=\"convertToInteractive('df-23f4b63a-0805-4a38-a962-5ff89c22e7b0')\"\n",
              "              title=\"Convert this dataframe to an interactive table.\"\n",
              "              style=\"display:none;\">\n",
              "        \n",
              "  <svg xmlns=\"http://www.w3.org/2000/svg\" height=\"24px\"viewBox=\"0 0 24 24\"\n",
              "       width=\"24px\">\n",
              "    <path d=\"M0 0h24v24H0V0z\" fill=\"none\"/>\n",
              "    <path d=\"M18.56 5.44l.94 2.06.94-2.06 2.06-.94-2.06-.94-.94-2.06-.94 2.06-2.06.94zm-11 1L8.5 8.5l.94-2.06 2.06-.94-2.06-.94L8.5 2.5l-.94 2.06-2.06.94zm10 10l.94 2.06.94-2.06 2.06-.94-2.06-.94-.94-2.06-.94 2.06-2.06.94z\"/><path d=\"M17.41 7.96l-1.37-1.37c-.4-.4-.92-.59-1.43-.59-.52 0-1.04.2-1.43.59L10.3 9.45l-7.72 7.72c-.78.78-.78 2.05 0 2.83L4 21.41c.39.39.9.59 1.41.59.51 0 1.02-.2 1.41-.59l7.78-7.78 2.81-2.81c.8-.78.8-2.07 0-2.86zM5.41 20L4 18.59l7.72-7.72 1.47 1.35L5.41 20z\"/>\n",
              "  </svg>\n",
              "      </button>\n",
              "      \n",
              "  <style>\n",
              "    .colab-df-container {\n",
              "      display:flex;\n",
              "      flex-wrap:wrap;\n",
              "      gap: 12px;\n",
              "    }\n",
              "\n",
              "    .colab-df-convert {\n",
              "      background-color: #E8F0FE;\n",
              "      border: none;\n",
              "      border-radius: 50%;\n",
              "      cursor: pointer;\n",
              "      display: none;\n",
              "      fill: #1967D2;\n",
              "      height: 32px;\n",
              "      padding: 0 0 0 0;\n",
              "      width: 32px;\n",
              "    }\n",
              "\n",
              "    .colab-df-convert:hover {\n",
              "      background-color: #E2EBFA;\n",
              "      box-shadow: 0px 1px 2px rgba(60, 64, 67, 0.3), 0px 1px 3px 1px rgba(60, 64, 67, 0.15);\n",
              "      fill: #174EA6;\n",
              "    }\n",
              "\n",
              "    [theme=dark] .colab-df-convert {\n",
              "      background-color: #3B4455;\n",
              "      fill: #D2E3FC;\n",
              "    }\n",
              "\n",
              "    [theme=dark] .colab-df-convert:hover {\n",
              "      background-color: #434B5C;\n",
              "      box-shadow: 0px 1px 3px 1px rgba(0, 0, 0, 0.15);\n",
              "      filter: drop-shadow(0px 1px 2px rgba(0, 0, 0, 0.3));\n",
              "      fill: #FFFFFF;\n",
              "    }\n",
              "  </style>\n",
              "\n",
              "      <script>\n",
              "        const buttonEl =\n",
              "          document.querySelector('#df-23f4b63a-0805-4a38-a962-5ff89c22e7b0 button.colab-df-convert');\n",
              "        buttonEl.style.display =\n",
              "          google.colab.kernel.accessAllowed ? 'block' : 'none';\n",
              "\n",
              "        async function convertToInteractive(key) {\n",
              "          const element = document.querySelector('#df-23f4b63a-0805-4a38-a962-5ff89c22e7b0');\n",
              "          const dataTable =\n",
              "            await google.colab.kernel.invokeFunction('convertToInteractive',\n",
              "                                                     [key], {});\n",
              "          if (!dataTable) return;\n",
              "\n",
              "          const docLinkHtml = 'Like what you see? Visit the ' +\n",
              "            '<a target=\"_blank\" href=https://colab.research.google.com/notebooks/data_table.ipynb>data table notebook</a>'\n",
              "            + ' to learn more about interactive tables.';\n",
              "          element.innerHTML = '';\n",
              "          dataTable['output_type'] = 'display_data';\n",
              "          await google.colab.output.renderOutput(dataTable, element);\n",
              "          const docLink = document.createElement('div');\n",
              "          docLink.innerHTML = docLinkHtml;\n",
              "          element.appendChild(docLink);\n",
              "        }\n",
              "      </script>\n",
              "    </div>\n",
              "  </div>\n",
              "  "
            ]
          },
          "metadata": {},
          "execution_count": 70
        }
      ]
    },
    {
      "cell_type": "code",
      "source": [
        "X_train, X_test, y_train, y_test = train_test_split(\n",
        "    df[['평일휴일', '요일', '시간대', '성별', '연령대',' 건수합계 ']],\n",
        "    df['TAG'],\n",
        "    test_size=0.2,\n",
        "    random_state=42\n",
        "\n",
        ")"
      ],
      "metadata": {
        "id": "atJTpypr2__M"
      },
      "execution_count": 71,
      "outputs": []
    },
    {
      "cell_type": "code",
      "source": [
        "X_train.shape, X_test.shape"
      ],
      "metadata": {
        "id": "-HjgtqKt39ij",
        "colab": {
          "base_uri": "https://localhost:8080/"
        },
        "outputId": "38b2b4d1-1dd2-42fd-bd10-c028588279ab"
      },
      "execution_count": 72,
      "outputs": [
        {
          "output_type": "execute_result",
          "data": {
            "text/plain": [
              "((15997, 6), (4000, 6))"
            ]
          },
          "metadata": {},
          "execution_count": 72
        }
      ]
    },
    {
      "cell_type": "code",
      "source": [
        "y_train.shape, y_test.shape"
      ],
      "metadata": {
        "colab": {
          "base_uri": "https://localhost:8080/"
        },
        "id": "WTr-Y-LIUrvp",
        "outputId": "ea8e8e69-4116-4ba1-f9d7-9f8e6f3af2c9"
      },
      "execution_count": 73,
      "outputs": [
        {
          "output_type": "execute_result",
          "data": {
            "text/plain": [
              "((15997,), (4000,))"
            ]
          },
          "metadata": {},
          "execution_count": 73
        }
      ]
    },
    {
      "cell_type": "code",
      "source": [
        "y_train[:10]"
      ],
      "metadata": {
        "colab": {
          "base_uri": "https://localhost:8080/"
        },
        "id": "SRqtSnj0wurr",
        "outputId": "362bb7ff-c1bc-4f28-858c-e851bdd8b51a"
      },
      "execution_count": 74,
      "outputs": [
        {
          "output_type": "execute_result",
          "data": {
            "text/plain": [
              "5748     1\n",
              "1688     1\n",
              "8174     2\n",
              "10194    0\n",
              "4667     1\n",
              "5198     0\n",
              "196      0\n",
              "518      3\n",
              "19140    0\n",
              "17652    1\n",
              "Name: TAG, dtype: int64"
            ]
          },
          "metadata": {},
          "execution_count": 74
        }
      ]
    },
    {
      "cell_type": "code",
      "source": [
        "pd.Series(''.join(' 12,345 '.strip().split(','))).astype('int64')"
      ],
      "metadata": {
        "colab": {
          "base_uri": "https://localhost:8080/"
        },
        "id": "pljJHyCbvjFL",
        "outputId": "70753b6a-4bf6-481e-eba5-c72f4107d6b9"
      },
      "execution_count": 75,
      "outputs": [
        {
          "output_type": "execute_result",
          "data": {
            "text/plain": [
              "0    12345\n",
              "dtype: int64"
            ]
          },
          "metadata": {},
          "execution_count": 75
        }
      ]
    },
    {
      "cell_type": "code",
      "source": [
        "def minus_comma(x):\n",
        "  return pd.Series(''.join(str(x).strip().split(','))).astype('int64')"
      ],
      "metadata": {
        "id": "nAe2EVt2vyts"
      },
      "execution_count": 78,
      "outputs": []
    },
    {
      "cell_type": "code",
      "source": [
        "df[' 건수합계 '] = df[' 건수합계 '].apply(minus_comma)\n",
        "df[' 건수합계 '][:1]"
      ],
      "metadata": {
        "colab": {
          "base_uri": "https://localhost:8080/"
        },
        "id": "-HBuQeg4v8wL",
        "outputId": "8327068d-0b26-44a5-8e3f-45399fa6ad58"
      },
      "execution_count": 79,
      "outputs": [
        {
          "output_type": "execute_result",
          "data": {
            "text/plain": [
              "0    291\n",
              "Name:  건수합계 , dtype: int64"
            ]
          },
          "metadata": {},
          "execution_count": 79
        }
      ]
    },
    {
      "cell_type": "code",
      "source": [
        "dt = DecisionTreeClassifier(\n",
        "    criterion = 'gini',\n",
        "    max_depth = 3,\n",
        "    random_state = 100\n",
        ")\n",
        "dt.fit(X_train, y_train)"
      ],
      "metadata": {
        "colab": {
          "base_uri": "https://localhost:8080/"
        },
        "id": "cADsVc8lwFzz",
        "outputId": "bc5c3df5-bf17-4eaa-964e-c06f3ad69de5"
      },
      "execution_count": 82,
      "outputs": [
        {
          "output_type": "execute_result",
          "data": {
            "text/plain": [
              "DecisionTreeClassifier(max_depth=3, random_state=100)"
            ]
          },
          "metadata": {},
          "execution_count": 82
        }
      ]
    },
    {
      "cell_type": "code",
      "source": [
        "dt_predt = dt.predict(X_test)"
      ],
      "metadata": {
        "id": "P-8qbonkx1Ha"
      },
      "execution_count": 83,
      "outputs": []
    },
    {
      "cell_type": "code",
      "source": [
        "dt_acc = accuracy_score(y_test, dt_predt)\n",
        "dt_acc"
      ],
      "metadata": {
        "colab": {
          "base_uri": "https://localhost:8080/"
        },
        "id": "0nx-5bq4x5OK",
        "outputId": "11df32e1-bedf-4e3b-e570-685ab79d7694"
      },
      "execution_count": 84,
      "outputs": [
        {
          "output_type": "execute_result",
          "data": {
            "text/plain": [
              "0.61075"
            ]
          },
          "metadata": {},
          "execution_count": 84
        }
      ]
    },
    {
      "cell_type": "code",
      "source": [
        "## 소프트보팅이 하드보팅보다 정확도가 높아서 많이 쓰인다."
      ],
      "metadata": {
        "id": "Ssm9smnIyIG0"
      },
      "execution_count": 85,
      "outputs": []
    },
    {
      "cell_type": "code",
      "source": [
        "## bagging\n",
        "rf = RandomForestClassifier(\n",
        "    n_estimators=100,\n",
        "    max_depth=5,\n",
        "    random_state=10\n",
        ")\n",
        "rf.fit(X_train, y_train)"
      ],
      "metadata": {
        "colab": {
          "base_uri": "https://localhost:8080/"
        },
        "id": "yoc-GVsvyMoC",
        "outputId": "afa8a9b0-6b17-4962-d7de-fd7c3f96cf63"
      },
      "execution_count": 86,
      "outputs": [
        {
          "output_type": "execute_result",
          "data": {
            "text/plain": [
              "RandomForestClassifier(max_depth=5, random_state=10)"
            ]
          },
          "metadata": {},
          "execution_count": 86
        }
      ]
    },
    {
      "cell_type": "code",
      "source": [
        "rf_predt = rf.predict(X_test)\n",
        "rf_acc = accuracy_score(y_test, rf_predt)\n",
        "rf_acc"
      ],
      "metadata": {
        "colab": {
          "base_uri": "https://localhost:8080/"
        },
        "id": "YniC_JqYyc4S",
        "outputId": "82f6bae2-9749-4cd7-e3d1-4cca496bbef8"
      },
      "execution_count": 88,
      "outputs": [
        {
          "output_type": "execute_result",
          "data": {
            "text/plain": [
              "0.6125"
            ]
          },
          "metadata": {},
          "execution_count": 88
        }
      ]
    },
    {
      "cell_type": "code",
      "source": [
        "confusion_matrix(y_test, rf_predt)"
      ],
      "metadata": {
        "colab": {
          "base_uri": "https://localhost:8080/"
        },
        "id": "dDW5K9Yszus6",
        "outputId": "81da77fa-8a91-403a-b3bf-3d3a0f0c1a1e"
      },
      "execution_count": 89,
      "outputs": [
        {
          "output_type": "execute_result",
          "data": {
            "text/plain": [
              "array([[2401,    6,    0,    0],\n",
              "       [ 922,   49,    0,    0],\n",
              "       [ 324,    0,    0,    0],\n",
              "       [ 290,    8,    0,    0]])"
            ]
          },
          "metadata": {},
          "execution_count": 89
        }
      ]
    },
    {
      "cell_type": "code",
      "source": [
        "from sklearn.ensemble import GradientBoostingClassifier\n",
        "from sklearn.ensemble import HistGradientBoostingClassifier\n",
        "from xgboost import XGBClassifier\n",
        "from lightgbm import LGBMClassifier"
      ],
      "metadata": {
        "id": "c8OWKqDnz1q6"
      },
      "execution_count": 90,
      "outputs": []
    },
    {
      "cell_type": "code",
      "source": [
        "gbc = GradientBoostingClassifier(\n",
        "    random_state=42\n",
        ").fit(X_train, y_train)"
      ],
      "metadata": {
        "id": "LchMjo5vz3vL"
      },
      "execution_count": 91,
      "outputs": []
    },
    {
      "cell_type": "code",
      "source": [
        "xgb = XGBClassifier(\n",
        "    random_state=42,\n",
        "    tree_method='hist'\n",
        ").fit(X_train, y_train)"
      ],
      "metadata": {
        "id": "Kkg-OvAV0APy"
      },
      "execution_count": 92,
      "outputs": []
    },
    {
      "cell_type": "code",
      "source": [
        "gbc_predicted = gbc.predict(X_test)\n",
        "accuracy_score(y_test, gbc_predicted)"
      ],
      "metadata": {
        "colab": {
          "base_uri": "https://localhost:8080/"
        },
        "id": "IYf-l4ys0Bry",
        "outputId": "899d6251-238c-49be-96e5-0ace74137553"
      },
      "execution_count": 93,
      "outputs": [
        {
          "output_type": "execute_result",
          "data": {
            "text/plain": [
              "0.6185"
            ]
          },
          "metadata": {},
          "execution_count": 93
        }
      ]
    },
    {
      "cell_type": "code",
      "source": [
        "xgb_predicted = xgb.predict(X_test)\n",
        "accuracy_score(y_test, xgb_predicted)"
      ],
      "metadata": {
        "colab": {
          "base_uri": "https://localhost:8080/"
        },
        "id": "dLlCoOeQ0CjZ",
        "outputId": "80668fbf-8920-4881-a4f7-fc583ab21215"
      },
      "execution_count": 94,
      "outputs": [
        {
          "output_type": "execute_result",
          "data": {
            "text/plain": [
              "0.6215"
            ]
          },
          "metadata": {},
          "execution_count": 94
        }
      ]
    },
    {
      "cell_type": "code",
      "source": [
        "x = np.arange(2)\n",
        "plt.bar(x, height = [\n",
        "                     accuracy_score(y_test, gbc_predicted),\n",
        "                     accuracy_score(y_test, xgb_predicted),\n",
        "])\n",
        "plt.xticks(x, ['gbc', 'xgb']);"
      ],
      "metadata": {
        "colab": {
          "base_uri": "https://localhost:8080/",
          "height": 265
        },
        "id": "av8zoqKU0FYJ",
        "outputId": "bfb075cf-d71f-453b-f42d-60a6d33812d7"
      },
      "execution_count": 95,
      "outputs": [
        {
          "output_type": "display_data",
          "data": {
            "text/plain": [
              "<Figure size 432x288 with 1 Axes>"
            ],
            "image/png": "[encoded data removed]"
          },
          "metadata": {
            "needs_background": "light"
          }
        }
      ]
    },
    {
      "cell_type": "code",
      "source": [
        "confusion_matrix(y_test, xgb_predicted)"
      ],
      "metadata": {
        "colab": {
          "base_uri": "https://localhost:8080/"
        },
        "id": "3y_pqZcR0YEy",
        "outputId": "aaafd477-4f65-497c-e16a-b936f5d97791"
      },
      "execution_count": 96,
      "outputs": [
        {
          "output_type": "execute_result",
          "data": {
            "text/plain": [
              "array([[2361,   41,    0,    5],\n",
              "       [ 844,  125,    0,    2],\n",
              "       [ 324,    0,    0,    0],\n",
              "       [ 255,   43,    0,    0]])"
            ]
          },
          "metadata": {},
          "execution_count": 96
        }
      ]
    },
    {
      "cell_type": "code",
      "source": [
        "!pip install catboost"
      ],
      "metadata": {
        "colab": {
          "base_uri": "https://localhost:8080/"
        },
        "id": "BNerRd9O1Nyq",
        "outputId": "77ed2588-0d37-46f8-871c-c4bba65aa88e"
      },
      "execution_count": 102,
      "outputs": [
        {
          "output_type": "stream",
          "name": "stdout",
          "text": [
            "Collecting catboost\n",
            "  Downloading catboost-1.0.5-cp37-none-manylinux1_x86_64.whl (76.6 MB)\n",
            "\u001b[K     |████████████████████████████████| 76.6 MB 51 kB/s \n",
            "\u001b[?25hRequirement already satisfied: scipy in /usr/local/lib/python3.7/dist-packages (from catboost) (1.4.1)\n",
            "Requirement already satisfied: six in /usr/local/lib/python3.7/dist-packages (from catboost) (1.15.0)\n",
            "Requirement already satisfied: numpy>=1.16.0 in /usr/local/lib/python3.7/dist-packages (from catboost) (1.21.5)\n",
            "Requirement already satisfied: pandas>=0.24.0 in /usr/local/lib/python3.7/dist-packages (from catboost) (1.3.5)\n",
            "Requirement already satisfied: graphviz in /usr/local/lib/python3.7/dist-packages (from catboost) (0.10.1)\n",
            "Requirement already satisfied: plotly in /usr/local/lib/python3.7/dist-packages (from catboost) (5.5.0)\n",
            "Requirement already satisfied: matplotlib in /usr/local/lib/python3.7/dist-packages (from catboost) (3.2.2)\n",
            "Requirement already satisfied: python-dateutil>=2.7.3 in /usr/local/lib/python3.7/dist-packages (from pandas>=0.24.0->catboost) (2.8.2)\n",
            "Requirement already satisfied: pytz>=2017.3 in /usr/local/lib/python3.7/dist-packages (from pandas>=0.24.0->catboost) (2018.9)\n",
            "Requirement already satisfied: cycler>=0.10 in /usr/local/lib/python3.7/dist-packages (from matplotlib->catboost) (0.11.0)\n",
            "Requirement already satisfied: kiwisolver>=1.0.1 in /usr/local/lib/python3.7/dist-packages (from matplotlib->catboost) (1.4.2)\n",
            "Requirement already satisfied: pyparsing!=2.0.4,!=2.1.2,!=2.1.6,>=2.0.1 in /usr/local/lib/python3.7/dist-packages (from matplotlib->catboost) (3.0.8)\n",
            "Requirement already satisfied: typing-extensions in /usr/local/lib/python3.7/dist-packages (from kiwisolver>=1.0.1->matplotlib->catboost) (4.1.1)\n",
            "Requirement already satisfied: tenacity>=6.2.0 in /usr/local/lib/python3.7/dist-packages (from plotly->catboost) (8.0.1)\n",
            "Installing collected packages: catboost\n",
            "Successfully installed catboost-1.0.5\n"
          ]
        }
      ]
    },
    {
      "cell_type": "code",
      "source": [
        "import catboost as cat"
      ],
      "metadata": {
        "id": "EgWE8ZUM07w6"
      },
      "execution_count": 105,
      "outputs": []
    },
    {
      "cell_type": "code",
      "source": [
        "#catBoost는 target 라벨링 해주어야 함.\n",
        "cb = cat.Pool(data = X_train, label= y_train)\n",
        "cp = {\n",
        "    'max_depth' : 10,\n",
        "    'learning_rate' : 0.01,\n",
        "    'n_estimators' : 100,\n",
        "    'eval_metric' : 'Accuracy',\n",
        "    'loss_function' : 'MultiClass'\n",
        "}\n",
        "cat_model = cat.train(pool=cb, params=cp)"
      ],
      "metadata": {
        "colab": {
          "base_uri": "https://localhost:8080/"
        },
        "id": "Bsn0Dz860a8y",
        "outputId": "7afa3d17-c411-45ae-9cb7-736371d1fb15"
      },
      "execution_count": 106,
      "outputs": [
        {
          "output_type": "stream",
          "name": "stdout",
          "text": [
            "0:\tlearn: 0.6194286\ttotal: 179ms\tremaining: 17.7s\n",
            "1:\tlearn: 0.6164281\ttotal: 208ms\tremaining: 10.2s\n",
            "2:\tlearn: 0.6198037\ttotal: 246ms\tremaining: 7.95s\n",
            "3:\tlearn: 0.6221792\ttotal: 307ms\tremaining: 7.36s\n",
            "4:\tlearn: 0.6225542\ttotal: 397ms\tremaining: 7.54s\n",
            "5:\tlearn: 0.6229918\ttotal: 466ms\tremaining: 7.29s\n",
            "6:\tlearn: 0.6219916\ttotal: 484ms\tremaining: 6.43s\n",
            "7:\tlearn: 0.6218041\ttotal: 543ms\tremaining: 6.25s\n",
            "8:\tlearn: 0.6214915\ttotal: 613ms\tremaining: 6.2s\n",
            "9:\tlearn: 0.6218041\ttotal: 690ms\tremaining: 6.21s\n",
            "10:\tlearn: 0.6213665\ttotal: 710ms\tremaining: 5.74s\n",
            "11:\tlearn: 0.6213665\ttotal: 783ms\tremaining: 5.75s\n",
            "12:\tlearn: 0.6219291\ttotal: 871ms\tremaining: 5.83s\n",
            "13:\tlearn: 0.6220541\ttotal: 944ms\tremaining: 5.8s\n",
            "14:\tlearn: 0.6219291\ttotal: 1.02s\tremaining: 5.81s\n",
            "15:\tlearn: 0.6216166\ttotal: 1.06s\tremaining: 5.56s\n",
            "16:\tlearn: 0.6213665\ttotal: 1.15s\tremaining: 5.61s\n",
            "17:\tlearn: 0.6214290\ttotal: 1.23s\tremaining: 5.58s\n",
            "18:\tlearn: 0.6216166\ttotal: 1.29s\tremaining: 5.51s\n",
            "19:\tlearn: 0.6217416\ttotal: 1.36s\tremaining: 5.44s\n",
            "20:\tlearn: 0.6216166\ttotal: 1.38s\tremaining: 5.2s\n",
            "21:\tlearn: 0.6213040\ttotal: 1.4s\tremaining: 4.96s\n",
            "22:\tlearn: 0.6214915\ttotal: 1.5s\tremaining: 5.01s\n",
            "23:\tlearn: 0.6217416\ttotal: 1.58s\tremaining: 5s\n",
            "24:\tlearn: 0.6218041\ttotal: 1.65s\tremaining: 4.95s\n",
            "25:\tlearn: 0.6222417\ttotal: 1.68s\tremaining: 4.79s\n",
            "26:\tlearn: 0.6223667\ttotal: 1.75s\tremaining: 4.73s\n",
            "27:\tlearn: 0.6220541\ttotal: 1.78s\tremaining: 4.59s\n",
            "28:\tlearn: 0.6226167\ttotal: 1.82s\tremaining: 4.47s\n",
            "29:\tlearn: 0.6226167\ttotal: 1.85s\tremaining: 4.33s\n",
            "30:\tlearn: 0.6228043\ttotal: 1.97s\tremaining: 4.38s\n",
            "31:\tlearn: 0.6230543\ttotal: 2.04s\tremaining: 4.34s\n",
            "32:\tlearn: 0.6232419\ttotal: 2.13s\tremaining: 4.33s\n",
            "33:\tlearn: 0.6234294\ttotal: 2.15s\tremaining: 4.17s\n",
            "34:\tlearn: 0.6235544\ttotal: 2.21s\tremaining: 4.11s\n",
            "35:\tlearn: 0.6233669\ttotal: 2.22s\tremaining: 3.95s\n",
            "36:\tlearn: 0.6234294\ttotal: 2.29s\tremaining: 3.9s\n",
            "37:\tlearn: 0.6229918\ttotal: 2.31s\tremaining: 3.78s\n",
            "38:\tlearn: 0.6236794\ttotal: 2.36s\tremaining: 3.69s\n",
            "39:\tlearn: 0.6239295\ttotal: 2.41s\tremaining: 3.62s\n",
            "40:\tlearn: 0.6243046\ttotal: 2.45s\tremaining: 3.52s\n",
            "41:\tlearn: 0.6243046\ttotal: 2.49s\tremaining: 3.44s\n",
            "42:\tlearn: 0.6243671\ttotal: 2.5s\tremaining: 3.32s\n",
            "43:\tlearn: 0.6243671\ttotal: 2.52s\tremaining: 3.2s\n",
            "44:\tlearn: 0.6243046\ttotal: 2.6s\tremaining: 3.18s\n",
            "45:\tlearn: 0.6241795\ttotal: 2.63s\tremaining: 3.09s\n",
            "46:\tlearn: 0.6242420\ttotal: 2.72s\tremaining: 3.06s\n",
            "47:\tlearn: 0.6244296\ttotal: 2.74s\tremaining: 2.96s\n",
            "48:\tlearn: 0.6248047\ttotal: 2.81s\tremaining: 2.92s\n",
            "49:\tlearn: 0.6246796\ttotal: 2.88s\tremaining: 2.88s\n",
            "50:\tlearn: 0.6250547\ttotal: 2.95s\tremaining: 2.83s\n",
            "51:\tlearn: 0.6257423\ttotal: 3.02s\tremaining: 2.78s\n",
            "52:\tlearn: 0.6258674\ttotal: 3.09s\tremaining: 2.74s\n",
            "53:\tlearn: 0.6260549\ttotal: 3.16s\tremaining: 2.69s\n",
            "54:\tlearn: 0.6258048\ttotal: 3.18s\tremaining: 2.6s\n",
            "55:\tlearn: 0.6259299\ttotal: 3.27s\tremaining: 2.56s\n",
            "56:\tlearn: 0.6258674\ttotal: 3.31s\tremaining: 2.49s\n",
            "57:\tlearn: 0.6258674\ttotal: 3.4s\tremaining: 2.46s\n",
            "58:\tlearn: 0.6259299\ttotal: 3.41s\tremaining: 2.37s\n",
            "59:\tlearn: 0.6263049\ttotal: 3.48s\tremaining: 2.32s\n",
            "60:\tlearn: 0.6263674\ttotal: 3.56s\tremaining: 2.28s\n",
            "61:\tlearn: 0.6259924\ttotal: 3.65s\tremaining: 2.24s\n",
            "62:\tlearn: 0.6259924\ttotal: 3.72s\tremaining: 2.18s\n",
            "63:\tlearn: 0.6261174\ttotal: 3.81s\tremaining: 2.14s\n",
            "64:\tlearn: 0.6264300\ttotal: 3.92s\tremaining: 2.11s\n",
            "65:\tlearn: 0.6264300\ttotal: 4s\tremaining: 2.06s\n",
            "66:\tlearn: 0.6263674\ttotal: 4.09s\tremaining: 2.02s\n",
            "67:\tlearn: 0.6263049\ttotal: 4.11s\tremaining: 1.93s\n",
            "68:\tlearn: 0.6263674\ttotal: 4.16s\tremaining: 1.87s\n",
            "69:\tlearn: 0.6264925\ttotal: 4.26s\tremaining: 1.82s\n",
            "70:\tlearn: 0.6263049\ttotal: 4.35s\tremaining: 1.77s\n",
            "71:\tlearn: 0.6262424\ttotal: 4.43s\tremaining: 1.72s\n",
            "72:\tlearn: 0.6260549\ttotal: 4.53s\tremaining: 1.67s\n",
            "73:\tlearn: 0.6261174\ttotal: 4.64s\tremaining: 1.63s\n",
            "74:\tlearn: 0.6260549\ttotal: 4.77s\tremaining: 1.59s\n",
            "75:\tlearn: 0.6262424\ttotal: 4.89s\tremaining: 1.54s\n",
            "76:\tlearn: 0.6260549\ttotal: 4.91s\tremaining: 1.47s\n",
            "77:\tlearn: 0.6261799\ttotal: 5.02s\tremaining: 1.42s\n",
            "78:\tlearn: 0.6263674\ttotal: 5.13s\tremaining: 1.36s\n",
            "79:\tlearn: 0.6263049\ttotal: 5.17s\tremaining: 1.29s\n",
            "80:\tlearn: 0.6263674\ttotal: 5.29s\tremaining: 1.24s\n",
            "81:\tlearn: 0.6260549\ttotal: 5.35s\tremaining: 1.17s\n",
            "82:\tlearn: 0.6262424\ttotal: 5.49s\tremaining: 1.12s\n",
            "83:\tlearn: 0.6261799\ttotal: 5.56s\tremaining: 1.06s\n",
            "84:\tlearn: 0.6261799\ttotal: 5.57s\tremaining: 983ms\n",
            "85:\tlearn: 0.6263674\ttotal: 5.64s\tremaining: 919ms\n",
            "86:\tlearn: 0.6266175\ttotal: 5.68s\tremaining: 849ms\n",
            "87:\tlearn: 0.6266800\ttotal: 5.75s\tremaining: 785ms\n",
            "88:\tlearn: 0.6266175\ttotal: 5.83s\tremaining: 720ms\n",
            "89:\tlearn: 0.6264925\ttotal: 5.85s\tremaining: 650ms\n",
            "90:\tlearn: 0.6266800\ttotal: 5.91s\tremaining: 585ms\n",
            "91:\tlearn: 0.6266800\ttotal: 5.98s\tremaining: 520ms\n",
            "92:\tlearn: 0.6267425\ttotal: 6.05s\tremaining: 455ms\n",
            "93:\tlearn: 0.6268050\ttotal: 6.13s\tremaining: 391ms\n",
            "94:\tlearn: 0.6266175\ttotal: 6.2s\tremaining: 326ms\n",
            "95:\tlearn: 0.6265550\ttotal: 6.29s\tremaining: 262ms\n",
            "96:\tlearn: 0.6266175\ttotal: 6.34s\tremaining: 196ms\n",
            "97:\tlearn: 0.6265550\ttotal: 6.35s\tremaining: 130ms\n",
            "98:\tlearn: 0.6267425\ttotal: 6.41s\tremaining: 64.8ms\n",
            "99:\tlearn: 0.6266800\ttotal: 6.49s\tremaining: 0us\n"
          ]
        }
      ]
    },
    {
      "cell_type": "code",
      "source": [
        "cat_predt = np.argmax(cat_model.predict(X_test), axis=1)\n",
        "accuracy_score(y_test, cat_predt)"
      ],
      "metadata": {
        "colab": {
          "base_uri": "https://localhost:8080/"
        },
        "id": "CuhnCpTc0cJi",
        "outputId": "efa4aaa7-3cdb-4dc6-b1eb-4759ece96c77"
      },
      "execution_count": 107,
      "outputs": [
        {
          "output_type": "execute_result",
          "data": {
            "text/plain": [
              "0.61375"
            ]
          },
          "metadata": {},
          "execution_count": 107
        }
      ]
    },
    {
      "cell_type": "code",
      "source": [
        "x = np.arange(5)\n",
        "plt.bar(x, height= [\n",
        "                    accuracy_score(y_test, dt_predt),\n",
        "                    accuracy_score(y_test, rf_predt),\n",
        "                    accuracy_score(y_test, gbc_predicted),\n",
        "                    accuracy_score(y_test, xgb_predicted),\n",
        "                    accuracy_score(y_test, cat_predt)\n",
        "            ])\n",
        "plt.xticks(x, ['dt', 'rf', 'gbc', 'xgb', 'cat']);"
      ],
      "metadata": {
        "colab": {
          "base_uri": "https://localhost:8080/",
          "height": 265
        },
        "id": "0o5HXhs61Zhp",
        "outputId": "2ec65282-344a-44de-a301-0f65086b8236"
      },
      "execution_count": 110,
      "outputs": [
        {
          "output_type": "display_data",
          "data": {
            "text/plain": [
              "<Figure size 432x288 with 1 Axes>"
            ],
            "image/png": "[encoded data removed]"
          },
          "metadata": {
            "needs_background": "light"
          }
        }
      ]
    }
  ]
}