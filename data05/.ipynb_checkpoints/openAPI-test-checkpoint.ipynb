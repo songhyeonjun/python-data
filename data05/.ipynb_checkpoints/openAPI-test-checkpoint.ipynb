{
 "cells": [
  {
   "cell_type": "code",
   "execution_count": 2,
   "metadata": {},
   "outputs": [
    {
     "name": "stdout",
     "output_type": "stream",
     "text": [
      "b'{\"header\":{\"resultCode\":\"00\",\"resultMsg\":\"NORMAL SERVICE.\"},\"body\":{\"pageNo\":1,\"totalCount\":1,\"numOfRows\":3,\"items\":[{\"YYYY\":\"2020\",\"MM\":\"12\",\"KIT_PROD_QTY\":\"8,037,499\",\"KIT_EXPRT_QTY\":\"7,770,134\",\"KIT_STOCK_QTY\":\"12,027,702\"}]}}'\n"
     ]
    }
   ],
   "source": [
    "# Python3 샘플 코드 #\n",
    "\n",
    "\n",
    "import requests\n",
    "\n",
    "url = 'http://apis.data.go.kr/1471000/CovidDagnsRgntProdExprtStusService/getCovidDagnsRgntProdExprtStusInq'\n",
    "params ={'serviceKey' : 'SqzSmUiDg98oXGI/CfXvLhwsTNYDJP9GLNvbwUasTqJmT19uBacY/qdWOgeHWAJtXXg+ce4UkqQ+y68xvSREqg==',\n",
    "         'pageNo' : '1', \n",
    "         'numOfRows' : '3',\n",
    "         'type' : 'json',\n",
    "         'YYYY' : '2020',\n",
    "         'MM' : '12' }\n",
    "\n",
    "response = requests.get(url, params=params)\n",
    "print(response.content)"
   ]
  },
  {
   "cell_type": "code",
   "execution_count": 4,
   "metadata": {},
   "outputs": [
    {
     "data": {
      "text/plain": [
       "<Response [200]>"
      ]
     },
     "execution_count": 4,
     "metadata": {},
     "output_type": "execute_result"
    }
   ],
   "source": [
    "import requests\n",
    "\n",
    "header_data = {\n",
    "    'accept': 'application/json',\n",
    "    'Authorization': 'VXgWV/f5wELzapZjJF7FEqqtFhPbNA8KBIWia3SXOCvY+CXEUok1DhybfbP4USE/g2b/QYT62C2mw3zcSWj2pg==',\n",
    "}\n",
    "\n",
    "param_data = (\n",
    "    ('page', '1'),\n",
    "    ('perPage', '1000'),\n",
    "    ('serviceKey', 'SqzSmUiDg98oXGI/CfXvLhwsTNYDJP9GLNvbwUasTqJmT19uBacY/qdWOgeHWAJtXXg+ce4UkqQ+y68xvSREqg=='),\n",
    ")\n",
    "\n",
    "## decode key가 적용되었음.\n",
    "## api마다 연결이 되지 않는다고 한다면, encode, decode를 바꾸어 테스트해볼 것.\n",
    "response = requests.get('https://api.odcloud.kr/api/15069309/v1/uddi:973ad0df-617a-4565-8e82-8ea7869e75d4', headers=header_data, params=param_data)\n",
    "response"
   ]
  },
  {
   "cell_type": "raw",
   "metadata": {},
   "source": []
  }
 ],
 "metadata": {
  "kernelspec": {
   "display_name": "Python 3",
   "language": "python",
   "name": "python3"
  },
  "language_info": {
   "codemirror_mode": {
    "name": "ipython",
    "version": 3
   },
   "file_extension": ".py",
   "mimetype": "text/x-python",
   "name": "python",
   "nbconvert_exporter": "python",
   "pygments_lexer": "ipython3",
   "version": "3.7.4"
  }
 },
 "nbformat": 4,
 "nbformat_minor": 2
}
