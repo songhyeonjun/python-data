{
 "cells": [
  {
   "cell_type": "code",
   "execution_count": 1,
   "metadata": {},
   "outputs": [],
   "source": [
    "import pymongo"
   ]
  },
  {
   "cell_type": "code",
   "execution_count": 5,
   "metadata": {},
   "outputs": [],
   "source": [
    "conn = pymongo.MongoClient()"
   ]
  },
  {
   "cell_type": "code",
   "execution_count": 6,
   "metadata": {},
   "outputs": [],
   "source": [
    "trip = conn.trip"
   ]
  },
  {
   "cell_type": "code",
   "execution_count": 7,
   "metadata": {},
   "outputs": [],
   "source": [
    "plase = trip.plase"
   ]
  },
  {
   "cell_type": "code",
   "execution_count": 25,
   "metadata": {},
   "outputs": [
    {
     "data": {
      "text/plain": [
       "<pymongo.cursor.Cursor at 0x1858a17ea48>"
      ]
     },
     "execution_count": 25,
     "metadata": {},
     "output_type": "execute_result"
    }
   ],
   "source": [
    "docs = plase.find({\"place_info\" : \"선임교\"})\n",
    "docs"
   ]
  },
  {
   "cell_type": "code",
   "execution_count": 26,
   "metadata": {},
   "outputs": [
    {
     "name": "stdout",
     "output_type": "stream",
     "text": [
      "{'_id': ObjectId('62a9319fce74247b72bea929'), 'place_idx': '0', 'place_big': '인문(문화/예술/역사)', 'place_number': '064-760-6331', 'place_small': '다리/대교', 'place_city': '서귀포시', 'place_dong': '중문동', 'place_info': '선임교', 'place_addr': '제주특별자치도 서귀포시 중문로105번길 37 (중문동)', 'place_middle': '건축/조형물', 'place_area': '제주도', 'place_img': 'https://th.bing.com/th/id/OIP.4DUvRcDSklwyJM920kc2BgHaEK?w=305&h=180&c=7&r=0&o=5&dpr=1.25&pid=1.7', 'place_mapx': '126.4171', 'place_mapy': '33.2517', 'place_detail': '천제연 폭포 위쪽에 있는 아치형의 선임교는 칠선녀다리라고도하며, 국내최초로 고유의 오작교 형태로 건설되었고 양쪽면에 각각 다른 악기를 든 선녀들이 구름을 타고 하늘로 올라가는 아름답고 웅장하게 조각된 일곱선녀상이 새겨져 있다. 구름다리, 선녀다리, 칠선녀다리, 칠선녀교, 선임교 등으로 불리워지는 것 만큼이나 유명하다. 칠선녀교라고도 하는 선임교(仙臨僑)는 천제연의 2단과 3단폭포 중간쯤에 위치해 폭포와 중문관광단지를 이어주는 아치형 철제다리이다.국내 최초로 우리 고유의 오작교 형태로 꾸며놓은 선임교 양쪽 옆면에는 칠선녀의 전설을 살려 각각 다른 악기를 든 아름답고 웅장하게 조각된 일곱 선녀상이 있으며, 한 개의 길이가 20미터나 되는 14개의 선녀상은 방문객들의 눈길을 끈다. 다리 길이는 128m이고 폭4m로 230톤 무게를 견딜 수 있다. 또한, 야간 관광에 대비하여 1백개 난간사이에 34개의 석등이 설치되어 있다.', 'place_view': '1'}\n"
     ]
    }
   ],
   "source": [
    "for doc in docs : \n",
    "    print(doc)"
   ]
  },
  {
   "cell_type": "code",
   "execution_count": 54,
   "metadata": {},
   "outputs": [
    {
     "data": {
      "text/plain": [
       "'선임교'"
      ]
     },
     "execution_count": 54,
     "metadata": {},
     "output_type": "execute_result"
    }
   ],
   "source": [
    "doc[\"place_info\"]"
   ]
  },
  {
   "cell_type": "code",
   "execution_count": 55,
   "metadata": {},
   "outputs": [],
   "source": [
    "import pandas as pd"
   ]
  },
  {
   "cell_type": "code",
   "execution_count": 64,
   "metadata": {},
   "outputs": [],
   "source": [
    "df = pd.read_csv(\"C:/Users/Song/Documents/카카오톡 받은 파일/total_train_data_oder_deeplearning.csv\")"
   ]
  },
  {
   "cell_type": "code",
   "execution_count": 65,
   "metadata": {},
   "outputs": [
    {
     "data": {
      "text/html": [
       "<div>\n",
       "<style scoped>\n",
       "    .dataframe tbody tr th:only-of-type {\n",
       "        vertical-align: middle;\n",
       "    }\n",
       "\n",
       "    .dataframe tbody tr th {\n",
       "        vertical-align: top;\n",
       "    }\n",
       "\n",
       "    .dataframe thead th {\n",
       "        text-align: right;\n",
       "    }\n",
       "</style>\n",
       "<table border=\"1\" class=\"dataframe\">\n",
       "  <thead>\n",
       "    <tr style=\"text-align: right;\">\n",
       "      <th></th>\n",
       "      <th>query</th>\n",
       "      <th>intent</th>\n",
       "    </tr>\n",
       "  </thead>\n",
       "  <tbody>\n",
       "    <tr>\n",
       "      <th>0</th>\n",
       "      <td>헬로우</td>\n",
       "      <td>0</td>\n",
       "    </tr>\n",
       "    <tr>\n",
       "      <th>1</th>\n",
       "      <td>헬로</td>\n",
       "      <td>0</td>\n",
       "    </tr>\n",
       "    <tr>\n",
       "      <th>2</th>\n",
       "      <td>안부 인사드립니다.</td>\n",
       "      <td>0</td>\n",
       "    </tr>\n",
       "    <tr>\n",
       "      <th>3</th>\n",
       "      <td>먼저 인사하려고 했는데 짝남이 먼저 인사해줬어. 더 떨렸겠어요.</td>\n",
       "      <td>0</td>\n",
       "    </tr>\n",
       "    <tr>\n",
       "      <th>4</th>\n",
       "      <td>먼저 인사할까 했는데 짝녀가 먼저 인사해줬어. 기분 좋았겠네요.</td>\n",
       "      <td>0</td>\n",
       "    </tr>\n",
       "    <tr>\n",
       "      <th>...</th>\n",
       "      <td>...</td>\n",
       "      <td>...</td>\n",
       "    </tr>\n",
       "    <tr>\n",
       "      <th>105653</th>\n",
       "      <td>힘든 연애 좋은 연애라는게 무슨 차이일까? 잘 헤어질 수 있는 사이 여부인 거 같아요.</td>\n",
       "      <td>4</td>\n",
       "    </tr>\n",
       "    <tr>\n",
       "      <th>105654</th>\n",
       "      <td>힘들어서 결혼할까봐 도피성 결혼은 하지 않길 바라요.</td>\n",
       "      <td>4</td>\n",
       "    </tr>\n",
       "    <tr>\n",
       "      <th>105655</th>\n",
       "      <td>오키</td>\n",
       "      <td>4</td>\n",
       "    </tr>\n",
       "    <tr>\n",
       "      <th>105656</th>\n",
       "      <td>도키</td>\n",
       "      <td>4</td>\n",
       "    </tr>\n",
       "    <tr>\n",
       "      <th>105657</th>\n",
       "      <td>ㅋㅋㅋ</td>\n",
       "      <td>4</td>\n",
       "    </tr>\n",
       "  </tbody>\n",
       "</table>\n",
       "<p>105658 rows × 2 columns</p>\n",
       "</div>"
      ],
      "text/plain": [
       "                                                   query  intent\n",
       "0                                                    헬로우       0\n",
       "1                                                     헬로       0\n",
       "2                                             안부 인사드립니다.       0\n",
       "3                    먼저 인사하려고 했는데 짝남이 먼저 인사해줬어. 더 떨렸겠어요.       0\n",
       "4                    먼저 인사할까 했는데 짝녀가 먼저 인사해줬어. 기분 좋았겠네요.       0\n",
       "...                                                  ...     ...\n",
       "105653  힘든 연애 좋은 연애라는게 무슨 차이일까? 잘 헤어질 수 있는 사이 여부인 거 같아요.       4\n",
       "105654                     힘들어서 결혼할까봐 도피성 결혼은 하지 않길 바라요.       4\n",
       "105655                                                오키       4\n",
       "105656                                                도키       4\n",
       "105657                                               ㅋㅋㅋ       4\n",
       "\n",
       "[105658 rows x 2 columns]"
      ]
     },
     "execution_count": 65,
     "metadata": {},
     "output_type": "execute_result"
    }
   ],
   "source": [
    "df"
   ]
  },
  {
   "cell_type": "code",
   "execution_count": 67,
   "metadata": {},
   "outputs": [
    {
     "data": {
      "text/html": [
       "<div>\n",
       "<style scoped>\n",
       "    .dataframe tbody tr th:only-of-type {\n",
       "        vertical-align: middle;\n",
       "    }\n",
       "\n",
       "    .dataframe tbody tr th {\n",
       "        vertical-align: top;\n",
       "    }\n",
       "\n",
       "    .dataframe thead th {\n",
       "        text-align: right;\n",
       "    }\n",
       "</style>\n",
       "<table border=\"1\" class=\"dataframe\">\n",
       "  <thead>\n",
       "    <tr style=\"text-align: right;\">\n",
       "      <th></th>\n",
       "      <th>query</th>\n",
       "      <th>intent</th>\n",
       "    </tr>\n",
       "  </thead>\n",
       "  <tbody>\n",
       "    <tr>\n",
       "      <th>90000</th>\n",
       "      <td>갈비탕 토요일로 취소하겠어요</td>\n",
       "      <td>3</td>\n",
       "    </tr>\n",
       "    <tr>\n",
       "      <th>90001</th>\n",
       "      <td>갈비탕 일요일로 취소하겠어요</td>\n",
       "      <td>3</td>\n",
       "    </tr>\n",
       "    <tr>\n",
       "      <th>90002</th>\n",
       "      <td>갈비탕 주문 취소</td>\n",
       "      <td>3</td>\n",
       "    </tr>\n",
       "    <tr>\n",
       "      <th>90003</th>\n",
       "      <td>갈비탕 취소</td>\n",
       "      <td>3</td>\n",
       "    </tr>\n",
       "    <tr>\n",
       "      <th>90004</th>\n",
       "      <td>갈비탕 못가요</td>\n",
       "      <td>3</td>\n",
       "    </tr>\n",
       "    <tr>\n",
       "      <th>...</th>\n",
       "      <td>...</td>\n",
       "      <td>...</td>\n",
       "    </tr>\n",
       "    <tr>\n",
       "      <th>99995</th>\n",
       "      <td>떠난 그녀를 제 마음속에서 이제는 놔주려 합니다 결국 해내고 있네요.</td>\n",
       "      <td>4</td>\n",
       "    </tr>\n",
       "    <tr>\n",
       "      <th>99996</th>\n",
       "      <td>떡볶이 좋아하지도 않는데 좋아하지 않는데 함께 하는게 사랑이죠.</td>\n",
       "      <td>4</td>\n",
       "    </tr>\n",
       "    <tr>\n",
       "      <th>99997</th>\n",
       "      <td>또 꿈에 나와버리네 에휴 이럴 때는 꿈이 웬수네요.</td>\n",
       "      <td>4</td>\n",
       "    </tr>\n",
       "    <tr>\n",
       "      <th>99998</th>\n",
       "      <td>또 다시 낮술 낮술 조금만 하세요.</td>\n",
       "      <td>4</td>\n",
       "    </tr>\n",
       "    <tr>\n",
       "      <th>99999</th>\n",
       "      <td>또 다시 돌아온 불금이네 여유를 즐겨보는 건 어떨까요.</td>\n",
       "      <td>4</td>\n",
       "    </tr>\n",
       "  </tbody>\n",
       "</table>\n",
       "<p>10000 rows × 2 columns</p>\n",
       "</div>"
      ],
      "text/plain": [
       "                                        query  intent\n",
       "90000                         갈비탕 토요일로 취소하겠어요       3\n",
       "90001                         갈비탕 일요일로 취소하겠어요       3\n",
       "90002                               갈비탕 주문 취소       3\n",
       "90003                                  갈비탕 취소       3\n",
       "90004                                 갈비탕 못가요       3\n",
       "...                                       ...     ...\n",
       "99995  떠난 그녀를 제 마음속에서 이제는 놔주려 합니다 결국 해내고 있네요.       4\n",
       "99996     떡볶이 좋아하지도 않는데 좋아하지 않는데 함께 하는게 사랑이죠.       4\n",
       "99997            또 꿈에 나와버리네 에휴 이럴 때는 꿈이 웬수네요.       4\n",
       "99998                     또 다시 낮술 낮술 조금만 하세요.       4\n",
       "99999          또 다시 돌아온 불금이네 여유를 즐겨보는 건 어떨까요.       4\n",
       "\n",
       "[10000 rows x 2 columns]"
      ]
     },
     "execution_count": 67,
     "metadata": {},
     "output_type": "execute_result"
    }
   ],
   "source": [
    "df[90000:100000]"
   ]
  },
  {
   "cell_type": "code",
   "execution_count": null,
   "metadata": {},
   "outputs": [],
   "source": []
  }
 ],
 "metadata": {
  "kernelspec": {
   "display_name": "Python 3",
   "language": "python",
   "name": "python3"
  },
  "language_info": {
   "codemirror_mode": {
    "name": "ipython",
    "version": 3
   },
   "file_extension": ".py",
   "mimetype": "text/x-python",
   "name": "python",
   "nbconvert_exporter": "python",
   "pygments_lexer": "ipython3",
   "version": "3.7.4"
  }
 },
 "nbformat": 4,
 "nbformat_minor": 2
}
