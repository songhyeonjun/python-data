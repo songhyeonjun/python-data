{
 "cells": [
  {
   "cell_type": "code",
   "execution_count": 119,
   "metadata": {},
   "outputs": [],
   "source": [
    "# 주요 라이브러리 import\n",
    "import warnings\n",
    "warnings.filterwarnings(action='ignore')\n",
    "import time\n",
    "from IPython.display import Image\n",
    "import pandas as pd\n",
    "import numpy as np\n",
    "\n",
    "import matplotlib.pyplot as plt\n",
    "import seaborn as sns\n",
    "\n",
    "from sklearn.model_selection import train_test_split\n",
    "from sklearn.model_selection import GridSearchCV\n",
    "from sklearn.model_selection import cross_val_score\n",
    "from sklearn.metrics import *\n",
    "\n",
    "from matplotlib import rc, font_manager\n",
    "import matplotlib.font_manager as fm\n",
    "from sklearn.preprocessing import StandardScaler\n",
    "\n",
    "from sklearn.preprocessing import MinMaxScaler\n",
    "\n",
    "from sklearn.neighbors import KNeighborsClassifier\n",
    "from sklearn.svm import SVC\n",
    "from sklearn.tree import DecisionTreeClassifier\n",
    "\n",
    "# 디렉토리 및 파일 이름에 맞추어 변경\n",
    "font_location = '../Jalnan.ttf'#윈도우안에있는 폰트파일주소.\n",
    "# font_location = './NanumGothic.ttf'\n",
    "font_name = fm.FontProperties(fname=font_location).get_name()\n",
    "rc('font', family=font_name)"
   ]
  },
  {
   "cell_type": "code",
   "execution_count": 120,
   "metadata": {},
   "outputs": [
    {
     "data": {
      "text/html": [
       "<div>\n",
       "<style scoped>\n",
       "    .dataframe tbody tr th:only-of-type {\n",
       "        vertical-align: middle;\n",
       "    }\n",
       "\n",
       "    .dataframe tbody tr th {\n",
       "        vertical-align: top;\n",
       "    }\n",
       "\n",
       "    .dataframe thead th {\n",
       "        text-align: right;\n",
       "    }\n",
       "</style>\n",
       "<table border=\"1\" class=\"dataframe\">\n",
       "  <thead>\n",
       "    <tr style=\"text-align: right;\">\n",
       "      <th></th>\n",
       "      <th>UDI</th>\n",
       "      <th>Product ID</th>\n",
       "      <th>Type</th>\n",
       "      <th>Air temperature [K]</th>\n",
       "      <th>Process temperature [K]</th>\n",
       "      <th>Rotational speed [rpm]</th>\n",
       "      <th>Torque [Nm]</th>\n",
       "      <th>Tool wear [min]</th>\n",
       "      <th>Target</th>\n",
       "      <th>Failure Type</th>\n",
       "    </tr>\n",
       "  </thead>\n",
       "  <tbody>\n",
       "    <tr>\n",
       "      <td>0</td>\n",
       "      <td>1</td>\n",
       "      <td>M14860</td>\n",
       "      <td>M</td>\n",
       "      <td>298.1</td>\n",
       "      <td>308.6</td>\n",
       "      <td>1551</td>\n",
       "      <td>42.8</td>\n",
       "      <td>0</td>\n",
       "      <td>0</td>\n",
       "      <td>No Failure</td>\n",
       "    </tr>\n",
       "    <tr>\n",
       "      <td>1</td>\n",
       "      <td>2</td>\n",
       "      <td>L47181</td>\n",
       "      <td>L</td>\n",
       "      <td>298.2</td>\n",
       "      <td>308.7</td>\n",
       "      <td>1408</td>\n",
       "      <td>46.3</td>\n",
       "      <td>3</td>\n",
       "      <td>0</td>\n",
       "      <td>No Failure</td>\n",
       "    </tr>\n",
       "    <tr>\n",
       "      <td>2</td>\n",
       "      <td>3</td>\n",
       "      <td>L47182</td>\n",
       "      <td>L</td>\n",
       "      <td>298.1</td>\n",
       "      <td>308.5</td>\n",
       "      <td>1498</td>\n",
       "      <td>49.4</td>\n",
       "      <td>5</td>\n",
       "      <td>0</td>\n",
       "      <td>No Failure</td>\n",
       "    </tr>\n",
       "    <tr>\n",
       "      <td>3</td>\n",
       "      <td>4</td>\n",
       "      <td>L47183</td>\n",
       "      <td>L</td>\n",
       "      <td>298.2</td>\n",
       "      <td>308.6</td>\n",
       "      <td>1433</td>\n",
       "      <td>39.5</td>\n",
       "      <td>7</td>\n",
       "      <td>0</td>\n",
       "      <td>No Failure</td>\n",
       "    </tr>\n",
       "    <tr>\n",
       "      <td>4</td>\n",
       "      <td>5</td>\n",
       "      <td>L47184</td>\n",
       "      <td>L</td>\n",
       "      <td>298.2</td>\n",
       "      <td>308.7</td>\n",
       "      <td>1408</td>\n",
       "      <td>40.0</td>\n",
       "      <td>9</td>\n",
       "      <td>0</td>\n",
       "      <td>No Failure</td>\n",
       "    </tr>\n",
       "  </tbody>\n",
       "</table>\n",
       "</div>"
      ],
      "text/plain": [
       "   UDI Product ID Type  Air temperature [K]  Process temperature [K]  \\\n",
       "0    1     M14860    M                298.1                    308.6   \n",
       "1    2     L47181    L                298.2                    308.7   \n",
       "2    3     L47182    L                298.1                    308.5   \n",
       "3    4     L47183    L                298.2                    308.6   \n",
       "4    5     L47184    L                298.2                    308.7   \n",
       "\n",
       "   Rotational speed [rpm]  Torque [Nm]  Tool wear [min]  Target Failure Type  \n",
       "0                    1551         42.8                0       0   No Failure  \n",
       "1                    1408         46.3                3       0   No Failure  \n",
       "2                    1498         49.4                5       0   No Failure  \n",
       "3                    1433         39.5                7       0   No Failure  \n",
       "4                    1408         40.0                9       0   No Failure  "
      ]
     },
     "execution_count": 120,
     "metadata": {},
     "output_type": "execute_result"
    }
   ],
   "source": [
    "df = pd.read_csv('../csv-data/predictive_maintenance.csv', encoding='utf-8')\n",
    "df.head()"
   ]
  },
  {
   "cell_type": "code",
   "execution_count": 121,
   "metadata": {},
   "outputs": [
    {
     "name": "stdout",
     "output_type": "stream",
     "text": [
      "<class 'pandas.core.frame.DataFrame'>\n",
      "RangeIndex: 10000 entries, 0 to 9999\n",
      "Data columns (total 10 columns):\n",
      "UDI                        10000 non-null int64\n",
      "Product ID                 10000 non-null object\n",
      "Type                       10000 non-null object\n",
      "Air temperature [K]        10000 non-null float64\n",
      "Process temperature [K]    10000 non-null float64\n",
      "Rotational speed [rpm]     10000 non-null int64\n",
      "Torque [Nm]                10000 non-null float64\n",
      "Tool wear [min]            10000 non-null int64\n",
      "Target                     10000 non-null int64\n",
      "Failure Type               10000 non-null object\n",
      "dtypes: float64(3), int64(4), object(3)\n",
      "memory usage: 781.4+ KB\n"
     ]
    }
   ],
   "source": [
    "df.info() # 결측치 확인"
   ]
  },
  {
   "cell_type": "code",
   "execution_count": 122,
   "metadata": {},
   "outputs": [
    {
     "data": {
      "text/html": [
       "<div>\n",
       "<style scoped>\n",
       "    .dataframe tbody tr th:only-of-type {\n",
       "        vertical-align: middle;\n",
       "    }\n",
       "\n",
       "    .dataframe tbody tr th {\n",
       "        vertical-align: top;\n",
       "    }\n",
       "\n",
       "    .dataframe thead th {\n",
       "        text-align: right;\n",
       "    }\n",
       "</style>\n",
       "<table border=\"1\" class=\"dataframe\">\n",
       "  <thead>\n",
       "    <tr style=\"text-align: right;\">\n",
       "      <th></th>\n",
       "      <th>Type</th>\n",
       "      <th>Air temperature [K]</th>\n",
       "      <th>Process temperature [K]</th>\n",
       "      <th>Rotational speed [rpm]</th>\n",
       "      <th>Torque [Nm]</th>\n",
       "      <th>Tool wear [min]</th>\n",
       "      <th>Target</th>\n",
       "      <th>Failure Type</th>\n",
       "    </tr>\n",
       "  </thead>\n",
       "  <tbody>\n",
       "    <tr>\n",
       "      <td>0</td>\n",
       "      <td>M</td>\n",
       "      <td>298.1</td>\n",
       "      <td>308.6</td>\n",
       "      <td>1551</td>\n",
       "      <td>42.8</td>\n",
       "      <td>0</td>\n",
       "      <td>0</td>\n",
       "      <td>No Failure</td>\n",
       "    </tr>\n",
       "    <tr>\n",
       "      <td>1</td>\n",
       "      <td>L</td>\n",
       "      <td>298.2</td>\n",
       "      <td>308.7</td>\n",
       "      <td>1408</td>\n",
       "      <td>46.3</td>\n",
       "      <td>3</td>\n",
       "      <td>0</td>\n",
       "      <td>No Failure</td>\n",
       "    </tr>\n",
       "    <tr>\n",
       "      <td>2</td>\n",
       "      <td>L</td>\n",
       "      <td>298.1</td>\n",
       "      <td>308.5</td>\n",
       "      <td>1498</td>\n",
       "      <td>49.4</td>\n",
       "      <td>5</td>\n",
       "      <td>0</td>\n",
       "      <td>No Failure</td>\n",
       "    </tr>\n",
       "    <tr>\n",
       "      <td>3</td>\n",
       "      <td>L</td>\n",
       "      <td>298.2</td>\n",
       "      <td>308.6</td>\n",
       "      <td>1433</td>\n",
       "      <td>39.5</td>\n",
       "      <td>7</td>\n",
       "      <td>0</td>\n",
       "      <td>No Failure</td>\n",
       "    </tr>\n",
       "    <tr>\n",
       "      <td>4</td>\n",
       "      <td>L</td>\n",
       "      <td>298.2</td>\n",
       "      <td>308.7</td>\n",
       "      <td>1408</td>\n",
       "      <td>40.0</td>\n",
       "      <td>9</td>\n",
       "      <td>0</td>\n",
       "      <td>No Failure</td>\n",
       "    </tr>\n",
       "    <tr>\n",
       "      <td>...</td>\n",
       "      <td>...</td>\n",
       "      <td>...</td>\n",
       "      <td>...</td>\n",
       "      <td>...</td>\n",
       "      <td>...</td>\n",
       "      <td>...</td>\n",
       "      <td>...</td>\n",
       "      <td>...</td>\n",
       "    </tr>\n",
       "    <tr>\n",
       "      <td>9995</td>\n",
       "      <td>M</td>\n",
       "      <td>298.8</td>\n",
       "      <td>308.4</td>\n",
       "      <td>1604</td>\n",
       "      <td>29.5</td>\n",
       "      <td>14</td>\n",
       "      <td>0</td>\n",
       "      <td>No Failure</td>\n",
       "    </tr>\n",
       "    <tr>\n",
       "      <td>9996</td>\n",
       "      <td>H</td>\n",
       "      <td>298.9</td>\n",
       "      <td>308.4</td>\n",
       "      <td>1632</td>\n",
       "      <td>31.8</td>\n",
       "      <td>17</td>\n",
       "      <td>0</td>\n",
       "      <td>No Failure</td>\n",
       "    </tr>\n",
       "    <tr>\n",
       "      <td>9997</td>\n",
       "      <td>M</td>\n",
       "      <td>299.0</td>\n",
       "      <td>308.6</td>\n",
       "      <td>1645</td>\n",
       "      <td>33.4</td>\n",
       "      <td>22</td>\n",
       "      <td>0</td>\n",
       "      <td>No Failure</td>\n",
       "    </tr>\n",
       "    <tr>\n",
       "      <td>9998</td>\n",
       "      <td>H</td>\n",
       "      <td>299.0</td>\n",
       "      <td>308.7</td>\n",
       "      <td>1408</td>\n",
       "      <td>48.5</td>\n",
       "      <td>25</td>\n",
       "      <td>0</td>\n",
       "      <td>No Failure</td>\n",
       "    </tr>\n",
       "    <tr>\n",
       "      <td>9999</td>\n",
       "      <td>M</td>\n",
       "      <td>299.0</td>\n",
       "      <td>308.7</td>\n",
       "      <td>1500</td>\n",
       "      <td>40.2</td>\n",
       "      <td>30</td>\n",
       "      <td>0</td>\n",
       "      <td>No Failure</td>\n",
       "    </tr>\n",
       "  </tbody>\n",
       "</table>\n",
       "<p>10000 rows × 8 columns</p>\n",
       "</div>"
      ],
      "text/plain": [
       "     Type  Air temperature [K]  Process temperature [K]  \\\n",
       "0       M                298.1                    308.6   \n",
       "1       L                298.2                    308.7   \n",
       "2       L                298.1                    308.5   \n",
       "3       L                298.2                    308.6   \n",
       "4       L                298.2                    308.7   \n",
       "...   ...                  ...                      ...   \n",
       "9995    M                298.8                    308.4   \n",
       "9996    H                298.9                    308.4   \n",
       "9997    M                299.0                    308.6   \n",
       "9998    H                299.0                    308.7   \n",
       "9999    M                299.0                    308.7   \n",
       "\n",
       "      Rotational speed [rpm]  Torque [Nm]  Tool wear [min]  Target  \\\n",
       "0                       1551         42.8                0       0   \n",
       "1                       1408         46.3                3       0   \n",
       "2                       1498         49.4                5       0   \n",
       "3                       1433         39.5                7       0   \n",
       "4                       1408         40.0                9       0   \n",
       "...                      ...          ...              ...     ...   \n",
       "9995                    1604         29.5               14       0   \n",
       "9996                    1632         31.8               17       0   \n",
       "9997                    1645         33.4               22       0   \n",
       "9998                    1408         48.5               25       0   \n",
       "9999                    1500         40.2               30       0   \n",
       "\n",
       "     Failure Type  \n",
       "0      No Failure  \n",
       "1      No Failure  \n",
       "2      No Failure  \n",
       "3      No Failure  \n",
       "4      No Failure  \n",
       "...           ...  \n",
       "9995   No Failure  \n",
       "9996   No Failure  \n",
       "9997   No Failure  \n",
       "9998   No Failure  \n",
       "9999   No Failure  \n",
       "\n",
       "[10000 rows x 8 columns]"
      ]
     },
     "execution_count": 122,
     "metadata": {},
     "output_type": "execute_result"
    }
   ],
   "source": [
    "df.drop(['UDI', 'Product ID'], axis=1, inplace=True)\n",
    "df"
   ]
  },
  {
   "cell_type": "code",
   "execution_count": 123,
   "metadata": {},
   "outputs": [],
   "source": [
    "X_train, X_test, y_train, y_test = train_test_split(\n",
    "                                df.iloc[:,1:5], # 문제\n",
    "                                df.iloc[:,6], # 정답(종속변수 1개, target, 인덱스1)\n",
    "                                test_size=0.2, # 테스트 비율\n",
    "                                random_state=42 # 랜덤 시드값\n",
    ")"
   ]
  },
  {
   "cell_type": "code",
   "execution_count": 124,
   "metadata": {},
   "outputs": [
    {
     "data": {
      "text/plain": [
       "(10000, 8)"
      ]
     },
     "execution_count": 124,
     "metadata": {},
     "output_type": "execute_result"
    }
   ],
   "source": [
    "df.shape"
   ]
  },
  {
   "cell_type": "code",
   "execution_count": 125,
   "metadata": {},
   "outputs": [],
   "source": [
    "# 모델 선정\n",
    "knn = KNeighborsClassifier()\n",
    "svm = SVC()\n",
    "dt = DecisionTreeClassifier()\n",
    "model_list = [knn, svm, dt]"
   ]
  },
  {
   "cell_type": "code",
   "execution_count": 126,
   "metadata": {},
   "outputs": [],
   "source": [
    "def print_cv(model, train, test, k):\n",
    "    scores = cross_val_score(model, train, test, cv = k)\n",
    "    print('-----------교차검증(cv) 결과----------')\n",
    "    print(scores)\n",
    "    mean_scores = np.mean(scores)\n",
    "    print('-----------교차검증(cv) 평균----------')\n",
    "    print(mean_scores)\n",
    "    return scores, mean_scores \n",
    "# 함수의 결과로 여러개의 데이터를 return할 수 있다.\n",
    "# 튜플로 묶어서 반환하게 된다.(scores, mean_scores)   "
   ]
  },
  {
   "cell_type": "code",
   "execution_count": 127,
   "metadata": {},
   "outputs": [
    {
     "name": "stdout",
     "output_type": "stream",
     "text": [
      "-----------교차검증(cv) 결과----------\n",
      "[0.96876952 0.96876952 0.96625    0.96685428 0.97060663]\n",
      "-----------교차검증(cv) 평균----------\n",
      "0.9682499902343711\n",
      "-----------교차검증(cv) 결과----------\n",
      "[0.96439725 0.96564647 0.964375   0.9656035  0.9656035 ]\n",
      "-----------교차검증(cv) 평균----------\n",
      "0.965125145410213\n",
      "-----------교차검증(cv) 결과----------\n",
      "[0.97251718 0.96502186 0.965      0.96310194 0.96998124]\n",
      "-----------교차검증(cv) 평균----------\n",
      "0.9671244430173604\n",
      "\n",
      " ***************************************\n",
      "----- 전체 모델 리스트 -----\n",
      "['KNeighborsClassifier', 'SVC', 'DecisionTreeClassifier']\n",
      "-----전체 모델의 교차 검증 결과 목록-----\n",
      "[array([0.96876952, 0.96876952, 0.96625   , 0.96685428, 0.97060663]), array([0.96439725, 0.96564647, 0.964375  , 0.9656035 , 0.9656035 ]), array([0.97251718, 0.96502186, 0.965     , 0.96310194, 0.96998124])]\n",
      "-----전체 모델의 교차 검증 결과 평균-----\n",
      "[0.9682499902343711, 0.965125145410213, 0.9671244430173604]\n"
     ]
    }
   ],
   "source": [
    "model_names = ['KNeighborsClassifier', 'SVC', 'DecisionTreeClassifier']\n",
    "sc_list = []\n",
    "mean_sc_list = []\n",
    "for model in model_list:\n",
    "    sc, mean_sc = print_cv(model, X_train, y_train, 5)\n",
    "    sc_list.append(sc)\n",
    "    mean_sc_list.append(mean_sc)\n",
    "print('\\n ***************************************')\n",
    "print('----- 전체 모델 리스트 -----')\n",
    "print(model_names)\n",
    "print('-----전체 모델의 교차 검증 결과 목록-----')\n",
    "print(sc_list)\n",
    "print('-----전체 모델의 교차 검증 결과 평균-----')\n",
    "print(mean_sc_list)"
   ]
  },
  {
   "cell_type": "code",
   "execution_count": 128,
   "metadata": {},
   "outputs": [
    {
     "data": {
      "text/plain": [
       "(array([1., 0., 0., 0., 0., 0., 1., 0., 0., 1.]),\n",
       " array([0.96512515, 0.96543763, 0.96575011, 0.9660626 , 0.96637508,\n",
       "        0.96668757, 0.96700005, 0.96731254, 0.96762502, 0.96793751,\n",
       "        0.96824999]),\n",
       " <a list of 10 Patch objects>)"
      ]
     },
     "execution_count": 128,
     "metadata": {},
     "output_type": "execute_result"
    },
    {
     "data": {
      "image/png": "[encoded data removed]",
      "text/plain": [
       "<Figure size 432x288 with 1 Axes>"
      ]
     },
     "metadata": {
      "needs_background": "light"
     },
     "output_type": "display_data"
    }
   ],
   "source": [
    "# 시각화\n",
    "plt.hist(mean_sc_list)"
   ]
  },
  {
   "cell_type": "code",
   "execution_count": 129,
   "metadata": {},
   "outputs": [],
   "source": [
    "def grid_search(model, params, k):\n",
    "    gs_model = GridSearchCV(model, params, cv=k)\n",
    "    # gs_model은 최적의 파라메터가 적용된 모델의 객체\n",
    "    gs_model.fit(X_train, y_train)\n",
    "    print(gs_model.best_estimator_) # 최적의 파라메터가 적용된 모델 객체\n",
    "    print(gs_model.best_score_) # 최적의 파라메터가 적용된 모델로 학습한 정확도 결과(accuracy)\n",
    "    print(gs_model.best_params_) # grid_search를 통해 찾은 최적의 모델\n",
    "    print(gs_model) # grid_search 객체"
   ]
  },
  {
   "cell_type": "code",
   "execution_count": 130,
   "metadata": {},
   "outputs": [],
   "source": [
    "params = {# 하이퍼파라메터 절정으로 가질 수 있는 모든 경우의 수=> 4 * 3 * 2 : 25\n",
    "    'max_depth':[3,5,7,10], # keu : 하이퍼라라메터명, yalues는 list타입이어야 한다.\n",
    "    'random_state': [1,3,5],\n",
    "    'criterion':['gini', 'entropy'] # 혼란스러운 정도(분류의 정도)를 계산하는 기준\n",
    "}"
   ]
  },
  {
   "cell_type": "code",
   "execution_count": 131,
   "metadata": {},
   "outputs": [
    {
     "data": {
      "text/plain": [
       "<function __main__.grid_search(model, params, k)>"
      ]
     },
     "execution_count": 131,
     "metadata": {},
     "output_type": "execute_result"
    }
   ],
   "source": [
    "# 함수의 모든 파라메터를 보고 싶으면 함수명 쓰고 shift_tab\n",
    "grid_search"
   ]
  },
  {
   "cell_type": "code",
   "execution_count": 132,
   "metadata": {},
   "outputs": [
    {
     "name": "stdout",
     "output_type": "stream",
     "text": [
      "DecisionTreeClassifier(class_weight=None, criterion='entropy', max_depth=7,\n",
      "                       max_features=None, max_leaf_nodes=None,\n",
      "                       min_impurity_decrease=0.0, min_impurity_split=None,\n",
      "                       min_samples_leaf=1, min_samples_split=2,\n",
      "                       min_weight_fraction_leaf=0.0, presort=False,\n",
      "                       random_state=1, splitter='best')\n",
      "0.98025\n",
      "{'criterion': 'entropy', 'max_depth': 7, 'random_state': 1}\n",
      "GridSearchCV(cv=5, error_score='raise-deprecating',\n",
      "             estimator=DecisionTreeClassifier(class_weight=None,\n",
      "                                              criterion='gini', max_depth=None,\n",
      "                                              max_features=None,\n",
      "                                              max_leaf_nodes=None,\n",
      "                                              min_impurity_decrease=0.0,\n",
      "                                              min_impurity_split=None,\n",
      "                                              min_samples_leaf=1,\n",
      "                                              min_samples_split=2,\n",
      "                                              min_weight_fraction_leaf=0.0,\n",
      "                                              presort=False, random_state=None,\n",
      "                                              splitter='best'),\n",
      "             iid='warn', n_jobs=None,\n",
      "             param_grid={'criterion': ['gini', 'entropy'],\n",
      "                         'max_depth': [3, 5, 7, 10],\n",
      "                         'random_state': [1, 3, 5]},\n",
      "             pre_dispatch='2*n_jobs', refit=True, return_train_score=False,\n",
      "             scoring=None, verbose=0)\n"
     ]
    }
   ],
   "source": [
    "grid_search(dt, params, 5)"
   ]
  },
  {
   "cell_type": "code",
   "execution_count": 133,
   "metadata": {},
   "outputs": [
    {
     "data": {
      "text/plain": [
       "DecisionTreeClassifier(class_weight=None, criterion='entropy', max_depth=7,\n",
       "                       max_features=None, max_leaf_nodes=None,\n",
       "                       min_impurity_decrease=0.0, min_impurity_split=None,\n",
       "                       min_samples_leaf=1, min_samples_split=2,\n",
       "                       min_weight_fraction_leaf=0.0, presort=False,\n",
       "                       random_state=1, splitter='best')"
      ]
     },
     "execution_count": 133,
     "metadata": {},
     "output_type": "execute_result"
    }
   ],
   "source": [
    "#최적의 하이퍼 파라메터로 모델 객체 생성\n",
    "dt_gs = DecisionTreeClassifier(criterion='entropy', max_depth=7, random_state=1)\n",
    "dt_gs.fit(X_train, y_train)"
   ]
  },
  {
   "cell_type": "code",
   "execution_count": 134,
   "metadata": {},
   "outputs": [],
   "source": [
    "def test_validation(model, X_test, y_test) :\n",
    "    predict_result = model.predict(X_test)\n",
    "    acc = accuracy_score(y_test, predict_result)\n",
    "    print('accuracy >> ', acc)\n",
    "    cf = confusion_matrix(y_test, predict_result)\n",
    "    # 실제(c) --> 예측(c, sg), 실제(sg) --> 예측(sg, c)\n",
    "    # 이진분류(binary classification)인 경우에는\n",
    "    # 예측할 수 있는 경우의 수는 4가지\n",
    "    # 4가지를 표 형태로 정리해주는 것이 confusion_matrix\n",
    "    # 첫번째 행.열은 c, 두번째 행/열은 sg, abc순으로 행/열이 결정된다.\n",
    "    print('confusion matrix >>\\n', cf)\n",
    "    # confusion maxtrix는 binary classfication인 경우에는 보기가 괜찮으나,\n",
    "    # multi class classification인 경우에는 보기가 힘들다.\n",
    "    # confusion matrix를 가독성 좋게 볼 수 있는 것이 classification_report\n",
    "    c_report = classification_report(y_test, predict_result)\n",
    "    print('classification report >>\\n', c_report)"
   ]
  },
  {
   "cell_type": "code",
   "execution_count": 135,
   "metadata": {},
   "outputs": [
    {
     "data": {
      "text/plain": [
       "0    1939\n",
       "1      61\n",
       "Name: Target, dtype: int64"
      ]
     },
     "execution_count": 135,
     "metadata": {},
     "output_type": "execute_result"
    }
   ],
   "source": [
    "y_test.value_counts()"
   ]
  },
  {
   "cell_type": "code",
   "execution_count": 136,
   "metadata": {},
   "outputs": [
    {
     "name": "stdout",
     "output_type": "stream",
     "text": [
      "accuracy >>  0.979\n",
      "confusion matrix >>\n",
      " [[1931    8]\n",
      " [  34   27]]\n",
      "classification report >>\n",
      "               precision    recall  f1-score   support\n",
      "\n",
      "           0       0.98      1.00      0.99      1939\n",
      "           1       0.77      0.44      0.56        61\n",
      "\n",
      "    accuracy                           0.98      2000\n",
      "   macro avg       0.88      0.72      0.78      2000\n",
      "weighted avg       0.98      0.98      0.98      2000\n",
      "\n"
     ]
    }
   ],
   "source": [
    "test_validation(dt_gs, X_test, y_test)"
   ]
  },
  {
   "cell_type": "markdown",
   "metadata": {},
   "source": [
    "|실제/예측 | 정상 |  고장 |\n",
    "|----------|------|--------|\n",
    "|정상      | 1931 |  8     |\n",
    "|고장      |  34  |  27   ||\n",
    "\n",
    "|실제/예측 | 정상 |  고장 |\n",
    "|----------|------|--------|\n",
    "|정상      | TP   |  FN    |\n",
    "|고장      |  FP  |  TN   ||\n"
   ]
  },
  {
   "cell_type": "markdown",
   "metadata": {},
   "source": [
    "## recall\n",
    "### 실제 정상 중(1939) , 예측한 값들을 보면 실제 정상으로 예측한 값은 1931개를 예측했고 고장으로 예측한 것은 8개이다.\n",
    "### 실제 고장 중(61), 예측한 값들을 보면 실제 고장으로 예측한 값은 27개이고 정상으로 예측한 값은 34개이다.\n",
    "\n",
    "## precision\n",
    "### 정상으로 예측한 1965개 중 정상은 1931개이고 고장은 34개이다.\n",
    "### 고장으로 예측한 35개 중에서 실제로 8개는 정상이었고 27개는 고장이었다."
   ]
  },
  {
   "cell_type": "code",
   "execution_count": null,
   "metadata": {},
   "outputs": [],
   "source": []
  }
 ],
 "metadata": {
  "kernelspec": {
   "display_name": "Python 3",
   "language": "python",
   "name": "python3"
  },
  "language_info": {
   "codemirror_mode": {
    "name": "ipython",
    "version": 3
   },
   "file_extension": ".py",
   "mimetype": "text/x-python",
   "name": "python",
   "nbconvert_exporter": "python",
   "pygments_lexer": "ipython3",
   "version": "3.7.4"
  }
 },
 "nbformat": 4,
 "nbformat_minor": 2
}
