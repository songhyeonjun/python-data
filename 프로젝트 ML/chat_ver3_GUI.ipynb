{
 "cells": [
  {
   "cell_type": "code",
   "execution_count": 1,
   "metadata": {
    "scrolled": true
   },
   "outputs": [
    {
     "name": "stderr",
     "output_type": "stream",
     "text": [
      "C:\\ProgramData\\Anaconda3\\lib\\site-packages\\sklearn\\feature_extraction\\image.py:167: DeprecationWarning: `np.int` is a deprecated alias for the builtin `int`. To silence this warning, use `int` by itself. Doing this will not modify any behavior and is safe. When replacing `np.int`, you may wish to use e.g. `np.int64` or `np.int32` to specify the precision. If you wish to review your current use, check the release note link for additional information.\n",
      "Deprecated in NumPy 1.20; for more details and guidance: https://numpy.org/devdocs/release/1.20.0-notes.html#deprecations\n",
      "  dtype=np.int):\n"
     ]
    }
   ],
   "source": [
    "import numpy as np\n",
    "from tensorflow.keras.models import load_model\n",
    "# 모델 파일 load\n",
    "model=load_model('best_chatbot3.h5')\n",
    "import joblib\n",
    "# tfidf파일 load\n",
    "tfidf=joblib.load('tfidf_chatbot.pkl')\n",
    "import re\n",
    "from konlpy.tag import Okt\n",
    "t=Okt()"
   ]
  },
  {
   "cell_type": "code",
   "execution_count": 2,
   "metadata": {},
   "outputs": [],
   "source": [
    "import pymongo\n",
    "conn = pymongo.MongoClient() #몽고db 서버에 연결\n",
    "answers=conn.trip.place\n",
    "# tfidf파일 load\n",
    "tfidf_daily_life=joblib.load('tfidf_chatbot_daily_life.pkl') # 입력받은 문장을 벡터화 하기 위한 파일\n",
    "daily_life=joblib.load('vetorized_chatbot_daily_life.pkl') # 기존 질문 문장들을 벡터화한 파일, 위에서 입력받은 문장과 유사도를 비교\n",
    "# new_post 와 contents의 거리 구하는 함수 생성\n",
    "import scipy as sp\n",
    "\n",
    "def dist_raw(v1, v2):\n",
    "    delta = v1 - v2\n",
    "    return sp.linalg.norm(delta.toarray())"
   ]
  },
  {
   "cell_type": "code",
   "execution_count": 3,
   "metadata": {},
   "outputs": [],
   "source": [
    "import random\n",
    "\n",
    "def random_list() : # DB에서 여행지 목록 랜덤으로 불러오기\n",
    "    docs = answers.find({\"place_area\": \"제주도\"}, {\"_id\": 0, \"place_idx\": 0})  # area가 제주도인것만 그리고 _id, Place_idx 뺴고\n",
    "    docs_list_info = []\n",
    "    for doc in docs:\n",
    "        docs_list = list(doc.values())  # values값만 추출\n",
    "        docs_list_info.append(docs_list[1])  # 리스트로 변환\n",
    "    random_list_info = random.sample(docs_list_info, 10)  # 랜덤함수 사용 10개만 추출\n",
    "    \n",
    "    return '-'+'\\n-'.join(random_list_info)\n",
    "\n",
    "\n",
    "def like_list() : # 좋아요 높은 순으로 가져오기\n",
    "    docs = answers.find({}, {\"_id\": 0, \"place_idx\": 0}).sort(\"place_like\", pymongo.DESCENDING)  # 내림차순으로 모든정보 가져오기\n",
    "    docs_list_info = []\n",
    "    for doc in docs:\n",
    "        docs_list = doc.get(\"place_info\")  # place_info만 추출\n",
    "        docs_list_info.append(docs_list)  # list안에 넣기\n",
    "\n",
    "    return '-'+'\\n-'.join(docs_list_info[:5]) # 5개만 추출\n",
    "\n",
    "\n",
    "def view_list() : # 조회수 높은 순으로 가져오기\n",
    "    docs = answers.find({}, {\"_id\": 0, \"place_idx\": 0}).sort(\"place_view\", pymongo.DESCENDING)  # 내림차순으로 가져오기\n",
    "    docs_list_info = []\n",
    "    for doc in docs:\n",
    "        docs_list = doc.get(\"place_info\")  # place_info만 추출\n",
    "        docs_list_info.append(docs_list)  # list안에 넣기\n",
    "\n",
    "    return '-'+'\\n-'.join(docs_list_info[:10]) # 10개만 추출"
   ]
  },
  {
   "cell_type": "code",
   "execution_count": 4,
   "metadata": {},
   "outputs": [],
   "source": [
    "def baenangE_daily_life(str):\n",
    "    # test text 벡터화\n",
    "    # 형태소 분석 후 띄어쓰기로 구분하여 하나의 문장으로 만들기\n",
    "    new_post_tokens = [t.morphs(row) for row in [str]]\n",
    "\n",
    "    new_post_for_vectorize = []\n",
    "\n",
    "    for content in new_post_tokens:\n",
    "        sentence = ''\n",
    "        for word in content:\n",
    "            sentence = sentence + ' ' + word\n",
    "\n",
    "        new_post_for_vectorize.append(sentence)\n",
    "\n",
    "    new_post_for_vectorize\n",
    "    new_post_vec = tfidf_daily_life.transform(new_post_for_vectorize)\n",
    "  \n",
    "    # 다른 결과를 얻을 수 있음\n",
    "    best_doc = None\n",
    "    best_dist = 65535\n",
    "    best_i = None\n",
    "\n",
    "    for i in range(0, 11823):\n",
    "        post_vec = daily_life.getrow(i)\n",
    "\n",
    "        # 함수호출\n",
    "        d = dist_raw(post_vec, new_post_vec)\n",
    "\n",
    "        if d<best_dist:\n",
    "            best_dist = d\n",
    "            best_i = i\n",
    "    return answers.find_one({\"daily_index\":best_i}).get('A')"
   ]
  },
  {
   "cell_type": "code",
   "execution_count": 5,
   "metadata": {},
   "outputs": [],
   "source": [
    "def baenangE(str):\n",
    "    str2=re.sub(r'[^ ㄱ-ㅣ가-힣]+', '', str)\n",
    "    str2=' '.join(t.nouns(str2))\n",
    "    tfidf_str=tfidf.transform([str+\" \"+str2]).toarray()\n",
    "    predicted=model.predict(tfidf_str)\n",
    "    label=np.argmax(predicted)\n",
    "    if label==0:\n",
    "        return (1,\"반가워~~!\")\n",
    "    elif label==1:\n",
    "        return (2,\"여행지를 추천해드릴게요.\\n<랜덤>으로 추천드릴까요~?\\n<여행사진>으로 추천 드릴까요~?\\n<날씨사진>으로 추천드릴까요~?\")\n",
    "    elif label==2:\n",
    "        return (3,\"요즘 뜨는 여행지를 알려드릴게요.\\n<추천수> 기준으로 알려 드릴까요~?\\n<조회수>기준로 알려드릴까요~?\")\n",
    "    elif label==3:\n",
    "        return (4, baenangE_daily_life(str))"
   ]
  },
  {
   "cell_type": "code",
   "execution_count": 6,
   "metadata": {},
   "outputs": [],
   "source": [
    "from tkinter import filedialog\n",
    " \n",
    "\n",
    "def Load():\n",
    "    filename = filedialog.askopenfilename(initialdir=\"/\", title=\"Select file\",\n",
    "                                          filetypes=((\"JPG files\", \"*.jpg\"), (\"PNG files\", \"*.png\"),\n",
    "                                          (\"all files\", \"*.*\")))\n",
    "    print(filename)\n",
    "    return filename"
   ]
  },
  {
   "cell_type": "code",
   "execution_count": 7,
   "metadata": {},
   "outputs": [],
   "source": [
    "import os\n",
    "# 이미지 분류 모델 파일이 있는 경로\n",
    "os.chdir('C:/Users/Song/python/travel_images')\n",
    "# 모델 파일 load\n",
    "travel_img_model=load_model('best_travel_cnn.h5')\n",
    "\n",
    "import cv2\n",
    "import matplotlib.pyplot as plt\n",
    "\n",
    "# 읽어온 이미지 목록을 스케일링, 리사이징하는 함수 선언\n",
    "def make_file(data_height, data_width, channel_n, data_list_len, uploaded_list): # 높이, 너비, 컬러, 리스트 길이\n",
    "    # 4차원으로 만들기 위한 4차원 리스트 필요\n",
    "    images=np.zeros((data_list_len, data_height, data_width, channel_n))\n",
    "    # 이미지 리스트에서 하나씩 꺼내서 라벨링, 스케일링, 리사이징\n",
    "    for i, image in enumerate(uploaded_list):     \n",
    "        # 읽어서 스케일링, 리사이징 \n",
    "        image=cv2.imread(image) /255 #읽기, 스케일링\n",
    "        image=cv2.resize(image, (data_height, data_width)) #리사이징\n",
    "        # 4차원 리스트에 하나씩 append\n",
    "        images[i, :, :, :]=image\n",
    "    return images\n",
    "\n",
    "def travel_img_classify(path):\n",
    "    # 모델을 사용해 분류할 이미지 가져오기\n",
    "    uploaded_list=[path]\n",
    "    label=['architecture', 'art_and_culture', 'food_and_drinks', 'travel_and_adventure']\n",
    "    # 크기를 동일하게 맞추어 변경해주자\n",
    "    data_height=150\n",
    "    data_width=150\n",
    "    channel_n=3 # 컬러 색상으로 설정\n",
    "    images=make_file(data_height, data_width, channel_n, len(uploaded_list), uploaded_list)\n",
    "    plt.imshow(images[0])\n",
    "    predicted_label=travel_img_model.predict(images)\n",
    "    label=np.argmax(predicted_label[0])\n",
    "    print(label)\n",
    "    return label\n",
    "    "
   ]
  },
  {
   "cell_type": "code",
   "execution_count": 8,
   "metadata": {},
   "outputs": [],
   "source": [
    "def random_list_from_label(label) : # DB에서 여행지 목록 랜덤으로 불러오기\n",
    "    if label==0:\n",
    "        label=\"건축/조형물\"\n",
    "    elif label==1:\n",
    "        label=\"역사관광지\"\n",
    "    elif label==1:\n",
    "        label=\"휴양관광지\"\n",
    "    else:\n",
    "        label=\"체험관광지\"\n",
    "    docs = answers.find({\"place_middle\": label}, {\"_id\": 0, \"place_idx\": 0})  # area가 제주도인것만 그리고 _id, Place_idx 뺴고\n",
    "    docs_list_info = []\n",
    "    for doc in docs:\n",
    "        docs_list = list(doc.values())  # values값만 추출\n",
    "        docs_list_info.append(docs_list[1])  # 리스트로 변환\n",
    "    random_list_info = random.sample(docs_list_info, 5)  # 랜덤함수 사용 5개만 추출\n",
    "    \n",
    "    return '-'+'\\n-'.join(random_list_info)\n",
    "\n",
    "def recommand_from_travel_image(num):\n",
    "    if num==0:\n",
    "        return \"건축/조형물 여행지를 추천드립니다~\\n\"+random_list_from_label(num)\n",
    "    elif num==1:\n",
    "        return \"예술/문화 여행지를 추천드립니다~\\n\"+random_list_from_label(num)\n",
    "    elif num==2:\n",
    "        return \"맛집 여행지를 추천드립니다~\\n\"+random_list_from_label(num)\n",
    "    else:\n",
    "        return \"액티비티 여행지를 추천드립니다~\"+random_list_from_label(num)"
   ]
  },
  {
   "cell_type": "code",
   "execution_count": 9,
   "metadata": {},
   "outputs": [],
   "source": [
    "# travel_img_classify(Load())"
   ]
  },
  {
   "cell_type": "code",
   "execution_count": 10,
   "metadata": {
    "scrolled": false
   },
   "outputs": [],
   "source": [
    "from tkinter import *\n",
    "from tkinter import font\n",
    "from tkinter import ttk \n",
    "\n",
    "# GUI class for the chat\n",
    "class GUI:\n",
    "    \n",
    "    # constructor method\n",
    "    def __init__(self):\n",
    " \n",
    "        # chat window which is currently hidden\n",
    "        self.Window = Tk()\n",
    "        self.Window.withdraw()\n",
    " \n",
    "        # login window\n",
    "        self.login = Toplevel()\n",
    "        # set the title\n",
    "        self.login.title(\"Login\")\n",
    "        self.login.resizable(width=False,\n",
    "                             height=False)\n",
    "        self.login.configure(width=400,\n",
    "                             height=300)\n",
    "        # create a Label\n",
    "        self.pls = Label(self.login,\n",
    "                         text=\"이름을 입력해주세요.\",\n",
    "                         justify=CENTER,\n",
    "                         font=\"Helvetica 14 bold\")\n",
    " \n",
    "        self.pls.place(relheight=0.15,\n",
    "                       relx=0.28,\n",
    "                       rely=0.07)\n",
    "        # create a Label\n",
    "        self.labelName = Label(self.login,\n",
    "                               text=\"\",\n",
    "                               font=\"Helvetica 12\")\n",
    " \n",
    "        self.labelName.place(relheight=0.2,\n",
    "                             relx=0.1,\n",
    "                             rely=0.2)\n",
    " \n",
    "        # create a entry box for\n",
    "        # tyoing the message\n",
    "        self.entryName = Entry(self.login,\n",
    "                               font=\"Helvetica 14\")\n",
    " \n",
    "        self.entryName.place(relwidth=0.4,\n",
    "                             relheight=0.12,\n",
    "                             relx=0.3,\n",
    "                             rely=0.2)\n",
    " \n",
    "        # set the focus of the cursor\n",
    "        self.entryName.focus()\n",
    " \n",
    "        # create a Continue Button\n",
    "        # along with action\n",
    "        self.go = Button(self.login,\n",
    "                         text=\"배낭이와 대화 >\",\n",
    "                         font=\"Helvetica 14 bold\",\n",
    "                         command=lambda: self.goAhead(self.entryName.get()))\n",
    " \n",
    "        self.go.place(relx=0.3,\n",
    "                      rely=0.55)\n",
    "        \n",
    "        def callback(event):\n",
    "            self.buttonMsg.invoke() # 클릭 동작\n",
    "        self.Window.bind('<Return>', callback)\n",
    "        self.Window.mainloop()\n",
    " \n",
    "    def goAhead(self, name):\n",
    "        self.login.destroy()\n",
    "        self.layout(name)\n",
    " \n",
    "    # The main layout of the chat\n",
    "    def layout(self, name):\n",
    "        self.label=0\n",
    "        self.name = name\n",
    "        # to show chat window\n",
    "        self.Window.deiconify()\n",
    "        self.Window.title(\"BaenangE\")\n",
    "        self.Window.resizable(width=False,\n",
    "                              height=False)\n",
    "        self.Window.configure(width=470,\n",
    "                              height=550,\n",
    "                              bg=\"#ABB2B9\")\n",
    "        self.labelHead = Label(self.Window,\n",
    "                               bg=\"#010066\",\n",
    "                               fg=\"#EAECEE\",\n",
    "                               text=\"챗봇 배낭이\",\n",
    "                               font=\"Helvetica 13 bold\",\n",
    "                               pady=5)\n",
    " \n",
    "        self.labelHead.place(relwidth=1)\n",
    "        self.line = Label(self.Window,\n",
    "                          width=450,\n",
    "                          bg=\"#ABB2B9\")\n",
    " \n",
    "        self.line.place(relwidth=1,\n",
    "                        rely=0.07,\n",
    "                        relheight=0.012)\n",
    " \n",
    "        self.textCons = Text(self.Window,\n",
    "                             width=20,\n",
    "                             height=2,\n",
    "                             bg=\"#010066\",\n",
    "                             fg=\"#EAECEE\",\n",
    "                             font=\"Helvetica 14\",\n",
    "                             padx=5,\n",
    "                             pady=5)\n",
    " \n",
    "        self.textCons.place(relheight=0.745,\n",
    "                            relwidth=1,\n",
    "                            rely=0.08)\n",
    " \n",
    "        self.labelBottom = Label(self.Window,\n",
    "                                 bg=\"#ABB2B9\",\n",
    "                                 height=80)\n",
    " \n",
    "        self.labelBottom.place(relwidth=1,\n",
    "                               rely=0.825)\n",
    " \n",
    "        self.entryMsg = Entry(self.labelBottom,\n",
    "                              bg=\"#010066\",\n",
    "                              fg=\"#EAECEE\",\n",
    "                              font=\"Helvetica 13\")\n",
    " \n",
    "        # place the given widget\n",
    "        # into the gui window\n",
    "        self.entryMsg.place(relwidth=0.74,\n",
    "                            relheight=0.06,\n",
    "                            rely=0.008,\n",
    "                            relx=0.011)\n",
    " \n",
    "        self.entryMsg.focus()\n",
    " \n",
    "        # create a Send Button\n",
    "        self.buttonMsg = Button(self.labelBottom,\n",
    "                                text=\"전송\",\n",
    "                                font=\"Helvetica 10 bold\",\n",
    "                                width=20,\n",
    "                                bg=\"#ABB2B9\",\n",
    "                                command=lambda: self.sendButton(self.entryMsg.get()))\n",
    " \n",
    "        self.buttonMsg.place(relx=0.77,\n",
    "                             rely=0.008,\n",
    "                             relheight=0.06,\n",
    "                             relwidth=0.22)\n",
    " \n",
    "        self.textCons.config(cursor=\"arrow\")\n",
    " \n",
    "        # create a scroll bar\n",
    "        scrollbar = Scrollbar(self.textCons)\n",
    " \n",
    "        # place the scroll bar\n",
    "        # into the gui window\n",
    "        scrollbar.place(relheight=1,\n",
    "                        relx=0.974)\n",
    " \n",
    "        scrollbar.config(command=self.textCons.yview)\n",
    " \n",
    "        self.textCons.config(state=NORMAL)\n",
    "        self.textCons.insert(END, \"배낭이 >> 안녕하세요 배낭이입니다!\\n무엇이든 물어보세요~\\n\\n\")\n",
    "        self.textCons.config(state=DISABLED)\n",
    "        self.textCons.see(END)\n",
    " \n",
    " \n",
    "#     # function to receive messages\n",
    "#     def receive(self):\n",
    "#         while True:\n",
    "#                 message = \"반가워!\"\n",
    " \n",
    "            \n",
    "#                 self.textCons.config(state=NORMAL)\n",
    "#                 self.textCons.insert(END, message+\"\\n\\n\")\n",
    "#                 self.textCons.config(state=DISABLED)\n",
    "#                 self.textCons.see(END)\n",
    "    \n",
    "    # function to basically start the thread for sending messages\n",
    "    def sendButton(self, msg):\n",
    "        self.textCons.config(state=NORMAL)\n",
    "        self.entryMsg.delete(0, END)\n",
    "        self.textCons.insert(END, self.name+\" >> \"+msg+\"\\n\\n\")\n",
    "        self.textCons.config(state=DISABLED)\n",
    "        self.textCons.see(END)\n",
    "        \n",
    "        if self.label==0 or self.label==1 or self.label==4:\n",
    "            print(self.label)\n",
    "            self.label, message = baenangE(msg)\n",
    "            print(self.label)\n",
    "        elif self.label==2:\n",
    "            if \"랜덤\" in t.nouns(re.sub(r'[^ ㄱ-ㅣ가-힣]+', '', msg)):\n",
    "                message=\"이런 여행지를 추천드립니다~!\\n\"+random_list()\n",
    "                self.label=0\n",
    "            elif \"여행\" in t.nouns(re.sub(r'[^ ㄱ-ㅣ가-힣]+', '', msg)) or \"여행사진\" in t.nouns(re.sub(r'[^ ㄱ-ㅣ가-힣]+', '', msg)):\n",
    "                message=\"여행사진을 업로드 해주세요~\"\n",
    "                self.label=5\n",
    "            elif \"날씨\" in t.nouns(re.sub(r'[^ ㄱ-ㅣ가-힣]+', '', msg)) or \"날씨사진\" in t.nouns(re.sub(r'[^ ㄱ-ㅣ가-힣]+', '', msg)):\n",
    "                message=\"날씨사진을 업로드 해주세요~\"\n",
    "                self.label=6\n",
    "            else:\n",
    "                message=\"<랜덤> <여행사진> <날씨사진> 키워드 중 하나를 입력해주세요~!\"\n",
    "        elif self.label==3:\n",
    "            if \"추천\" in t.nouns(re.sub(r'[^ ㄱ-ㅣ가-힣]+', '', msg)):\n",
    "                message=\"추천수 기준 TOP 5 여행지입니다~\\n\"+like_list()\n",
    "                self.label=0\n",
    "            elif \"회수\" in t.nouns(re.sub(r'[^ ㄱ-ㅣ가-힣]+', '', msg)):\n",
    "                message=\"조회수 기준 TOP 10 여행지입니다~\\n\"+view_list()\n",
    "                self.label=0\n",
    "            else:\n",
    "                message=\"<추천수> <조회수> 키워드 중 하나를 입력해주세요~!\"             \n",
    "        \n",
    "        \n",
    "        if self.label!=5 or self.label!=6:\n",
    "            self.textCons.config(state=NORMAL)\n",
    "            self.textCons.insert(END, \"배낭이 >> \"+message+\"\\n\\n\")\n",
    "            self.textCons.config(state=DISABLED)\n",
    "            self.textCons.see(END)\n",
    "        \n",
    "        if self.label==5:\n",
    "            print(\"여행사진업로드\")\n",
    "            message=recommand_from_travel_image(travel_img_classify(Load()))\n",
    "            self.textCons.config(state=NORMAL)\n",
    "            self.textCons.insert(END, \"배낭이 >> \"+message+\"\\n\\n\")\n",
    "            self.textCons.config(state=DISABLED)\n",
    "            self.textCons.see(END)\n",
    "            self.label=0\n",
    "        elif self.label==6:\n",
    "            print(\"날씨사진업로드\")\n",
    "            Load()\n",
    "            self.label=0\n",
    "        \n",
    "        \n",
    " \n",
    "    # function to send messages\n",
    "    def sendMessage(self):\n",
    "        self.textCons.config(state=DISABLED)\n",
    "        while True:\n",
    "            message = (f\"{self.name}: {self.msg}\")\n",
    "            client.send(message.encode(FORMAT))\n",
    "            break"
   ]
  },
  {
   "cell_type": "code",
   "execution_count": null,
   "metadata": {
    "scrolled": false
   },
   "outputs": [
    {
     "name": "stdout",
     "output_type": "stream",
     "text": [
      "0\n",
      "3\n",
      "0\n",
      "3\n"
     ]
    }
   ],
   "source": [
    "# create a GUI class object\n",
    "g = GUI()"
   ]
  },
  {
   "cell_type": "code",
   "execution_count": 74,
   "metadata": {},
   "outputs": [
    {
     "data": {
      "text/plain": [
       "True"
      ]
     },
     "execution_count": 74,
     "metadata": {},
     "output_type": "execute_result"
    }
   ],
   "source": [
    "\"여행\" in t.nouns(re.sub(r'[^ ㄱ-ㅣ가-힣]+', '', \"여행으로\"))"
   ]
  },
  {
   "cell_type": "code",
   "execution_count": 85,
   "metadata": {},
   "outputs": [
    {
     "data": {
      "text/plain": [
       "True"
      ]
     },
     "execution_count": 85,
     "metadata": {},
     "output_type": "execute_result"
    }
   ],
   "source": [
    "\"추천\" in t.nouns(re.sub(r'[^ ㄱ-ㅣ가-힣]+', '', \"추천수로좀~\"))"
   ]
  },
  {
   "cell_type": "code",
   "execution_count": 84,
   "metadata": {},
   "outputs": [
    {
     "data": {
      "text/plain": [
       "True"
      ]
     },
     "execution_count": 84,
     "metadata": {},
     "output_type": "execute_result"
    }
   ],
   "source": [
    "\"회수\" in t.nouns(re.sub(r'[^ ㄱ-ㅣ가-힣]+', '', \"주회수로볼게\"))"
   ]
  },
  {
   "cell_type": "code",
   "execution_count": 81,
   "metadata": {},
   "outputs": [
    {
     "data": {
      "text/plain": [
       "['회수']"
      ]
     },
     "execution_count": 81,
     "metadata": {},
     "output_type": "execute_result"
    }
   ],
   "source": [
    "\"회수 \"t.nouns(re.sub(r'[^ ㄱ-ㅣ가-힣]+', '', \"조회수\"))"
   ]
  },
  {
   "cell_type": "code",
   "execution_count": 52,
   "metadata": {},
   "outputs": [
    {
     "data": {
      "text/plain": [
       "-1"
      ]
     },
     "execution_count": 52,
     "metadata": {},
     "output_type": "execute_result"
    }
   ],
   "source": [
    "\"날씨\".find(' '.join(t.nouns(re.sub(r'[^ ㄱ-ㅣ가-힣]+', '', \"날씨사진으로 추천해줘~\"))))"
   ]
  }
 ],
 "metadata": {
  "kernelspec": {
   "display_name": "Python 3",
   "language": "python",
   "name": "python3"
  },
  "language_info": {
   "codemirror_mode": {
    "name": "ipython",
    "version": 3
   },
   "file_extension": ".py",
   "mimetype": "text/x-python",
   "name": "python",
   "nbconvert_exporter": "python",
   "pygments_lexer": "ipython3",
   "version": "3.7.4"
  }
 },
 "nbformat": 4,
 "nbformat_minor": 5
}
