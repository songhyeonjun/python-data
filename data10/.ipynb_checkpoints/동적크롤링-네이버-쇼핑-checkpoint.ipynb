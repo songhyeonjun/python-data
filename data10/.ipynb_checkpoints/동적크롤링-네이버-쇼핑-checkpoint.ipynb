{
 "cells": [
  {
   "cell_type": "code",
   "execution_count": 1,
   "metadata": {},
   "outputs": [],
   "source": [
    "import warnings # 경고무시\n",
    "warnings.filterwarnings(action='ignore')\n",
    "from selenium.webdriver.common.by import By\n",
    "from selenium.webdriver.support.ui import WebDriverWait \n",
    "from selenium.webdriver.support import expected_conditions as EC\n",
    "#step1.selenium 패키지와 time 모듈 import\n",
    "from selenium import webdriver\n",
    "from selenium.webdriver.common.keys import Keys\n",
    "import time"
   ]
  },
  {
   "cell_type": "code",
   "execution_count": 2,
   "metadata": {},
   "outputs": [],
   "source": [
    "# 5개 이상을 df에 넣어 수집하고, 이미지를 다운도르\n",
    "# 이미지 이름도 df에 넣어주기"
   ]
  },
  {
   "cell_type": "code",
   "execution_count": 3,
   "metadata": {},
   "outputs": [
    {
     "name": "stdout",
     "output_type": "stream",
     "text": [
      "검색할 키워드를 입력 : 음료\n"
     ]
    }
   ],
   "source": [
    "# 검색할 키워드 입력\n",
    "query = input('검색할 키워드를 입력 : ')"
   ]
  },
  {
   "cell_type": "code",
   "execution_count": 4,
   "metadata": {},
   "outputs": [],
   "source": [
    "# 크롬 드라이버로 원하는 url접속\n",
    "# 1. 크롬 브라우저 실행\n",
    "driver = webdriver.Chrome('/Users/song/python/python-data/chromedriver.exe')"
   ]
  },
  {
   "cell_type": "code",
   "execution_count": 5,
   "metadata": {},
   "outputs": [],
   "source": [
    "# 2. 특정 url : https://shopping.naver.com/home/p/index.naver페이지로 연결\n",
    "url = 'https://shopping.naver.com/home/p/index.naver'\n",
    "driver.get(url) # hppt요청을 보낸다. <---- http응답을 보낼 것임"
   ]
  },
  {
   "cell_type": "code",
   "execution_count": 6,
   "metadata": {},
   "outputs": [],
   "source": [
    "# 연결하여 페이지를 받아오는 동안 기다리기 설정\n",
    "time.sleep(2)"
   ]
  },
  {
   "cell_type": "code",
   "execution_count": 7,
   "metadata": {},
   "outputs": [],
   "source": [
    "# 3. 네이버 쇼핑 검색 input태그의 위치를 찾아서\n",
    "# #query\n",
    "search_box = driver.find_element_by_css_selector('#autocompleteWrapper > input.co_srh_input._input.N\\=a\\:SNB\\.search')\n",
    "\n",
    "\n",
    "# 4. 3번에서 찾은 input태그에 검색어를 넣는다.\n",
    "search_box.send_keys(query)\n",
    "\n",
    "# 5. 4번에서 입력한 값 서버로 전송\n",
    "search_box.send_keys(Keys.ENTER)\n",
    "\n",
    "# 기다리기 설정\n",
    "time.sleep(2)"
   ]
  },
  {
   "cell_type": "code",
   "execution_count": 8,
   "metadata": {},
   "outputs": [],
   "source": [
    "#탭 클릭 포카리스웨트\n",
    "driver.find_element_by_css_selector('#__next > div > div.style_container__1YjHN > div.style_inner__18zZX > div.filter_finder__1Gtei > div.filter_finder_filter__1DTIN > div.filter_finder_col__3ttPW.filter_is_fixed__1i_lw > div.filter_finder_row__1rXWv > ul > li:nth-child(3) > a > span').click()\n",
    "# time.sleep(2)\n",
    "driver.implicitly_wait(2)"
   ]
  },
  {
   "cell_type": "code",
   "execution_count": 12,
   "metadata": {},
   "outputs": [
    {
     "name": "stdout",
     "output_type": "stream",
     "text": [
      "포카리스웨트 340ml 20개/500ml 20개/1.5L 20개\n",
      "포카리스웨트 900ml 20개\n",
      "포카리스웨트 500ml x 20페트/ 340ml X 20개/ 1.5L x 12개/이온음료\n",
      "동아오츠카 포카리스웨트 분말 74g x 20개입\n",
      "동아오츠카 포카리스웨트 245ml\n",
      "포카리스웨트 500ml x 20페트/ 340ml X 20개/ 1.5L x 12개/이온음료\n",
      "포카리스웨트 500ml x 20페트/ 340ml X 20개/ 1.5L x 12개/이온음료\n",
      "포카리스웨트 분말 가루 이온 음료 코스트코 물통포함 74g 20개입\n",
      "동아오츠카 포카리스웨트 900ml\n",
      "이온음료 스포츠 포카리스웨트 포카리분말 74g 1L용 10포 20포 물병지급\n",
      "이온음료 포카리스웨트 500ml 파워에이드 게토레이 캔음료수 포카리 토레타 스포츠음료\n",
      "스포츠 이온음료 30캔 게토레이240ml 파워에이드 캔음료수 포카리 토레타음료수\n",
      "포카리스웨트 이온워터 칼로리낮은 이온음료500ml 페트 1박스(총24입)\n",
      "동아오츠카 포카리스웨트 분말 가루 74g 20포 물통포함 스포츠 이온음료 코스트코 포카리\n",
      "포카리스웨트 250ml x 30입 이온음료\n",
      "포카리스웨트 파워에이드 600ml 20P 1.5L 12P 500ml 340ml 240ml\n",
      "포카리스웨트 게토레이 240ml 355ml 500ml 1.5리터 이온음료 스포츠음료\n",
      "포카리스웨트 분말 74gX20포 물병증정 코스트코\n",
      "포카리스웨트 240ml 캔 x 30개 (1Box)\n",
      "포카리스웨트 포카리스웨트 340ml 페트 40입\n",
      "포카리스웨트 분말 포카리 분말 코스트코\n",
      "포카리스웨트 이온음료 620ml 20개\n",
      "포카리스웨트 340ml X 20개 이온음료\n",
      "포카리스웨트 게토레이 파워에이드 이온 캔음료수\n",
      "포카리스웨트 240ml 60개 (2박스)\n",
      "포카리스웨트 240ml 캔 x 30개 (1Box)\n",
      "내몸에 수분충전 포카리스웨트 245mlx30캔 캔음료 음료도매\n",
      "포카리스웨트 분말 74g x 10팩\n",
      "포카리스웨트 분말 74cc 20개\n",
      "포카리스웨트 340ml 40개\n",
      "포카리스웨트 분말 74g 5포 스포츠 음료 분말\n",
      "포카리 340ml/게토레이/파워에이드/콜라/이온음료\n",
      "[포카리스웨트] 동아오츠카 포카리스웨트 미니페트 340ml x 20개입\n",
      "이온음료 4종 30캔 / 토레타 파워에이드 포카리 게토레이 핫식스 240 245 250\n",
      "포카리스웨트 분말 65.6g 파우치 20개 + 스퀴즈보틀(1개)\n",
      "캔음료 포카리스웨트 파워에이드 게토레이 토레타 340ml 24캔\n",
      "포카리스웨트 이온음료 340ml x20팩\n",
      "포카리스웨트 340ml 20개/500ml 20개/1.5L 20개\n",
      "동아 포카리스웨트 240mlx1캔/이온음료/스포츠음료 1개 240ml\n",
      "포카리스웨트 240ml 30입 이온음료\n",
      "동아오츠카 포카리스웨트 900ml / 파워에이드 / 토레타\n",
      "포카리스웨트 340ml 500ml 20개 분말 10팩 한박스\n",
      "포카리스웨트 340ml 60개\n",
      "포카리스웨트 뚱캔 340ml 24캔 숙취이온음료\n",
      "포카리 340X20펫 이온음표 포카리스웨트 350 355\n",
      "스포츠음료 포카리스웨트 340mlx20펫\n"
     ]
    }
   ],
   "source": [
    "#포카리 상품 텍스트 추출\n",
    "p_titles = driver.find_elements_by_css_selector(\"div.basicList_title__3P9Q7 > a\")\n",
    "\n",
    "for i in p_titles:\n",
    "    title = i.text\n",
    "    print(title)"
   ]
  },
  {
   "cell_type": "code",
   "execution_count": 24,
   "metadata": {},
   "outputs": [
    {
     "name": "stdout",
     "output_type": "stream",
     "text": [
      "15\n"
     ]
    }
   ],
   "source": [
    "title_list = []\n",
    "for title in p_titles[:15]:\n",
    "    title_list.append(title.text)\n",
    "print(len(title_list))"
   ]
  },
  {
   "cell_type": "code",
   "execution_count": 25,
   "metadata": {},
   "outputs": [
    {
     "name": "stdout",
     "output_type": "stream",
     "text": [
      "15\n"
     ]
    }
   ],
   "source": [
    "# 쇼핑 url 가지고 오기\n",
    "url_list = []\n",
    "for title in p_titles[:15]:\n",
    "    url_list.append(title.get_attribute('href'))\n",
    "print(len(url_list))"
   ]
  },
  {
   "cell_type": "code",
   "execution_count": 22,
   "metadata": {},
   "outputs": [
    {
     "name": "stdout",
     "output_type": "stream",
     "text": [
      "46\n"
     ]
    }
   ],
   "source": [
    "# 상품 이미지 가지고 오기\n",
    "p_img = driver.find_elements_by_css_selector('div.basicList_img_area__a3NRA > div > a > img')\n",
    "print(len(p_img))"
   ]
  },
  {
   "cell_type": "code",
   "execution_count": 26,
   "metadata": {},
   "outputs": [
    {
     "name": "stdout",
     "output_type": "stream",
     "text": [
      "15\n"
     ]
    }
   ],
   "source": [
    "img_list = []\n",
    "for img in p_img[:15]:\n",
    "    img_list.append(img.get_attribute('src'))\n",
    "print(len(img_list))"
   ]
  },
  {
   "cell_type": "code",
   "execution_count": 31,
   "metadata": {},
   "outputs": [
    {
     "name": "stdout",
     "output_type": "stream",
     "text": [
      "15\n",
      "['15,200원', '27,250원', '23,700원', '11,570원', '470원', '23,700원', '14,900원', '20,990원', '1,490원', '17,500원', '19,990원', '11,900원', '25,600원', '21,390원', '18,000원']\n"
     ]
    }
   ],
   "source": [
    "p_price = driver.find_elements_by_css_selector('.price_num__2WUXn')\n",
    "price_list=[]\n",
    "for price in p_price[:15]:\n",
    "    price_list.append(price.text)\n",
    "print(len(price_list))\n",
    "print(price_list)"
   ]
  },
  {
   "cell_type": "code",
   "execution_count": 75,
   "metadata": {},
   "outputs": [
    {
     "data": {
      "text/plain": [
       "['등록일 2022.02.',\n",
       " '등록일 2021.01.',\n",
       " '등록일 2020.12.',\n",
       " '등록일 2018.03.',\n",
       " '등록일 2010.12.',\n",
       " '등록일 2020.12.',\n",
       " '등록일 2021.05.',\n",
       " '등록일 2022.02.',\n",
       " '등록일 2015.07.',\n",
       " '등록일 2021.06.',\n",
       " '등록일 2020.09.',\n",
       " '등록일 2013.07.',\n",
       " '등록일 2021.11.',\n",
       " '등록일 2022.02.',\n",
       " '등록일 2021.04.']"
      ]
     },
     "execution_count": 75,
     "metadata": {},
     "output_type": "execute_result"
    }
   ],
   "source": [
    "p_rgst = driver.find_elements_by_css_selector('span.basicList_etc__2uAYO')\n",
    "rgst_list=[]\n",
    "for rgst in p_rgst:\n",
    "    if '등록일' in rgst.text: # '등록일'이 포함된 모든 문자열 추출\n",
    "        rgst_list.append(rgst.text)\n",
    "# rgst_list\n",
    "rgst_list[:15]"
   ]
  },
  {
   "cell_type": "code",
   "execution_count": 71,
   "metadata": {},
   "outputs": [],
   "source": [
    "import pandas as pd"
   ]
  },
  {
   "cell_type": "code",
   "execution_count": 76,
   "metadata": {
    "scrolled": false
   },
   "outputs": [
    {
     "data": {
      "text/html": [
       "<div>\n",
       "<style scoped>\n",
       "    .dataframe tbody tr th:only-of-type {\n",
       "        vertical-align: middle;\n",
       "    }\n",
       "\n",
       "    .dataframe tbody tr th {\n",
       "        vertical-align: top;\n",
       "    }\n",
       "\n",
       "    .dataframe thead th {\n",
       "        text-align: right;\n",
       "    }\n",
       "</style>\n",
       "<table border=\"1\" class=\"dataframe\">\n",
       "  <thead>\n",
       "    <tr style=\"text-align: right;\">\n",
       "      <th></th>\n",
       "      <th>title</th>\n",
       "      <th>url</th>\n",
       "      <th>img</th>\n",
       "      <th>price</th>\n",
       "      <th>date</th>\n",
       "    </tr>\n",
       "  </thead>\n",
       "  <tbody>\n",
       "    <tr>\n",
       "      <td>0</td>\n",
       "      <td>포카리스웨트 340ml 20개/500ml 20개/1.5L 20개</td>\n",
       "      <td>https://adcr.naver.com/adcr?x=HB7AZq0NH5LtCgzu...</td>\n",
       "      <td>https://shopping-phinf.pstatic.net/main_838970...</td>\n",
       "      <td>15,200원</td>\n",
       "      <td>등록일 2022.02.</td>\n",
       "    </tr>\n",
       "    <tr>\n",
       "      <td>1</td>\n",
       "      <td>포카리스웨트 900ml 20개</td>\n",
       "      <td>https://adcr.naver.com/adcr?x=BJvKJAmNkfLevdV4...</td>\n",
       "      <td>https://shopping-phinf.pstatic.net/main_255995...</td>\n",
       "      <td>27,250원</td>\n",
       "      <td>등록일 2021.01.</td>\n",
       "    </tr>\n",
       "    <tr>\n",
       "      <td>2</td>\n",
       "      <td>포카리스웨트 500ml x 20페트/ 340ml X 20개/ 1.5L x 12개/이온음료</td>\n",
       "      <td>https://adcr.naver.com/adcr?x=kdyV/QPnXyT8Od3b...</td>\n",
       "      <td>https://shopping-phinf.pstatic.net/main_827991...</td>\n",
       "      <td>23,700원</td>\n",
       "      <td>등록일 2020.12.</td>\n",
       "    </tr>\n",
       "    <tr>\n",
       "      <td>3</td>\n",
       "      <td>동아오츠카 포카리스웨트 분말 74g x 20개입</td>\n",
       "      <td>https://cr.shopping.naver.com/adcr.nhn?x=W6Sgi...</td>\n",
       "      <td>https://shopping-phinf.pstatic.net/main_138379...</td>\n",
       "      <td>11,570원</td>\n",
       "      <td>등록일 2018.03.</td>\n",
       "    </tr>\n",
       "    <tr>\n",
       "      <td>4</td>\n",
       "      <td>동아오츠카 포카리스웨트 245ml</td>\n",
       "      <td>https://cr.shopping.naver.com/adcr.nhn?x=f3HoH...</td>\n",
       "      <td>https://shopping-phinf.pstatic.net/main_571115...</td>\n",
       "      <td>470원</td>\n",
       "      <td>등록일 2010.12.</td>\n",
       "    </tr>\n",
       "    <tr>\n",
       "      <td>5</td>\n",
       "      <td>포카리스웨트 500ml x 20페트/ 340ml X 20개/ 1.5L x 12개/이온음료</td>\n",
       "      <td>https://cr.shopping.naver.com/adcr.nhn?x=RNVO%...</td>\n",
       "      <td>https://shopping-phinf.pstatic.net/main_827991...</td>\n",
       "      <td>23,700원</td>\n",
       "      <td>등록일 2020.12.</td>\n",
       "    </tr>\n",
       "    <tr>\n",
       "      <td>6</td>\n",
       "      <td>포카리스웨트 500ml x 20페트/ 340ml X 20개/ 1.5L x 12개/이온음료</td>\n",
       "      <td>https://cr.shopping.naver.com/adcr.nhn?x=3R2Dy...</td>\n",
       "      <td>https://shopping-phinf.pstatic.net/main_831416...</td>\n",
       "      <td>14,900원</td>\n",
       "      <td>등록일 2021.05.</td>\n",
       "    </tr>\n",
       "    <tr>\n",
       "      <td>7</td>\n",
       "      <td>포카리스웨트 분말 가루 이온 음료 코스트코 물통포함 74g 20개입</td>\n",
       "      <td>https://cr.shopping.naver.com/adcr.nhn?x=FKWWt...</td>\n",
       "      <td>https://shopping-phinf.pstatic.net/main_830759...</td>\n",
       "      <td>20,990원</td>\n",
       "      <td>등록일 2022.02.</td>\n",
       "    </tr>\n",
       "    <tr>\n",
       "      <td>8</td>\n",
       "      <td>동아오츠카 포카리스웨트 900ml</td>\n",
       "      <td>https://cr.shopping.naver.com/adcr.nhn?x=O2g8s...</td>\n",
       "      <td>https://shopping-phinf.pstatic.net/main_871496...</td>\n",
       "      <td>1,490원</td>\n",
       "      <td>등록일 2015.07.</td>\n",
       "    </tr>\n",
       "    <tr>\n",
       "      <td>9</td>\n",
       "      <td>이온음료 스포츠 포카리스웨트 포카리분말 74g 1L용 10포 20포 물병지급</td>\n",
       "      <td>https://cr.shopping.naver.com/adcr.nhn?x=rgd6R...</td>\n",
       "      <td>https://shopping-phinf.pstatic.net/main_832288...</td>\n",
       "      <td>17,500원</td>\n",
       "      <td>등록일 2021.06.</td>\n",
       "    </tr>\n",
       "    <tr>\n",
       "      <td>10</td>\n",
       "      <td>이온음료 포카리스웨트 500ml 파워에이드 게토레이 캔음료수 포카리 토레타 스포츠음료</td>\n",
       "      <td>https://cr.shopping.naver.com/adcr.nhn?x=kRKj5...</td>\n",
       "      <td>https://shopping-phinf.pstatic.net/main_826809...</td>\n",
       "      <td>19,990원</td>\n",
       "      <td>등록일 2020.09.</td>\n",
       "    </tr>\n",
       "    <tr>\n",
       "      <td>11</td>\n",
       "      <td>스포츠 이온음료 30캔 게토레이240ml 파워에이드 캔음료수 포카리 토레타음료수</td>\n",
       "      <td>https://cr.shopping.naver.com/adcr.nhn?x=mVFkw...</td>\n",
       "      <td>https://shopping-phinf.pstatic.net/main_703703...</td>\n",
       "      <td>11,900원</td>\n",
       "      <td>등록일 2013.07.</td>\n",
       "    </tr>\n",
       "    <tr>\n",
       "      <td>12</td>\n",
       "      <td>포카리스웨트 이온워터 칼로리낮은 이온음료500ml 페트 1박스(총24입)</td>\n",
       "      <td>https://cr.shopping.naver.com/adcr.nhn?x=iwvL%...</td>\n",
       "      <td>https://shopping-phinf.pstatic.net/main_808646...</td>\n",
       "      <td>25,600원</td>\n",
       "      <td>등록일 2021.11.</td>\n",
       "    </tr>\n",
       "    <tr>\n",
       "      <td>13</td>\n",
       "      <td>동아오츠카 포카리스웨트 분말 가루 74g 20포 물통포함 스포츠 이온음료 코스트코 포카리</td>\n",
       "      <td>https://cr.shopping.naver.com/adcr.nhn?x=CcnWu...</td>\n",
       "      <td>https://shopping-phinf.pstatic.net/main_829532...</td>\n",
       "      <td>21,390원</td>\n",
       "      <td>등록일 2022.02.</td>\n",
       "    </tr>\n",
       "    <tr>\n",
       "      <td>14</td>\n",
       "      <td>포카리스웨트 250ml x 30입 이온음료</td>\n",
       "      <td>https://cr.shopping.naver.com/adcr.nhn?x=UhrQJ...</td>\n",
       "      <td>https://shopping-phinf.pstatic.net/main_830528...</td>\n",
       "      <td>18,000원</td>\n",
       "      <td>등록일 2021.04.</td>\n",
       "    </tr>\n",
       "  </tbody>\n",
       "</table>\n",
       "</div>"
      ],
      "text/plain": [
       "                                                title  \\\n",
       "0                 포카리스웨트 340ml 20개/500ml 20개/1.5L 20개   \n",
       "1                                    포카리스웨트 900ml 20개   \n",
       "2   포카리스웨트 500ml x 20페트/ 340ml X 20개/ 1.5L x 12개/이온음료   \n",
       "3                          동아오츠카 포카리스웨트 분말 74g x 20개입   \n",
       "4                                  동아오츠카 포카리스웨트 245ml   \n",
       "5   포카리스웨트 500ml x 20페트/ 340ml X 20개/ 1.5L x 12개/이온음료   \n",
       "6   포카리스웨트 500ml x 20페트/ 340ml X 20개/ 1.5L x 12개/이온음료   \n",
       "7               포카리스웨트 분말 가루 이온 음료 코스트코 물통포함 74g 20개입   \n",
       "8                                  동아오츠카 포카리스웨트 900ml   \n",
       "9          이온음료 스포츠 포카리스웨트 포카리분말 74g 1L용 10포 20포 물병지급   \n",
       "10    이온음료 포카리스웨트 500ml 파워에이드 게토레이 캔음료수 포카리 토레타 스포츠음료   \n",
       "11       스포츠 이온음료 30캔 게토레이240ml 파워에이드 캔음료수 포카리 토레타음료수   \n",
       "12           포카리스웨트 이온워터 칼로리낮은 이온음료500ml 페트 1박스(총24입)   \n",
       "13  동아오츠카 포카리스웨트 분말 가루 74g 20포 물통포함 스포츠 이온음료 코스트코 포카리   \n",
       "14                            포카리스웨트 250ml x 30입 이온음료   \n",
       "\n",
       "                                                  url  \\\n",
       "0   https://adcr.naver.com/adcr?x=HB7AZq0NH5LtCgzu...   \n",
       "1   https://adcr.naver.com/adcr?x=BJvKJAmNkfLevdV4...   \n",
       "2   https://adcr.naver.com/adcr?x=kdyV/QPnXyT8Od3b...   \n",
       "3   https://cr.shopping.naver.com/adcr.nhn?x=W6Sgi...   \n",
       "4   https://cr.shopping.naver.com/adcr.nhn?x=f3HoH...   \n",
       "5   https://cr.shopping.naver.com/adcr.nhn?x=RNVO%...   \n",
       "6   https://cr.shopping.naver.com/adcr.nhn?x=3R2Dy...   \n",
       "7   https://cr.shopping.naver.com/adcr.nhn?x=FKWWt...   \n",
       "8   https://cr.shopping.naver.com/adcr.nhn?x=O2g8s...   \n",
       "9   https://cr.shopping.naver.com/adcr.nhn?x=rgd6R...   \n",
       "10  https://cr.shopping.naver.com/adcr.nhn?x=kRKj5...   \n",
       "11  https://cr.shopping.naver.com/adcr.nhn?x=mVFkw...   \n",
       "12  https://cr.shopping.naver.com/adcr.nhn?x=iwvL%...   \n",
       "13  https://cr.shopping.naver.com/adcr.nhn?x=CcnWu...   \n",
       "14  https://cr.shopping.naver.com/adcr.nhn?x=UhrQJ...   \n",
       "\n",
       "                                                  img    price          date  \n",
       "0   https://shopping-phinf.pstatic.net/main_838970...  15,200원  등록일 2022.02.  \n",
       "1   https://shopping-phinf.pstatic.net/main_255995...  27,250원  등록일 2021.01.  \n",
       "2   https://shopping-phinf.pstatic.net/main_827991...  23,700원  등록일 2020.12.  \n",
       "3   https://shopping-phinf.pstatic.net/main_138379...  11,570원  등록일 2018.03.  \n",
       "4   https://shopping-phinf.pstatic.net/main_571115...     470원  등록일 2010.12.  \n",
       "5   https://shopping-phinf.pstatic.net/main_827991...  23,700원  등록일 2020.12.  \n",
       "6   https://shopping-phinf.pstatic.net/main_831416...  14,900원  등록일 2021.05.  \n",
       "7   https://shopping-phinf.pstatic.net/main_830759...  20,990원  등록일 2022.02.  \n",
       "8   https://shopping-phinf.pstatic.net/main_871496...   1,490원  등록일 2015.07.  \n",
       "9   https://shopping-phinf.pstatic.net/main_832288...  17,500원  등록일 2021.06.  \n",
       "10  https://shopping-phinf.pstatic.net/main_826809...  19,990원  등록일 2020.09.  \n",
       "11  https://shopping-phinf.pstatic.net/main_703703...  11,900원  등록일 2013.07.  \n",
       "12  https://shopping-phinf.pstatic.net/main_808646...  25,600원  등록일 2021.11.  \n",
       "13  https://shopping-phinf.pstatic.net/main_829532...  21,390원  등록일 2022.02.  \n",
       "14  https://shopping-phinf.pstatic.net/main_830528...  18,000원  등록일 2021.04.  "
      ]
     },
     "execution_count": 76,
     "metadata": {},
     "output_type": "execute_result"
    }
   ],
   "source": [
    "df = pd.DataFrame({'title' : title_list,\n",
    "                  'url' : url_list,\n",
    "                  'img' : img_list,\n",
    "                   'price' : price_list,\n",
    "                   'date' : rgst_list[:15]\n",
    "                  })\n",
    "df"
   ]
  },
  {
   "cell_type": "code",
   "execution_count": 77,
   "metadata": {},
   "outputs": [],
   "source": [
    "# 이미지 주소가지고 img를 컴퓨터에 다운로드 해보자.!\n",
    "# 저장 위치 결정, 현재 경로(폴더) 설정\n",
    "path_folder = './'  ## path_folder = './img'\n",
    "import os\n",
    "if not os.path.isdir(path_folder): \n",
    "    os.mkdir(path_folder)"
   ]
  },
  {
   "cell_type": "code",
   "execution_count": 78,
   "metadata": {},
   "outputs": [],
   "source": [
    "from urllib.request import urlretrieve"
   ]
  },
  {
   "cell_type": "code",
   "execution_count": 79,
   "metadata": {},
   "outputs": [],
   "source": [
    "i = 0\n",
    "for img in img_list:\n",
    "    i += 1\n",
    "    urlretrieve(img, path_folder + 'df' + str(i) + '.jpg')"
   ]
  },
  {
   "cell_type": "code",
   "execution_count": null,
   "metadata": {},
   "outputs": [],
   "source": []
  }
 ],
 "metadata": {
  "kernelspec": {
   "display_name": "Python 3",
   "language": "python",
   "name": "python3"
  },
  "language_info": {
   "codemirror_mode": {
    "name": "ipython",
    "version": 3
   },
   "file_extension": ".py",
   "mimetype": "text/x-python",
   "name": "python",
   "nbconvert_exporter": "python",
   "pygments_lexer": "ipython3",
   "version": "3.7.4"
  }
 },
 "nbformat": 4,
 "nbformat_minor": 2
}
