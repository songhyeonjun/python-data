{
 "cells": [
  {
   "cell_type": "code",
   "execution_count": 1,
   "metadata": {},
   "outputs": [],
   "source": [
    "import warnings # 경고무시\n",
    "warnings.filterwarnings(action='ignore')\n",
    "from selenium.webdriver.common.by import By\n",
    "from selenium.webdriver.support.ui import WebDriverWait \n",
    "from selenium.webdriver.support import expected_conditions as EC\n",
    "#step1.selenium 패키지와 time 모듈 import\n",
    "from selenium import webdriver\n",
    "from selenium.webdriver.common.keys import Keys\n",
    "import time"
   ]
  },
  {
   "cell_type": "code",
   "execution_count": 2,
   "metadata": {},
   "outputs": [],
   "source": [
    "# 5개 이상을 df에 넣어 수집하고, 이미지를 다운도르\n",
    "# 이미지 이름도 df에 넣어주기"
   ]
  },
  {
   "cell_type": "code",
   "execution_count": 31,
   "metadata": {},
   "outputs": [
    {
     "name": "stdout",
     "output_type": "stream",
     "text": [
      "검색할 키워드를 입력 : 음료\n"
     ]
    }
   ],
   "source": [
    "# 검색할 키워드 입력\n",
    "query = input('검색할 키워드를 입력 : ')"
   ]
  },
  {
   "cell_type": "code",
   "execution_count": 32,
   "metadata": {},
   "outputs": [],
   "source": [
    "# 크롬 드라이버로 원하는 url접속\n",
    "# 1. 크롬 브라우저 실행\n",
    "driver = webdriver.Chrome('/Users/hi/hi-AI/chromedriver.exe')"
   ]
  },
  {
   "cell_type": "code",
   "execution_count": 33,
   "metadata": {},
   "outputs": [],
   "source": [
    "# 2. 특정 url : https://shopping.naver.com/home/p/index.naver페이지로 연결\n",
    "url = 'https://shopping.naver.com/home/p/index.naver'\n",
    "driver.get(url) # hppt요청을 보낸다. <---- http응답을 보낼 것임"
   ]
  },
  {
   "cell_type": "code",
   "execution_count": 34,
   "metadata": {},
   "outputs": [],
   "source": [
    "# 연결하여 페이지를 받아오는 동안 기다리기 설정\n",
    "time.sleep(2)"
   ]
  },
  {
   "cell_type": "code",
   "execution_count": 36,
   "metadata": {},
   "outputs": [],
   "source": [
    "# 3. 네이버 쇼핑 검색 input태그의 위치를 찾아서\n",
    "# #query\n",
    "search_box = driver.find_element_by_css_selector('#autocompleteWrapper > input.co_srh_input._input.N\\=a\\:SNB\\.search')\n",
    "\n",
    "\n",
    "# 4. 3번에서 찾은 input태그에 검색어를 넣는다.\n",
    "search_box.send_keys(query)\n",
    "\n",
    "# 5. 4번에서 입력한 값 서버로 전송\n",
    "search_box.send_keys(Keys.ENTER)\n",
    "\n",
    "# 기다리기 설정\n",
    "time.sleep(2)"
   ]
  },
  {
   "cell_type": "code",
   "execution_count": 39,
   "metadata": {},
   "outputs": [],
   "source": [
    "#탭 클릭 포카리스웨트\n",
    "driver.find_element_by_css_selector('#__next > div > div.style_container__1YjHN > div.style_inner__18zZX > div.filter_finder__1Gtei > div.filter_finder_filter__1DTIN > div.filter_finder_col__3ttPW.filter_is_fixed__1i_lw > div.filter_finder_row__1rXWv > ul > li:nth-child(3) > a > span').click()\n",
    "# time.sleep(2)\n",
    "driver.implicitly_wait(2)"
   ]
  },
  {
   "cell_type": "code",
   "execution_count": 41,
   "metadata": {},
   "outputs": [
    {
     "name": "stdout",
     "output_type": "stream",
     "text": [
      "포카리스웨트 340ml 20개/500ml 20개/1.5L 20개\n",
      "포카리스웨트 900ml 20개\n",
      "포카리스웨트 240ml 340ml 500ml 900ml 1.5L 이온음료 캔 페트\n",
      "동아오츠카 포카리스웨트 분말 74g x 20개입\n",
      "동아오츠카 포카리스웨트 245ml\n",
      "포카리스웨트 500ml x 20페트/ 340ml X 20개/ 1.5L x 12개/이온음료\n",
      "포카리스웨트 분말 가루 이온 음료 코스트코 물통포함 74g 20개입\n",
      "포카리스웨트 500ml x 20페트/ 340ml X 20개/ 1.5L x 12개/이온음료\n",
      "동아오츠카 포카리스웨트 900ml\n",
      "이온음료 스포츠 포카리스웨트 포카리분말 74g 1L용 10포 20포 물병지급\n",
      "이온음료 포카리스웨트 500ml 파워에이드 게토레이 캔음료수 포카리 토레타 스포츠음료\n",
      "스포츠 이온음료 30캔 게토레이240ml 파워에이드 캔음료수 포카리 토레타음료수\n",
      "포카리스웨트 이온워터 칼로리낮은 이온음료500ml 페트 1박스(총24입)\n",
      "동아오츠카 포카리스웨트 분말 가루 74g 20포 물통포함 스포츠 이온음료 코스트코 포카리\n",
      "포카리스웨트 250ml x 30입 이온음료\n"
     ]
    }
   ],
   "source": [
    "#포카리 상품 텍스트 추출\n",
    "p_titles = driver.find_elements_by_css_selector(\"div.basicList_title__3P9Q7 > a\")\n",
    "\n",
    "for i in p_titles:\n",
    "    title = i.text\n",
    "    print(title)"
   ]
  },
  {
   "cell_type": "code",
   "execution_count": 87,
   "metadata": {},
   "outputs": [
    {
     "name": "stdout",
     "output_type": "stream",
     "text": [
      "15\n"
     ]
    }
   ],
   "source": [
    "title_list = []\n",
    "for title in p_titles:\n",
    "    title_list.append(title.text)\n",
    "print(len(title_list))"
   ]
  },
  {
   "cell_type": "code",
   "execution_count": 88,
   "metadata": {},
   "outputs": [
    {
     "name": "stdout",
     "output_type": "stream",
     "text": [
      "15\n"
     ]
    }
   ],
   "source": [
    "# 쇼핑 url 가지고 오기\n",
    "url_list = []\n",
    "for title in p_titles:\n",
    "    url_list.append(title.get_attribute('href'))\n",
    "print(len(url_list))"
   ]
  },
  {
   "cell_type": "code",
   "execution_count": 99,
   "metadata": {},
   "outputs": [
    {
     "data": {
      "text/plain": [
       "[<selenium.webdriver.remote.webelement.WebElement (session=\"f975eec1b5292e8c522a446b2d7b4cb2\", element=\"2d577202-12b9-451a-aef9-bc2cf315b20e\")>,\n",
       " <selenium.webdriver.remote.webelement.WebElement (session=\"f975eec1b5292e8c522a446b2d7b4cb2\", element=\"37f28b03-40f7-4394-9afe-00aa94c30f93\")>,\n",
       " <selenium.webdriver.remote.webelement.WebElement (session=\"f975eec1b5292e8c522a446b2d7b4cb2\", element=\"47342094-4bec-4282-82bb-550388ee2406\")>,\n",
       " <selenium.webdriver.remote.webelement.WebElement (session=\"f975eec1b5292e8c522a446b2d7b4cb2\", element=\"6095270c-9cf4-440d-be4f-0963ed58244c\")>,\n",
       " <selenium.webdriver.remote.webelement.WebElement (session=\"f975eec1b5292e8c522a446b2d7b4cb2\", element=\"5e670674-2908-49d5-9178-4f66c66838f1\")>,\n",
       " <selenium.webdriver.remote.webelement.WebElement (session=\"f975eec1b5292e8c522a446b2d7b4cb2\", element=\"61ebfac6-3c98-4edc-adea-f4d23dc8a40e\")>,\n",
       " <selenium.webdriver.remote.webelement.WebElement (session=\"f975eec1b5292e8c522a446b2d7b4cb2\", element=\"82abfe97-3dde-47b8-9392-eddd4e99279f\")>,\n",
       " <selenium.webdriver.remote.webelement.WebElement (session=\"f975eec1b5292e8c522a446b2d7b4cb2\", element=\"3380f157-ff9f-4e01-8477-50646765790d\")>,\n",
       " <selenium.webdriver.remote.webelement.WebElement (session=\"f975eec1b5292e8c522a446b2d7b4cb2\", element=\"9a829da9-be09-438d-a988-e48d0717d28e\")>,\n",
       " <selenium.webdriver.remote.webelement.WebElement (session=\"f975eec1b5292e8c522a446b2d7b4cb2\", element=\"3f4d67e0-1cfd-43bd-b202-1339358aa52b\")>,\n",
       " <selenium.webdriver.remote.webelement.WebElement (session=\"f975eec1b5292e8c522a446b2d7b4cb2\", element=\"22a413ce-9683-4108-a372-d417f2405fd7\")>,\n",
       " <selenium.webdriver.remote.webelement.WebElement (session=\"f975eec1b5292e8c522a446b2d7b4cb2\", element=\"33966ac0-bc55-47fc-a2ab-0f668230fa60\")>,\n",
       " <selenium.webdriver.remote.webelement.WebElement (session=\"f975eec1b5292e8c522a446b2d7b4cb2\", element=\"53be89d9-d1e6-4ba1-874b-fe46275a3dec\")>,\n",
       " <selenium.webdriver.remote.webelement.WebElement (session=\"f975eec1b5292e8c522a446b2d7b4cb2\", element=\"8d9674cf-6729-4c05-9cf9-e38cd84d5857\")>,\n",
       " <selenium.webdriver.remote.webelement.WebElement (session=\"f975eec1b5292e8c522a446b2d7b4cb2\", element=\"f8dbd5bf-9267-449d-99f5-723eb12dacb4\")>,\n",
       " <selenium.webdriver.remote.webelement.WebElement (session=\"f975eec1b5292e8c522a446b2d7b4cb2\", element=\"52c3358b-c0bc-409f-8da4-5513d756b800\")>,\n",
       " <selenium.webdriver.remote.webelement.WebElement (session=\"f975eec1b5292e8c522a446b2d7b4cb2\", element=\"2162a74d-aef2-41a2-abec-5d263b0eb18b\")>,\n",
       " <selenium.webdriver.remote.webelement.WebElement (session=\"f975eec1b5292e8c522a446b2d7b4cb2\", element=\"3846bea4-6d72-43c4-9977-de47bc6e4b4e\")>,\n",
       " <selenium.webdriver.remote.webelement.WebElement (session=\"f975eec1b5292e8c522a446b2d7b4cb2\", element=\"12d0e5fd-00ed-4c3f-9cc6-ed80feba08e5\")>,\n",
       " <selenium.webdriver.remote.webelement.WebElement (session=\"f975eec1b5292e8c522a446b2d7b4cb2\", element=\"6adc9568-df13-4d8d-b2a7-992472deff01\")>,\n",
       " <selenium.webdriver.remote.webelement.WebElement (session=\"f975eec1b5292e8c522a446b2d7b4cb2\", element=\"8313c1bd-a66e-4cc6-ac28-2dd19aa7b9d8\")>,\n",
       " <selenium.webdriver.remote.webelement.WebElement (session=\"f975eec1b5292e8c522a446b2d7b4cb2\", element=\"363d886a-8c3a-464a-995d-0f97367bece3\")>,\n",
       " <selenium.webdriver.remote.webelement.WebElement (session=\"f975eec1b5292e8c522a446b2d7b4cb2\", element=\"f9bfc264-c7be-4ea4-b55c-8d2cecb8bfa6\")>,\n",
       " <selenium.webdriver.remote.webelement.WebElement (session=\"f975eec1b5292e8c522a446b2d7b4cb2\", element=\"c53a992d-e03f-4143-a956-86f8681fc111\")>,\n",
       " <selenium.webdriver.remote.webelement.WebElement (session=\"f975eec1b5292e8c522a446b2d7b4cb2\", element=\"826ff764-c19f-4ad9-af09-0eeabda3b096\")>,\n",
       " <selenium.webdriver.remote.webelement.WebElement (session=\"f975eec1b5292e8c522a446b2d7b4cb2\", element=\"1c71d23d-9fc7-4b91-8d91-7fdbe6ddd4a0\")>,\n",
       " <selenium.webdriver.remote.webelement.WebElement (session=\"f975eec1b5292e8c522a446b2d7b4cb2\", element=\"1bd41ed6-5790-4434-b84b-a07fc73578a3\")>,\n",
       " <selenium.webdriver.remote.webelement.WebElement (session=\"f975eec1b5292e8c522a446b2d7b4cb2\", element=\"b61e146f-9f5e-4fb6-9469-20bc607d7a57\")>,\n",
       " <selenium.webdriver.remote.webelement.WebElement (session=\"f975eec1b5292e8c522a446b2d7b4cb2\", element=\"a7a5142e-01fb-4330-b4f1-d246a0f1ff4e\")>,\n",
       " <selenium.webdriver.remote.webelement.WebElement (session=\"f975eec1b5292e8c522a446b2d7b4cb2\", element=\"37ce23ca-0780-4b0a-bd29-05a1065aacec\")>,\n",
       " <selenium.webdriver.remote.webelement.WebElement (session=\"f975eec1b5292e8c522a446b2d7b4cb2\", element=\"248c8907-14c2-49ea-a35f-0ae60d3e6a82\")>,\n",
       " <selenium.webdriver.remote.webelement.WebElement (session=\"f975eec1b5292e8c522a446b2d7b4cb2\", element=\"4e998a05-9a84-4640-970e-fba02807acb3\")>,\n",
       " <selenium.webdriver.remote.webelement.WebElement (session=\"f975eec1b5292e8c522a446b2d7b4cb2\", element=\"bbdbd0a3-79a3-4851-9ff0-5c7c007fc7d1\")>,\n",
       " <selenium.webdriver.remote.webelement.WebElement (session=\"f975eec1b5292e8c522a446b2d7b4cb2\", element=\"e9e394a7-5018-42e9-a962-5d827e325859\")>,\n",
       " <selenium.webdriver.remote.webelement.WebElement (session=\"f975eec1b5292e8c522a446b2d7b4cb2\", element=\"337cd47c-0c03-4224-899e-bd9ea758c10b\")>,\n",
       " <selenium.webdriver.remote.webelement.WebElement (session=\"f975eec1b5292e8c522a446b2d7b4cb2\", element=\"9d6f1868-ba1c-4c56-acae-31c4e3d6ce7f\")>,\n",
       " <selenium.webdriver.remote.webelement.WebElement (session=\"f975eec1b5292e8c522a446b2d7b4cb2\", element=\"c0f18991-01bb-45da-bcc9-30145b79e09f\")>,\n",
       " <selenium.webdriver.remote.webelement.WebElement (session=\"f975eec1b5292e8c522a446b2d7b4cb2\", element=\"be96e129-d58c-4e8d-85bf-a16d10644385\")>,\n",
       " <selenium.webdriver.remote.webelement.WebElement (session=\"f975eec1b5292e8c522a446b2d7b4cb2\", element=\"9e797565-2c19-4f5a-acaf-fb4d69c8e5c9\")>,\n",
       " <selenium.webdriver.remote.webelement.WebElement (session=\"f975eec1b5292e8c522a446b2d7b4cb2\", element=\"e2ec04cd-cefe-4e3d-946d-c8f63ebbe793\")>,\n",
       " <selenium.webdriver.remote.webelement.WebElement (session=\"f975eec1b5292e8c522a446b2d7b4cb2\", element=\"d2cde910-c36c-4661-a543-c784a9006fc4\")>,\n",
       " <selenium.webdriver.remote.webelement.WebElement (session=\"f975eec1b5292e8c522a446b2d7b4cb2\", element=\"289b9885-6c5e-4c6c-b939-27fab39c35a8\")>,\n",
       " <selenium.webdriver.remote.webelement.WebElement (session=\"f975eec1b5292e8c522a446b2d7b4cb2\", element=\"b08396cc-e969-4808-8887-ea4a5a91fe54\")>,\n",
       " <selenium.webdriver.remote.webelement.WebElement (session=\"f975eec1b5292e8c522a446b2d7b4cb2\", element=\"a5fa6098-b334-4c59-b71c-c7f30707c483\")>,\n",
       " <selenium.webdriver.remote.webelement.WebElement (session=\"f975eec1b5292e8c522a446b2d7b4cb2\", element=\"ca10b44c-2c04-498f-a1c4-18239d010a5e\")>,\n",
       " <selenium.webdriver.remote.webelement.WebElement (session=\"f975eec1b5292e8c522a446b2d7b4cb2\", element=\"ee330f27-ef55-4c84-9a42-cd3c18f01f63\")>]"
      ]
     },
     "execution_count": 99,
     "metadata": {},
     "output_type": "execute_result"
    }
   ],
   "source": [
    "# 상품 이미지 가지고 오기\n",
    "p_img = driver.find_elements_by_css_selector('div.basicList_img_area__a3NRA > div > a > img')\n",
    "p_img"
   ]
  },
  {
   "cell_type": "code",
   "execution_count": 101,
   "metadata": {},
   "outputs": [
    {
     "name": "stdout",
     "output_type": "stream",
     "text": [
      "15\n"
     ]
    },
    {
     "data": {
      "text/plain": [
       "['https://shopping-phinf.pstatic.net/main_8389701/83897011544.jpg?type=f140',\n",
       " 'https://shopping-phinf.pstatic.net/main_2559952/25599525781.34.jpg?type=f140',\n",
       " 'https://shopping-phinf.pstatic.net/main_8332873/83328735805.jpg?type=f140',\n",
       " 'https://shopping-phinf.pstatic.net/main_1383790/13837909194.20210927115751.jpg?type=f140',\n",
       " 'https://shopping-phinf.pstatic.net/main_5711154/5711154939.20191231180522.jpg?type=f140',\n",
       " 'https://shopping-phinf.pstatic.net/main_8279916/82799169331.jpg?type=f140',\n",
       " 'https://shopping-phinf.pstatic.net/main_8307594/83075942523.5.jpg?type=f140',\n",
       " 'https://shopping-phinf.pstatic.net/main_8314161/83141618068.4.jpg?type=f140',\n",
       " 'https://shopping-phinf.pstatic.net/main_8714969/8714969016.20191231193916.jpg?type=f140',\n",
       " 'https://shopping-phinf.pstatic.net/main_8322882/83228828138.jpg?type=f140',\n",
       " 'https://shopping-phinf.pstatic.net/main_8268093/82680938806.jpg?type=f140',\n",
       " 'https://shopping-phinf.pstatic.net/main_7037035/7037035170.6.jpg?type=f140',\n",
       " 'https://shopping-phinf.pstatic.net/main_8086462/80864624055.1.jpg?type=f140',\n",
       " 'https://shopping-phinf.pstatic.net/main_8295328/82953283280.jpg?type=f140',\n",
       " 'https://shopping-phinf.pstatic.net/main_8305285/83052853414.jpg?type=f140']"
      ]
     },
     "execution_count": 101,
     "metadata": {},
     "output_type": "execute_result"
    }
   ],
   "source": [
    "img_list = []\n",
    "for img in p_img[:15]:\n",
    "    img_list.append(img.get_attribute('src'))\n",
    "print(len(img_list))"
   ]
  },
  {
   "cell_type": "code",
   "execution_count": 167,
   "metadata": {},
   "outputs": [
    {
     "data": {
      "text/plain": [
       "['15,200원',\n",
       " '27,250원',\n",
       " '15,700원',\n",
       " '11,570원',\n",
       " '480원',\n",
       " '23,700원',\n",
       " '20,990원',\n",
       " '14,900원',\n",
       " '1,490원',\n",
       " '17,500원',\n",
       " '19,990원',\n",
       " '11,900원',\n",
       " '25,600원',\n",
       " '21,390원',\n",
       " '18,000원']"
      ]
     },
     "execution_count": 167,
     "metadata": {},
     "output_type": "execute_result"
    }
   ],
   "source": [
    "p_price = driver.find_elements_by_css_selector('.price_num__2WUXn')\n",
    "price_list=[]\n",
    "for price in p_price[:15]:\n",
    "    price_list.append(price.text)\n",
    "price_list"
   ]
  },
  {
   "cell_type": "code",
   "execution_count": 180,
   "metadata": {},
   "outputs": [
    {
     "data": {
      "text/plain": [
       "['등록일 2022.02.',\n",
       " '찜하기3',\n",
       " '신고하기',\n",
       " '등록일 2021.01.',\n",
       " '찜하기32',\n",
       " '신고하기',\n",
       " '리뷰19',\n",
       " '구매건수41',\n",
       " '등록일 2021.08.',\n",
       " '찜하기9',\n",
       " '신고하기',\n",
       " '리뷰별점 4.83,217',\n",
       " '등록일 2018.03.',\n",
       " '찜하기157',\n",
       " '정보 수정요청']"
      ]
     },
     "execution_count": 180,
     "metadata": {},
     "output_type": "execute_result"
    }
   ],
   "source": [
    "p_rgst = driver.find_elements_by_css_selector('.basicList_etc__2uAYO')\n",
    "rgst_list=[]\n",
    "for rgst in p_rgst[:15]:\n",
    "    rgst_list.append(rgst.text)\n",
    "rgst_list"
   ]
  },
  {
   "cell_type": "code",
   "execution_count": null,
   "metadata": {},
   "outputs": [],
   "source": []
  },
  {
   "cell_type": "code",
   "execution_count": 102,
   "metadata": {},
   "outputs": [],
   "source": [
    "import pandas as pd"
   ]
  },
  {
   "cell_type": "code",
   "execution_count": 151,
   "metadata": {},
   "outputs": [
    {
     "data": {
      "text/html": [
       "<div>\n",
       "<style scoped>\n",
       "    .dataframe tbody tr th:only-of-type {\n",
       "        vertical-align: middle;\n",
       "    }\n",
       "\n",
       "    .dataframe tbody tr th {\n",
       "        vertical-align: top;\n",
       "    }\n",
       "\n",
       "    .dataframe thead th {\n",
       "        text-align: right;\n",
       "    }\n",
       "</style>\n",
       "<table border=\"1\" class=\"dataframe\">\n",
       "  <thead>\n",
       "    <tr style=\"text-align: right;\">\n",
       "      <th></th>\n",
       "      <th>title</th>\n",
       "      <th>url</th>\n",
       "      <th>img</th>\n",
       "      <th>price</th>\n",
       "    </tr>\n",
       "  </thead>\n",
       "  <tbody>\n",
       "    <tr>\n",
       "      <td>0</td>\n",
       "      <td>포카리스웨트 340ml 20개/500ml 20개/1.5L 20개</td>\n",
       "      <td>https://adcr.naver.com/adcr?x=Av+G7ayaVWhF/T51...</td>\n",
       "      <td>https://shopping-phinf.pstatic.net/main_838970...</td>\n",
       "      <td>15,200원</td>\n",
       "    </tr>\n",
       "    <tr>\n",
       "      <td>1</td>\n",
       "      <td>포카리스웨트 900ml 20개</td>\n",
       "      <td>https://adcr.naver.com/adcr?x=IT427j/w1BFsKJBZ...</td>\n",
       "      <td>https://shopping-phinf.pstatic.net/main_255995...</td>\n",
       "      <td>27,250원</td>\n",
       "    </tr>\n",
       "    <tr>\n",
       "      <td>2</td>\n",
       "      <td>포카리스웨트 240ml 340ml 500ml 900ml 1.5L 이온음료 캔 페트</td>\n",
       "      <td>https://adcr.naver.com/adcr?x=oFquZEoxchPvrPP4...</td>\n",
       "      <td>https://shopping-phinf.pstatic.net/main_833287...</td>\n",
       "      <td>15,700원</td>\n",
       "    </tr>\n",
       "    <tr>\n",
       "      <td>3</td>\n",
       "      <td>동아오츠카 포카리스웨트 분말 74g x 20개입</td>\n",
       "      <td>https://cr.shopping.naver.com/adcr.nhn?x=neA8y...</td>\n",
       "      <td>https://shopping-phinf.pstatic.net/main_138379...</td>\n",
       "      <td>11,570원</td>\n",
       "    </tr>\n",
       "    <tr>\n",
       "      <td>4</td>\n",
       "      <td>동아오츠카 포카리스웨트 245ml</td>\n",
       "      <td>https://cr.shopping.naver.com/adcr.nhn?x=WgtVE...</td>\n",
       "      <td>https://shopping-phinf.pstatic.net/main_571115...</td>\n",
       "      <td>480원</td>\n",
       "    </tr>\n",
       "    <tr>\n",
       "      <td>5</td>\n",
       "      <td>포카리스웨트 500ml x 20페트/ 340ml X 20개/ 1.5L x 12개/이온음료</td>\n",
       "      <td>https://cr.shopping.naver.com/adcr.nhn?x=94reU...</td>\n",
       "      <td>https://shopping-phinf.pstatic.net/main_827991...</td>\n",
       "      <td>23,700원</td>\n",
       "    </tr>\n",
       "    <tr>\n",
       "      <td>6</td>\n",
       "      <td>포카리스웨트 분말 가루 이온 음료 코스트코 물통포함 74g 20개입</td>\n",
       "      <td>https://cr.shopping.naver.com/adcr.nhn?x=kjbxH...</td>\n",
       "      <td>https://shopping-phinf.pstatic.net/main_830759...</td>\n",
       "      <td>20,990원</td>\n",
       "    </tr>\n",
       "    <tr>\n",
       "      <td>7</td>\n",
       "      <td>포카리스웨트 500ml x 20페트/ 340ml X 20개/ 1.5L x 12개/이온음료</td>\n",
       "      <td>https://cr.shopping.naver.com/adcr.nhn?x=2MTEf...</td>\n",
       "      <td>https://shopping-phinf.pstatic.net/main_831416...</td>\n",
       "      <td>14,900원</td>\n",
       "    </tr>\n",
       "    <tr>\n",
       "      <td>8</td>\n",
       "      <td>동아오츠카 포카리스웨트 900ml</td>\n",
       "      <td>https://cr.shopping.naver.com/adcr.nhn?x=R5iYO...</td>\n",
       "      <td>https://shopping-phinf.pstatic.net/main_871496...</td>\n",
       "      <td>1,490원</td>\n",
       "    </tr>\n",
       "    <tr>\n",
       "      <td>9</td>\n",
       "      <td>이온음료 스포츠 포카리스웨트 포카리분말 74g 1L용 10포 20포 물병지급</td>\n",
       "      <td>https://cr.shopping.naver.com/adcr.nhn?x=%2Buo...</td>\n",
       "      <td>https://shopping-phinf.pstatic.net/main_832288...</td>\n",
       "      <td>17,500원</td>\n",
       "    </tr>\n",
       "    <tr>\n",
       "      <td>10</td>\n",
       "      <td>이온음료 포카리스웨트 500ml 파워에이드 게토레이 캔음료수 포카리 토레타 스포츠음료</td>\n",
       "      <td>https://cr.shopping.naver.com/adcr.nhn?x=pEv6G...</td>\n",
       "      <td>https://shopping-phinf.pstatic.net/main_826809...</td>\n",
       "      <td>19,990원</td>\n",
       "    </tr>\n",
       "    <tr>\n",
       "      <td>11</td>\n",
       "      <td>스포츠 이온음료 30캔 게토레이240ml 파워에이드 캔음료수 포카리 토레타음료수</td>\n",
       "      <td>https://cr.shopping.naver.com/adcr.nhn?x=hCxPi...</td>\n",
       "      <td>https://shopping-phinf.pstatic.net/main_703703...</td>\n",
       "      <td>11,900원</td>\n",
       "    </tr>\n",
       "    <tr>\n",
       "      <td>12</td>\n",
       "      <td>포카리스웨트 이온워터 칼로리낮은 이온음료500ml 페트 1박스(총24입)</td>\n",
       "      <td>https://cr.shopping.naver.com/adcr.nhn?x=0326B...</td>\n",
       "      <td>https://shopping-phinf.pstatic.net/main_808646...</td>\n",
       "      <td>25,600원</td>\n",
       "    </tr>\n",
       "    <tr>\n",
       "      <td>13</td>\n",
       "      <td>동아오츠카 포카리스웨트 분말 가루 74g 20포 물통포함 스포츠 이온음료 코스트코 포카리</td>\n",
       "      <td>https://cr.shopping.naver.com/adcr.nhn?x=VnJpr...</td>\n",
       "      <td>https://shopping-phinf.pstatic.net/main_829532...</td>\n",
       "      <td>21,390원</td>\n",
       "    </tr>\n",
       "    <tr>\n",
       "      <td>14</td>\n",
       "      <td>포카리스웨트 250ml x 30입 이온음료</td>\n",
       "      <td>https://cr.shopping.naver.com/adcr.nhn?x=XQ2d3...</td>\n",
       "      <td>https://shopping-phinf.pstatic.net/main_830528...</td>\n",
       "      <td>18,000원</td>\n",
       "    </tr>\n",
       "  </tbody>\n",
       "</table>\n",
       "</div>"
      ],
      "text/plain": [
       "                                                title  \\\n",
       "0                 포카리스웨트 340ml 20개/500ml 20개/1.5L 20개   \n",
       "1                                    포카리스웨트 900ml 20개   \n",
       "2       포카리스웨트 240ml 340ml 500ml 900ml 1.5L 이온음료 캔 페트   \n",
       "3                          동아오츠카 포카리스웨트 분말 74g x 20개입   \n",
       "4                                  동아오츠카 포카리스웨트 245ml   \n",
       "5   포카리스웨트 500ml x 20페트/ 340ml X 20개/ 1.5L x 12개/이온음료   \n",
       "6               포카리스웨트 분말 가루 이온 음료 코스트코 물통포함 74g 20개입   \n",
       "7   포카리스웨트 500ml x 20페트/ 340ml X 20개/ 1.5L x 12개/이온음료   \n",
       "8                                  동아오츠카 포카리스웨트 900ml   \n",
       "9          이온음료 스포츠 포카리스웨트 포카리분말 74g 1L용 10포 20포 물병지급   \n",
       "10    이온음료 포카리스웨트 500ml 파워에이드 게토레이 캔음료수 포카리 토레타 스포츠음료   \n",
       "11       스포츠 이온음료 30캔 게토레이240ml 파워에이드 캔음료수 포카리 토레타음료수   \n",
       "12           포카리스웨트 이온워터 칼로리낮은 이온음료500ml 페트 1박스(총24입)   \n",
       "13  동아오츠카 포카리스웨트 분말 가루 74g 20포 물통포함 스포츠 이온음료 코스트코 포카리   \n",
       "14                            포카리스웨트 250ml x 30입 이온음료   \n",
       "\n",
       "                                                  url  \\\n",
       "0   https://adcr.naver.com/adcr?x=Av+G7ayaVWhF/T51...   \n",
       "1   https://adcr.naver.com/adcr?x=IT427j/w1BFsKJBZ...   \n",
       "2   https://adcr.naver.com/adcr?x=oFquZEoxchPvrPP4...   \n",
       "3   https://cr.shopping.naver.com/adcr.nhn?x=neA8y...   \n",
       "4   https://cr.shopping.naver.com/adcr.nhn?x=WgtVE...   \n",
       "5   https://cr.shopping.naver.com/adcr.nhn?x=94reU...   \n",
       "6   https://cr.shopping.naver.com/adcr.nhn?x=kjbxH...   \n",
       "7   https://cr.shopping.naver.com/adcr.nhn?x=2MTEf...   \n",
       "8   https://cr.shopping.naver.com/adcr.nhn?x=R5iYO...   \n",
       "9   https://cr.shopping.naver.com/adcr.nhn?x=%2Buo...   \n",
       "10  https://cr.shopping.naver.com/adcr.nhn?x=pEv6G...   \n",
       "11  https://cr.shopping.naver.com/adcr.nhn?x=hCxPi...   \n",
       "12  https://cr.shopping.naver.com/adcr.nhn?x=0326B...   \n",
       "13  https://cr.shopping.naver.com/adcr.nhn?x=VnJpr...   \n",
       "14  https://cr.shopping.naver.com/adcr.nhn?x=XQ2d3...   \n",
       "\n",
       "                                                  img    price  \n",
       "0   https://shopping-phinf.pstatic.net/main_838970...  15,200원  \n",
       "1   https://shopping-phinf.pstatic.net/main_255995...  27,250원  \n",
       "2   https://shopping-phinf.pstatic.net/main_833287...  15,700원  \n",
       "3   https://shopping-phinf.pstatic.net/main_138379...  11,570원  \n",
       "4   https://shopping-phinf.pstatic.net/main_571115...     480원  \n",
       "5   https://shopping-phinf.pstatic.net/main_827991...  23,700원  \n",
       "6   https://shopping-phinf.pstatic.net/main_830759...  20,990원  \n",
       "7   https://shopping-phinf.pstatic.net/main_831416...  14,900원  \n",
       "8   https://shopping-phinf.pstatic.net/main_871496...   1,490원  \n",
       "9   https://shopping-phinf.pstatic.net/main_832288...  17,500원  \n",
       "10  https://shopping-phinf.pstatic.net/main_826809...  19,990원  \n",
       "11  https://shopping-phinf.pstatic.net/main_703703...  11,900원  \n",
       "12  https://shopping-phinf.pstatic.net/main_808646...  25,600원  \n",
       "13  https://shopping-phinf.pstatic.net/main_829532...  21,390원  \n",
       "14  https://shopping-phinf.pstatic.net/main_830528...  18,000원  "
      ]
     },
     "execution_count": 151,
     "metadata": {},
     "output_type": "execute_result"
    }
   ],
   "source": [
    "df = pd.DataFrame({'title' : title_list,\n",
    "                  'url' : url_list,\n",
    "                  'img' : img_list,\n",
    "                   'price' : price_list\n",
    "                  })\n",
    "df"
   ]
  },
  {
   "cell_type": "code",
   "execution_count": 134,
   "metadata": {},
   "outputs": [],
   "source": [
    "# 이미지 주소가지고 img를 컴퓨터에 다운로드 해보자.!\n",
    "# 저장 위치 결정, 현재 경로(폴더) 설정\n",
    "path_folder = './img/'  ## path_folder = './img'\n",
    "import os\n",
    "if not os.path.isdir(path_folder): \n",
    "    os.mkdir(path_folder)"
   ]
  },
  {
   "cell_type": "code",
   "execution_count": 135,
   "metadata": {},
   "outputs": [],
   "source": [
    "from urllib.request import urlretrieve"
   ]
  },
  {
   "cell_type": "code",
   "execution_count": 137,
   "metadata": {},
   "outputs": [],
   "source": [
    "i = 0\n",
    "for img in img_list:\n",
    "    i += 1\n",
    "    urlretrieve(img, path_folder + 'df' + str(i) + '.jpg')"
   ]
  },
  {
   "cell_type": "code",
   "execution_count": null,
   "metadata": {},
   "outputs": [],
   "source": []
  }
 ],
 "metadata": {
  "kernelspec": {
   "display_name": "Python 3",
   "language": "python",
   "name": "python3"
  },
  "language_info": {
   "codemirror_mode": {
    "name": "ipython",
    "version": 3
   },
   "file_extension": ".py",
   "mimetype": "text/x-python",
   "name": "python",
   "nbconvert_exporter": "python",
   "pygments_lexer": "ipython3",
   "version": "3.7.4"
  }
 },
 "nbformat": 4,
 "nbformat_minor": 2
}
