{
 "cells": [
  {
   "cell_type": "code",
   "execution_count": 168,
   "metadata": {},
   "outputs": [],
   "source": [
    "# 주요 라이브러리 import\n",
    "# 동적크롤링-커피빈\n",
    "import warnings # 경고무시\n",
    "warnings.filterwarnings(action='ignore')\n",
    "from selenium.webdriver.common.by import By\n",
    "from selenium.webdriver.support.ui import WebDriverWait \n",
    "from selenium.webdriver.support import expected_conditions as EC\n",
    "#step1.selenium 패키지와 time 모듈 import\n",
    "from selenium import webdriver\n",
    "from selenium.webdriver.common.keys import Keys\n",
    "import time\n",
    "from IPython.display import Image\n",
    "import pandas as pd\n",
    "from bs4 import BeautifulSoup"
   ]
  },
  {
   "cell_type": "code",
   "execution_count": 169,
   "metadata": {},
   "outputs": [],
   "source": [
    "# 크롬 브라우저 실행\n",
    "driver = webdriver.Chrome('/Users/hi/hi-AI/chromedriver.exe')"
   ]
  },
  {
   "cell_type": "code",
   "execution_count": 170,
   "metadata": {},
   "outputs": [],
   "source": [
    "# 특정한 페이지 접속\n",
    "url = 'https://www.coffeebeankorea.com/store/store.asp'\n",
    "driver.get(url) # hppt요청을 보낸다. <---- http응답을 보낼 것임"
   ]
  },
  {
   "cell_type": "code",
   "execution_count": 212,
   "metadata": {},
   "outputs": [],
   "source": [
    "driver.execute_script('storePop2(1)')\n",
    "time.sleep(0.4)"
   ]
  },
  {
   "cell_type": "code",
   "execution_count": 5,
   "metadata": {},
   "outputs": [],
   "source": [
    "html = driver.page_source # html은 string"
   ]
  },
  {
   "cell_type": "code",
   "execution_count": 8,
   "metadata": {},
   "outputs": [
    {
     "data": {
      "text/plain": [
       "str"
      ]
     },
     "execution_count": 8,
     "metadata": {},
     "output_type": "execute_result"
    }
   ],
   "source": [
    "type(html)"
   ]
  },
  {
   "cell_type": "code",
   "execution_count": 172,
   "metadata": {},
   "outputs": [],
   "source": [
    "doc = BeautifulSoup(html, 'html.parser')\n",
    "# parser : 분석기\n",
    "# doc는 parser로 분석할 수 있는 dom-tree로 구성"
   ]
  },
  {
   "cell_type": "code",
   "execution_count": 185,
   "metadata": {},
   "outputs": [],
   "source": [
    "title_list = []\n",
    "time_list = []\n",
    "stop_list = []\n",
    "addr_list = []\n",
    "tel_list = []"
   ]
  },
  {
   "cell_type": "code",
   "execution_count": 186,
   "metadata": {},
   "outputs": [
    {
     "data": {
      "text/plain": [
       "['삼성봉은사거리점']"
      ]
     },
     "execution_count": 186,
     "metadata": {},
     "output_type": "execute_result"
    }
   ],
   "source": [
    "title = doc.select('#matizCoverLayer0Content > div > div > div.store_txt > h2')\n",
    "title2 = title[0].string\n",
    "title_list.append(title2)\n",
    "title_list"
   ]
  },
  {
   "cell_type": "code",
   "execution_count": 187,
   "metadata": {},
   "outputs": [
    {
     "data": {
      "text/plain": [
       "['평일 07:00-22:00 | 주말/공휴일 09:00-22:00']"
      ]
     },
     "execution_count": 187,
     "metadata": {},
     "output_type": "execute_result"
    }
   ],
   "source": [
    "time1 = doc.select('#matizCoverLayer0Content > div > div > div.store_txt > table > tbody:nth-child(1) > tr:nth-child(1) > td')\n",
    "time2 = time1[0].string\n",
    "time_list.append(time2)\n",
    "time_list"
   ]
  },
  {
   "cell_type": "code",
   "execution_count": 188,
   "metadata": {},
   "outputs": [
    {
     "data": {
      "text/plain": [
       "['건물뒷편주차장(기계주차식) 평일 최초 30분 2,000원 / 1시간 5,000원 (구매영수증 지참시 30분 2,000원 / 1시간 3,500원 1시간 초과시 10분당 1,000원 ( 평일,주말 동일 )']"
      ]
     },
     "execution_count": 188,
     "metadata": {},
     "output_type": "execute_result"
    }
   ],
   "source": [
    "stop = doc.select('#matizCoverLayer0Content > div > div > div.store_txt > table > tbody:nth-child(1) > tr:nth-child(2) > td')\n",
    "stop2 = stop[0].string\n",
    "stop_list.append(stop2)\n",
    "stop_list"
   ]
  },
  {
   "cell_type": "code",
   "execution_count": 189,
   "metadata": {},
   "outputs": [
    {
     "data": {
      "text/plain": [
       "['서울시 강남구 영동대로 607 1,2층  ']"
      ]
     },
     "execution_count": 189,
     "metadata": {},
     "output_type": "execute_result"
    }
   ],
   "source": [
    "addr = doc.select('div.store_txt > table.store_table > tbody > tr > td')\n",
    "addr2 = addr[2].text\n",
    "addr_list.append(addr2)\n",
    "addr_list"
   ]
  },
  {
   "cell_type": "code",
   "execution_count": 190,
   "metadata": {},
   "outputs": [
    {
     "data": {
      "text/plain": [
       "['02-3443-5618']"
      ]
     },
     "execution_count": 190,
     "metadata": {},
     "output_type": "execute_result"
    }
   ],
   "source": [
    "tel = doc.select('#matizCoverLayer0Content > div > div > div.store_txt > table > tbody:nth-child(1) > tr:nth-child(4) > td')\n",
    "tel2 = tel[0].text\n",
    "tel_list.append(tel2)\n",
    "tel_list"
   ]
  },
  {
   "cell_type": "code",
   "execution_count": 191,
   "metadata": {},
   "outputs": [
    {
     "data": {
      "text/html": [
       "<div>\n",
       "<style scoped>\n",
       "    .dataframe tbody tr th:only-of-type {\n",
       "        vertical-align: middle;\n",
       "    }\n",
       "\n",
       "    .dataframe tbody tr th {\n",
       "        vertical-align: top;\n",
       "    }\n",
       "\n",
       "    .dataframe thead th {\n",
       "        text-align: right;\n",
       "    }\n",
       "</style>\n",
       "<table border=\"1\" class=\"dataframe\">\n",
       "  <thead>\n",
       "    <tr style=\"text-align: right;\">\n",
       "      <th></th>\n",
       "      <th>title</th>\n",
       "      <th>time</th>\n",
       "      <th>stop</th>\n",
       "      <th>addr</th>\n",
       "      <th>tel</th>\n",
       "    </tr>\n",
       "  </thead>\n",
       "  <tbody>\n",
       "    <tr>\n",
       "      <td>0</td>\n",
       "      <td>삼성봉은사거리점</td>\n",
       "      <td>평일 07:00-22:00 | 주말/공휴일 09:00-22:00</td>\n",
       "      <td>건물뒷편주차장(기계주차식) 평일 최초 30분 2,000원 / 1시간 5,000원 (...</td>\n",
       "      <td>서울시 강남구 영동대로 607 1,2층</td>\n",
       "      <td>02-3443-5618</td>\n",
       "    </tr>\n",
       "  </tbody>\n",
       "</table>\n",
       "</div>"
      ],
      "text/plain": [
       "      title                                 time  \\\n",
       "0  삼성봉은사거리점  평일 07:00-22:00 | 주말/공휴일 09:00-22:00   \n",
       "\n",
       "                                                stop                     addr  \\\n",
       "0  건물뒷편주차장(기계주차식) 평일 최초 30분 2,000원 / 1시간 5,000원 (...  서울시 강남구 영동대로 607 1,2층     \n",
       "\n",
       "            tel  \n",
       "0  02-3443-5618  "
      ]
     },
     "execution_count": 191,
     "metadata": {},
     "output_type": "execute_result"
    }
   ],
   "source": [
    "df = pd.DataFrame({\n",
    "    'title' : title_list,\n",
    "    'time' : time_list,\n",
    "    'stop' : stop_list,\n",
    "    'addr' : addr_list,\n",
    "    'tel' : tel_list\n",
    "})\n",
    "df"
   ]
  },
  {
   "cell_type": "code",
   "execution_count": 192,
   "metadata": {},
   "outputs": [],
   "source": [
    "# 1. 크롬 브라우저를 실행\n",
    "def connect() :\n",
    "    driver = webdriver.Chrome('/Users/hi/hi-AI/chromedriver.exe')\n",
    "    return driver"
   ]
  },
  {
   "cell_type": "code",
   "execution_count": 193,
   "metadata": {},
   "outputs": [],
   "source": [
    "driver2 = None\n",
    "url = 'https://www.coffeebeankorea.com/store/store.asp'"
   ]
  },
  {
   "cell_type": "code",
   "execution_count": 210,
   "metadata": {},
   "outputs": [],
   "source": [
    "# 2 . 특정 페이지를 가지고 와서 스크립트 실행\n",
    "def coffee_bean(no):\n",
    "    driver2.get(url)\n",
    "    time.sleep(0.4)\n",
    "    func = \"storePop2('\" + str(no) + \"')\"\n",
    "    shop = []\n",
    "\n",
    "    try:\n",
    "        # 스크립트 실행\n",
    "        driver2.execute_script(func)\n",
    "        time.sleep(0.4)\n",
    "        \n",
    "        # 실행한 결과 html 가지고 오기\n",
    "        html2 = driver2.page_source # html은 string        \n",
    "        \n",
    "        # bsparser 설정\n",
    "        doc2 = BeautifulSoup(html2, 'html.parser')\n",
    "        \n",
    "        # 타이틀 검색\n",
    "        title3 = doc2.select('#matizCoverLayer0Content > div > div > div.store_txt > h2')\n",
    "        print('title3>>', title3)\n",
    "        title4 = title3[0].string\n",
    "        print('title4>>', title4)\n",
    "        shop.append(title4)\n",
    "        # 주소검색\n",
    "        addr3 = doc2.select('div.store_txt > table.store_table > tbody > tr > td')\n",
    "        addr4 = addr3[2].text\n",
    "        shop.append(addr4)\n",
    "        \n",
    "        #전화번호검색\n",
    "        tel3 = doc2.select('#matizCoverLayer0Content > div > div > div.store_txt > table > tbody:nth-child(1) > tr:nth-child(4) > td')\n",
    "        tel4 = tel3[0].string\n",
    "        shop.append(tel4)\n",
    "        \n",
    "    except:\n",
    "        print('해당번호없음')\n",
    "    return shop \n"
   ]
  },
  {
   "cell_type": "code",
   "execution_count": 207,
   "metadata": {},
   "outputs": [],
   "source": [
    "driver2 = connect()\n",
    "\n",
    "# driver2 = connect()\n",
    "# coffee_bean(1, driver2)"
   ]
  },
  {
   "cell_type": "code",
   "execution_count": 208,
   "metadata": {},
   "outputs": [
    {
     "name": "stdout",
     "output_type": "stream",
     "text": [
      "title3>> [<h2>강남대로점</h2>]\n",
      "title4>> 강남대로점\n"
     ]
    },
    {
     "data": {
      "text/plain": [
       "['강남대로점', '서울시 서초구 강남대로 369 1층  ', '02-588-5778']"
      ]
     },
     "execution_count": 208,
     "metadata": {},
     "output_type": "execute_result"
    }
   ],
   "source": [
    "coffee_bean(6)"
   ]
  },
  {
   "cell_type": "code",
   "execution_count": 213,
   "metadata": {},
   "outputs": [
    {
     "name": "stdout",
     "output_type": "stream",
     "text": [
      "-----1-----\n",
      "title3>> [<h2>학동역 DT점</h2>]\n",
      "title4>> 학동역 DT점\n",
      "-----2-----\n",
      "title3>> []\n",
      "해당번호없음\n",
      "-----3-----\n",
      "title3>> [<h2>차병원점</h2>]\n",
      "title4>> 차병원점\n",
      "-----4-----\n",
      "title3>> []\n",
      "해당번호없음\n",
      "-----5-----\n",
      "title3>> []\n",
      "해당번호없음\n"
     ]
    }
   ],
   "source": [
    "for i in range(1,6):\n",
    "    print('-----' + str(i) + '-----')\n",
    "    coffee_bean(i)"
   ]
  },
  {
   "cell_type": "code",
   "execution_count": 204,
   "metadata": {},
   "outputs": [],
   "source": [
    "title_list2 = []\n",
    "addr_list2 = []\n",
    "tel_list2 = []"
   ]
  },
  {
   "cell_type": "code",
   "execution_count": 205,
   "metadata": {},
   "outputs": [
    {
     "name": "stdout",
     "output_type": "stream",
     "text": [
      "----- 1 -----\n",
      "title3>> [<h2>학동역 DT점</h2>]\n",
      "title4>> 학동역 DT점\n",
      "['학동역 DT점', '서울시 강남구 학동로 211 1층  ', '02-3444-9973']\n",
      "----- 2 -----\n",
      "title3>> []\n",
      "해당번호없음\n",
      "[]\n",
      "----- 3 -----\n",
      "title3>> [<h2>차병원점</h2>]\n",
      "title4>> 차병원점\n",
      "['차병원점', '서울시 강남구 논현로 566 강남차병원1층  ', '02-538-7615']\n",
      "----- 4 -----\n",
      "title3>> []\n",
      "해당번호없음\n",
      "[]\n"
     ]
    }
   ],
   "source": [
    "for i in range(1, 5) :\n",
    "    print('-----',i,'-----')\n",
    "    shop3 = coffee_bean(i)\n",
    "    if len(shop3) != 0:\n",
    "        title_list2.append(shop3[0])\n",
    "        addr_list2.append(shop3[1])\n",
    "        tel_list2.append(shop3[2])\n",
    "    print(shop3)"
   ]
  },
  {
   "cell_type": "code",
   "execution_count": 159,
   "metadata": {},
   "outputs": [
    {
     "data": {
      "text/html": [
       "<div>\n",
       "<style scoped>\n",
       "    .dataframe tbody tr th:only-of-type {\n",
       "        vertical-align: middle;\n",
       "    }\n",
       "\n",
       "    .dataframe tbody tr th {\n",
       "        vertical-align: top;\n",
       "    }\n",
       "\n",
       "    .dataframe thead th {\n",
       "        text-align: right;\n",
       "    }\n",
       "</style>\n",
       "<table border=\"1\" class=\"dataframe\">\n",
       "  <thead>\n",
       "    <tr style=\"text-align: right;\">\n",
       "      <th></th>\n",
       "      <th>title</th>\n",
       "      <th>addr</th>\n",
       "      <th>tel</th>\n",
       "    </tr>\n",
       "  </thead>\n",
       "  <tbody>\n",
       "    <tr>\n",
       "      <td>0</td>\n",
       "      <td>학동역 DT점</td>\n",
       "      <td>서울시 강남구 영동대로 607 1,2층</td>\n",
       "      <td>02-3444-9973</td>\n",
       "    </tr>\n",
       "    <tr>\n",
       "      <td>1</td>\n",
       "      <td>차병원점</td>\n",
       "      <td>서울시 강남구 영동대로 607 1,2층</td>\n",
       "      <td>02-538-7615</td>\n",
       "    </tr>\n",
       "    <tr>\n",
       "      <td>2</td>\n",
       "      <td>강남대로점</td>\n",
       "      <td>서울시 강남구 영동대로 607 1,2층</td>\n",
       "      <td>02-588-5778</td>\n",
       "    </tr>\n",
       "    <tr>\n",
       "      <td>3</td>\n",
       "      <td>강남에스점</td>\n",
       "      <td>서울시 강남구 영동대로 607 1,2층</td>\n",
       "      <td>02-593-5095</td>\n",
       "    </tr>\n",
       "    <tr>\n",
       "      <td>4</td>\n",
       "      <td>청담에스점</td>\n",
       "      <td>서울시 강남구 영동대로 607 1,2층</td>\n",
       "      <td>02-548-6052</td>\n",
       "    </tr>\n",
       "    <tr>\n",
       "      <td>...</td>\n",
       "      <td>...</td>\n",
       "      <td>...</td>\n",
       "      <td>...</td>\n",
       "    </tr>\n",
       "    <tr>\n",
       "      <td>108</td>\n",
       "      <td>부평문화의거리점</td>\n",
       "      <td>서울시 강남구 영동대로 607 1,2층</td>\n",
       "      <td>032-507-9901</td>\n",
       "    </tr>\n",
       "    <tr>\n",
       "      <td>109</td>\n",
       "      <td>강남대로센터점</td>\n",
       "      <td>서울시 강남구 영동대로 607 1,2층</td>\n",
       "      <td>02-565-3345</td>\n",
       "    </tr>\n",
       "    <tr>\n",
       "      <td>110</td>\n",
       "      <td>구로G-ValleyMall</td>\n",
       "      <td>서울시 강남구 영동대로 607 1,2층</td>\n",
       "      <td>02-6344-3966</td>\n",
       "    </tr>\n",
       "    <tr>\n",
       "      <td>111</td>\n",
       "      <td>학동역 DT점</td>\n",
       "      <td>서울시 강남구 영동대로 607 1,2층</td>\n",
       "      <td>02-3444-9973</td>\n",
       "    </tr>\n",
       "    <tr>\n",
       "      <td>112</td>\n",
       "      <td>차병원점</td>\n",
       "      <td>서울시 강남구 영동대로 607 1,2층</td>\n",
       "      <td>02-538-7615</td>\n",
       "    </tr>\n",
       "  </tbody>\n",
       "</table>\n",
       "<p>113 rows × 3 columns</p>\n",
       "</div>"
      ],
      "text/plain": [
       "              title                     addr           tel\n",
       "0           학동역 DT점  서울시 강남구 영동대로 607 1,2층    02-3444-9973\n",
       "1              차병원점  서울시 강남구 영동대로 607 1,2층     02-538-7615\n",
       "2             강남대로점  서울시 강남구 영동대로 607 1,2층     02-588-5778\n",
       "3             강남에스점  서울시 강남구 영동대로 607 1,2층     02-593-5095\n",
       "4             청담에스점  서울시 강남구 영동대로 607 1,2층     02-548-6052\n",
       "..              ...                      ...           ...\n",
       "108        부평문화의거리점  서울시 강남구 영동대로 607 1,2층    032-507-9901\n",
       "109         강남대로센터점  서울시 강남구 영동대로 607 1,2층     02-565-3345\n",
       "110  구로G-ValleyMall  서울시 강남구 영동대로 607 1,2층    02-6344-3966\n",
       "111         학동역 DT점  서울시 강남구 영동대로 607 1,2층    02-3444-9973\n",
       "112            차병원점  서울시 강남구 영동대로 607 1,2층     02-538-7615\n",
       "\n",
       "[113 rows x 3 columns]"
      ]
     },
     "execution_count": 159,
     "metadata": {},
     "output_type": "execute_result"
    }
   ],
   "source": [
    "df2 = pd.DataFrame({\n",
    "    'title' : title_list2,\n",
    "    'addr' : addr_list2,\n",
    "    'tel' : tel_list2\n",
    "})\n",
    "df2"
   ]
  },
  {
   "cell_type": "code",
   "execution_count": null,
   "metadata": {},
   "outputs": [],
   "source": []
  }
 ],
 "metadata": {
  "kernelspec": {
   "display_name": "Python 3",
   "language": "python",
   "name": "python3"
  },
  "language_info": {
   "codemirror_mode": {
    "name": "ipython",
    "version": 3
   },
   "file_extension": ".py",
   "mimetype": "text/x-python",
   "name": "python",
   "nbconvert_exporter": "python",
   "pygments_lexer": "ipython3",
   "version": "3.7.4"
  }
 },
 "nbformat": 4,
 "nbformat_minor": 2
}
