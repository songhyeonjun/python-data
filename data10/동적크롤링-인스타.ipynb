{
 "cells": [
  {
   "cell_type": "code",
   "execution_count": 1,
   "metadata": {},
   "outputs": [],
   "source": [
    "# 주요 라이브러리 import\n",
    "# 동적크롤링-인스타 로그인\n",
    "import warnings # 경고무시\n",
    "warnings.filterwarnings(action='ignore')\n",
    "from selenium.webdriver.common.by import By\n",
    "from selenium.webdriver.support.ui import WebDriverWait \n",
    "from selenium.webdriver.support import expected_conditions as EC\n",
    "#step1.selenium 패키지와 time 모듈 import\n",
    "from selenium import webdriver\n",
    "from selenium.webdriver.common.keys import Keys\n",
    "import time\n",
    "from IPython.display import Image\n",
    "import pandas as pd\n",
    "from bs4 import BeautifulSoup as bs"
   ]
  },
  {
   "cell_type": "code",
   "execution_count": 6,
   "metadata": {},
   "outputs": [],
   "source": [
    "# 크롬 브라우저 실행\n",
    "driver = webdriver.Chrome('/Users/hi/hi-AI/chromedriver.exe')"
   ]
  },
  {
   "cell_type": "code",
   "execution_count": 7,
   "metadata": {},
   "outputs": [],
   "source": [
    "# 특정한 페이지 접속\n",
    "url = 'https://www.instagram.com/accounts/login/'\n",
    "driver.get(url) # hppt요청을 보낸다. <---- http응답을 보낼 것임"
   ]
  },
  {
   "cell_type": "code",
   "execution_count": 8,
   "metadata": {},
   "outputs": [],
   "source": [
    "# 연결하여 페이지를 받아오는 동안 기다리기 설정\n",
    "time.sleep(2)"
   ]
  },
  {
   "cell_type": "code",
   "execution_count": 9,
   "metadata": {},
   "outputs": [],
   "source": [
    "# 아이디 비밀번호 칸에 입력 후 엔터\n",
    "login_input = driver.find_element_by_css_selector('#loginForm > div > div:nth-child(1) > div > label > input')\n",
    "\n",
    "ps_input = driver.find_element_by_css_selector('#loginForm > div > div:nth-child(2) > div > label > input')\n",
    "\n",
    "login_input.send_keys('')\n",
    "\n",
    "ps_input.send_keys('')\n",
    "\n",
    "# 입력한 값 서버로 전송\n",
    "ps_input.send_keys(Keys.ENTER)\n",
    "\n",
    "# 기다리기 설정\n",
    "time.sleep(2)"
   ]
  },
  {
   "cell_type": "code",
   "execution_count": null,
   "metadata": {},
   "outputs": [],
   "source": []
  }
 ],
 "metadata": {
  "kernelspec": {
   "display_name": "Python 3",
   "language": "python",
   "name": "python3"
  },
  "language_info": {
   "codemirror_mode": {
    "name": "ipython",
    "version": 3
   },
   "file_extension": ".py",
   "mimetype": "text/x-python",
   "name": "python",
   "nbconvert_exporter": "python",
   "pygments_lexer": "ipython3",
   "version": "3.7.4"
  }
 },
 "nbformat": 4,
 "nbformat_minor": 2
}
